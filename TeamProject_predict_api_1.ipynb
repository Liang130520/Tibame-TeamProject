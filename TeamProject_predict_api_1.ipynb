{
  "nbformat": 4,
  "nbformat_minor": 0,
  "metadata": {
    "colab": {
      "provenance": [],
      "authorship_tag": "ABX9TyMcSq/yIHFZOdXv6YyKGrHk",
      "include_colab_link": true
    },
    "kernelspec": {
      "name": "python3",
      "display_name": "Python 3"
    },
    "language_info": {
      "name": "python"
    }
  },
  "cells": [
    {
      "cell_type": "markdown",
      "metadata": {
        "id": "view-in-github",
        "colab_type": "text"
      },
      "source": [
        "<a href=\"https://colab.research.google.com/github/Liang130520/Tibame-TeamProject/blob/main/TeamProject_predict_api_1.ipynb\" target=\"_parent\"><img src=\"https://colab.research.google.com/assets/colab-badge.svg\" alt=\"Open In Colab\"/></a>"
      ]
    },
    {
      "cell_type": "code",
      "execution_count": null,
      "metadata": {
        "id": "PT_qJEhNYqRT"
      },
      "outputs": [],
      "source": [
        "import requests\n",
        "import csv\n",
        "import codecs\n",
        "import pandas as pd\n",
        "from sklearn.datasets import load_boston\n",
        "\n",
        "url = requests.get(\"https://lvr.land.moi.gov.tw/SERVICE/QueryPrice/682df06cf19eff9d854d500b283b5dd9\", params = \n",
        "                  {\"q\":\"VTJGc2RHVmtYMThrUlJIdTRzYTRaTGI0UUZMVDNIQ3FQbUVIbUVxWG4wQVhERU43K2R5UCtJMWtMYVBmVHRNWU0yd1ZEYlBiaDhLSFQ2WHQ0RWgzeC9GU1F3OXBTQ1JkNXJtbnh6NCtpK0cwa2NiUGlpemlrKzQ0dFBiY2dJMkVJY2FJSHJzUWx4MEJrZ0l0bDE5RDVjOURJUlQ3STVIL0JIZzE1MlJJYVk1dVdGYjFnK1IvcEhjWU1vM2J6Wi9IY1p0U2N4RnJqTlNDcy9kOVBBZlo4b1RnQkRGQ3VtL3cyM3lkei8vVlptV21lbVNYcDNqbzFBTld4YlpnVnFuOHRTZVpGcG9Qdkd6a1V0VnpxVXNEOWR3M1N0bWxxWGduemhWTjJKM1JnZXZUSE9kWVhHLzVOVUFkd01JOTgyazdPVXV2WXY2SW5JK09VL1dPdk14dW5RVUpQZEthMEhOTG5BWWVRTnRtQ1IzaDFFQ3EzUno1U0ZuZllyMEJFNWxHaTZmZllna08rQ2drRFpnNE54cnV0ZDJVWDRnNDBFRXpNOU1xWmY1TlpOckppYVI3NVE1ckVTQ0FOV2l0MzZvTGdZU09qQmwwT3BYdjJJTWw3bnRMbzZNdlYxR2tDSHE5eU9kazU2NVZZVHVseWpJN01PemhKeFJ3L0FiSlc2Vzk3RkluS0Ftc2IzcGlyLzlaU1VKYXQzVDgvd05Icmo2bFhMUWN6TTRDSEJ4N2kzQXJtd1hFcC9FdksxU2Y1OHZqVTFyYlJmS3Jac0RrTm02YmIvbUYvNk5WNjRlMUVPdHhmWGZwZ3BVeDkydWF0N1c1T3NlbDlkUll5SU82U2t6ZXZLTUp2ajF3aHIvcm1QMG1rOGk4TmlWNkpkaFZUeXRwa3o2TVQ2dFQzTWwrMHpJWE1reUgrOGppeng4WDdzSXE=\"})\n",
        "data_shilin = url.json()\n",
        "# with codecs.open(\"shilin.csv\", \"r\", encoding = \"utf-8\") as f:\n",
        "#   data_shilin = list(csv.reader(f))\n",
        "\n",
        "data_shilin\n",
        "\n",
        "\n",
        "df = pd.DataFrame(shilin, columns = shilin[0]) # pandas的表個型態\n",
        "df = df.drop(\"commid\", axis = 1)\n",
        "df = df.drop(\"sq\", axis = 1)\n",
        "df = df.drop(\"a\", axis = 1)\n",
        "df = df.drop(\"type\", axis = 1)\n",
        "df = df.drop(\"bn\", axis = 1)\n",
        "df = df.drop(\"city\", axis = 1)\n",
        "\n",
        "# df[\"ans\"] = shilin[\"target\"]\n",
        "df\n",
        "\n",
        "df[\"f\"]\n",
        "\n",
        "\" 待思考調整形式 \"\n",
        "# floor = df[\"f\"].unique()\n",
        "# floor\n",
        "# floor2idx = {floor[i]:i for i in range(len(floor))}\n",
        "# floor2idx = {i:floor[i] for i in range(len(floor))}\n",
        "# floor2idx"
      ]
    },
    {
      "cell_type": "code",
      "source": [
        "import requests\n",
        "import csv\n",
        "import codecs\n",
        "import pandas as pd\n",
        "from sklearn.datasets import load_boston\n",
        "\n",
        "url = requests.get(\"https://lvr.land.moi.gov.tw/SERVICE/QueryPrice/682df06cf19eff9d854d500b283b5dd9\", params = \n",
        "                  {\"q\":\"VTJGc2RHVmtYMThrUlJIdTRzYTRaTGI0UUZMVDNIQ3FQbUVIbUVxWG4wQVhERU43K2R5UCtJMWtMYVBmVHRNWU0yd1ZEYlBiaDhLSFQ2WHQ0RWgzeC9GU1F3OXBTQ1JkNXJtbnh6NCtpK0cwa2NiUGlpemlrKzQ0dFBiY2dJMkVJY2FJSHJzUWx4MEJrZ0l0bDE5RDVjOURJUlQ3STVIL0JIZzE1MlJJYVk1dVdGYjFnK1IvcEhjWU1vM2J6Wi9IY1p0U2N4RnJqTlNDcy9kOVBBZlo4b1RnQkRGQ3VtL3cyM3lkei8vVlptV21lbVNYcDNqbzFBTld4YlpnVnFuOHRTZVpGcG9Qdkd6a1V0VnpxVXNEOWR3M1N0bWxxWGduemhWTjJKM1JnZXZUSE9kWVhHLzVOVUFkd01JOTgyazdPVXV2WXY2SW5JK09VL1dPdk14dW5RVUpQZEthMEhOTG5BWWVRTnRtQ1IzaDFFQ3EzUno1U0ZuZllyMEJFNWxHaTZmZllna08rQ2drRFpnNE54cnV0ZDJVWDRnNDBFRXpNOU1xWmY1TlpOckppYVI3NVE1ckVTQ0FOV2l0MzZvTGdZU09qQmwwT3BYdjJJTWw3bnRMbzZNdlYxR2tDSHE5eU9kazU2NVZZVHVseWpJN01PemhKeFJ3L0FiSlc2Vzk3RkluS0Ftc2IzcGlyLzlaU1VKYXQzVDgvd05Icmo2bFhMUWN6TTRDSEJ4N2kzQXJtd1hFcC9FdksxU2Y1OHZqVTFyYlJmS3Jac0RrTm02YmIvbUYvNk5WNjRlMUVPdHhmWGZwZ3BVeDkydWF0N1c1T3NlbDlkUll5SU82U2t6ZXZLTUp2ajF3aHIvcm1QMG1rOGk4TmlWNkpkaFZUeXRwa3o2TVQ2dFQzTWwrMHpJWE1reUgrOGppeng4WDdzSXE=\"})\n",
        "data_shilin = url.json()\n",
        "\n",
        "# with codecs.open(\"shilin.csv\", \"r\", encoding = \"utf-8\") as f:\n",
        "#   data_shilin = list(csv.reader(f))\n",
        "shilin = data_shilin\n",
        "shilin\n",
        "\n",
        "df = pd.DataFrame(shilin, columns = shilin[1]) # pandas的表個型態\n",
        "df = df.drop(\"commid\", axis = 1)\n",
        "df = df.drop(\"sq\", axis = 1)\n",
        "df = df.drop(\"a\", axis = 1)\n",
        "df = df.drop(\"type\", axis = 1)\n",
        "df = df.drop(\"bn\", axis = 1)\n",
        "df = df.drop(\"city\", axis = 1)\n",
        "\n",
        "# df[\"ans\"] = shilin[\"target\"]\n",
        "df\n",
        "\n",
        "\" 文字量化 \"\n",
        "# 住, 商, 其他, 6\n",
        "using = df[\"AA11\"].unique()\n",
        "AA112idx = {using[i]:i for i in range(len(using))}\n",
        "AA112idx = {i:using[i] for i in range(len(using))}\n",
        "AA112idx\n",
        "\n",
        "# 公寓, 華夏, 大樓, 透天\n",
        "building = df[\"b\"].unique()\n",
        "building\n",
        "building2idx = {building[i]:i for i in range(len(building))}\n",
        "building2idx = {i:building[i] for i in range(len(building))}\n",
        "building2idx\n",
        "\n",
        "# 無, 有\n",
        "elevator = df[\"el\"].unique()\n",
        "elevator\n",
        "elevator2idx = {elevator[i]:i for i in range(len(elevator))}\n",
        "elevator2idx = {i:elevator[i] for i in range(len(elevator))}\n",
        "elevator2idx\n",
        "\n",
        "import numpy as np\n",
        "from sklearn.model_selection import train_test_split\n",
        "\n",
        "# x = df.drop(\"ans\", axis = 1) # 去除直欄 \"ans\", 產生一個新表格 x, 原 df 仍有 ans 直欄\n",
        "x = np.array(df)\n",
        "y = np.array(df[\"p\"])\n",
        "\n",
        "x_train, x_test, y_train, y_test = train_test_split(x, y, test_size = 0.1) # 90% x, 10% x, 90% y, 10% y\n",
        "show = x_test\n",
        "print(show)\n",
        "print(\"-----------------------\")\n",
        "x_train\n",
        "\n",
        "# from sklearn.tree import DecisionTreeRegressor # 與 Classifier 不同\n",
        "\n",
        "# reg = DecisionTreeRegressor(max_depth = 5) \n",
        "# reg.fit(x_train, y_train)\n",
        "\n",
        "# import matplotlib.pyplot as plt\n",
        "# from sklearn.tree import plot_tree\n",
        "# plt.figure(figsize = (20, 20)) # 圖片放大, 數值越大, 呈現越大\n",
        "# plot_tree(reg, \n",
        "#           filled = True,\n",
        "#           max_depth = 2)\n",
        "\n",
        "# from sklearn.metrics import r2_score\n",
        "# pre = reg.predict(x_test)\n",
        "# r2_score(y_test, pre)"
      ],
      "metadata": {
        "id": "72gLsAQhYrLN"
      },
      "execution_count": null,
      "outputs": []
    }
  ]
}