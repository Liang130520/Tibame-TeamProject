{
  "nbformat": 4,
  "nbformat_minor": 0,
  "metadata": {
    "colab": {
      "provenance": [],
      "authorship_tag": "ABX9TyNWh7+/PZx0Cj/gonZBVVjA",
      "include_colab_link": true
    },
    "kernelspec": {
      "name": "python3",
      "display_name": "Python 3"
    },
    "language_info": {
      "name": "python"
    }
  },
  "cells": [
    {
      "cell_type": "markdown",
      "metadata": {
        "id": "view-in-github",
        "colab_type": "text"
      },
      "source": [
        "<a href=\"https://colab.research.google.com/github/Liang130520/Tibame-TeamProject/blob/main/TeamProject_api_%E8%B3%87%E6%96%99%E6%95%B4%E7%90%865%E7%89%88_%E9%80%9A%E8%86%A8%E4%BB%A3%E5%85%A5.ipynb\" target=\"_parent\"><img src=\"https://colab.research.google.com/assets/colab-badge.svg\" alt=\"Open In Colab\"/></a>"
      ]
    },
    {
      "cell_type": "code",
      "execution_count": 5,
      "metadata": {
        "id": "nP8h4HwDmFwq"
      },
      "outputs": [],
      "source": [
        "import csv\n",
        "import codecs\n",
        "import pandas as pd\n",
        "\n",
        "\" 開啟csv檔 \"\n",
        "data_taipei = pd.read_csv(\"台北市房屋交易_1108.csv\", encoding = \"utf-8\")\n",
        "df = pd.DataFrame(data_taipei)\n",
        "\n",
        "data_cpi = pd.read_csv(\"消費者物價指數銜接表.csv\", encoding = \"big5\")\n",
        "df_cpi = pd.DataFrame(data_cpi)\n",
        "\n",
        "data_cpiy = pd.read_csv(\"消費者物價指數銜接表-年增率.csv\", encoding = \"big5\")\n",
        "df_cpiy = pd.DataFrame(data_cpiy)\n",
        "\n",
        "pd.set_option('display.max_columns', 500)\n",
        "\n",
        "\" 年份轉換 \"\n",
        "\n",
        "# print(df_cpi[\"年\"])\n",
        "# print(len(df_cpi[\"年\"]))\n",
        "\n",
        "\n",
        "def fyear(n):\n",
        "     if pd.isna(n):\n",
        "          return n\n",
        "     else:\n",
        "          for j in range(len(df_cpi[\"年\"])):\n",
        "               if n == df_cpi[\"年\"][j]:\n",
        "                    return df_cpi[\"累計平均\"][j]\n",
        "               else:        \n",
        "                    continue           \n",
        "\n",
        "df[\"year_average_cpi\"] = df[\"tradeyr\"].apply(fyear)\n",
        "\n",
        "def fyear(n):\n",
        "     if pd.isna(n):\n",
        "          return n\n",
        "     else:\n",
        "          for j in range(len(df_cpiy[\"年\"])):\n",
        "               if n == df_cpiy[\"年\"][j]:\n",
        "                    return df_cpiy[\"全年\"][j]\n",
        "               else:        \n",
        "                    continue          \n",
        "\n",
        "df[\"year_increase_cpi\"] = df[\"tradeyr\"].apply(fyear)\n",
        "\n",
        "df\n",
        "\n",
        "df.to_csv( \"台北市房屋交易_1108_含通膨.csv\"  , index=False )"
      ]
    },
    {
      "cell_type": "code",
      "source": [
        "import requests\n",
        "import json\n",
        "from urllib.request import urlretrieve\n",
        "\n",
        "\" 爬蟲網路資料 \"\n",
        "# url = requests.get(\"https://lvr.land.moi.gov.tw/SERVICE/QueryPrice/a0388809ef58d3752bcdb4177d0d894e\", params = \n",
        "#                   {\"q\":\"VTJGc2RHVmtYMS9ERUNtNFRFcmVpcTl5K2hsdzgxNDdETHQ5OGFvTm0yZy8rZUlkNW5ZVTVLYTJlT09kcnNmei9OTG02WlYzTks5dGxFM01XcDU2ZzNvenkwcGE4NHJQdGcvRjUvc3I0Z0R2M3N0VHFETThZR3RnZDhoT0RIam9COGsxOUFOV3lPeEQvWkNHSDdvSllFaWt1aTgyRjhQbkJxN0dRTzl5VnBrYUVXelhaUUFqczdQK3ZQWW81ZjNZUW54b1JBNkc1OHlQdUR6T0ZUT3oxWUR2czdZdFB4ZWl3S293bmU5TnpQaXlacjJGeUhibFRyRC82bTNpUUNONjd5c3ZCeWREaS94K3hjclEwN2NQNlkydjgzUWpLdWNKbkF2dzRqaE1ZZWpBQ2hmRVpmWVZ0dUFoQTB3bzNxTTJnR2huWFZBWHhTYzFjbHFmTjhnbzBVSFREVWtMTVJQblpLK3V1NW42ZnFNUFZjTE1TeEh6aWdDY3ZNZlpxUFVSMmpsL3htUmIrVW81eEhhSHorUTdnUVdPV0Flb1paU2VoY3grRWY2c1V0MnBVNVdZbUhYVW1YOFBmWWNYYVBoOVpOb25OTkdzeE9tc1ByRElhc3pybnBnYzJZSE1kYmVWaDBwVnBBQVZDNzEwT0xVV1Y5NzhVa1VsaFFTUVRVdGlwNm5zeXpQbkxWa282TExLWXZZaUVjaTk2Zm1xZVEyUk5kMFFIYXA4UzZsazduS244Z2JKdVVTbHE3ZTZCT3hLQk9zTHVac1BtTlNyWHN1a0ZNa05hMUdRWHdNa08xRW4zam1pMHFRb3FjTit5aU82UHk2OUIxRlM0RjQvY0FBRWxGTlczU2NqZk8xTWFSYTBsQzRhWGVNYmVIWTY1SXJ6cWdMQ1RFT1BpUVNvSWdVaDVwdEV2OXk4eHhmV3JEQVg=\"})\n",
        "# urlretrieve(url, \"name.json\")\n",
        "# data_shilin = url.json()\n",
        "\n",
        "\" 開啟json檔 \"\n",
        "# with open(\"shilin_house.json\") as f:\n",
        "#   data_shilin = json.load(f)\n",
        "# data_shilin"
      ],
      "metadata": {
        "id": "-y-74XMqmJ7G"
      },
      "execution_count": null,
      "outputs": []
    }
  ]
}