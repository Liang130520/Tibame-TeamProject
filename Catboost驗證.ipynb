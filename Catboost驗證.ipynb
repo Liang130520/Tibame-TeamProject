{
  "nbformat": 4,
  "nbformat_minor": 0,
  "metadata": {
    "colab": {
      "provenance": [],
      "authorship_tag": "ABX9TyMoplo7Uq37sJmtn3FKcr59",
      "include_colab_link": true
    },
    "kernelspec": {
      "name": "python3",
      "display_name": "Python 3"
    },
    "language_info": {
      "name": "python"
    },
    "widgets": {
      "application/vnd.jupyter.widget-state+json": {
        "defa5741ecbf4581ac42b94f4d130c37": {
          "model_module": "catboost-widget",
          "model_name": "CatboostWidgetModel",
          "model_module_version": "^1.0.0",
          "state": {
            "_dom_classes": [],
            "_model_module": "catboost-widget",
            "_model_module_version": "^1.0.0",
            "_model_name": "CatboostWidgetModel",
            "_view_count": null,
            "_view_module": "catboost-widget",
            "_view_module_version": "^1.0.0",
            "_view_name": "CatboostWidgetView",
            "data": {
              "catboost_info": {
                "path": "catboost_info",
                "name": "catboost_info",
                "content": {
                  "passed_iterations": 999,
                  "total_iterations": 1000,
                  "data": {
                    "iterations": [
                      {
                        "learn": [
                          0.1508031596
                        ],
                        "iteration": 0,
                        "passed_time": 0.006510350338,
                        "remaining_time": 6.503839988,
                        "test": [
                          0.1512853285
                        ]
                      },
                      {
                        "learn": [
                          0.1431561576
                        ],
                        "iteration": 1,
                        "passed_time": 0.01801603947,
                        "remaining_time": 8.990003694,
                        "test": [
                          0.1438494773
                        ]
                      },
                      {
                        "learn": [
                          0.1374855769
                        ],
                        "iteration": 2,
                        "passed_time": 0.0323439432,
                        "remaining_time": 10.74897046,
                        "test": [
                          0.1382065891
                        ]
                      },
                      {
                        "learn": [
                          0.132425895
                        ],
                        "iteration": 3,
                        "passed_time": 0.03791243025,
                        "remaining_time": 9.440195132,
                        "test": [
                          0.1332639307
                        ]
                      },
                      {
                        "learn": [
                          0.1269757182
                        ],
                        "iteration": 4,
                        "passed_time": 0.04668051645,
                        "remaining_time": 9.289422774,
                        "test": [
                          0.1282091914
                        ]
                      },
                      {
                        "learn": [
                          0.1226038874
                        ],
                        "iteration": 5,
                        "passed_time": 0.05369452526,
                        "remaining_time": 8.895393018,
                        "test": [
                          0.1238110208
                        ]
                      },
                      {
                        "learn": [
                          0.119690872
                        ],
                        "iteration": 6,
                        "passed_time": 0.0604481803,
                        "remaining_time": 8.575006149,
                        "test": [
                          0.1208792288
                        ]
                      },
                      {
                        "learn": [
                          0.1152405739
                        ],
                        "iteration": 7,
                        "passed_time": 0.06787417538,
                        "remaining_time": 8.416397747,
                        "test": [
                          0.1164214466
                        ]
                      },
                      {
                        "learn": [
                          0.1124248987
                        ],
                        "iteration": 8,
                        "passed_time": 0.07036295845,
                        "remaining_time": 7.747743536,
                        "test": [
                          0.1135083838
                        ]
                      },
                      {
                        "learn": [
                          0.1098930488
                        ],
                        "iteration": 9,
                        "passed_time": 0.07531909851,
                        "remaining_time": 7.456590752,
                        "test": [
                          0.1111629804
                        ]
                      },
                      {
                        "learn": [
                          0.1070286484
                        ],
                        "iteration": 10,
                        "passed_time": 0.08502219656,
                        "remaining_time": 7.6442684,
                        "test": [
                          0.1086133563
                        ]
                      },
                      {
                        "learn": [
                          0.1043589459
                        ],
                        "iteration": 11,
                        "passed_time": 0.1138109694,
                        "remaining_time": 9.37043648,
                        "test": [
                          0.1062680471
                        ]
                      },
                      {
                        "learn": [
                          0.1018399704
                        ],
                        "iteration": 12,
                        "passed_time": 0.1261197822,
                        "remaining_time": 9.575401927,
                        "test": [
                          0.1040302778
                        ]
                      },
                      {
                        "learn": [
                          0.09995342461
                        ],
                        "iteration": 13,
                        "passed_time": 0.1366923503,
                        "remaining_time": 9.627046957,
                        "test": [
                          0.1022265455
                        ]
                      },
                      {
                        "learn": [
                          0.09827518944
                        ],
                        "iteration": 14,
                        "passed_time": 0.1514847147,
                        "remaining_time": 9.947496264,
                        "test": [
                          0.1010252565
                        ]
                      },
                      {
                        "learn": [
                          0.0966025412
                        ],
                        "iteration": 15,
                        "passed_time": 0.1831248941,
                        "remaining_time": 11.26218099,
                        "test": [
                          0.09961005707
                        ]
                      },
                      {
                        "learn": [
                          0.09529463796
                        ],
                        "iteration": 16,
                        "passed_time": 0.1940091159,
                        "remaining_time": 11.21829182,
                        "test": [
                          0.09865636148
                        ]
                      },
                      {
                        "learn": [
                          0.09395679893
                        ],
                        "iteration": 17,
                        "passed_time": 0.2049541651,
                        "remaining_time": 11.18138834,
                        "test": [
                          0.09729117702
                        ]
                      },
                      {
                        "learn": [
                          0.09200266839
                        ],
                        "iteration": 18,
                        "passed_time": 0.2234804227,
                        "remaining_time": 11.53864709,
                        "test": [
                          0.09567799125
                        ]
                      },
                      {
                        "learn": [
                          0.09079256226
                        ],
                        "iteration": 19,
                        "passed_time": 0.2294550782,
                        "remaining_time": 11.24329883,
                        "test": [
                          0.09465080325
                        ]
                      },
                      {
                        "learn": [
                          0.089363482
                        ],
                        "iteration": 20,
                        "passed_time": 0.2375554959,
                        "remaining_time": 11.07461097,
                        "test": [
                          0.09392556527
                        ]
                      },
                      {
                        "learn": [
                          0.08789416352
                        ],
                        "iteration": 21,
                        "passed_time": 0.2450987181,
                        "remaining_time": 10.89575211,
                        "test": [
                          0.09266492267
                        ]
                      },
                      {
                        "learn": [
                          0.08684507072
                        ],
                        "iteration": 22,
                        "passed_time": 0.2560431892,
                        "remaining_time": 10.87626939,
                        "test": [
                          0.0917280401
                        ]
                      },
                      {
                        "learn": [
                          0.08562437108
                        ],
                        "iteration": 23,
                        "passed_time": 0.2647881485,
                        "remaining_time": 10.76805137,
                        "test": [
                          0.09071618782
                        ]
                      },
                      {
                        "learn": [
                          0.08499772478
                        ],
                        "iteration": 24,
                        "passed_time": 0.2775472801,
                        "remaining_time": 10.82434392,
                        "test": [
                          0.09018219762
                        ]
                      },
                      {
                        "learn": [
                          0.08392622693
                        ],
                        "iteration": 25,
                        "passed_time": 0.2874155444,
                        "remaining_time": 10.76702847,
                        "test": [
                          0.08934101461
                        ]
                      },
                      {
                        "learn": [
                          0.08285543319
                        ],
                        "iteration": 26,
                        "passed_time": 0.2981931666,
                        "remaining_time": 10.74599819,
                        "test": [
                          0.08875915028
                        ]
                      },
                      {
                        "learn": [
                          0.08157290689
                        ],
                        "iteration": 27,
                        "passed_time": 0.3175221124,
                        "remaining_time": 11.02255333,
                        "test": [
                          0.08788666649
                        ]
                      },
                      {
                        "learn": [
                          0.08079933138
                        ],
                        "iteration": 28,
                        "passed_time": 0.3264765174,
                        "remaining_time": 10.93133443,
                        "test": [
                          0.08760183276
                        ]
                      },
                      {
                        "learn": [
                          0.07912364737
                        ],
                        "iteration": 29,
                        "passed_time": 0.3335935333,
                        "remaining_time": 10.78619091,
                        "test": [
                          0.08637650868
                        ]
                      },
                      {
                        "learn": [
                          0.07747350499
                        ],
                        "iteration": 30,
                        "passed_time": 0.338865474,
                        "remaining_time": 10.59227885,
                        "test": [
                          0.08541261113
                        ]
                      },
                      {
                        "learn": [
                          0.07657770856
                        ],
                        "iteration": 31,
                        "passed_time": 0.3445545962,
                        "remaining_time": 10.42277653,
                        "test": [
                          0.08454946609
                        ]
                      },
                      {
                        "learn": [
                          0.07578084895
                        ],
                        "iteration": 32,
                        "passed_time": 0.3515669578,
                        "remaining_time": 10.30197722,
                        "test": [
                          0.08412002986
                        ]
                      },
                      {
                        "learn": [
                          0.07506096425
                        ],
                        "iteration": 33,
                        "passed_time": 0.3564164556,
                        "remaining_time": 10.12642047,
                        "test": [
                          0.08358682961
                        ]
                      },
                      {
                        "learn": [
                          0.0742003961
                        ],
                        "iteration": 34,
                        "passed_time": 0.3633241012,
                        "remaining_time": 10.0173645,
                        "test": [
                          0.08334629279
                        ]
                      },
                      {
                        "learn": [
                          0.07368316314
                        ],
                        "iteration": 35,
                        "passed_time": 0.3684419014,
                        "remaining_time": 9.866055359,
                        "test": [
                          0.08289921693
                        ]
                      },
                      {
                        "learn": [
                          0.0734771756
                        ],
                        "iteration": 36,
                        "passed_time": 0.3743059057,
                        "remaining_time": 9.742069924,
                        "test": [
                          0.08276554916
                        ]
                      },
                      {
                        "learn": [
                          0.072685881
                        ],
                        "iteration": 37,
                        "passed_time": 0.3816942438,
                        "remaining_time": 9.662891119,
                        "test": [
                          0.08223566731
                        ]
                      },
                      {
                        "learn": [
                          0.07196851487
                        ],
                        "iteration": 38,
                        "passed_time": 0.3934512608,
                        "remaining_time": 9.695042606,
                        "test": [
                          0.08197336476
                        ]
                      },
                      {
                        "learn": [
                          0.07129906995
                        ],
                        "iteration": 39,
                        "passed_time": 0.4052078597,
                        "remaining_time": 9.724988632,
                        "test": [
                          0.08167537208
                        ]
                      },
                      {
                        "learn": [
                          0.06999318787
                        ],
                        "iteration": 40,
                        "passed_time": 0.4242853031,
                        "remaining_time": 9.924136723,
                        "test": [
                          0.0808613805
                        ]
                      },
                      {
                        "learn": [
                          0.06989990204
                        ],
                        "iteration": 41,
                        "passed_time": 0.4365860691,
                        "remaining_time": 9.958320338,
                        "test": [
                          0.08082660866
                        ]
                      },
                      {
                        "learn": [
                          0.0689762705
                        ],
                        "iteration": 42,
                        "passed_time": 0.4472459969,
                        "remaining_time": 9.953823698,
                        "test": [
                          0.0804639596
                        ]
                      },
                      {
                        "learn": [
                          0.06862937856
                        ],
                        "iteration": 43,
                        "passed_time": 0.4593887271,
                        "remaining_time": 9.981264161,
                        "test": [
                          0.08024903694
                        ]
                      },
                      {
                        "learn": [
                          0.0679700885
                        ],
                        "iteration": 44,
                        "passed_time": 0.4879081157,
                        "remaining_time": 10.35449446,
                        "test": [
                          0.0800420428
                        ]
                      },
                      {
                        "learn": [
                          0.06715382214
                        ],
                        "iteration": 45,
                        "passed_time": 0.5015155039,
                        "remaining_time": 10.40099545,
                        "test": [
                          0.07960065851
                        ]
                      },
                      {
                        "learn": [
                          0.06675773362
                        ],
                        "iteration": 46,
                        "passed_time": 0.5129984679,
                        "remaining_time": 10.40186255,
                        "test": [
                          0.07958324236
                        ]
                      },
                      {
                        "learn": [
                          0.06623070978
                        ],
                        "iteration": 47,
                        "passed_time": 0.5228593782,
                        "remaining_time": 10.37004433,
                        "test": [
                          0.07936566292
                        ]
                      },
                      {
                        "learn": [
                          0.0655706937
                        ],
                        "iteration": 48,
                        "passed_time": 0.5349399173,
                        "remaining_time": 10.38220125,
                        "test": [
                          0.07900842447
                        ]
                      },
                      {
                        "learn": [
                          0.06464810803
                        ],
                        "iteration": 49,
                        "passed_time": 0.5456860821,
                        "remaining_time": 10.36803556,
                        "test": [
                          0.07860856401
                        ]
                      },
                      {
                        "learn": [
                          0.06402807216
                        ],
                        "iteration": 50,
                        "passed_time": 0.5624145156,
                        "remaining_time": 10.46532108,
                        "test": [
                          0.07824560754
                        ]
                      },
                      {
                        "learn": [
                          0.06346941781
                        ],
                        "iteration": 51,
                        "passed_time": 0.5748492624,
                        "remaining_time": 10.47994425,
                        "test": [
                          0.07793287724
                        ]
                      },
                      {
                        "learn": [
                          0.06294089704
                        ],
                        "iteration": 52,
                        "passed_time": 0.5852224624,
                        "remaining_time": 10.45671079,
                        "test": [
                          0.07781232917
                        ]
                      },
                      {
                        "learn": [
                          0.06284644471
                        ],
                        "iteration": 53,
                        "passed_time": 0.6121732934,
                        "remaining_time": 10.72436918,
                        "test": [
                          0.07780309153
                        ]
                      },
                      {
                        "learn": [
                          0.06271872125
                        ],
                        "iteration": 54,
                        "passed_time": 0.63030755,
                        "remaining_time": 10.82982972,
                        "test": [
                          0.077742663
                        ]
                      },
                      {
                        "learn": [
                          0.06190143309
                        ],
                        "iteration": 55,
                        "passed_time": 0.6392813766,
                        "remaining_time": 10.77645749,
                        "test": [
                          0.07721479959
                        ]
                      },
                      {
                        "learn": [
                          0.06136996954
                        ],
                        "iteration": 56,
                        "passed_time": 0.6511093224,
                        "remaining_time": 10.77186125,
                        "test": [
                          0.07681908299
                        ]
                      },
                      {
                        "learn": [
                          0.06123276754
                        ],
                        "iteration": 57,
                        "passed_time": 0.6601875778,
                        "remaining_time": 10.72235687,
                        "test": [
                          0.07680041337
                        ]
                      },
                      {
                        "learn": [
                          0.06087969266
                        ],
                        "iteration": 58,
                        "passed_time": 0.6686913505,
                        "remaining_time": 10.66506035,
                        "test": [
                          0.0765329081
                        ]
                      },
                      {
                        "learn": [
                          0.06001966587
                        ],
                        "iteration": 59,
                        "passed_time": 0.6793298494,
                        "remaining_time": 10.64283431,
                        "test": [
                          0.0759352096
                        ]
                      },
                      {
                        "learn": [
                          0.05906097976
                        ],
                        "iteration": 60,
                        "passed_time": 0.6911658821,
                        "remaining_time": 10.63942235,
                        "test": [
                          0.0753353168
                        ]
                      },
                      {
                        "learn": [
                          0.05833904109
                        ],
                        "iteration": 61,
                        "passed_time": 0.7018215656,
                        "remaining_time": 10.6178811,
                        "test": [
                          0.07481304003
                        ]
                      },
                      {
                        "learn": [
                          0.05803391023
                        ],
                        "iteration": 62,
                        "passed_time": 0.7159788051,
                        "remaining_time": 10.64876413,
                        "test": [
                          0.07452339083
                        ]
                      },
                      {
                        "learn": [
                          0.05796323552
                        ],
                        "iteration": 63,
                        "passed_time": 0.7274038642,
                        "remaining_time": 10.63828151,
                        "test": [
                          0.07450834639
                        ]
                      },
                      {
                        "learn": [
                          0.0570433315
                        ],
                        "iteration": 64,
                        "passed_time": 0.7369660709,
                        "remaining_time": 10.60097348,
                        "test": [
                          0.07390312816
                        ]
                      },
                      {
                        "learn": [
                          0.05693588452
                        ],
                        "iteration": 65,
                        "passed_time": 0.7504056511,
                        "remaining_time": 10.61937694,
                        "test": [
                          0.07386105518
                        ]
                      },
                      {
                        "learn": [
                          0.05608855763
                        ],
                        "iteration": 66,
                        "passed_time": 0.7575059006,
                        "remaining_time": 10.54855232,
                        "test": [
                          0.07342013887
                        ]
                      },
                      {
                        "learn": [
                          0.05583346248
                        ],
                        "iteration": 67,
                        "passed_time": 0.7674309609,
                        "remaining_time": 10.51831846,
                        "test": [
                          0.0733920964
                        ]
                      },
                      {
                        "learn": [
                          0.05509073134
                        ],
                        "iteration": 68,
                        "passed_time": 0.7790782104,
                        "remaining_time": 10.51191035,
                        "test": [
                          0.07300603233
                        ]
                      },
                      {
                        "learn": [
                          0.05463493788
                        ],
                        "iteration": 69,
                        "passed_time": 0.7854401317,
                        "remaining_time": 10.43513318,
                        "test": [
                          0.07251998859
                        ]
                      },
                      {
                        "learn": [
                          0.05428749196
                        ],
                        "iteration": 70,
                        "passed_time": 0.7907678203,
                        "remaining_time": 10.34680711,
                        "test": [
                          0.07228988579
                        ]
                      },
                      {
                        "learn": [
                          0.05394599727
                        ],
                        "iteration": 71,
                        "passed_time": 0.7984577353,
                        "remaining_time": 10.29123303,
                        "test": [
                          0.07226365301
                        ]
                      },
                      {
                        "learn": [
                          0.05388016478
                        ],
                        "iteration": 72,
                        "passed_time": 0.8044516015,
                        "remaining_time": 10.21543335,
                        "test": [
                          0.07225032496
                        ]
                      },
                      {
                        "learn": [
                          0.05379023464
                        ],
                        "iteration": 73,
                        "passed_time": 0.8149276685,
                        "remaining_time": 10.19760839,
                        "test": [
                          0.07221090212
                        ]
                      },
                      {
                        "learn": [
                          0.05347127297
                        ],
                        "iteration": 74,
                        "passed_time": 0.8208878048,
                        "remaining_time": 10.12428293,
                        "test": [
                          0.07195170054
                        ]
                      },
                      {
                        "learn": [
                          0.05340856354
                        ],
                        "iteration": 75,
                        "passed_time": 0.8270948683,
                        "remaining_time": 10.05573235,
                        "test": [
                          0.07194062146
                        ]
                      },
                      {
                        "learn": [
                          0.0529712876
                        ],
                        "iteration": 76,
                        "passed_time": 0.8341794432,
                        "remaining_time": 9.999319819,
                        "test": [
                          0.07157903302
                        ]
                      },
                      {
                        "learn": [
                          0.05244928209
                        ],
                        "iteration": 77,
                        "passed_time": 0.8478018251,
                        "remaining_time": 10.02145234,
                        "test": [
                          0.07130507736
                        ]
                      },
                      {
                        "learn": [
                          0.05236378708
                        ],
                        "iteration": 78,
                        "passed_time": 0.8616294765,
                        "remaining_time": 10.04507276,
                        "test": [
                          0.07127675484
                        ]
                      },
                      {
                        "learn": [
                          0.05211923438
                        ],
                        "iteration": 79,
                        "passed_time": 0.8726872396,
                        "remaining_time": 10.03590326,
                        "test": [
                          0.07124931713
                        ]
                      },
                      {
                        "learn": [
                          0.05126002139
                        ],
                        "iteration": 80,
                        "passed_time": 0.9034994758,
                        "remaining_time": 10.25081504,
                        "test": [
                          0.07068762546
                        ]
                      },
                      {
                        "learn": [
                          0.05083642844
                        ],
                        "iteration": 81,
                        "passed_time": 0.9209977994,
                        "remaining_time": 10.31068268,
                        "test": [
                          0.07054610909
                        ]
                      },
                      {
                        "learn": [
                          0.05077974658
                        ],
                        "iteration": 82,
                        "passed_time": 0.9328766569,
                        "remaining_time": 10.30660114,
                        "test": [
                          0.07053812497
                        ]
                      },
                      {
                        "learn": [
                          0.05072604838
                        ],
                        "iteration": 83,
                        "passed_time": 0.9358279607,
                        "remaining_time": 10.2049811,
                        "test": [
                          0.07053131067
                        ]
                      },
                      {
                        "learn": [
                          0.05034079681
                        ],
                        "iteration": 84,
                        "passed_time": 0.9473111402,
                        "remaining_time": 10.1975258,
                        "test": [
                          0.07041334237
                        ]
                      },
                      {
                        "learn": [
                          0.04973520096
                        ],
                        "iteration": 85,
                        "passed_time": 0.9585067247,
                        "remaining_time": 10.18692031,
                        "test": [
                          0.07026431076
                        ]
                      },
                      {
                        "learn": [
                          0.04952283072
                        ],
                        "iteration": 86,
                        "passed_time": 0.9714072293,
                        "remaining_time": 10.19419311,
                        "test": [
                          0.07024595261
                        ]
                      },
                      {
                        "learn": [
                          0.04921897349
                        ],
                        "iteration": 87,
                        "passed_time": 0.9881439169,
                        "remaining_time": 10.24076423,
                        "test": [
                          0.07010664449
                        ]
                      },
                      {
                        "learn": [
                          0.04904626165
                        ],
                        "iteration": 88,
                        "passed_time": 0.9920278318,
                        "remaining_time": 10.1543523,
                        "test": [
                          0.07003892244
                        ]
                      },
                      {
                        "learn": [
                          0.04899897
                        ],
                        "iteration": 89,
                        "passed_time": 0.9951646408,
                        "remaining_time": 10.06222026,
                        "test": [
                          0.07003541856
                        ]
                      },
                      {
                        "learn": [
                          0.0485153366
                        ],
                        "iteration": 90,
                        "passed_time": 1.010971309,
                        "remaining_time": 10.09860352,
                        "test": [
                          0.06975519038
                        ]
                      },
                      {
                        "learn": [
                          0.04809300642
                        ],
                        "iteration": 91,
                        "passed_time": 1.01800619,
                        "remaining_time": 10.04727849,
                        "test": [
                          0.06969902766
                        ]
                      },
                      {
                        "learn": [
                          0.04802712298
                        ],
                        "iteration": 92,
                        "passed_time": 1.022204875,
                        "remaining_time": 9.969245394,
                        "test": [
                          0.06965008007
                        ]
                      },
                      {
                        "learn": [
                          0.04766182395
                        ],
                        "iteration": 93,
                        "passed_time": 1.028324348,
                        "remaining_time": 9.911296374,
                        "test": [
                          0.06948902278
                        ]
                      },
                      {
                        "learn": [
                          0.04759772647
                        ],
                        "iteration": 94,
                        "passed_time": 1.034922763,
                        "remaining_time": 9.859001061,
                        "test": [
                          0.06947094849
                        ]
                      },
                      {
                        "learn": [
                          0.04705994654
                        ],
                        "iteration": 95,
                        "passed_time": 1.046611761,
                        "remaining_time": 9.855594078,
                        "test": [
                          0.06915690692
                        ]
                      },
                      {
                        "learn": [
                          0.0469275558
                        ],
                        "iteration": 96,
                        "passed_time": 1.052630054,
                        "remaining_time": 9.799226177,
                        "test": [
                          0.06911685171
                        ]
                      },
                      {
                        "learn": [
                          0.04653337042
                        ],
                        "iteration": 97,
                        "passed_time": 1.059592192,
                        "remaining_time": 9.752573029,
                        "test": [
                          0.0688666003
                        ]
                      },
                      {
                        "learn": [
                          0.04639150767
                        ],
                        "iteration": 98,
                        "passed_time": 1.08387102,
                        "remaining_time": 9.864321098,
                        "test": [
                          0.06884205694
                        ]
                      },
                      {
                        "learn": [
                          0.04632954612
                        ],
                        "iteration": 99,
                        "passed_time": 1.095234009,
                        "remaining_time": 9.857106085,
                        "test": [
                          0.06882401931
                        ]
                      },
                      {
                        "learn": [
                          0.0458354835
                        ],
                        "iteration": 100,
                        "passed_time": 1.104516036,
                        "remaining_time": 9.831286303,
                        "test": [
                          0.06872905246
                        ]
                      },
                      {
                        "learn": [
                          0.04556328864
                        ],
                        "iteration": 101,
                        "passed_time": 1.124760465,
                        "remaining_time": 9.902302918,
                        "test": [
                          0.06865067444
                        ]
                      },
                      {
                        "learn": [
                          0.04523408071
                        ],
                        "iteration": 102,
                        "passed_time": 1.135612079,
                        "remaining_time": 9.889747908,
                        "test": [
                          0.06845048597
                        ]
                      },
                      {
                        "learn": [
                          0.0448992044
                        ],
                        "iteration": 103,
                        "passed_time": 1.149605754,
                        "remaining_time": 9.904295731,
                        "test": [
                          0.06822974878
                        ]
                      },
                      {
                        "learn": [
                          0.04459123079
                        ],
                        "iteration": 104,
                        "passed_time": 1.160669883,
                        "remaining_time": 9.893328999,
                        "test": [
                          0.0680673835
                        ]
                      },
                      {
                        "learn": [
                          0.04454535732
                        ],
                        "iteration": 105,
                        "passed_time": 1.171232486,
                        "remaining_time": 9.878130587,
                        "test": [
                          0.06807315468
                        ]
                      },
                      {
                        "learn": [
                          0.04447034141
                        ],
                        "iteration": 106,
                        "passed_time": 1.181565429,
                        "remaining_time": 9.861102131,
                        "test": [
                          0.06800308867
                        ]
                      },
                      {
                        "learn": [
                          0.04440350048
                        ],
                        "iteration": 107,
                        "passed_time": 1.194665644,
                        "remaining_time": 9.867053284,
                        "test": [
                          0.06802410614
                        ]
                      },
                      {
                        "learn": [
                          0.04406620302
                        ],
                        "iteration": 108,
                        "passed_time": 1.203605016,
                        "remaining_time": 9.838642834,
                        "test": [
                          0.06802280837
                        ]
                      },
                      {
                        "learn": [
                          0.04380663727
                        ],
                        "iteration": 109,
                        "passed_time": 1.208994193,
                        "remaining_time": 9.781862111,
                        "test": [
                          0.06784878605
                        ]
                      },
                      {
                        "learn": [
                          0.04362396268
                        ],
                        "iteration": 110,
                        "passed_time": 1.221146732,
                        "remaining_time": 9.78017518,
                        "test": [
                          0.06784999705
                        ]
                      },
                      {
                        "learn": [
                          0.04346356214
                        ],
                        "iteration": 111,
                        "passed_time": 1.242903218,
                        "remaining_time": 9.854446944,
                        "test": [
                          0.06771716021
                        ]
                      },
                      {
                        "learn": [
                          0.04321019604
                        ],
                        "iteration": 112,
                        "passed_time": 1.248831963,
                        "remaining_time": 9.802778325,
                        "test": [
                          0.06756830642
                        ]
                      },
                      {
                        "learn": [
                          0.04313453508
                        ],
                        "iteration": 113,
                        "passed_time": 1.256430329,
                        "remaining_time": 9.764888346,
                        "test": [
                          0.06756271732
                        ]
                      },
                      {
                        "learn": [
                          0.0429930056
                        ],
                        "iteration": 114,
                        "passed_time": 1.288310899,
                        "remaining_time": 9.914392569,
                        "test": [
                          0.06754580221
                        ]
                      },
                      {
                        "learn": [
                          0.04295507658
                        ],
                        "iteration": 115,
                        "passed_time": 1.292702223,
                        "remaining_time": 9.851282456,
                        "test": [
                          0.06755397784
                        ]
                      },
                      {
                        "learn": [
                          0.04278698148
                        ],
                        "iteration": 116,
                        "passed_time": 1.296470508,
                        "remaining_time": 9.784474003,
                        "test": [
                          0.06760803288
                        ]
                      },
                      {
                        "learn": [
                          0.04264905654
                        ],
                        "iteration": 117,
                        "passed_time": 1.303379054,
                        "remaining_time": 9.742206151,
                        "test": [
                          0.06754920294
                        ]
                      },
                      {
                        "learn": [
                          0.04232190273
                        ],
                        "iteration": 118,
                        "passed_time": 1.307830915,
                        "remaining_time": 9.682344841,
                        "test": [
                          0.06728325354
                        ]
                      },
                      {
                        "learn": [
                          0.04196014366
                        ],
                        "iteration": 119,
                        "passed_time": 1.313371145,
                        "remaining_time": 9.631388399,
                        "test": [
                          0.06703749631
                        ]
                      },
                      {
                        "learn": [
                          0.04191312651
                        ],
                        "iteration": 120,
                        "passed_time": 1.317709465,
                        "remaining_time": 9.572451403,
                        "test": [
                          0.06702297305
                        ]
                      },
                      {
                        "learn": [
                          0.04186487386
                        ],
                        "iteration": 121,
                        "passed_time": 1.326493079,
                        "remaining_time": 9.546401008,
                        "test": [
                          0.06703187389
                        ]
                      },
                      {
                        "learn": [
                          0.04155708731
                        ],
                        "iteration": 122,
                        "passed_time": 1.348849458,
                        "remaining_time": 9.617406296,
                        "test": [
                          0.06700702592
                        ]
                      },
                      {
                        "learn": [
                          0.04139395156
                        ],
                        "iteration": 123,
                        "passed_time": 1.36522883,
                        "remaining_time": 9.644681087,
                        "test": [
                          0.06693010853
                        ]
                      },
                      {
                        "learn": [
                          0.04134883602
                        ],
                        "iteration": 124,
                        "passed_time": 1.374101284,
                        "remaining_time": 9.618708986,
                        "test": [
                          0.06691617102
                        ]
                      },
                      {
                        "learn": [
                          0.04130610793
                        ],
                        "iteration": 125,
                        "passed_time": 1.379359787,
                        "remaining_time": 9.56794011,
                        "test": [
                          0.06690363925
                        ]
                      },
                      {
                        "learn": [
                          0.04088923005
                        ],
                        "iteration": 126,
                        "passed_time": 1.389530835,
                        "remaining_time": 9.551656839,
                        "test": [
                          0.0668672537
                        ]
                      },
                      {
                        "learn": [
                          0.04049290926
                        ],
                        "iteration": 127,
                        "passed_time": 1.398755995,
                        "remaining_time": 9.529025213,
                        "test": [
                          0.06673355279
                        ]
                      },
                      {
                        "learn": [
                          0.04035407743
                        ],
                        "iteration": 128,
                        "passed_time": 1.411028472,
                        "remaining_time": 9.527176738,
                        "test": [
                          0.06672911141
                        ]
                      },
                      {
                        "learn": [
                          0.04030512409
                        ],
                        "iteration": 129,
                        "passed_time": 1.42195844,
                        "remaining_time": 9.516183409,
                        "test": [
                          0.06673659532
                        ]
                      },
                      {
                        "learn": [
                          0.04027650079
                        ],
                        "iteration": 130,
                        "passed_time": 1.429123152,
                        "remaining_time": 9.480213885,
                        "test": [
                          0.06673593902
                        ]
                      },
                      {
                        "learn": [
                          0.04023325361
                        ],
                        "iteration": 131,
                        "passed_time": 1.445789391,
                        "remaining_time": 9.507160544,
                        "test": [
                          0.06674365005
                        ]
                      },
                      {
                        "learn": [
                          0.04007824761
                        ],
                        "iteration": 132,
                        "passed_time": 1.456624854,
                        "remaining_time": 9.495441718,
                        "test": [
                          0.06673121538
                        ]
                      },
                      {
                        "learn": [
                          0.03976102843
                        ],
                        "iteration": 133,
                        "passed_time": 1.467906337,
                        "remaining_time": 9.486618563,
                        "test": [
                          0.06668260458
                        ]
                      },
                      {
                        "learn": [
                          0.03947317648
                        ],
                        "iteration": 134,
                        "passed_time": 1.486658683,
                        "remaining_time": 9.52562786,
                        "test": [
                          0.06657798886
                        ]
                      },
                      {
                        "learn": [
                          0.03928263925
                        ],
                        "iteration": 135,
                        "passed_time": 1.499146081,
                        "remaining_time": 9.523986867,
                        "test": [
                          0.06657501619
                        ]
                      },
                      {
                        "learn": [
                          0.03921854128
                        ],
                        "iteration": 136,
                        "passed_time": 1.515962508,
                        "remaining_time": 9.549457256,
                        "test": [
                          0.06656638582
                        ]
                      },
                      {
                        "learn": [
                          0.0390514647
                        ],
                        "iteration": 137,
                        "passed_time": 1.527799698,
                        "remaining_time": 9.543212609,
                        "test": [
                          0.06654317837
                        ]
                      },
                      {
                        "learn": [
                          0.0390043411
                        ],
                        "iteration": 138,
                        "passed_time": 1.535947392,
                        "remaining_time": 9.514033844,
                        "test": [
                          0.0665402555
                        ]
                      },
                      {
                        "learn": [
                          0.03881675653
                        ],
                        "iteration": 139,
                        "passed_time": 1.545372476,
                        "remaining_time": 9.493002353,
                        "test": [
                          0.06644079164
                        ]
                      },
                      {
                        "learn": [
                          0.03871667415
                        ],
                        "iteration": 140,
                        "passed_time": 1.566744436,
                        "remaining_time": 9.544918231,
                        "test": [
                          0.06643688095
                        ]
                      },
                      {
                        "learn": [
                          0.03858227218
                        ],
                        "iteration": 141,
                        "passed_time": 1.587269059,
                        "remaining_time": 9.590682063,
                        "test": [
                          0.06638858658
                        ]
                      },
                      {
                        "learn": [
                          0.03856084025
                        ],
                        "iteration": 142,
                        "passed_time": 1.601005438,
                        "remaining_time": 9.594836784,
                        "test": [
                          0.06638669759
                        ]
                      },
                      {
                        "learn": [
                          0.03852541986
                        ],
                        "iteration": 143,
                        "passed_time": 1.60490964,
                        "remaining_time": 9.540296191,
                        "test": [
                          0.06639254861
                        ]
                      },
                      {
                        "learn": [
                          0.03838903118
                        ],
                        "iteration": 144,
                        "passed_time": 1.612182659,
                        "remaining_time": 9.506318435,
                        "test": [
                          0.06635570597
                        ]
                      },
                      {
                        "learn": [
                          0.0382968893
                        ],
                        "iteration": 145,
                        "passed_time": 1.617482934,
                        "remaining_time": 9.4611673,
                        "test": [
                          0.06628154761
                        ]
                      },
                      {
                        "learn": [
                          0.0381435714
                        ],
                        "iteration": 146,
                        "passed_time": 1.627446373,
                        "remaining_time": 9.44361739,
                        "test": [
                          0.06621876553
                        ]
                      },
                      {
                        "learn": [
                          0.0381032054
                        ],
                        "iteration": 147,
                        "passed_time": 1.63734538,
                        "remaining_time": 9.425799082,
                        "test": [
                          0.06621162851
                        ]
                      },
                      {
                        "learn": [
                          0.03774855967
                        ],
                        "iteration": 148,
                        "passed_time": 1.64324338,
                        "remaining_time": 9.385235681,
                        "test": [
                          0.06607360507
                        ]
                      },
                      {
                        "learn": [
                          0.03757835004
                        ],
                        "iteration": 149,
                        "passed_time": 1.656551309,
                        "remaining_time": 9.387124087,
                        "test": [
                          0.06605858967
                        ]
                      },
                      {
                        "learn": [
                          0.03746860433
                        ],
                        "iteration": 150,
                        "passed_time": 1.668448234,
                        "remaining_time": 9.38087782,
                        "test": [
                          0.06609258302
                        ]
                      },
                      {
                        "learn": [
                          0.03734392263
                        ],
                        "iteration": 151,
                        "passed_time": 1.679267927,
                        "remaining_time": 9.368547381,
                        "test": [
                          0.06605029228
                        ]
                      },
                      {
                        "learn": [
                          0.03714838429
                        ],
                        "iteration": 152,
                        "passed_time": 1.69106032,
                        "remaining_time": 9.36162151,
                        "test": [
                          0.06602729545
                        ]
                      },
                      {
                        "learn": [
                          0.03701595706
                        ],
                        "iteration": 153,
                        "passed_time": 1.702272592,
                        "remaining_time": 9.351445537,
                        "test": [
                          0.06600488201
                        ]
                      },
                      {
                        "learn": [
                          0.03698470236
                        ],
                        "iteration": 154,
                        "passed_time": 1.71353951,
                        "remaining_time": 9.341554106,
                        "test": [
                          0.0660086417
                        ]
                      },
                      {
                        "learn": [
                          0.03692791474
                        ],
                        "iteration": 155,
                        "passed_time": 1.723806007,
                        "remaining_time": 9.326232501,
                        "test": [
                          0.0659896032
                        ]
                      },
                      {
                        "learn": [
                          0.03692441554
                        ],
                        "iteration": 156,
                        "passed_time": 1.731418368,
                        "remaining_time": 9.296724101,
                        "test": [
                          0.06600179275
                        ]
                      },
                      {
                        "learn": [
                          0.03686704192
                        ],
                        "iteration": 157,
                        "passed_time": 1.73857841,
                        "remaining_time": 9.265082413,
                        "test": [
                          0.06598424401
                        ]
                      },
                      {
                        "learn": [
                          0.03677464661
                        ],
                        "iteration": 158,
                        "passed_time": 1.743638685,
                        "remaining_time": 9.222642354,
                        "test": [
                          0.06598160296
                        ]
                      },
                      {
                        "learn": [
                          0.03674577874
                        ],
                        "iteration": 159,
                        "passed_time": 1.748905168,
                        "remaining_time": 9.181752133,
                        "test": [
                          0.06598572673
                        ]
                      },
                      {
                        "learn": [
                          0.03661890741
                        ],
                        "iteration": 160,
                        "passed_time": 1.754476611,
                        "remaining_time": 9.142893646,
                        "test": [
                          0.06597553619
                        ]
                      },
                      {
                        "learn": [
                          0.03654794895
                        ],
                        "iteration": 161,
                        "passed_time": 1.761268988,
                        "remaining_time": 9.110761802,
                        "test": [
                          0.06600395395
                        ]
                      },
                      {
                        "learn": [
                          0.03634838435
                        ],
                        "iteration": 162,
                        "passed_time": 1.768398902,
                        "remaining_time": 9.080674117,
                        "test": [
                          0.06592399815
                        ]
                      },
                      {
                        "learn": [
                          0.03629143369
                        ],
                        "iteration": 163,
                        "passed_time": 1.773428765,
                        "remaining_time": 9.040161267,
                        "test": [
                          0.0659417208
                        ]
                      },
                      {
                        "learn": [
                          0.03614061019
                        ],
                        "iteration": 164,
                        "passed_time": 1.782187035,
                        "remaining_time": 9.01894651,
                        "test": [
                          0.06590276448
                        ]
                      },
                      {
                        "learn": [
                          0.03591828948
                        ],
                        "iteration": 165,
                        "passed_time": 1.791027065,
                        "remaining_time": 8.998292605,
                        "test": [
                          0.06588659141
                        ]
                      },
                      {
                        "learn": [
                          0.0357528255
                        ],
                        "iteration": 166,
                        "passed_time": 1.805302797,
                        "remaining_time": 9.004893594,
                        "test": [
                          0.06590165225
                        ]
                      },
                      {
                        "learn": [
                          0.03566806159
                        ],
                        "iteration": 167,
                        "passed_time": 1.812177223,
                        "remaining_time": 8.974591961,
                        "test": [
                          0.06591165892
                        ]
                      },
                      {
                        "learn": [
                          0.03566497249
                        ],
                        "iteration": 168,
                        "passed_time": 1.832412094,
                        "remaining_time": 9.010263019,
                        "test": [
                          0.0659233835
                        ]
                      },
                      {
                        "learn": [
                          0.03559185548
                        ],
                        "iteration": 169,
                        "passed_time": 1.847457221,
                        "remaining_time": 9.019938196,
                        "test": [
                          0.06590182327
                        ]
                      },
                      {
                        "learn": [
                          0.03550611129
                        ],
                        "iteration": 170,
                        "passed_time": 1.866958745,
                        "remaining_time": 9.050928654,
                        "test": [
                          0.06588236746
                        ]
                      },
                      {
                        "learn": [
                          0.0354546759
                        ],
                        "iteration": 171,
                        "passed_time": 1.89000846,
                        "remaining_time": 9.098412817,
                        "test": [
                          0.06585224271
                        ]
                      },
                      {
                        "learn": [
                          0.03530801531
                        ],
                        "iteration": 172,
                        "passed_time": 1.906934329,
                        "remaining_time": 9.115807459,
                        "test": [
                          0.06576911012
                        ]
                      },
                      {
                        "learn": [
                          0.03514792173
                        ],
                        "iteration": 173,
                        "passed_time": 1.920559059,
                        "remaining_time": 9.117136684,
                        "test": [
                          0.0657664521
                        ]
                      },
                      {
                        "learn": [
                          0.03483126485
                        ],
                        "iteration": 174,
                        "passed_time": 1.925848066,
                        "remaining_time": 9.078998023,
                        "test": [
                          0.06570191563
                        ]
                      },
                      {
                        "learn": [
                          0.03480917882
                        ],
                        "iteration": 175,
                        "passed_time": 1.940893892,
                        "remaining_time": 9.086912314,
                        "test": [
                          0.06570386671
                        ]
                      },
                      {
                        "learn": [
                          0.03480618369
                        ],
                        "iteration": 176,
                        "passed_time": 1.949141358,
                        "remaining_time": 9.062956711,
                        "test": [
                          0.06571488498
                        ]
                      },
                      {
                        "learn": [
                          0.03457592529
                        ],
                        "iteration": 177,
                        "passed_time": 1.953661716,
                        "remaining_time": 9.021965902,
                        "test": [
                          0.06570811207
                        ]
                      },
                      {
                        "learn": [
                          0.03449989926
                        ],
                        "iteration": 178,
                        "passed_time": 1.959362478,
                        "remaining_time": 8.986796615,
                        "test": [
                          0.06566056849
                        ]
                      },
                      {
                        "learn": [
                          0.0343704961
                        ],
                        "iteration": 179,
                        "passed_time": 1.965191562,
                        "remaining_time": 8.952539338,
                        "test": [
                          0.06561484979
                        ]
                      },
                      {
                        "learn": [
                          0.03434286615
                        ],
                        "iteration": 180,
                        "passed_time": 1.969435052,
                        "remaining_time": 8.911421591,
                        "test": [
                          0.06561003634
                        ]
                      },
                      {
                        "learn": [
                          0.03427130991
                        ],
                        "iteration": 181,
                        "passed_time": 1.973238781,
                        "remaining_time": 8.868732543,
                        "test": [
                          0.06560080371
                        ]
                      },
                      {
                        "learn": [
                          0.03411580811
                        ],
                        "iteration": 182,
                        "passed_time": 1.979727571,
                        "remaining_time": 8.838455875,
                        "test": [
                          0.06562458747
                        ]
                      },
                      {
                        "learn": [
                          0.03396560896
                        ],
                        "iteration": 183,
                        "passed_time": 1.985587293,
                        "remaining_time": 8.805647996,
                        "test": [
                          0.06556854621
                        ]
                      },
                      {
                        "learn": [
                          0.03370061141
                        ],
                        "iteration": 184,
                        "passed_time": 1.996502191,
                        "remaining_time": 8.795401542,
                        "test": [
                          0.0655811163
                        ]
                      },
                      {
                        "learn": [
                          0.03355172076
                        ],
                        "iteration": 185,
                        "passed_time": 2.011129765,
                        "remaining_time": 8.801395853,
                        "test": [
                          0.0655869688
                        ]
                      },
                      {
                        "learn": [
                          0.03347415768
                        ],
                        "iteration": 186,
                        "passed_time": 2.033055913,
                        "remaining_time": 8.838900843,
                        "test": [
                          0.0655416486
                        ]
                      },
                      {
                        "learn": [
                          0.03346760387
                        ],
                        "iteration": 187,
                        "passed_time": 2.049132807,
                        "remaining_time": 8.850509782,
                        "test": [
                          0.06554187365
                        ]
                      },
                      {
                        "learn": [
                          0.03342971006
                        ],
                        "iteration": 188,
                        "passed_time": 2.053157623,
                        "remaining_time": 8.810110223,
                        "test": [
                          0.0655409083
                        ]
                      },
                      {
                        "learn": [
                          0.03337737069
                        ],
                        "iteration": 189,
                        "passed_time": 2.056972334,
                        "remaining_time": 8.769197846,
                        "test": [
                          0.06552750523
                        ]
                      },
                      {
                        "learn": [
                          0.03331278037
                        ],
                        "iteration": 190,
                        "passed_time": 2.064023081,
                        "remaining_time": 8.742380485,
                        "test": [
                          0.06551805657
                        ]
                      },
                      {
                        "learn": [
                          0.03328086179
                        ],
                        "iteration": 191,
                        "passed_time": 2.071534165,
                        "remaining_time": 8.717706278,
                        "test": [
                          0.06552477591
                        ]
                      },
                      {
                        "learn": [
                          0.03317779337
                        ],
                        "iteration": 192,
                        "passed_time": 2.080120845,
                        "remaining_time": 8.697707367,
                        "test": [
                          0.06553062973
                        ]
                      },
                      {
                        "learn": [
                          0.03310455848
                        ],
                        "iteration": 193,
                        "passed_time": 2.091009082,
                        "remaining_time": 8.687388247,
                        "test": [
                          0.06552549778
                        ]
                      },
                      {
                        "learn": [
                          0.03302420006
                        ],
                        "iteration": 194,
                        "passed_time": 2.101207503,
                        "remaining_time": 8.674215591,
                        "test": [
                          0.06544515333
                        ]
                      },
                      {
                        "learn": [
                          0.03295492462
                        ],
                        "iteration": 195,
                        "passed_time": 2.111688869,
                        "remaining_time": 8.662233933,
                        "test": [
                          0.06544714778
                        ]
                      },
                      {
                        "learn": [
                          0.03286417508
                        ],
                        "iteration": 196,
                        "passed_time": 2.123317914,
                        "remaining_time": 8.65494561,
                        "test": [
                          0.06540100422
                        ]
                      },
                      {
                        "learn": [
                          0.03268142138
                        ],
                        "iteration": 197,
                        "passed_time": 2.134345284,
                        "remaining_time": 8.645176354,
                        "test": [
                          0.06537162583
                        ]
                      },
                      {
                        "learn": [
                          0.03250800718
                        ],
                        "iteration": 198,
                        "passed_time": 2.143471486,
                        "remaining_time": 8.627742013,
                        "test": [
                          0.06537467249
                        ]
                      },
                      {
                        "learn": [
                          0.03248306757
                        ],
                        "iteration": 199,
                        "passed_time": 2.151292739,
                        "remaining_time": 8.605170954,
                        "test": [
                          0.06538192109
                        ]
                      },
                      {
                        "learn": [
                          0.0324260659
                        ],
                        "iteration": 200,
                        "passed_time": 2.173074852,
                        "remaining_time": 8.63824282,
                        "test": [
                          0.06537545989
                        ]
                      },
                      {
                        "learn": [
                          0.03221557341
                        ],
                        "iteration": 201,
                        "passed_time": 2.179827815,
                        "remaining_time": 8.61139899,
                        "test": [
                          0.06536311353
                        ]
                      },
                      {
                        "learn": [
                          0.0320655834
                        ],
                        "iteration": 202,
                        "passed_time": 2.217539295,
                        "remaining_time": 8.706299597,
                        "test": [
                          0.06536805459
                        ]
                      },
                      {
                        "learn": [
                          0.03195529949
                        ],
                        "iteration": 203,
                        "passed_time": 2.23283971,
                        "remaining_time": 8.712452987,
                        "test": [
                          0.06531536594
                        ]
                      },
                      {
                        "learn": [
                          0.03185035853
                        ],
                        "iteration": 204,
                        "passed_time": 2.244018281,
                        "remaining_time": 8.702412359,
                        "test": [
                          0.06531239272
                        ]
                      },
                      {
                        "learn": [
                          0.03173531933
                        ],
                        "iteration": 205,
                        "passed_time": 2.253797344,
                        "remaining_time": 8.686966462,
                        "test": [
                          0.0652894318
                        ]
                      },
                      {
                        "learn": [
                          0.03151366937
                        ],
                        "iteration": 206,
                        "passed_time": 2.264674997,
                        "remaining_time": 8.675783926,
                        "test": [
                          0.06523342522
                        ]
                      },
                      {
                        "learn": [
                          0.03149571929
                        ],
                        "iteration": 207,
                        "passed_time": 2.269603523,
                        "remaining_time": 8.641951877,
                        "test": [
                          0.06524683522
                        ]
                      },
                      {
                        "learn": [
                          0.0313534264
                        ],
                        "iteration": 208,
                        "passed_time": 2.275655594,
                        "remaining_time": 8.612648682,
                        "test": [
                          0.06516459155
                        ]
                      },
                      {
                        "learn": [
                          0.03111397555
                        ],
                        "iteration": 209,
                        "passed_time": 2.282128956,
                        "remaining_time": 8.585151787,
                        "test": [
                          0.06514784698
                        ]
                      },
                      {
                        "learn": [
                          0.03108525442
                        ],
                        "iteration": 210,
                        "passed_time": 2.285795996,
                        "remaining_time": 8.547360381,
                        "test": [
                          0.06514716477
                        ]
                      },
                      {
                        "learn": [
                          0.0310647908
                        ],
                        "iteration": 211,
                        "passed_time": 2.292026765,
                        "remaining_time": 8.51942024,
                        "test": [
                          0.06514496894
                        ]
                      },
                      {
                        "learn": [
                          0.03099708319
                        ],
                        "iteration": 212,
                        "passed_time": 2.297830913,
                        "remaining_time": 8.490107644,
                        "test": [
                          0.06518757269
                        ]
                      },
                      {
                        "learn": [
                          0.03080663085
                        ],
                        "iteration": 213,
                        "passed_time": 2.304698255,
                        "remaining_time": 8.464919759,
                        "test": [
                          0.06513711057
                        ]
                      },
                      {
                        "learn": [
                          0.03076510555
                        ],
                        "iteration": 214,
                        "passed_time": 2.309837873,
                        "remaining_time": 8.433594095,
                        "test": [
                          0.06510320666
                        ]
                      },
                      {
                        "learn": [
                          0.03062923196
                        ],
                        "iteration": 215,
                        "passed_time": 2.316658903,
                        "remaining_time": 8.408613795,
                        "test": [
                          0.06507843297
                        ]
                      },
                      {
                        "learn": [
                          0.03045367476
                        ],
                        "iteration": 216,
                        "passed_time": 2.321588829,
                        "remaining_time": 8.376977202,
                        "test": [
                          0.06502699743
                        ]
                      },
                      {
                        "learn": [
                          0.03029624694
                        ],
                        "iteration": 217,
                        "passed_time": 2.328479122,
                        "remaining_time": 8.35261777,
                        "test": [
                          0.06492709438
                        ]
                      },
                      {
                        "learn": [
                          0.03017789101
                        ],
                        "iteration": 218,
                        "passed_time": 2.333776395,
                        "remaining_time": 8.322736823,
                        "test": [
                          0.0649484314
                        ]
                      },
                      {
                        "learn": [
                          0.0301233931
                        ],
                        "iteration": 219,
                        "passed_time": 2.340171336,
                        "remaining_time": 8.2969711,
                        "test": [
                          0.06496809475
                        ]
                      },
                      {
                        "learn": [
                          0.02998501226
                        ],
                        "iteration": 220,
                        "passed_time": 2.347195275,
                        "remaining_time": 8.273597825,
                        "test": [
                          0.06492918397
                        ]
                      },
                      {
                        "learn": [
                          0.02986612517
                        ],
                        "iteration": 221,
                        "passed_time": 2.361946465,
                        "remaining_time": 8.277452027,
                        "test": [
                          0.06493083444
                        ]
                      },
                      {
                        "learn": [
                          0.02986032586
                        ],
                        "iteration": 222,
                        "passed_time": 2.368742693,
                        "remaining_time": 8.253421848,
                        "test": [
                          0.06493619469
                        ]
                      },
                      {
                        "learn": [
                          0.0298057347
                        ],
                        "iteration": 223,
                        "passed_time": 2.373890505,
                        "remaining_time": 8.223834963,
                        "test": [
                          0.06491845741
                        ]
                      },
                      {
                        "learn": [
                          0.02971827772
                        ],
                        "iteration": 224,
                        "passed_time": 2.38155957,
                        "remaining_time": 8.20314963,
                        "test": [
                          0.06491322347
                        ]
                      },
                      {
                        "learn": [
                          0.02970310954
                        ],
                        "iteration": 225,
                        "passed_time": 2.385783099,
                        "remaining_time": 8.170779285,
                        "test": [
                          0.06491792786
                        ]
                      },
                      {
                        "learn": [
                          0.02964870791
                        ],
                        "iteration": 226,
                        "passed_time": 2.395500922,
                        "remaining_time": 8.157366577,
                        "test": [
                          0.06493218077
                        ]
                      },
                      {
                        "learn": [
                          0.02953639271
                        ],
                        "iteration": 227,
                        "passed_time": 2.401063672,
                        "remaining_time": 8.129917344,
                        "test": [
                          0.06495187818
                        ]
                      },
                      {
                        "learn": [
                          0.02950037116
                        ],
                        "iteration": 228,
                        "passed_time": 2.410743183,
                        "remaining_time": 8.116519624,
                        "test": [
                          0.064951192
                        ]
                      },
                      {
                        "learn": [
                          0.02948820622
                        ],
                        "iteration": 229,
                        "passed_time": 2.430832709,
                        "remaining_time": 8.138005157,
                        "test": [
                          0.06495260589
                        ]
                      },
                      {
                        "learn": [
                          0.02939284538
                        ],
                        "iteration": 230,
                        "passed_time": 2.442089448,
                        "remaining_time": 8.129726346,
                        "test": [
                          0.06490139313
                        ]
                      },
                      {
                        "learn": [
                          0.02936537443
                        ],
                        "iteration": 231,
                        "passed_time": 2.454264525,
                        "remaining_time": 8.124461876,
                        "test": [
                          0.06491757152
                        ]
                      },
                      {
                        "learn": [
                          0.02927579454
                        ],
                        "iteration": 232,
                        "passed_time": 2.469944763,
                        "remaining_time": 8.130676537,
                        "test": [
                          0.06492984651
                        ]
                      },
                      {
                        "learn": [
                          0.0291890723
                        ],
                        "iteration": 233,
                        "passed_time": 2.479872979,
                        "remaining_time": 8.117874796,
                        "test": [
                          0.06492565556
                        ]
                      },
                      {
                        "learn": [
                          0.02905752958
                        ],
                        "iteration": 234,
                        "passed_time": 2.491827099,
                        "remaining_time": 8.111692472,
                        "test": [
                          0.06486657698
                        ]
                      },
                      {
                        "learn": [
                          0.02892147512
                        ],
                        "iteration": 235,
                        "passed_time": 2.509854778,
                        "remaining_time": 8.125123095,
                        "test": [
                          0.06490476099
                        ]
                      },
                      {
                        "learn": [
                          0.02887397327
                        ],
                        "iteration": 236,
                        "passed_time": 2.532408117,
                        "remaining_time": 8.1528582,
                        "test": [
                          0.06489024949
                        ]
                      },
                      {
                        "learn": [
                          0.02881801873
                        ],
                        "iteration": 237,
                        "passed_time": 2.551398649,
                        "remaining_time": 8.168763742,
                        "test": [
                          0.06491280318
                        ]
                      },
                      {
                        "learn": [
                          0.02876834383
                        ],
                        "iteration": 238,
                        "passed_time": 2.562593353,
                        "remaining_time": 8.159554566,
                        "test": [
                          0.06491880177
                        ]
                      },
                      {
                        "learn": [
                          0.0287322423
                        ],
                        "iteration": 239,
                        "passed_time": 2.59192523,
                        "remaining_time": 8.207763228,
                        "test": [
                          0.06492438978
                        ]
                      },
                      {
                        "learn": [
                          0.02861564982
                        ],
                        "iteration": 240,
                        "passed_time": 2.601268039,
                        "remaining_time": 8.192375276,
                        "test": [
                          0.06490303413
                        ]
                      },
                      {
                        "learn": [
                          0.02846718821
                        ],
                        "iteration": 241,
                        "passed_time": 2.611717318,
                        "remaining_time": 8.180503005,
                        "test": [
                          0.06483978518
                        ]
                      },
                      {
                        "learn": [
                          0.02834580991
                        ],
                        "iteration": 242,
                        "passed_time": 2.635226049,
                        "remaining_time": 8.209325593,
                        "test": [
                          0.06483699861
                        ]
                      },
                      {
                        "learn": [
                          0.02832137179
                        ],
                        "iteration": 243,
                        "passed_time": 2.641452642,
                        "remaining_time": 8.184172941,
                        "test": [
                          0.06483523516
                        ]
                      },
                      {
                        "learn": [
                          0.0282235187
                        ],
                        "iteration": 244,
                        "passed_time": 2.664775365,
                        "remaining_time": 8.211858778,
                        "test": [
                          0.06482567675
                        ]
                      },
                      {
                        "learn": [
                          0.02818995613
                        ],
                        "iteration": 245,
                        "passed_time": 2.676159761,
                        "remaining_time": 8.202538454,
                        "test": [
                          0.0648229446
                        ]
                      },
                      {
                        "learn": [
                          0.028146462
                        ],
                        "iteration": 246,
                        "passed_time": 2.688727275,
                        "remaining_time": 8.196808251,
                        "test": [
                          0.06483041123
                        ]
                      },
                      {
                        "learn": [
                          0.02797683529
                        ],
                        "iteration": 247,
                        "passed_time": 2.700891844,
                        "remaining_time": 8.189801075,
                        "test": [
                          0.06481835991
                        ]
                      },
                      {
                        "learn": [
                          0.02796321843
                        ],
                        "iteration": 248,
                        "passed_time": 2.73305377,
                        "remaining_time": 8.243065788,
                        "test": [
                          0.06480759534
                        ]
                      },
                      {
                        "learn": [
                          0.02785906823
                        ],
                        "iteration": 249,
                        "passed_time": 2.754288402,
                        "remaining_time": 8.262865206,
                        "test": [
                          0.06480603224
                        ]
                      },
                      {
                        "learn": [
                          0.02775985315
                        ],
                        "iteration": 250,
                        "passed_time": 2.820642027,
                        "remaining_time": 8.416975611,
                        "test": [
                          0.06482478796
                        ]
                      },
                      {
                        "learn": [
                          0.02765716607
                        ],
                        "iteration": 251,
                        "passed_time": 2.832294124,
                        "remaining_time": 8.406968272,
                        "test": [
                          0.06481312595
                        ]
                      },
                      {
                        "learn": [
                          0.02763827701
                        ],
                        "iteration": 252,
                        "passed_time": 2.843922703,
                        "remaining_time": 8.396878495,
                        "test": [
                          0.0648234329
                        ]
                      },
                      {
                        "learn": [
                          0.02753315179
                        ],
                        "iteration": 253,
                        "passed_time": 2.858542986,
                        "remaining_time": 8.395563259,
                        "test": [
                          0.06480681692
                        ]
                      },
                      {
                        "learn": [
                          0.02740432652
                        ],
                        "iteration": 254,
                        "passed_time": 2.879657922,
                        "remaining_time": 8.413118243,
                        "test": [
                          0.06482814161
                        ]
                      },
                      {
                        "learn": [
                          0.02732114731
                        ],
                        "iteration": 255,
                        "passed_time": 2.905309357,
                        "remaining_time": 8.443555319,
                        "test": [
                          0.06482199649
                        ]
                      },
                      {
                        "learn": [
                          0.02730741474
                        ],
                        "iteration": 256,
                        "passed_time": 2.924418156,
                        "remaining_time": 8.454640817,
                        "test": [
                          0.06484081888
                        ]
                      },
                      {
                        "learn": [
                          0.02717529839
                        ],
                        "iteration": 257,
                        "passed_time": 2.934110954,
                        "remaining_time": 8.438412122,
                        "test": [
                          0.06484067409
                        ]
                      },
                      {
                        "learn": [
                          0.02705218268
                        ],
                        "iteration": 258,
                        "passed_time": 2.942424567,
                        "remaining_time": 8.418288046,
                        "test": [
                          0.06481499189
                        ]
                      },
                      {
                        "learn": [
                          0.02679298977
                        ],
                        "iteration": 259,
                        "passed_time": 2.959153063,
                        "remaining_time": 8.422204872,
                        "test": [
                          0.06462487601
                        ]
                      },
                      {
                        "learn": [
                          0.02666822792
                        ],
                        "iteration": 260,
                        "passed_time": 2.968408699,
                        "remaining_time": 8.404804706,
                        "test": [
                          0.064591239
                        ]
                      },
                      {
                        "learn": [
                          0.02654115072
                        ],
                        "iteration": 261,
                        "passed_time": 2.974813358,
                        "remaining_time": 8.379436099,
                        "test": [
                          0.06458915143
                        ]
                      },
                      {
                        "learn": [
                          0.02647468074
                        ],
                        "iteration": 262,
                        "passed_time": 2.987852232,
                        "remaining_time": 8.372802642,
                        "test": [
                          0.06457340347
                        ]
                      },
                      {
                        "learn": [
                          0.0262719161
                        ],
                        "iteration": 263,
                        "passed_time": 3.001527363,
                        "remaining_time": 8.367894468,
                        "test": [
                          0.06449349611
                        ]
                      },
                      {
                        "learn": [
                          0.02620637097
                        ],
                        "iteration": 264,
                        "passed_time": 3.013875614,
                        "remaining_time": 8.359239911,
                        "test": [
                          0.06448842219
                        ]
                      },
                      {
                        "learn": [
                          0.02611761326
                        ],
                        "iteration": 265,
                        "passed_time": 3.026480276,
                        "remaining_time": 8.351265123,
                        "test": [
                          0.06447456026
                        ]
                      },
                      {
                        "learn": [
                          0.0261062871
                        ],
                        "iteration": 266,
                        "passed_time": 3.03079578,
                        "remaining_time": 8.320499275,
                        "test": [
                          0.06447476935
                        ]
                      },
                      {
                        "learn": [
                          0.02604192086
                        ],
                        "iteration": 267,
                        "passed_time": 3.043646345,
                        "remaining_time": 8.313243003,
                        "test": [
                          0.06447460504
                        ]
                      },
                      {
                        "learn": [
                          0.02603087764
                        ],
                        "iteration": 268,
                        "passed_time": 3.049752993,
                        "remaining_time": 8.287618729,
                        "test": [
                          0.06447540171
                        ]
                      },
                      {
                        "learn": [
                          0.02600277777
                        ],
                        "iteration": 269,
                        "passed_time": 3.071781504,
                        "remaining_time": 8.30518703,
                        "test": [
                          0.06448886686
                        ]
                      },
                      {
                        "learn": [
                          0.02595217981
                        ],
                        "iteration": 270,
                        "passed_time": 3.087284329,
                        "remaining_time": 8.304908768,
                        "test": [
                          0.06447031744
                        ]
                      },
                      {
                        "learn": [
                          0.02583691077
                        ],
                        "iteration": 271,
                        "passed_time": 3.098590612,
                        "remaining_time": 8.293286639,
                        "test": [
                          0.06442455831
                        ]
                      },
                      {
                        "learn": [
                          0.02580725631
                        ],
                        "iteration": 272,
                        "passed_time": 3.102319498,
                        "remaining_time": 8.261488186,
                        "test": [
                          0.06442216434
                        ]
                      },
                      {
                        "learn": [
                          0.02567684626
                        ],
                        "iteration": 273,
                        "passed_time": 3.108256907,
                        "remaining_time": 8.235746403,
                        "test": [
                          0.064403792
                        ]
                      },
                      {
                        "learn": [
                          0.02557549434
                        ],
                        "iteration": 274,
                        "passed_time": 3.113340813,
                        "remaining_time": 8.207898506,
                        "test": [
                          0.06440699698
                        ]
                      },
                      {
                        "learn": [
                          0.02547158169
                        ],
                        "iteration": 275,
                        "passed_time": 3.119863609,
                        "remaining_time": 8.183990046,
                        "test": [
                          0.06440809236
                        ]
                      },
                      {
                        "learn": [
                          0.02530907038
                        ],
                        "iteration": 276,
                        "passed_time": 3.126860308,
                        "remaining_time": 8.161444054,
                        "test": [
                          0.06436716123
                        ]
                      },
                      {
                        "learn": [
                          0.0252260864
                        ],
                        "iteration": 277,
                        "passed_time": 3.133404497,
                        "remaining_time": 8.1378347,
                        "test": [
                          0.06433479513
                        ]
                      },
                      {
                        "learn": [
                          0.02521481079
                        ],
                        "iteration": 278,
                        "passed_time": 3.137449736,
                        "remaining_time": 8.107889821,
                        "test": [
                          0.06433592608
                        ]
                      },
                      {
                        "learn": [
                          0.02515493122
                        ],
                        "iteration": 279,
                        "passed_time": 3.170014783,
                        "remaining_time": 8.151466584,
                        "test": [
                          0.06433754279
                        ]
                      },
                      {
                        "learn": [
                          0.02513923504
                        ],
                        "iteration": 280,
                        "passed_time": 3.182536368,
                        "remaining_time": 8.14321583,
                        "test": [
                          0.06432004051
                        ]
                      },
                      {
                        "learn": [
                          0.02512831001
                        ],
                        "iteration": 281,
                        "passed_time": 3.186541523,
                        "remaining_time": 8.113251112,
                        "test": [
                          0.06432176834
                        ]
                      },
                      {
                        "learn": [
                          0.02509733024
                        ],
                        "iteration": 282,
                        "passed_time": 3.190746982,
                        "remaining_time": 8.083977336,
                        "test": [
                          0.06432997406
                        ]
                      },
                      {
                        "learn": [
                          0.0250657614
                        ],
                        "iteration": 283,
                        "passed_time": 3.202091807,
                        "remaining_time": 8.072879345,
                        "test": [
                          0.06435029634
                        ]
                      },
                      {
                        "learn": [
                          0.02500438738
                        ],
                        "iteration": 284,
                        "passed_time": 3.210626037,
                        "remaining_time": 8.054728479,
                        "test": [
                          0.06432262205
                        ]
                      },
                      {
                        "learn": [
                          0.02497472734
                        ],
                        "iteration": 285,
                        "passed_time": 3.223712057,
                        "remaining_time": 8.048008422,
                        "test": [
                          0.06435680791
                        ]
                      },
                      {
                        "learn": [
                          0.02494240785
                        ],
                        "iteration": 286,
                        "passed_time": 3.233163343,
                        "remaining_time": 8.032214158,
                        "test": [
                          0.06434947259
                        ]
                      },
                      {
                        "learn": [
                          0.02477543898
                        ],
                        "iteration": 287,
                        "passed_time": 3.238374807,
                        "remaining_time": 8.005982161,
                        "test": [
                          0.06434185035
                        ]
                      },
                      {
                        "learn": [
                          0.02469965884
                        ],
                        "iteration": 288,
                        "passed_time": 3.244896118,
                        "remaining_time": 7.983118132,
                        "test": [
                          0.06432937033
                        ]
                      },
                      {
                        "learn": [
                          0.02468972634
                        ],
                        "iteration": 289,
                        "passed_time": 3.247849929,
                        "remaining_time": 7.951632585,
                        "test": [
                          0.06433143721
                        ]
                      },
                      {
                        "learn": [
                          0.02466701893
                        ],
                        "iteration": 290,
                        "passed_time": 3.259178933,
                        "remaining_time": 7.940748671,
                        "test": [
                          0.06433136856
                        ]
                      },
                      {
                        "learn": [
                          0.02453144335
                        ],
                        "iteration": 291,
                        "passed_time": 3.278300121,
                        "remaining_time": 7.948755088,
                        "test": [
                          0.06431894218
                        ]
                      },
                      {
                        "learn": [
                          0.02448943326
                        ],
                        "iteration": 292,
                        "passed_time": 3.283116838,
                        "remaining_time": 7.922060083,
                        "test": [
                          0.06431448533
                        ]
                      },
                      {
                        "learn": [
                          0.02447450509
                        ],
                        "iteration": 293,
                        "passed_time": 3.28996871,
                        "remaining_time": 7.900401052,
                        "test": [
                          0.06433350586
                        ]
                      },
                      {
                        "learn": [
                          0.02444232575
                        ],
                        "iteration": 294,
                        "passed_time": 3.306937421,
                        "remaining_time": 7.903019939,
                        "test": [
                          0.06434751374
                        ]
                      },
                      {
                        "learn": [
                          0.02440193646
                        ],
                        "iteration": 295,
                        "passed_time": 3.312729196,
                        "remaining_time": 7.878923493,
                        "test": [
                          0.06435542855
                        ]
                      },
                      {
                        "learn": [
                          0.02433637233
                        ],
                        "iteration": 296,
                        "passed_time": 3.320349483,
                        "remaining_time": 7.859278406,
                        "test": [
                          0.06437033029
                        ]
                      },
                      {
                        "learn": [
                          0.02430095657
                        ],
                        "iteration": 297,
                        "passed_time": 3.327596246,
                        "remaining_time": 7.83883411,
                        "test": [
                          0.0643678687
                        ]
                      },
                      {
                        "learn": [
                          0.02424972838
                        ],
                        "iteration": 298,
                        "passed_time": 3.338807485,
                        "remaining_time": 7.827772733,
                        "test": [
                          0.0643701527
                        ]
                      },
                      {
                        "learn": [
                          0.02409264035
                        ],
                        "iteration": 299,
                        "passed_time": 3.356553222,
                        "remaining_time": 7.831957517,
                        "test": [
                          0.0643967883
                        ]
                      },
                      {
                        "learn": [
                          0.02408901778
                        ],
                        "iteration": 300,
                        "passed_time": 3.376160891,
                        "remaining_time": 7.840320474,
                        "test": [
                          0.06439973919
                        ]
                      },
                      {
                        "learn": [
                          0.02398150601
                        ],
                        "iteration": 301,
                        "passed_time": 3.410483983,
                        "remaining_time": 7.882509338,
                        "test": [
                          0.06438724266
                        ]
                      },
                      {
                        "learn": [
                          0.02397412544
                        ],
                        "iteration": 302,
                        "passed_time": 3.423070904,
                        "remaining_time": 7.874192805,
                        "test": [
                          0.06438428209
                        ]
                      },
                      {
                        "learn": [
                          0.02389372764
                        ],
                        "iteration": 303,
                        "passed_time": 3.430840639,
                        "remaining_time": 7.854819358,
                        "test": [
                          0.06439400015
                        ]
                      },
                      {
                        "learn": [
                          0.02377475834
                        ],
                        "iteration": 304,
                        "passed_time": 3.438196593,
                        "remaining_time": 7.834579123,
                        "test": [
                          0.06437119255
                        ]
                      },
                      {
                        "learn": [
                          0.02368162251
                        ],
                        "iteration": 305,
                        "passed_time": 3.4468502,
                        "remaining_time": 7.817366141,
                        "test": [
                          0.06433773178
                        ]
                      },
                      {
                        "learn": [
                          0.02366839362
                        ],
                        "iteration": 306,
                        "passed_time": 3.453613489,
                        "remaining_time": 7.795941849,
                        "test": [
                          0.06433893527
                        ]
                      },
                      {
                        "learn": [
                          0.02361987561
                        ],
                        "iteration": 307,
                        "passed_time": 3.459787678,
                        "remaining_time": 7.7732892,
                        "test": [
                          0.06430837208
                        ]
                      },
                      {
                        "learn": [
                          0.02360895715
                        ],
                        "iteration": 308,
                        "passed_time": 3.479400549,
                        "remaining_time": 7.780795402,
                        "test": [
                          0.06431031021
                        ]
                      },
                      {
                        "learn": [
                          0.02359355443
                        ],
                        "iteration": 309,
                        "passed_time": 3.495506286,
                        "remaining_time": 7.780320442,
                        "test": [
                          0.0643137807
                        ]
                      },
                      {
                        "learn": [
                          0.02353104076
                        ],
                        "iteration": 310,
                        "passed_time": 3.509793625,
                        "remaining_time": 7.775716424,
                        "test": [
                          0.06430475052
                        ]
                      },
                      {
                        "learn": [
                          0.02343089407
                        ],
                        "iteration": 311,
                        "passed_time": 3.534366996,
                        "remaining_time": 7.793732351,
                        "test": [
                          0.06428900855
                        ]
                      },
                      {
                        "learn": [
                          0.02338900076
                        ],
                        "iteration": 312,
                        "passed_time": 3.548507708,
                        "remaining_time": 7.78857762,
                        "test": [
                          0.06429432053
                        ]
                      },
                      {
                        "learn": [
                          0.02335746913
                        ],
                        "iteration": 313,
                        "passed_time": 3.568048444,
                        "remaining_time": 7.795163162,
                        "test": [
                          0.06428946301
                        ]
                      },
                      {
                        "learn": [
                          0.02330522656
                        ],
                        "iteration": 314,
                        "passed_time": 3.581894131,
                        "remaining_time": 7.789198349,
                        "test": [
                          0.06426686449
                        ]
                      },
                      {
                        "learn": [
                          0.02330270326
                        ],
                        "iteration": 315,
                        "passed_time": 3.592924444,
                        "remaining_time": 7.777089619,
                        "test": [
                          0.06426789511
                        ]
                      },
                      {
                        "learn": [
                          0.02327000072
                        ],
                        "iteration": 316,
                        "passed_time": 3.609461795,
                        "remaining_time": 7.776853016,
                        "test": [
                          0.06426776713
                        ]
                      },
                      {
                        "learn": [
                          0.02326029725
                        ],
                        "iteration": 317,
                        "passed_time": 3.621005785,
                        "remaining_time": 7.76580486,
                        "test": [
                          0.06426951934
                        ]
                      },
                      {
                        "learn": [
                          0.02310289496
                        ],
                        "iteration": 318,
                        "passed_time": 3.638413875,
                        "remaining_time": 7.767272254,
                        "test": [
                          0.06419928676
                        ]
                      },
                      {
                        "learn": [
                          0.02305583133
                        ],
                        "iteration": 319,
                        "passed_time": 3.66403745,
                        "remaining_time": 7.786079581,
                        "test": [
                          0.06418501632
                        ]
                      },
                      {
                        "learn": [
                          0.02304624646
                        ],
                        "iteration": 320,
                        "passed_time": 3.671554944,
                        "remaining_time": 7.766310924,
                        "test": [
                          0.06418668696
                        ]
                      },
                      {
                        "learn": [
                          0.02297868165
                        ],
                        "iteration": 321,
                        "passed_time": 3.688104728,
                        "remaining_time": 7.765636663,
                        "test": [
                          0.06415175814
                        ]
                      },
                      {
                        "learn": [
                          0.02291546188
                        ],
                        "iteration": 322,
                        "passed_time": 3.7004332,
                        "remaining_time": 7.756016335,
                        "test": [
                          0.06417295834
                        ]
                      },
                      {
                        "learn": [
                          0.02288558288
                        ],
                        "iteration": 323,
                        "passed_time": 3.711061686,
                        "remaining_time": 7.742832407,
                        "test": [
                          0.06414316751
                        ]
                      },
                      {
                        "learn": [
                          0.02285230553
                        ],
                        "iteration": 324,
                        "passed_time": 3.725276536,
                        "remaining_time": 7.737112806,
                        "test": [
                          0.06414246111
                        ]
                      },
                      {
                        "learn": [
                          0.02274708905
                        ],
                        "iteration": 325,
                        "passed_time": 3.739989233,
                        "remaining_time": 7.732370378,
                        "test": [
                          0.06417298802
                        ]
                      },
                      {
                        "learn": [
                          0.02273719864
                        ],
                        "iteration": 326,
                        "passed_time": 3.749961785,
                        "remaining_time": 7.717811257,
                        "test": [
                          0.06418144764
                        ]
                      },
                      {
                        "learn": [
                          0.02272097095
                        ],
                        "iteration": 327,
                        "passed_time": 3.765528042,
                        "remaining_time": 7.714740378,
                        "test": [
                          0.06416515618
                        ]
                      },
                      {
                        "learn": [
                          0.02264531829
                        ],
                        "iteration": 328,
                        "passed_time": 3.776509506,
                        "remaining_time": 7.702242792,
                        "test": [
                          0.06414893648
                        ]
                      },
                      {
                        "learn": [
                          0.02254031329
                        ],
                        "iteration": 329,
                        "passed_time": 3.785386481,
                        "remaining_time": 7.685481643,
                        "test": [
                          0.06410758149
                        ]
                      },
                      {
                        "learn": [
                          0.02250604591
                        ],
                        "iteration": 330,
                        "passed_time": 3.804652397,
                        "remaining_time": 7.68976572,
                        "test": [
                          0.06410192553
                        ]
                      },
                      {
                        "learn": [
                          0.02249668309
                        ],
                        "iteration": 331,
                        "passed_time": 3.815296502,
                        "remaining_time": 7.676560431,
                        "test": [
                          0.06411065651
                        ]
                      },
                      {
                        "learn": [
                          0.02249502631
                        ],
                        "iteration": 332,
                        "passed_time": 3.831933387,
                        "remaining_time": 7.675374081,
                        "test": [
                          0.06411214223
                        ]
                      },
                      {
                        "learn": [
                          0.02243425189
                        ],
                        "iteration": 333,
                        "passed_time": 3.849851022,
                        "remaining_time": 7.676649045,
                        "test": [
                          0.06409341834
                        ]
                      },
                      {
                        "learn": [
                          0.0223746018
                        ],
                        "iteration": 334,
                        "passed_time": 3.858721361,
                        "remaining_time": 7.659849866,
                        "test": [
                          0.06409621237
                        ]
                      },
                      {
                        "learn": [
                          0.02228600308
                        ],
                        "iteration": 335,
                        "passed_time": 3.899625443,
                        "remaining_time": 7.706402661,
                        "test": [
                          0.06408865186
                        ]
                      },
                      {
                        "learn": [
                          0.02225807912
                        ],
                        "iteration": 336,
                        "passed_time": 3.911591095,
                        "remaining_time": 7.695504142,
                        "test": [
                          0.06409727327
                        ]
                      },
                      {
                        "learn": [
                          0.02224974259
                        ],
                        "iteration": 337,
                        "passed_time": 3.919113956,
                        "remaining_time": 7.675897749,
                        "test": [
                          0.06409862383
                        ]
                      },
                      {
                        "learn": [
                          0.02221691646
                        ],
                        "iteration": 338,
                        "passed_time": 3.933611942,
                        "remaining_time": 7.669963109,
                        "test": [
                          0.0641131841
                        ]
                      },
                      {
                        "learn": [
                          0.02218148677
                        ],
                        "iteration": 339,
                        "passed_time": 3.945210208,
                        "remaining_time": 7.658349228,
                        "test": [
                          0.06412259941
                        ]
                      },
                      {
                        "learn": [
                          0.02215677953
                        ],
                        "iteration": 340,
                        "passed_time": 3.959954945,
                        "remaining_time": 7.652816155,
                        "test": [
                          0.06411713263
                        ]
                      },
                      {
                        "learn": [
                          0.02215296684
                        ],
                        "iteration": 341,
                        "passed_time": 3.973057131,
                        "remaining_time": 7.644068984,
                        "test": [
                          0.06411806424
                        ]
                      },
                      {
                        "learn": [
                          0.02207670531
                        ],
                        "iteration": 342,
                        "passed_time": 3.984034866,
                        "remaining_time": 7.631227134,
                        "test": [
                          0.06410548945
                        ]
                      },
                      {
                        "learn": [
                          0.02205235903
                        ],
                        "iteration": 343,
                        "passed_time": 3.994785941,
                        "remaining_time": 7.617963887,
                        "test": [
                          0.06410124834
                        ]
                      },
                      {
                        "learn": [
                          0.02199472218
                        ],
                        "iteration": 344,
                        "passed_time": 4.008579447,
                        "remaining_time": 7.610491413,
                        "test": [
                          0.0641042352
                        ]
                      },
                      {
                        "learn": [
                          0.0219589614
                        ],
                        "iteration": 345,
                        "passed_time": 4.019837049,
                        "remaining_time": 7.598189104,
                        "test": [
                          0.06410584498
                        ]
                      },
                      {
                        "learn": [
                          0.02188493503
                        ],
                        "iteration": 346,
                        "passed_time": 4.029674354,
                        "remaining_time": 7.583220038,
                        "test": [
                          0.06411322048
                        ]
                      },
                      {
                        "learn": [
                          0.02184646195
                        ],
                        "iteration": 347,
                        "passed_time": 4.040562133,
                        "remaining_time": 7.570248593,
                        "test": [
                          0.06409323337
                        ]
                      },
                      {
                        "learn": [
                          0.02172513803
                        ],
                        "iteration": 348,
                        "passed_time": 4.051809369,
                        "remaining_time": 7.557959596,
                        "test": [
                          0.06410926075
                        ]
                      },
                      {
                        "learn": [
                          0.02164296716
                        ],
                        "iteration": 349,
                        "passed_time": 4.066255071,
                        "remaining_time": 7.55161656,
                        "test": [
                          0.06412481757
                        ]
                      },
                      {
                        "learn": [
                          0.02160965112
                        ],
                        "iteration": 350,
                        "passed_time": 4.073344367,
                        "remaining_time": 7.53162534,
                        "test": [
                          0.06410724207
                        ]
                      },
                      {
                        "learn": [
                          0.0215808767
                        ],
                        "iteration": 351,
                        "passed_time": 4.085655369,
                        "remaining_time": 7.521320111,
                        "test": [
                          0.06410339563
                        ]
                      },
                      {
                        "learn": [
                          0.02141608533
                        ],
                        "iteration": 352,
                        "passed_time": 4.09524104,
                        "remaining_time": 7.506008365,
                        "test": [
                          0.06408459895
                        ]
                      },
                      {
                        "learn": [
                          0.02141301604
                        ],
                        "iteration": 353,
                        "passed_time": 4.114774897,
                        "remaining_time": 7.508883004,
                        "test": [
                          0.06408863181
                        ]
                      },
                      {
                        "learn": [
                          0.02134295422
                        ],
                        "iteration": 354,
                        "passed_time": 4.12847039,
                        "remaining_time": 7.501023667,
                        "test": [
                          0.06407851278
                        ]
                      },
                      {
                        "learn": [
                          0.02132018315
                        ],
                        "iteration": 355,
                        "passed_time": 4.140126478,
                        "remaining_time": 7.489442281,
                        "test": [
                          0.06408341892
                        ]
                      },
                      {
                        "learn": [
                          0.02129579408
                        ],
                        "iteration": 356,
                        "passed_time": 4.150282881,
                        "remaining_time": 7.475159363,
                        "test": [
                          0.06409729087
                        ]
                      },
                      {
                        "learn": [
                          0.02127265718
                        ],
                        "iteration": 357,
                        "passed_time": 4.160704681,
                        "remaining_time": 7.461375433,
                        "test": [
                          0.06410347283
                        ]
                      },
                      {
                        "learn": [
                          0.02109701682
                        ],
                        "iteration": 358,
                        "passed_time": 4.170103359,
                        "remaining_time": 7.445783435,
                        "test": [
                          0.06411650403
                        ]
                      },
                      {
                        "learn": [
                          0.02107952961
                        ],
                        "iteration": 359,
                        "passed_time": 4.180358685,
                        "remaining_time": 7.431748773,
                        "test": [
                          0.06412244275
                        ]
                      },
                      {
                        "learn": [
                          0.02098660063
                        ],
                        "iteration": 360,
                        "passed_time": 4.193563943,
                        "remaining_time": 7.422956675,
                        "test": [
                          0.06410415978
                        ]
                      },
                      {
                        "learn": [
                          0.02094912291
                        ],
                        "iteration": 361,
                        "passed_time": 4.212594307,
                        "remaining_time": 7.42440654,
                        "test": [
                          0.06409353806
                        ]
                      },
                      {
                        "learn": [
                          0.02092761798
                        ],
                        "iteration": 362,
                        "passed_time": 4.230903616,
                        "remaining_time": 7.424478247,
                        "test": [
                          0.06408708464
                        ]
                      },
                      {
                        "learn": [
                          0.02091620241
                        ],
                        "iteration": 363,
                        "passed_time": 4.241733689,
                        "remaining_time": 7.411380841,
                        "test": [
                          0.06407925218
                        ]
                      },
                      {
                        "learn": [
                          0.0208664394
                        ],
                        "iteration": 364,
                        "passed_time": 4.25817433,
                        "remaining_time": 7.408056712,
                        "test": [
                          0.06409441778
                        ]
                      },
                      {
                        "learn": [
                          0.02084604468
                        ],
                        "iteration": 365,
                        "passed_time": 4.268192305,
                        "remaining_time": 7.393535304,
                        "test": [
                          0.06409978579
                        ]
                      },
                      {
                        "learn": [
                          0.02084501618
                        ],
                        "iteration": 366,
                        "passed_time": 4.278050197,
                        "remaining_time": 7.378762329,
                        "test": [
                          0.06410062416
                        ]
                      },
                      {
                        "learn": [
                          0.02082902357
                        ],
                        "iteration": 367,
                        "passed_time": 4.293470458,
                        "remaining_time": 7.373568831,
                        "test": [
                          0.06410396719
                        ]
                      },
                      {
                        "learn": [
                          0.02081788617
                        ],
                        "iteration": 368,
                        "passed_time": 4.298253151,
                        "remaining_time": 7.350129372,
                        "test": [
                          0.06409603562
                        ]
                      },
                      {
                        "learn": [
                          0.0207521501
                        ],
                        "iteration": 369,
                        "passed_time": 4.310132397,
                        "remaining_time": 7.338874082,
                        "test": [
                          0.06411048858
                        ]
                      },
                      {
                        "learn": [
                          0.02073231713
                        ],
                        "iteration": 370,
                        "passed_time": 4.31596088,
                        "remaining_time": 7.317356856,
                        "test": [
                          0.06411279416
                        ]
                      },
                      {
                        "learn": [
                          0.02066002402
                        ],
                        "iteration": 371,
                        "passed_time": 4.322693361,
                        "remaining_time": 7.297450082,
                        "test": [
                          0.06412445828
                        ]
                      },
                      {
                        "learn": [
                          0.02062245132
                        ],
                        "iteration": 372,
                        "passed_time": 4.330712843,
                        "remaining_time": 7.279777353,
                        "test": [
                          0.06413902121
                        ]
                      },
                      {
                        "learn": [
                          0.02055870185
                        ],
                        "iteration": 373,
                        "passed_time": 4.335638452,
                        "remaining_time": 7.25697773,
                        "test": [
                          0.06413430511
                        ]
                      },
                      {
                        "learn": [
                          0.02054660605
                        ],
                        "iteration": 374,
                        "passed_time": 4.339868892,
                        "remaining_time": 7.23311482,
                        "test": [
                          0.06413447223
                        ]
                      },
                      {
                        "learn": [
                          0.02052381156
                        ],
                        "iteration": 375,
                        "passed_time": 4.346396639,
                        "remaining_time": 7.21316889,
                        "test": [
                          0.06412742711
                        ]
                      },
                      {
                        "learn": [
                          0.02045739988
                        ],
                        "iteration": 376,
                        "passed_time": 4.351437721,
                        "remaining_time": 7.1908374,
                        "test": [
                          0.06413106387
                        ]
                      },
                      {
                        "learn": [
                          0.02043953332
                        ],
                        "iteration": 377,
                        "passed_time": 4.358251762,
                        "remaining_time": 7.171514805,
                        "test": [
                          0.0641320341
                        ]
                      },
                      {
                        "learn": [
                          0.02033691586
                        ],
                        "iteration": 378,
                        "passed_time": 4.364708815,
                        "remaining_time": 7.151673282,
                        "test": [
                          0.06413255136
                        ]
                      },
                      {
                        "learn": [
                          0.0203252853
                        ],
                        "iteration": 379,
                        "passed_time": 4.371695879,
                        "remaining_time": 7.132766961,
                        "test": [
                          0.06414192396
                        ]
                      },
                      {
                        "learn": [
                          0.02030414478
                        ],
                        "iteration": 380,
                        "passed_time": 4.376268559,
                        "remaining_time": 7.110000625,
                        "test": [
                          0.0641440199
                        ]
                      },
                      {
                        "learn": [
                          0.02024742506
                        ],
                        "iteration": 381,
                        "passed_time": 4.383446867,
                        "remaining_time": 7.091544931,
                        "test": [
                          0.06414727408
                        ]
                      },
                      {
                        "learn": [
                          0.02023433913
                        ],
                        "iteration": 382,
                        "passed_time": 4.388696824,
                        "remaining_time": 7.07004162,
                        "test": [
                          0.06415330322
                        ]
                      },
                      {
                        "learn": [
                          0.02018690434
                        ],
                        "iteration": 383,
                        "passed_time": 4.394064795,
                        "remaining_time": 7.048812276,
                        "test": [
                          0.06414184966
                        ]
                      },
                      {
                        "learn": [
                          0.0201313834
                        ],
                        "iteration": 384,
                        "passed_time": 4.408855928,
                        "remaining_time": 7.042717911,
                        "test": [
                          0.06413269381
                        ]
                      },
                      {
                        "learn": [
                          0.02011658409
                        ],
                        "iteration": 385,
                        "passed_time": 4.426023764,
                        "remaining_time": 7.040359045,
                        "test": [
                          0.06412207853
                        ]
                      },
                      {
                        "learn": [
                          0.0200357575
                        ],
                        "iteration": 386,
                        "passed_time": 4.444368708,
                        "remaining_time": 7.039788161,
                        "test": [
                          0.06411667641
                        ]
                      },
                      {
                        "learn": [
                          0.02001752226
                        ],
                        "iteration": 387,
                        "passed_time": 4.463831238,
                        "remaining_time": 7.040888448,
                        "test": [
                          0.06412208378
                        ]
                      },
                      {
                        "learn": [
                          0.01995454047
                        ],
                        "iteration": 388,
                        "passed_time": 4.474434862,
                        "remaining_time": 7.027968382,
                        "test": [
                          0.06410225546
                        ]
                      },
                      {
                        "learn": [
                          0.01994214579
                        ],
                        "iteration": 389,
                        "passed_time": 4.484342353,
                        "remaining_time": 7.013971373,
                        "test": [
                          0.06409325874
                        ]
                      },
                      {
                        "learn": [
                          0.01991503569
                        ],
                        "iteration": 390,
                        "passed_time": 4.497820778,
                        "remaining_time": 7.005557171,
                        "test": [
                          0.06409499864
                        ]
                      },
                      {
                        "learn": [
                          0.01987208143
                        ],
                        "iteration": 391,
                        "passed_time": 4.519632615,
                        "remaining_time": 7.010042424,
                        "test": [
                          0.06405939211
                        ]
                      },
                      {
                        "learn": [
                          0.01980694384
                        ],
                        "iteration": 392,
                        "passed_time": 4.533804346,
                        "remaining_time": 7.002593481,
                        "test": [
                          0.06406442785
                        ]
                      },
                      {
                        "learn": [
                          0.01979807936
                        ],
                        "iteration": 393,
                        "passed_time": 4.549164096,
                        "remaining_time": 6.99693767,
                        "test": [
                          0.06404354029
                        ]
                      },
                      {
                        "learn": [
                          0.01975925477
                        ],
                        "iteration": 394,
                        "passed_time": 4.558607374,
                        "remaining_time": 6.982170788,
                        "test": [
                          0.06403146106
                        ]
                      },
                      {
                        "learn": [
                          0.01971807823
                        ],
                        "iteration": 395,
                        "passed_time": 4.572623711,
                        "remaining_time": 6.974405863,
                        "test": [
                          0.06402290094
                        ]
                      },
                      {
                        "learn": [
                          0.01968396453
                        ],
                        "iteration": 396,
                        "passed_time": 4.611289716,
                        "remaining_time": 7.004049619,
                        "test": [
                          0.06402677481
                        ]
                      },
                      {
                        "learn": [
                          0.01967051069
                        ],
                        "iteration": 397,
                        "passed_time": 4.616932582,
                        "remaining_time": 6.983400538,
                        "test": [
                          0.06402658626
                        ]
                      },
                      {
                        "learn": [
                          0.01966031536
                        ],
                        "iteration": 398,
                        "passed_time": 4.622038282,
                        "remaining_time": 6.962017562,
                        "test": [
                          0.06402691818
                        ]
                      },
                      {
                        "learn": [
                          0.01963615954
                        ],
                        "iteration": 399,
                        "passed_time": 4.647610845,
                        "remaining_time": 6.971416268,
                        "test": [
                          0.06401577162
                        ]
                      },
                      {
                        "learn": [
                          0.01958234739
                        ],
                        "iteration": 400,
                        "passed_time": 4.652226811,
                        "remaining_time": 6.949336308,
                        "test": [
                          0.06397884505
                        ]
                      },
                      {
                        "learn": [
                          0.01957932617
                        ],
                        "iteration": 401,
                        "passed_time": 4.663150927,
                        "remaining_time": 6.936727,
                        "test": [
                          0.06397719631
                        ]
                      },
                      {
                        "learn": [
                          0.01953013509
                        ],
                        "iteration": 402,
                        "passed_time": 4.673046247,
                        "remaining_time": 6.922602008,
                        "test": [
                          0.06395789814
                        ]
                      },
                      {
                        "learn": [
                          0.01951824569
                        ],
                        "iteration": 403,
                        "passed_time": 4.684283071,
                        "remaining_time": 6.910477005,
                        "test": [
                          0.06395437677
                        ]
                      },
                      {
                        "learn": [
                          0.01950100605
                        ],
                        "iteration": 404,
                        "passed_time": 4.695541417,
                        "remaining_time": 6.898388008,
                        "test": [
                          0.06393622629
                        ]
                      },
                      {
                        "learn": [
                          0.01945613423
                        ],
                        "iteration": 405,
                        "passed_time": 4.704775041,
                        "remaining_time": 6.883340824,
                        "test": [
                          0.06392308291
                        ]
                      },
                      {
                        "learn": [
                          0.01942088232
                        ],
                        "iteration": 406,
                        "passed_time": 4.718230341,
                        "remaining_time": 6.874473199,
                        "test": [
                          0.06391910436
                        ]
                      },
                      {
                        "learn": [
                          0.01939643971
                        ],
                        "iteration": 407,
                        "passed_time": 4.729270291,
                        "remaining_time": 6.862078461,
                        "test": [
                          0.06390767144
                        ]
                      },
                      {
                        "learn": [
                          0.01936134991
                        ],
                        "iteration": 408,
                        "passed_time": 4.738858053,
                        "remaining_time": 6.847591954,
                        "test": [
                          0.06391580512
                        ]
                      },
                      {
                        "learn": [
                          0.0192979204
                        ],
                        "iteration": 409,
                        "passed_time": 4.756974375,
                        "remaining_time": 6.845402149,
                        "test": [
                          0.06388662156
                        ]
                      },
                      {
                        "learn": [
                          0.01928852685
                        ],
                        "iteration": 410,
                        "passed_time": 4.768303953,
                        "remaining_time": 6.833408828,
                        "test": [
                          0.06388834627
                        ]
                      },
                      {
                        "learn": [
                          0.01923776772
                        ],
                        "iteration": 411,
                        "passed_time": 4.779701409,
                        "remaining_time": 6.821515603,
                        "test": [
                          0.06388481754
                        ]
                      },
                      {
                        "learn": [
                          0.01920921001
                        ],
                        "iteration": 412,
                        "passed_time": 4.790063983,
                        "remaining_time": 6.808153894,
                        "test": [
                          0.06389247787
                        ]
                      },
                      {
                        "learn": [
                          0.01919408626
                        ],
                        "iteration": 413,
                        "passed_time": 4.801128311,
                        "remaining_time": 6.795799977,
                        "test": [
                          0.06389923867
                        ]
                      },
                      {
                        "learn": [
                          0.01917511968
                        ],
                        "iteration": 414,
                        "passed_time": 4.815986133,
                        "remaining_time": 6.788799729,
                        "test": [
                          0.06389444314
                        ]
                      },
                      {
                        "learn": [
                          0.01908036383
                        ],
                        "iteration": 415,
                        "passed_time": 4.824891998,
                        "remaining_time": 6.773406074,
                        "test": [
                          0.06389701245
                        ]
                      },
                      {
                        "learn": [
                          0.01904211429
                        ],
                        "iteration": 416,
                        "passed_time": 4.838064942,
                        "remaining_time": 6.764009259,
                        "test": [
                          0.06389106256
                        ]
                      },
                      {
                        "learn": [
                          0.0189216943
                        ],
                        "iteration": 417,
                        "passed_time": 4.857708132,
                        "remaining_time": 6.763603189,
                        "test": [
                          0.06391156252
                        ]
                      },
                      {
                        "learn": [
                          0.01886033982
                        ],
                        "iteration": 418,
                        "passed_time": 4.869373016,
                        "remaining_time": 6.752042297,
                        "test": [
                          0.06389768892
                        ]
                      },
                      {
                        "learn": [
                          0.01876983426
                        ],
                        "iteration": 419,
                        "passed_time": 4.877994948,
                        "remaining_time": 6.736278737,
                        "test": [
                          0.06386562976
                        ]
                      },
                      {
                        "learn": [
                          0.01875852275
                        ],
                        "iteration": 420,
                        "passed_time": 4.888228957,
                        "remaining_time": 6.72276619,
                        "test": [
                          0.06387216437
                        ]
                      },
                      {
                        "learn": [
                          0.01871042109
                        ],
                        "iteration": 421,
                        "passed_time": 4.895058738,
                        "remaining_time": 6.704606518,
                        "test": [
                          0.06385323967
                        ]
                      },
                      {
                        "learn": [
                          0.01869642302
                        ],
                        "iteration": 422,
                        "passed_time": 4.919808372,
                        "remaining_time": 6.71094428,
                        "test": [
                          0.06384844995
                        ]
                      },
                      {
                        "learn": [
                          0.01866722174
                        ],
                        "iteration": 423,
                        "passed_time": 4.937802322,
                        "remaining_time": 6.707957872,
                        "test": [
                          0.06385084809
                        ]
                      },
                      {
                        "learn": [
                          0.01859500731
                        ],
                        "iteration": 424,
                        "passed_time": 4.947370411,
                        "remaining_time": 6.693501144,
                        "test": [
                          0.06385445717
                        ]
                      },
                      {
                        "learn": [
                          0.01857172615
                        ],
                        "iteration": 425,
                        "passed_time": 4.961105145,
                        "remaining_time": 6.684681581,
                        "test": [
                          0.06384853828
                        ]
                      },
                      {
                        "learn": [
                          0.0185182467
                        ],
                        "iteration": 426,
                        "passed_time": 4.974050687,
                        "remaining_time": 6.674779961,
                        "test": [
                          0.06385031291
                        ]
                      },
                      {
                        "learn": [
                          0.01847960377
                        ],
                        "iteration": 427,
                        "passed_time": 4.982522047,
                        "remaining_time": 6.658884606,
                        "test": [
                          0.06384189711
                        ]
                      },
                      {
                        "learn": [
                          0.01841851718
                        ],
                        "iteration": 428,
                        "passed_time": 4.998267479,
                        "remaining_time": 6.652705666,
                        "test": [
                          0.06384093884
                        ]
                      },
                      {
                        "learn": [
                          0.01837443322
                        ],
                        "iteration": 429,
                        "passed_time": 5.010516621,
                        "remaining_time": 6.641847613,
                        "test": [
                          0.06384514665
                        ]
                      },
                      {
                        "learn": [
                          0.01833755438
                        ],
                        "iteration": 430,
                        "passed_time": 5.036363989,
                        "remaining_time": 6.64893529,
                        "test": [
                          0.06383874165
                        ]
                      },
                      {
                        "learn": [
                          0.01832784437
                        ],
                        "iteration": 431,
                        "passed_time": 5.048807182,
                        "remaining_time": 6.63824648,
                        "test": [
                          0.06383745557
                        ]
                      },
                      {
                        "learn": [
                          0.01830357476
                        ],
                        "iteration": 432,
                        "passed_time": 5.056406121,
                        "remaining_time": 6.621206168,
                        "test": [
                          0.0638435164
                        ]
                      },
                      {
                        "learn": [
                          0.01824394813
                        ],
                        "iteration": 433,
                        "passed_time": 5.070085161,
                        "remaining_time": 6.612138712,
                        "test": [
                          0.06385977398
                        ]
                      },
                      {
                        "learn": [
                          0.01823242514
                        ],
                        "iteration": 434,
                        "passed_time": 5.081409242,
                        "remaining_time": 6.599991314,
                        "test": [
                          0.06385818167
                        ]
                      },
                      {
                        "learn": [
                          0.01821840426
                        ],
                        "iteration": 435,
                        "passed_time": 5.095386729,
                        "remaining_time": 6.591280081,
                        "test": [
                          0.06386001343
                        ]
                      },
                      {
                        "learn": [
                          0.01819505458
                        ],
                        "iteration": 436,
                        "passed_time": 5.106057333,
                        "remaining_time": 6.57828439,
                        "test": [
                          0.06385397473
                        ]
                      },
                      {
                        "learn": [
                          0.01813403213
                        ],
                        "iteration": 437,
                        "passed_time": 5.122502308,
                        "remaining_time": 6.57270844,
                        "test": [
                          0.06383941774
                        ]
                      },
                      {
                        "learn": [
                          0.01811455193
                        ],
                        "iteration": 438,
                        "passed_time": 5.130359271,
                        "remaining_time": 6.556108316,
                        "test": [
                          0.0638289157
                        ]
                      },
                      {
                        "learn": [
                          0.01811163495
                        ],
                        "iteration": 439,
                        "passed_time": 5.165691625,
                        "remaining_time": 6.574516613,
                        "test": [
                          0.06382664092
                        ]
                      },
                      {
                        "learn": [
                          0.01809180156
                        ],
                        "iteration": 440,
                        "passed_time": 5.200779506,
                        "remaining_time": 6.592371301,
                        "test": [
                          0.063819202
                        ]
                      },
                      {
                        "learn": [
                          0.01804145597
                        ],
                        "iteration": 441,
                        "passed_time": 5.21189452,
                        "remaining_time": 6.579722041,
                        "test": [
                          0.06381253977
                        ]
                      },
                      {
                        "learn": [
                          0.01803604379
                        ],
                        "iteration": 442,
                        "passed_time": 5.235482429,
                        "remaining_time": 6.582762332,
                        "test": [
                          0.06381640255
                        ]
                      },
                      {
                        "learn": [
                          0.01799813171
                        ],
                        "iteration": 443,
                        "passed_time": 5.258384845,
                        "remaining_time": 6.584824266,
                        "test": [
                          0.06378847246
                        ]
                      },
                      {
                        "learn": [
                          0.01799191307
                        ],
                        "iteration": 444,
                        "passed_time": 5.267954695,
                        "remaining_time": 6.570145744,
                        "test": [
                          0.06379564942
                        ]
                      },
                      {
                        "learn": [
                          0.01791863356
                        ],
                        "iteration": 445,
                        "passed_time": 5.283884637,
                        "remaining_time": 6.563390334,
                        "test": [
                          0.06380307006
                        ]
                      },
                      {
                        "learn": [
                          0.01787038348
                        ],
                        "iteration": 446,
                        "passed_time": 5.310282012,
                        "remaining_time": 6.569543518,
                        "test": [
                          0.06380056519
                        ]
                      },
                      {
                        "learn": [
                          0.01778444463
                        ],
                        "iteration": 447,
                        "passed_time": 5.321085313,
                        "remaining_time": 6.55633726,
                        "test": [
                          0.06381642234
                        ]
                      },
                      {
                        "learn": [
                          0.01770121694
                        ],
                        "iteration": 448,
                        "passed_time": 5.331734121,
                        "remaining_time": 6.542952118,
                        "test": [
                          0.06381679798
                        ]
                      },
                      {
                        "learn": [
                          0.01766474756
                        ],
                        "iteration": 449,
                        "passed_time": 5.344092584,
                        "remaining_time": 6.531668714,
                        "test": [
                          0.06382822168
                        ]
                      },
                      {
                        "learn": [
                          0.01762690738
                        ],
                        "iteration": 450,
                        "passed_time": 5.353539232,
                        "remaining_time": 6.516836005,
                        "test": [
                          0.06383984572
                        ]
                      },
                      {
                        "learn": [
                          0.01761956241
                        ],
                        "iteration": 451,
                        "passed_time": 5.365423679,
                        "remaining_time": 6.50498269,
                        "test": [
                          0.06383947951
                        ]
                      },
                      {
                        "learn": [
                          0.01757207165
                        ],
                        "iteration": 452,
                        "passed_time": 5.380757462,
                        "remaining_time": 6.497294331,
                        "test": [
                          0.06381656371
                        ]
                      },
                      {
                        "learn": [
                          0.01750723547
                        ],
                        "iteration": 453,
                        "passed_time": 5.396264054,
                        "remaining_time": 6.489780117,
                        "test": [
                          0.06380115726
                        ]
                      },
                      {
                        "learn": [
                          0.01747960106
                        ],
                        "iteration": 454,
                        "passed_time": 5.418508618,
                        "remaining_time": 6.490301531,
                        "test": [
                          0.06379654019
                        ]
                      },
                      {
                        "learn": [
                          0.01745693949
                        ],
                        "iteration": 455,
                        "passed_time": 5.43640711,
                        "remaining_time": 6.485538307,
                        "test": [
                          0.06379053856
                        ]
                      },
                      {
                        "learn": [
                          0.01743444557
                        ],
                        "iteration": 456,
                        "passed_time": 5.463454177,
                        "remaining_time": 6.491587786,
                        "test": [
                          0.06377875757
                        ]
                      },
                      {
                        "learn": [
                          0.01742995218
                        ],
                        "iteration": 457,
                        "passed_time": 5.474678923,
                        "remaining_time": 6.478768508,
                        "test": [
                          0.0637785018
                        ]
                      },
                      {
                        "learn": [
                          0.01742242874
                        ],
                        "iteration": 458,
                        "passed_time": 5.488523161,
                        "remaining_time": 6.469043639,
                        "test": [
                          0.0637756782
                        ]
                      },
                      {
                        "learn": [
                          0.01738833479
                        ],
                        "iteration": 459,
                        "passed_time": 5.506552786,
                        "remaining_time": 6.46421414,
                        "test": [
                          0.06377195088
                        ]
                      },
                      {
                        "learn": [
                          0.01735139602
                        ],
                        "iteration": 460,
                        "passed_time": 5.511806484,
                        "remaining_time": 6.444389794,
                        "test": [
                          0.063784543
                        ]
                      },
                      {
                        "learn": [
                          0.01734104111
                        ],
                        "iteration": 461,
                        "passed_time": 5.551368636,
                        "remaining_time": 6.464580793,
                        "test": [
                          0.06378115263
                        ]
                      },
                      {
                        "learn": [
                          0.01732701678
                        ],
                        "iteration": 462,
                        "passed_time": 5.583725382,
                        "remaining_time": 6.476156653,
                        "test": [
                          0.06378662812
                        ]
                      },
                      {
                        "learn": [
                          0.01731653075
                        ],
                        "iteration": 463,
                        "passed_time": 5.609368905,
                        "remaining_time": 6.479788218,
                        "test": [
                          0.0637920185
                        ]
                      },
                      {
                        "learn": [
                          0.01730010286
                        ],
                        "iteration": 464,
                        "passed_time": 5.62729064,
                        "remaining_time": 6.474409661,
                        "test": [
                          0.06379426845
                        ]
                      },
                      {
                        "learn": [
                          0.01727261123
                        ],
                        "iteration": 465,
                        "passed_time": 5.66071106,
                        "remaining_time": 6.486737567,
                        "test": [
                          0.06379095475
                        ]
                      },
                      {
                        "learn": [
                          0.01725541161
                        ],
                        "iteration": 466,
                        "passed_time": 5.672027927,
                        "remaining_time": 6.473642152,
                        "test": [
                          0.06378469276
                        ]
                      },
                      {
                        "learn": [
                          0.01724027654
                        ],
                        "iteration": 467,
                        "passed_time": 5.693107068,
                        "remaining_time": 6.471651624,
                        "test": [
                          0.06378802328
                        ]
                      },
                      {
                        "learn": [
                          0.01718155709
                        ],
                        "iteration": 468,
                        "passed_time": 5.707711837,
                        "remaining_time": 6.462249436,
                        "test": [
                          0.06380046154
                        ]
                      },
                      {
                        "learn": [
                          0.01704731412
                        ],
                        "iteration": 469,
                        "passed_time": 5.732653254,
                        "remaining_time": 6.464481329,
                        "test": [
                          0.06376931161
                        ]
                      },
                      {
                        "learn": [
                          0.01704038366
                        ],
                        "iteration": 470,
                        "passed_time": 5.746437869,
                        "remaining_time": 6.454067161,
                        "test": [
                          0.06376504048
                        ]
                      },
                      {
                        "learn": [
                          0.01703472954
                        ],
                        "iteration": 471,
                        "passed_time": 5.759821947,
                        "remaining_time": 6.443190653,
                        "test": [
                          0.06376386084
                        ]
                      },
                      {
                        "learn": [
                          0.01697294216
                        ],
                        "iteration": 472,
                        "passed_time": 5.789512793,
                        "remaining_time": 6.45047197,
                        "test": [
                          0.06376487215
                        ]
                      },
                      {
                        "learn": [
                          0.01692682959
                        ],
                        "iteration": 473,
                        "passed_time": 5.804875356,
                        "remaining_time": 6.441697125,
                        "test": [
                          0.06376981355
                        ]
                      },
                      {
                        "learn": [
                          0.01690553992
                        ],
                        "iteration": 474,
                        "passed_time": 5.812711949,
                        "remaining_time": 6.424576365,
                        "test": [
                          0.06377533582
                        ]
                      },
                      {
                        "learn": [
                          0.01686704868
                        ],
                        "iteration": 475,
                        "passed_time": 5.834515319,
                        "remaining_time": 6.422869805,
                        "test": [
                          0.06375699941
                        ]
                      },
                      {
                        "learn": [
                          0.01678704344
                        ],
                        "iteration": 476,
                        "passed_time": 5.850398502,
                        "remaining_time": 6.414587875,
                        "test": [
                          0.06375554766
                        ]
                      },
                      {
                        "learn": [
                          0.01677450119
                        ],
                        "iteration": 477,
                        "passed_time": 5.861593504,
                        "remaining_time": 6.401154413,
                        "test": [
                          0.063753402
                        ]
                      },
                      {
                        "learn": [
                          0.01676838363
                        ],
                        "iteration": 478,
                        "passed_time": 5.876770211,
                        "remaining_time": 6.392061127,
                        "test": [
                          0.06375562637
                        ]
                      },
                      {
                        "learn": [
                          0.01675463755
                        ],
                        "iteration": 479,
                        "passed_time": 5.894314629,
                        "remaining_time": 6.385507515,
                        "test": [
                          0.06375500062
                        ]
                      },
                      {
                        "learn": [
                          0.0167095853
                        ],
                        "iteration": 480,
                        "passed_time": 5.907999975,
                        "remaining_time": 6.374744256,
                        "test": [
                          0.06376693289
                        ]
                      },
                      {
                        "learn": [
                          0.01670752527
                        ],
                        "iteration": 481,
                        "passed_time": 5.923002189,
                        "remaining_time": 6.365384095,
                        "test": [
                          0.06376366393
                        ]
                      },
                      {
                        "learn": [
                          0.01666306437
                        ],
                        "iteration": 482,
                        "passed_time": 5.933691806,
                        "remaining_time": 6.351384397,
                        "test": [
                          0.06375765925
                        ]
                      },
                      {
                        "learn": [
                          0.01664407606
                        ],
                        "iteration": 483,
                        "passed_time": 5.942039566,
                        "remaining_time": 6.334901686,
                        "test": [
                          0.0637670369
                        ]
                      },
                      {
                        "learn": [
                          0.01663909056
                        ],
                        "iteration": 484,
                        "passed_time": 5.955131443,
                        "remaining_time": 6.323490089,
                        "test": [
                          0.06376741579
                        ]
                      },
                      {
                        "learn": [
                          0.01656007434
                        ],
                        "iteration": 485,
                        "passed_time": 5.968170039,
                        "remaining_time": 6.312015226,
                        "test": [
                          0.06375264642
                        ]
                      },
                      {
                        "learn": [
                          0.0165552013
                        ],
                        "iteration": 486,
                        "passed_time": 5.974977182,
                        "remaining_time": 6.293969804,
                        "test": [
                          0.06375382482
                        ]
                      },
                      {
                        "learn": [
                          0.01652614205
                        ],
                        "iteration": 487,
                        "passed_time": 6.000660088,
                        "remaining_time": 6.295774518,
                        "test": [
                          0.0637655258
                        ]
                      },
                      {
                        "learn": [
                          0.01647677781
                        ],
                        "iteration": 488,
                        "passed_time": 6.010680967,
                        "remaining_time": 6.281100152,
                        "test": [
                          0.06375632651
                        ]
                      },
                      {
                        "learn": [
                          0.01647323503
                        ],
                        "iteration": 489,
                        "passed_time": 6.024513046,
                        "remaining_time": 6.270411537,
                        "test": [
                          0.06375348453
                        ]
                      },
                      {
                        "learn": [
                          0.01644151659
                        ],
                        "iteration": 490,
                        "passed_time": 6.036035717,
                        "remaining_time": 6.257316048,
                        "test": [
                          0.06374954563
                        ]
                      },
                      {
                        "learn": [
                          0.01642708852
                        ],
                        "iteration": 491,
                        "passed_time": 6.053192425,
                        "remaining_time": 6.250044211,
                        "test": [
                          0.06374522213
                        ]
                      },
                      {
                        "learn": [
                          0.01640169503
                        ],
                        "iteration": 492,
                        "passed_time": 6.064702766,
                        "remaining_time": 6.236925563,
                        "test": [
                          0.06373659573
                        ]
                      },
                      {
                        "learn": [
                          0.01638611794
                        ],
                        "iteration": 493,
                        "passed_time": 6.071142247,
                        "remaining_time": 6.218619386,
                        "test": [
                          0.06373948968
                        ]
                      },
                      {
                        "learn": [
                          0.01635309907
                        ],
                        "iteration": 494,
                        "passed_time": 6.080187037,
                        "remaining_time": 6.203019098,
                        "test": [
                          0.06373947424
                        ]
                      },
                      {
                        "learn": [
                          0.01629833242
                        ],
                        "iteration": 495,
                        "passed_time": 6.097110635,
                        "remaining_time": 6.195451129,
                        "test": [
                          0.06374040283
                        ]
                      },
                      {
                        "learn": [
                          0.01628132058
                        ],
                        "iteration": 496,
                        "passed_time": 6.10949617,
                        "remaining_time": 6.183252663,
                        "test": [
                          0.0637331897
                        ]
                      },
                      {
                        "learn": [
                          0.01627214034
                        ],
                        "iteration": 497,
                        "passed_time": 6.113100512,
                        "remaining_time": 6.162201721,
                        "test": [
                          0.06372467732
                        ]
                      },
                      {
                        "learn": [
                          0.01624816346
                        ],
                        "iteration": 498,
                        "passed_time": 6.127059118,
                        "remaining_time": 6.151616469,
                        "test": [
                          0.06372134088
                        ]
                      },
                      {
                        "learn": [
                          0.01619788603
                        ],
                        "iteration": 499,
                        "passed_time": 6.13243632,
                        "remaining_time": 6.13243632,
                        "test": [
                          0.06372036162
                        ]
                      },
                      {
                        "learn": [
                          0.01618141775
                        ],
                        "iteration": 500,
                        "passed_time": 6.152743709,
                        "remaining_time": 6.128181858,
                        "test": [
                          0.06372145944
                        ]
                      },
                      {
                        "learn": [
                          0.01615875195
                        ],
                        "iteration": 501,
                        "passed_time": 6.164476573,
                        "remaining_time": 6.115357238,
                        "test": [
                          0.06372860662
                        ]
                      },
                      {
                        "learn": [
                          0.01614793611
                        ],
                        "iteration": 502,
                        "passed_time": 6.180660379,
                        "remaining_time": 6.106934807,
                        "test": [
                          0.06373573648
                        ]
                      },
                      {
                        "learn": [
                          0.01614208353
                        ],
                        "iteration": 503,
                        "passed_time": 6.187466729,
                        "remaining_time": 6.089252971,
                        "test": [
                          0.0637359919
                        ]
                      },
                      {
                        "learn": [
                          0.01613618279
                        ],
                        "iteration": 504,
                        "passed_time": 6.196522301,
                        "remaining_time": 6.073818889,
                        "test": [
                          0.06373050007
                        ]
                      },
                      {
                        "learn": [
                          0.01612240756
                        ],
                        "iteration": 505,
                        "passed_time": 6.206408426,
                        "remaining_time": 6.059220875,
                        "test": [
                          0.06373832468
                        ]
                      },
                      {
                        "learn": [
                          0.01611497238
                        ],
                        "iteration": 506,
                        "passed_time": 6.217746271,
                        "remaining_time": 6.04605308,
                        "test": [
                          0.06374425557
                        ]
                      },
                      {
                        "learn": [
                          0.01610056893
                        ],
                        "iteration": 507,
                        "passed_time": 6.226366548,
                        "remaining_time": 6.030260515,
                        "test": [
                          0.06374433138
                        ]
                      },
                      {
                        "learn": [
                          0.01609032425
                        ],
                        "iteration": 508,
                        "passed_time": 6.236497626,
                        "remaining_time": 6.015953506,
                        "test": [
                          0.0637401026
                        ]
                      },
                      {
                        "learn": [
                          0.01603408813
                        ],
                        "iteration": 509,
                        "passed_time": 6.248842949,
                        "remaining_time": 6.003790284,
                        "test": [
                          0.06373245214
                        ]
                      },
                      {
                        "learn": [
                          0.01603056595
                        ],
                        "iteration": 510,
                        "passed_time": 6.259938025,
                        "remaining_time": 5.99042993,
                        "test": [
                          0.06372961619
                        ]
                      },
                      {
                        "learn": [
                          0.01600995679
                        ],
                        "iteration": 511,
                        "passed_time": 6.27744896,
                        "remaining_time": 5.98319354,
                        "test": [
                          0.06373537184
                        ]
                      },
                      {
                        "learn": [
                          0.01598642931
                        ],
                        "iteration": 512,
                        "passed_time": 6.295647957,
                        "remaining_time": 5.976570283,
                        "test": [
                          0.06373625431
                        ]
                      },
                      {
                        "learn": [
                          0.01598272039
                        ],
                        "iteration": 513,
                        "passed_time": 6.324125919,
                        "remaining_time": 5.979621005,
                        "test": [
                          0.0637405869
                        ]
                      },
                      {
                        "learn": [
                          0.01597090557
                        ],
                        "iteration": 514,
                        "passed_time": 6.3565965,
                        "remaining_time": 5.986309325,
                        "test": [
                          0.0637367479
                        ]
                      },
                      {
                        "learn": [
                          0.01593097516
                        ],
                        "iteration": 515,
                        "passed_time": 6.374230787,
                        "remaining_time": 5.978929653,
                        "test": [
                          0.06373115633
                        ]
                      },
                      {
                        "learn": [
                          0.01591272099
                        ],
                        "iteration": 516,
                        "passed_time": 6.389466877,
                        "remaining_time": 5.969269829,
                        "test": [
                          0.06373239833
                        ]
                      },
                      {
                        "learn": [
                          0.01586638992
                        ],
                        "iteration": 517,
                        "passed_time": 6.40487067,
                        "remaining_time": 5.959744523,
                        "test": [
                          0.06373278818
                        ]
                      },
                      {
                        "learn": [
                          0.01583014267
                        ],
                        "iteration": 518,
                        "passed_time": 6.417268461,
                        "remaining_time": 5.947410654,
                        "test": [
                          0.06373590314
                        ]
                      },
                      {
                        "learn": [
                          0.01581668124
                        ],
                        "iteration": 519,
                        "passed_time": 6.427327743,
                        "remaining_time": 5.932917916,
                        "test": [
                          0.06371298215
                        ]
                      },
                      {
                        "learn": [
                          0.01576295151
                        ],
                        "iteration": 520,
                        "passed_time": 6.446508897,
                        "remaining_time": 5.926828717,
                        "test": [
                          0.06371550561
                        ]
                      },
                      {
                        "learn": [
                          0.0157479927
                        ],
                        "iteration": 521,
                        "passed_time": 6.45708555,
                        "remaining_time": 5.91281014,
                        "test": [
                          0.06370488142
                        ]
                      },
                      {
                        "learn": [
                          0.01574042334
                        ],
                        "iteration": 522,
                        "passed_time": 6.462917221,
                        "remaining_time": 5.894477083,
                        "test": [
                          0.06369733403
                        ]
                      },
                      {
                        "learn": [
                          0.01572346816
                        ],
                        "iteration": 523,
                        "passed_time": 6.475165898,
                        "remaining_time": 5.88202093,
                        "test": [
                          0.06370168328
                        ]
                      },
                      {
                        "learn": [
                          0.01571435318
                        ],
                        "iteration": 524,
                        "passed_time": 6.484567778,
                        "remaining_time": 5.866989894,
                        "test": [
                          0.06370347
                        ]
                      },
                      {
                        "learn": [
                          0.01567697308
                        ],
                        "iteration": 525,
                        "passed_time": 6.7544891,
                        "remaining_time": 6.086744931,
                        "test": [
                          0.0636918911
                        ]
                      },
                      {
                        "learn": [
                          0.01562614163
                        ],
                        "iteration": 526,
                        "passed_time": 6.791293875,
                        "remaining_time": 6.09541177,
                        "test": [
                          0.0636759901
                        ]
                      },
                      {
                        "learn": [
                          0.01559893106
                        ],
                        "iteration": 527,
                        "passed_time": 6.807705547,
                        "remaining_time": 6.085676171,
                        "test": [
                          0.0636738496
                        ]
                      },
                      {
                        "learn": [
                          0.01558622473
                        ],
                        "iteration": 528,
                        "passed_time": 6.83959104,
                        "remaining_time": 6.089692589,
                        "test": [
                          0.06366956154
                        ]
                      },
                      {
                        "learn": [
                          0.01555025277
                        ],
                        "iteration": 529,
                        "passed_time": 6.853889545,
                        "remaining_time": 6.077977521,
                        "test": [
                          0.06367173434
                        ]
                      },
                      {
                        "learn": [
                          0.01548872227
                        ],
                        "iteration": 530,
                        "passed_time": 6.8628208,
                        "remaining_time": 6.061512157,
                        "test": [
                          0.06368640834
                        ]
                      },
                      {
                        "learn": [
                          0.01548144938
                        ],
                        "iteration": 531,
                        "passed_time": 6.885854281,
                        "remaining_time": 6.057480834,
                        "test": [
                          0.06367294867
                        ]
                      },
                      {
                        "learn": [
                          0.01546075349
                        ],
                        "iteration": 532,
                        "passed_time": 6.895722147,
                        "remaining_time": 6.041842857,
                        "test": [
                          0.06366292715
                        ]
                      },
                      {
                        "learn": [
                          0.01545589286
                        ],
                        "iteration": 533,
                        "passed_time": 6.900917754,
                        "remaining_time": 6.022149201,
                        "test": [
                          0.06366092246
                        ]
                      },
                      {
                        "learn": [
                          0.01543851776
                        ],
                        "iteration": 534,
                        "passed_time": 6.906441573,
                        "remaining_time": 6.002795012,
                        "test": [
                          0.06365626032
                        ]
                      },
                      {
                        "learn": [
                          0.0154062513
                        ],
                        "iteration": 535,
                        "passed_time": 6.911640297,
                        "remaining_time": 5.983211004,
                        "test": [
                          0.06366359411
                        ]
                      },
                      {
                        "learn": [
                          0.01539497198
                        ],
                        "iteration": 536,
                        "passed_time": 6.916633864,
                        "remaining_time": 5.963503686,
                        "test": [
                          0.06366023195
                        ]
                      },
                      {
                        "learn": [
                          0.01538314156
                        ],
                        "iteration": 537,
                        "passed_time": 6.921227991,
                        "remaining_time": 5.943508052,
                        "test": [
                          0.06365759051
                        ]
                      },
                      {
                        "learn": [
                          0.01533601674
                        ],
                        "iteration": 538,
                        "passed_time": 6.926945514,
                        "remaining_time": 5.924530393,
                        "test": [
                          0.06364684801
                        ]
                      },
                      {
                        "learn": [
                          0.01533230198
                        ],
                        "iteration": 539,
                        "passed_time": 6.933173268,
                        "remaining_time": 5.906036488,
                        "test": [
                          0.06365083637
                        ]
                      },
                      {
                        "learn": [
                          0.01530936556
                        ],
                        "iteration": 540,
                        "passed_time": 6.938315665,
                        "remaining_time": 5.88666708,
                        "test": [
                          0.06363346718
                        ]
                      },
                      {
                        "learn": [
                          0.01529596076
                        ],
                        "iteration": 541,
                        "passed_time": 6.944025636,
                        "remaining_time": 5.867829781,
                        "test": [
                          0.06363846643
                        ]
                      },
                      {
                        "learn": [
                          0.01526827271
                        ],
                        "iteration": 542,
                        "passed_time": 6.949315483,
                        "remaining_time": 5.848687249,
                        "test": [
                          0.06362121429
                        ]
                      },
                      {
                        "learn": [
                          0.0152464901
                        ],
                        "iteration": 543,
                        "passed_time": 6.954756792,
                        "remaining_time": 5.829722605,
                        "test": [
                          0.06362308684
                        ]
                      },
                      {
                        "learn": [
                          0.01524019679
                        ],
                        "iteration": 544,
                        "passed_time": 6.959447615,
                        "remaining_time": 5.810181036,
                        "test": [
                          0.06361702127
                        ]
                      },
                      {
                        "learn": [
                          0.01521969128
                        ],
                        "iteration": 545,
                        "passed_time": 6.963477384,
                        "remaining_time": 5.790144198,
                        "test": [
                          0.06361453727
                        ]
                      },
                      {
                        "learn": [
                          0.01519752266
                        ],
                        "iteration": 546,
                        "passed_time": 6.970778471,
                        "remaining_time": 5.772875041,
                        "test": [
                          0.0636206964
                        ]
                      },
                      {
                        "learn": [
                          0.01517858865
                        ],
                        "iteration": 547,
                        "passed_time": 6.97603041,
                        "remaining_time": 5.75395209,
                        "test": [
                          0.06361388931
                        ]
                      },
                      {
                        "learn": [
                          0.01514435862
                        ],
                        "iteration": 548,
                        "passed_time": 6.980683687,
                        "remaining_time": 5.734587146,
                        "test": [
                          0.06360455571
                        ]
                      },
                      {
                        "learn": [
                          0.01512877459
                        ],
                        "iteration": 549,
                        "passed_time": 6.985536568,
                        "remaining_time": 5.71543901,
                        "test": [
                          0.06361036067
                        ]
                      },
                      {
                        "learn": [
                          0.01511459546
                        ],
                        "iteration": 550,
                        "passed_time": 6.991171708,
                        "remaining_time": 5.696980212,
                        "test": [
                          0.06361583127
                        ]
                      },
                      {
                        "learn": [
                          0.01510522001
                        ],
                        "iteration": 551,
                        "passed_time": 6.996478715,
                        "remaining_time": 5.678301566,
                        "test": [
                          0.06361604081
                        ]
                      },
                      {
                        "learn": [
                          0.01509521463
                        ],
                        "iteration": 552,
                        "passed_time": 7.000849369,
                        "remaining_time": 5.658914409,
                        "test": [
                          0.0636113761
                        ]
                      },
                      {
                        "learn": [
                          0.01507234351
                        ],
                        "iteration": 553,
                        "passed_time": 7.006435643,
                        "remaining_time": 5.640560102,
                        "test": [
                          0.06360473643
                        ]
                      },
                      {
                        "learn": [
                          0.0150656039
                        ],
                        "iteration": 554,
                        "passed_time": 7.010545617,
                        "remaining_time": 5.621068107,
                        "test": [
                          0.06360482766
                        ]
                      },
                      {
                        "learn": [
                          0.01505271131
                        ],
                        "iteration": 555,
                        "passed_time": 7.015738391,
                        "remaining_time": 5.602496125,
                        "test": [
                          0.06360155867
                        ]
                      },
                      {
                        "learn": [
                          0.01503810553
                        ],
                        "iteration": 556,
                        "passed_time": 7.02099024,
                        "remaining_time": 5.584019168,
                        "test": [
                          0.06359746287
                        ]
                      },
                      {
                        "learn": [
                          0.0150344236
                        ],
                        "iteration": 557,
                        "passed_time": 7.026643055,
                        "remaining_time": 5.565907223,
                        "test": [
                          0.06359782303
                        ]
                      },
                      {
                        "learn": [
                          0.01501886195
                        ],
                        "iteration": 558,
                        "passed_time": 7.035653,
                        "remaining_time": 5.550488324,
                        "test": [
                          0.06359114898
                        ]
                      },
                      {
                        "learn": [
                          0.01501306181
                        ],
                        "iteration": 559,
                        "passed_time": 7.047315183,
                        "remaining_time": 5.537176215,
                        "test": [
                          0.0635890749
                        ]
                      },
                      {
                        "learn": [
                          0.01500461768
                        ],
                        "iteration": 560,
                        "passed_time": 7.059258621,
                        "remaining_time": 5.524090079,
                        "test": [
                          0.06359028031
                        ]
                      },
                      {
                        "learn": [
                          0.01499462186
                        ],
                        "iteration": 561,
                        "passed_time": 7.070571371,
                        "remaining_time": 5.510516478,
                        "test": [
                          0.0635913585
                        ]
                      },
                      {
                        "learn": [
                          0.01495575343
                        ],
                        "iteration": 562,
                        "passed_time": 7.07524284,
                        "remaining_time": 5.491795952,
                        "test": [
                          0.06357737479
                        ]
                      },
                      {
                        "learn": [
                          0.01493699365
                        ],
                        "iteration": 563,
                        "passed_time": 7.081858307,
                        "remaining_time": 5.474628053,
                        "test": [
                          0.06357947606
                        ]
                      },
                      {
                        "learn": [
                          0.01492721027
                        ],
                        "iteration": 564,
                        "passed_time": 7.086968367,
                        "remaining_time": 5.456338477,
                        "test": [
                          0.06357588594
                        ]
                      },
                      {
                        "learn": [
                          0.01491046871
                        ],
                        "iteration": 565,
                        "passed_time": 7.094183973,
                        "remaining_time": 5.439709972,
                        "test": [
                          0.06358335952
                        ]
                      },
                      {
                        "learn": [
                          0.01490206385
                        ],
                        "iteration": 566,
                        "passed_time": 7.102766437,
                        "remaining_time": 5.424158496,
                        "test": [
                          0.06358170481
                        ]
                      },
                      {
                        "learn": [
                          0.01486621662
                        ],
                        "iteration": 567,
                        "passed_time": 7.107663385,
                        "remaining_time": 5.40582849,
                        "test": [
                          0.06356300923
                        ]
                      },
                      {
                        "learn": [
                          0.01486304927
                        ],
                        "iteration": 568,
                        "passed_time": 7.11635789,
                        "remaining_time": 5.390422233,
                        "test": [
                          0.06356614442
                        ]
                      },
                      {
                        "learn": [
                          0.0148485008
                        ],
                        "iteration": 569,
                        "passed_time": 7.127093299,
                        "remaining_time": 5.376579156,
                        "test": [
                          0.06356465738
                        ]
                      },
                      {
                        "learn": [
                          0.01482971505
                        ],
                        "iteration": 570,
                        "passed_time": 7.133115817,
                        "remaining_time": 5.359206105,
                        "test": [
                          0.06357020404
                        ]
                      },
                      {
                        "learn": [
                          0.01481926586
                        ],
                        "iteration": 571,
                        "passed_time": 7.138250171,
                        "remaining_time": 5.34120817,
                        "test": [
                          0.06358018407
                        ]
                      },
                      {
                        "learn": [
                          0.01478803619
                        ],
                        "iteration": 572,
                        "passed_time": 7.144314945,
                        "remaining_time": 5.323948485,
                        "test": [
                          0.06358463505
                        ]
                      },
                      {
                        "learn": [
                          0.01477845496
                        ],
                        "iteration": 573,
                        "passed_time": 7.149596778,
                        "remaining_time": 5.306146738,
                        "test": [
                          0.06359488078
                        ]
                      },
                      {
                        "learn": [
                          0.01474755356
                        ],
                        "iteration": 574,
                        "passed_time": 7.158253904,
                        "remaining_time": 5.290883321,
                        "test": [
                          0.06359336066
                        ]
                      },
                      {
                        "learn": [
                          0.01472929929
                        ],
                        "iteration": 575,
                        "passed_time": 7.16483322,
                        "remaining_time": 5.274113342,
                        "test": [
                          0.06358927237
                        ]
                      },
                      {
                        "learn": [
                          0.0147024787
                        ],
                        "iteration": 576,
                        "passed_time": 7.169688799,
                        "remaining_time": 5.256115012,
                        "test": [
                          0.06357842528
                        ]
                      },
                      {
                        "learn": [
                          0.01467597702
                        ],
                        "iteration": 577,
                        "passed_time": 7.176694267,
                        "remaining_time": 5.2397318,
                        "test": [
                          0.0635666039
                        ]
                      },
                      {
                        "learn": [
                          0.01467472788
                        ],
                        "iteration": 578,
                        "passed_time": 7.185994686,
                        "remaining_time": 5.225049677,
                        "test": [
                          0.06356502666
                        ]
                      },
                      {
                        "learn": [
                          0.01466664333
                        ],
                        "iteration": 579,
                        "passed_time": 7.196081587,
                        "remaining_time": 5.210955632,
                        "test": [
                          0.06355828884
                        ]
                      },
                      {
                        "learn": [
                          0.01465667016
                        ],
                        "iteration": 580,
                        "passed_time": 7.218087527,
                        "remaining_time": 5.205471039,
                        "test": [
                          0.06356300674
                        ]
                      },
                      {
                        "learn": [
                          0.01465263032
                        ],
                        "iteration": 581,
                        "passed_time": 7.226680591,
                        "remaining_time": 5.190296369,
                        "test": [
                          0.0635661272
                        ]
                      },
                      {
                        "learn": [
                          0.01464764073
                        ],
                        "iteration": 582,
                        "passed_time": 7.237618993,
                        "remaining_time": 5.176821819,
                        "test": [
                          0.06356462859
                        ]
                      },
                      {
                        "learn": [
                          0.01464534024
                        ],
                        "iteration": 583,
                        "passed_time": 7.248709885,
                        "remaining_time": 5.163464576,
                        "test": [
                          0.06356085495
                        ]
                      },
                      {
                        "learn": [
                          0.01463187231
                        ],
                        "iteration": 584,
                        "passed_time": 7.261474546,
                        "remaining_time": 5.151302455,
                        "test": [
                          0.06356401975
                        ]
                      },
                      {
                        "learn": [
                          0.01462611913
                        ],
                        "iteration": 585,
                        "passed_time": 7.267246311,
                        "remaining_time": 5.134197905,
                        "test": [
                          0.06356830986
                        ]
                      },
                      {
                        "learn": [
                          0.01460859295
                        ],
                        "iteration": 586,
                        "passed_time": 7.274809276,
                        "remaining_time": 5.118392217,
                        "test": [
                          0.06355112352
                        ]
                      },
                      {
                        "learn": [
                          0.01458162037
                        ],
                        "iteration": 587,
                        "passed_time": 7.280320809,
                        "remaining_time": 5.101177166,
                        "test": [
                          0.06355852409
                        ]
                      },
                      {
                        "learn": [
                          0.01456647544
                        ],
                        "iteration": 588,
                        "passed_time": 7.287475882,
                        "remaining_time": 5.085148705,
                        "test": [
                          0.06356060572
                        ]
                      },
                      {
                        "learn": [
                          0.01455816159
                        ],
                        "iteration": 589,
                        "passed_time": 7.293943029,
                        "remaining_time": 5.068672275,
                        "test": [
                          0.06356366739
                        ]
                      },
                      {
                        "learn": [
                          0.01455712565
                        ],
                        "iteration": 590,
                        "passed_time": 7.301365527,
                        "remaining_time": 5.052890864,
                        "test": [
                          0.06356140828
                        ]
                      },
                      {
                        "learn": [
                          0.01455226293
                        ],
                        "iteration": 591,
                        "passed_time": 7.306429957,
                        "remaining_time": 5.035512538,
                        "test": [
                          0.06356267926
                        ]
                      },
                      {
                        "learn": [
                          0.01451569492
                        ],
                        "iteration": 592,
                        "passed_time": 7.315119032,
                        "remaining_time": 5.020663484,
                        "test": [
                          0.06356548768
                        ]
                      },
                      {
                        "learn": [
                          0.01445250112
                        ],
                        "iteration": 593,
                        "passed_time": 7.319896755,
                        "remaining_time": 5.003161755,
                        "test": [
                          0.06356714414
                        ]
                      },
                      {
                        "learn": [
                          0.01442946693
                        ],
                        "iteration": 594,
                        "passed_time": 7.32689021,
                        "remaining_time": 4.987210983,
                        "test": [
                          0.06357186011
                        ]
                      },
                      {
                        "learn": [
                          0.01442461109
                        ],
                        "iteration": 595,
                        "passed_time": 7.334062611,
                        "remaining_time": 4.971411568,
                        "test": [
                          0.06357059094
                        ]
                      },
                      {
                        "learn": [
                          0.01437928363
                        ],
                        "iteration": 596,
                        "passed_time": 7.342743786,
                        "remaining_time": 4.95665954,
                        "test": [
                          0.06358450163
                        ]
                      },
                      {
                        "learn": [
                          0.01437842682
                        ],
                        "iteration": 597,
                        "passed_time": 7.350599543,
                        "remaining_time": 4.941372937,
                        "test": [
                          0.06358474839
                        ]
                      },
                      {
                        "learn": [
                          0.01437280308
                        ],
                        "iteration": 598,
                        "passed_time": 7.364189708,
                        "remaining_time": 4.929950038,
                        "test": [
                          0.06359005701
                        ]
                      },
                      {
                        "learn": [
                          0.01433562908
                        ],
                        "iteration": 599,
                        "passed_time": 7.377226656,
                        "remaining_time": 4.918151104,
                        "test": [
                          0.06358832357
                        ]
                      },
                      {
                        "learn": [
                          0.01431030623
                        ],
                        "iteration": 600,
                        "passed_time": 7.398825016,
                        "remaining_time": 4.912031916,
                        "test": [
                          0.06357368527
                        ]
                      },
                      {
                        "learn": [
                          0.01427597191
                        ],
                        "iteration": 601,
                        "passed_time": 7.417477283,
                        "remaining_time": 4.903913552,
                        "test": [
                          0.06356849746
                        ]
                      },
                      {
                        "learn": [
                          0.01427456018
                        ],
                        "iteration": 602,
                        "passed_time": 7.431980896,
                        "remaining_time": 4.893028882,
                        "test": [
                          0.06356974392
                        ]
                      },
                      {
                        "learn": [
                          0.01425805618
                        ],
                        "iteration": 603,
                        "passed_time": 7.43848853,
                        "remaining_time": 4.876889831,
                        "test": [
                          0.06357225343
                        ]
                      },
                      {
                        "learn": [
                          0.01424494509
                        ],
                        "iteration": 604,
                        "passed_time": 7.446396576,
                        "remaining_time": 4.861696938,
                        "test": [
                          0.06357402538
                        ]
                      },
                      {
                        "learn": [
                          0.01421675437
                        ],
                        "iteration": 605,
                        "passed_time": 7.453363486,
                        "remaining_time": 4.845916194,
                        "test": [
                          0.06356891404
                        ]
                      },
                      {
                        "learn": [
                          0.014211939
                        ],
                        "iteration": 606,
                        "passed_time": 7.467044827,
                        "remaining_time": 4.834511725,
                        "test": [
                          0.06356884331
                        ]
                      },
                      {
                        "learn": [
                          0.01418094817
                        ],
                        "iteration": 607,
                        "passed_time": 7.475064653,
                        "remaining_time": 4.819449579,
                        "test": [
                          0.06356580003
                        ]
                      },
                      {
                        "learn": [
                          0.01417767732
                        ],
                        "iteration": 608,
                        "passed_time": 7.484290352,
                        "remaining_time": 4.805184774,
                        "test": [
                          0.0635664703
                        ]
                      },
                      {
                        "learn": [
                          0.01415808608
                        ],
                        "iteration": 609,
                        "passed_time": 7.491825619,
                        "remaining_time": 4.789855723,
                        "test": [
                          0.06356749839
                        ]
                      },
                      {
                        "learn": [
                          0.01413355801
                        ],
                        "iteration": 610,
                        "passed_time": 7.499852248,
                        "remaining_time": 4.774865015,
                        "test": [
                          0.06356245159
                        ]
                      },
                      {
                        "learn": [
                          0.01412969502
                        ],
                        "iteration": 611,
                        "passed_time": 7.505027329,
                        "remaining_time": 4.758089221,
                        "test": [
                          0.06356440988
                        ]
                      },
                      {
                        "learn": [
                          0.01410388333
                        ],
                        "iteration": 612,
                        "passed_time": 7.511046613,
                        "remaining_time": 4.74188424,
                        "test": [
                          0.06356160405
                        ]
                      },
                      {
                        "learn": [
                          0.01407927653
                        ],
                        "iteration": 613,
                        "passed_time": 7.517147296,
                        "remaining_time": 4.72576361,
                        "test": [
                          0.06355836463
                        ]
                      },
                      {
                        "learn": [
                          0.01406633448
                        ],
                        "iteration": 614,
                        "passed_time": 7.523413042,
                        "remaining_time": 4.709778896,
                        "test": [
                          0.06356807678
                        ]
                      },
                      {
                        "learn": [
                          0.01404052191
                        ],
                        "iteration": 615,
                        "passed_time": 7.528527803,
                        "remaining_time": 4.693108241,
                        "test": [
                          0.06356758653
                        ]
                      },
                      {
                        "learn": [
                          0.01402987808
                        ],
                        "iteration": 616,
                        "passed_time": 7.533700866,
                        "remaining_time": 4.676511234,
                        "test": [
                          0.06357965572
                        ]
                      },
                      {
                        "learn": [
                          0.01399763912
                        ],
                        "iteration": 617,
                        "passed_time": 7.540747972,
                        "remaining_time": 4.661109588,
                        "test": [
                          0.06357470493
                        ]
                      },
                      {
                        "learn": [
                          0.01399477365
                        ],
                        "iteration": 618,
                        "passed_time": 7.545735547,
                        "remaining_time": 4.644467275,
                        "test": [
                          0.06357620125
                        ]
                      },
                      {
                        "learn": [
                          0.01397049076
                        ],
                        "iteration": 619,
                        "passed_time": 7.550674799,
                        "remaining_time": 4.627832942,
                        "test": [
                          0.06358294127
                        ]
                      },
                      {
                        "learn": [
                          0.01395109566
                        ],
                        "iteration": 620,
                        "passed_time": 7.55613164,
                        "remaining_time": 4.61155216,
                        "test": [
                          0.06358721399
                        ]
                      },
                      {
                        "learn": [
                          0.01394349794
                        ],
                        "iteration": 621,
                        "passed_time": 7.560788368,
                        "remaining_time": 4.594819941,
                        "test": [
                          0.06359168822
                        ]
                      },
                      {
                        "learn": [
                          0.01392046357
                        ],
                        "iteration": 622,
                        "passed_time": 7.565729668,
                        "remaining_time": 4.578298692,
                        "test": [
                          0.06361120998
                        ]
                      },
                      {
                        "learn": [
                          0.01391798831
                        ],
                        "iteration": 623,
                        "passed_time": 7.57116238,
                        "remaining_time": 4.562110665,
                        "test": [
                          0.0636114015
                        ]
                      },
                      {
                        "learn": [
                          0.01388836678
                        ],
                        "iteration": 624,
                        "passed_time": 7.576172897,
                        "remaining_time": 4.545703738,
                        "test": [
                          0.06360200712
                        ]
                      },
                      {
                        "learn": [
                          0.01387746151
                        ],
                        "iteration": 625,
                        "passed_time": 7.582258046,
                        "remaining_time": 4.529975254,
                        "test": [
                          0.06360524229
                        ]
                      },
                      {
                        "learn": [
                          0.01387258738
                        ],
                        "iteration": 626,
                        "passed_time": 7.586337805,
                        "remaining_time": 4.513084532,
                        "test": [
                          0.06360865544
                        ]
                      },
                      {
                        "learn": [
                          0.0138688915
                        ],
                        "iteration": 627,
                        "passed_time": 7.591414615,
                        "remaining_time": 4.496825218,
                        "test": [
                          0.06360929098
                        ]
                      },
                      {
                        "learn": [
                          0.01385413916
                        ],
                        "iteration": 628,
                        "passed_time": 7.596497723,
                        "remaining_time": 4.480605175,
                        "test": [
                          0.06360126863
                        ]
                      },
                      {
                        "learn": [
                          0.0138265678
                        ],
                        "iteration": 629,
                        "passed_time": 7.601105715,
                        "remaining_time": 4.464141451,
                        "test": [
                          0.06360612981
                        ]
                      },
                      {
                        "learn": [
                          0.01381995883
                        ],
                        "iteration": 630,
                        "passed_time": 7.605876966,
                        "remaining_time": 4.447810777,
                        "test": [
                          0.06360192891
                        ]
                      },
                      {
                        "learn": [
                          0.01381425505
                        ],
                        "iteration": 631,
                        "passed_time": 7.610886925,
                        "remaining_time": 4.431655678,
                        "test": [
                          0.06361029915
                        ]
                      },
                      {
                        "learn": [
                          0.01378822585
                        ],
                        "iteration": 632,
                        "passed_time": 7.61565618,
                        "remaining_time": 4.415396237,
                        "test": [
                          0.06360727666
                        ]
                      },
                      {
                        "learn": [
                          0.01376112301
                        ],
                        "iteration": 633,
                        "passed_time": 7.62546216,
                        "remaining_time": 4.402080679,
                        "test": [
                          0.06359784709
                        ]
                      },
                      {
                        "learn": [
                          0.0137473137
                        ],
                        "iteration": 634,
                        "passed_time": 7.630929995,
                        "remaining_time": 4.386282596,
                        "test": [
                          0.06359877883
                        ]
                      },
                      {
                        "learn": [
                          0.01372137264
                        ],
                        "iteration": 635,
                        "passed_time": 7.636713597,
                        "remaining_time": 4.370697719,
                        "test": [
                          0.06359775314
                        ]
                      },
                      {
                        "learn": [
                          0.01370537488
                        ],
                        "iteration": 636,
                        "passed_time": 7.641916884,
                        "remaining_time": 4.354812918,
                        "test": [
                          0.06359991096
                        ]
                      },
                      {
                        "learn": [
                          0.01369611006
                        ],
                        "iteration": 637,
                        "passed_time": 7.647214283,
                        "remaining_time": 4.339015001,
                        "test": [
                          0.06359636599
                        ]
                      },
                      {
                        "learn": [
                          0.01367817582
                        ],
                        "iteration": 638,
                        "passed_time": 7.651909028,
                        "remaining_time": 4.322909482,
                        "test": [
                          0.0635986441
                        ]
                      },
                      {
                        "learn": [
                          0.01367774559
                        ],
                        "iteration": 639,
                        "passed_time": 7.657131069,
                        "remaining_time": 4.307136226,
                        "test": [
                          0.06359955467
                        ]
                      },
                      {
                        "learn": [
                          0.01366865627
                        ],
                        "iteration": 640,
                        "passed_time": 7.662262618,
                        "remaining_time": 4.291345211,
                        "test": [
                          0.0636007022
                        ]
                      },
                      {
                        "learn": [
                          0.0136623309
                        ],
                        "iteration": 641,
                        "passed_time": 7.667828556,
                        "remaining_time": 4.275829631,
                        "test": [
                          0.06360179689
                        ]
                      },
                      {
                        "learn": [
                          0.01365247528
                        ],
                        "iteration": 642,
                        "passed_time": 7.673824245,
                        "remaining_time": 4.260583601,
                        "test": [
                          0.06360330543
                        ]
                      },
                      {
                        "learn": [
                          0.01364802878
                        ],
                        "iteration": 643,
                        "passed_time": 7.679690449,
                        "remaining_time": 4.245294721,
                        "test": [
                          0.06360511415
                        ]
                      },
                      {
                        "learn": [
                          0.01363117674
                        ],
                        "iteration": 644,
                        "passed_time": 7.685165604,
                        "remaining_time": 4.229819829,
                        "test": [
                          0.0636089794
                        ]
                      },
                      {
                        "learn": [
                          0.01362777593
                        ],
                        "iteration": 645,
                        "passed_time": 7.692767919,
                        "remaining_time": 4.215541553,
                        "test": [
                          0.06361212064
                        ]
                      },
                      {
                        "learn": [
                          0.01362462043
                        ],
                        "iteration": 646,
                        "passed_time": 7.723275437,
                        "remaining_time": 4.21378088,
                        "test": [
                          0.06361024583
                        ]
                      },
                      {
                        "learn": [
                          0.01356102039
                        ],
                        "iteration": 647,
                        "passed_time": 7.749252231,
                        "remaining_time": 4.209470348,
                        "test": [
                          0.06360584547
                        ]
                      },
                      {
                        "learn": [
                          0.01355503771
                        ],
                        "iteration": 648,
                        "passed_time": 7.762989019,
                        "remaining_time": 4.19847326,
                        "test": [
                          0.06360796946
                        ]
                      },
                      {
                        "learn": [
                          0.013537139
                        ],
                        "iteration": 649,
                        "passed_time": 7.773816974,
                        "remaining_time": 4.185901447,
                        "test": [
                          0.06361121434
                        ]
                      },
                      {
                        "learn": [
                          0.0135156626
                        ],
                        "iteration": 650,
                        "passed_time": 7.776729843,
                        "remaining_time": 4.169091729,
                        "test": [
                          0.06360968104
                        ]
                      },
                      {
                        "learn": [
                          0.01350732916
                        ],
                        "iteration": 651,
                        "passed_time": 7.797272485,
                        "remaining_time": 4.161734394,
                        "test": [
                          0.06361454663
                        ]
                      },
                      {
                        "learn": [
                          0.01349352346
                        ],
                        "iteration": 652,
                        "passed_time": 7.810231943,
                        "remaining_time": 4.15030702,
                        "test": [
                          0.06361157421
                        ]
                      },
                      {
                        "learn": [
                          0.01348767547
                        ],
                        "iteration": 653,
                        "passed_time": 7.818774492,
                        "remaining_time": 4.136538187,
                        "test": [
                          0.06361821894
                        ]
                      },
                      {
                        "learn": [
                          0.01345357144
                        ],
                        "iteration": 654,
                        "passed_time": 7.824232984,
                        "remaining_time": 4.121160885,
                        "test": [
                          0.06362199936
                        ]
                      },
                      {
                        "learn": [
                          0.01343628423
                        ],
                        "iteration": 655,
                        "passed_time": 7.83440956,
                        "remaining_time": 4.10828794,
                        "test": [
                          0.06362026873
                        ]
                      },
                      {
                        "learn": [
                          0.01339205316
                        ],
                        "iteration": 656,
                        "passed_time": 7.842879483,
                        "remaining_time": 4.094532211,
                        "test": [
                          0.06363602834
                        ]
                      },
                      {
                        "learn": [
                          0.01337669448
                        ],
                        "iteration": 657,
                        "passed_time": 7.849761302,
                        "remaining_time": 4.079967121,
                        "test": [
                          0.06363323915
                        ]
                      },
                      {
                        "learn": [
                          0.01335904181
                        ],
                        "iteration": 658,
                        "passed_time": 7.857677448,
                        "remaining_time": 4.065960561,
                        "test": [
                          0.06363543009
                        ]
                      },
                      {
                        "learn": [
                          0.01335384362
                        ],
                        "iteration": 659,
                        "passed_time": 7.88904173,
                        "remaining_time": 4.0640518,
                        "test": [
                          0.06363458584
                        ]
                      },
                      {
                        "learn": [
                          0.01334222103
                        ],
                        "iteration": 660,
                        "passed_time": 7.896807674,
                        "remaining_time": 4.049951288,
                        "test": [
                          0.06363446668
                        ]
                      },
                      {
                        "learn": [
                          0.01332491093
                        ],
                        "iteration": 661,
                        "passed_time": 7.901845536,
                        "remaining_time": 4.034477026,
                        "test": [
                          0.06364027656
                        ]
                      },
                      {
                        "learn": [
                          0.01331489606
                        ],
                        "iteration": 662,
                        "passed_time": 7.921211403,
                        "remaining_time": 4.026317108,
                        "test": [
                          0.06364456543
                        ]
                      },
                      {
                        "learn": [
                          0.01330721645
                        ],
                        "iteration": 663,
                        "passed_time": 7.94147577,
                        "remaining_time": 4.0185781,
                        "test": [
                          0.06364579253
                        ]
                      },
                      {
                        "learn": [
                          0.01328944812
                        ],
                        "iteration": 664,
                        "passed_time": 7.950306604,
                        "remaining_time": 4.005041673,
                        "test": [
                          0.06364614042
                        ]
                      },
                      {
                        "learn": [
                          0.01325360591
                        ],
                        "iteration": 665,
                        "passed_time": 7.956651496,
                        "remaining_time": 3.990272672,
                        "test": [
                          0.06362767519
                        ]
                      },
                      {
                        "learn": [
                          0.01321280423
                        ],
                        "iteration": 666,
                        "passed_time": 7.963404515,
                        "remaining_time": 3.975732689,
                        "test": [
                          0.06361621321
                        ]
                      },
                      {
                        "learn": [
                          0.01318036232
                        ],
                        "iteration": 667,
                        "passed_time": 7.968363616,
                        "remaining_time": 3.960324432,
                        "test": [
                          0.06360984048
                        ]
                      },
                      {
                        "learn": [
                          0.01316752262
                        ],
                        "iteration": 668,
                        "passed_time": 7.97739048,
                        "remaining_time": 3.946960013,
                        "test": [
                          0.06360405044
                        ]
                      },
                      {
                        "learn": [
                          0.01313705964
                        ],
                        "iteration": 669,
                        "passed_time": 8.002584917,
                        "remaining_time": 3.941571676,
                        "test": [
                          0.06362008537
                        ]
                      },
                      {
                        "learn": [
                          0.01313434772
                        ],
                        "iteration": 670,
                        "passed_time": 8.031493475,
                        "remaining_time": 3.937945385,
                        "test": [
                          0.06361862699
                        ]
                      },
                      {
                        "learn": [
                          0.01313161171
                        ],
                        "iteration": 671,
                        "passed_time": 8.047069883,
                        "remaining_time": 3.927736491,
                        "test": [
                          0.06362059945
                        ]
                      },
                      {
                        "learn": [
                          0.01312563872
                        ],
                        "iteration": 672,
                        "passed_time": 8.083387269,
                        "remaining_time": 3.927589357,
                        "test": [
                          0.06362181182
                        ]
                      },
                      {
                        "learn": [
                          0.01312038535
                        ],
                        "iteration": 673,
                        "passed_time": 8.122865152,
                        "remaining_time": 3.92886356,
                        "test": [
                          0.06362402755
                        ]
                      },
                      {
                        "learn": [
                          0.01311985243
                        ],
                        "iteration": 674,
                        "passed_time": 8.142502763,
                        "remaining_time": 3.920464293,
                        "test": [
                          0.06362476548
                        ]
                      },
                      {
                        "learn": [
                          0.01311127711
                        ],
                        "iteration": 675,
                        "passed_time": 8.165727272,
                        "remaining_time": 3.913750941,
                        "test": [
                          0.06362314717
                        ]
                      },
                      {
                        "learn": [
                          0.01309865486
                        ],
                        "iteration": 676,
                        "passed_time": 8.179896378,
                        "remaining_time": 3.902668434,
                        "test": [
                          0.06361806813
                        ]
                      },
                      {
                        "learn": [
                          0.01306564838
                        ],
                        "iteration": 677,
                        "passed_time": 8.189186335,
                        "remaining_time": 3.889259587,
                        "test": [
                          0.06362200207
                        ]
                      },
                      {
                        "learn": [
                          0.01305642379
                        ],
                        "iteration": 678,
                        "passed_time": 8.213633233,
                        "remaining_time": 3.883028377,
                        "test": [
                          0.06362081514
                        ]
                      },
                      {
                        "learn": [
                          0.01301965513
                        ],
                        "iteration": 679,
                        "passed_time": 8.230856737,
                        "remaining_time": 3.873344347,
                        "test": [
                          0.06360117861
                        ]
                      },
                      {
                        "learn": [
                          0.01299046036
                        ],
                        "iteration": 680,
                        "passed_time": 8.245817446,
                        "remaining_time": 3.862578216,
                        "test": [
                          0.06359525693
                        ]
                      },
                      {
                        "learn": [
                          0.01298477252
                        ],
                        "iteration": 681,
                        "passed_time": 8.26501958,
                        "remaining_time": 3.853777458,
                        "test": [
                          0.06359644579
                        ]
                      },
                      {
                        "learn": [
                          0.01298219704
                        ],
                        "iteration": 682,
                        "passed_time": 8.276653317,
                        "remaining_time": 3.841433531,
                        "test": [
                          0.06359540187
                        ]
                      },
                      {
                        "learn": [
                          0.01294957836
                        ],
                        "iteration": 683,
                        "passed_time": 8.287861963,
                        "remaining_time": 3.828895293,
                        "test": [
                          0.06359616271
                        ]
                      },
                      {
                        "learn": [
                          0.01291423071
                        ],
                        "iteration": 684,
                        "passed_time": 8.309905552,
                        "remaining_time": 3.821343429,
                        "test": [
                          0.06361113585
                        ]
                      },
                      {
                        "learn": [
                          0.01290834012
                        ],
                        "iteration": 685,
                        "passed_time": 8.320410587,
                        "remaining_time": 3.80846782,
                        "test": [
                          0.06361220658
                        ]
                      },
                      {
                        "learn": [
                          0.01290247761
                        ],
                        "iteration": 686,
                        "passed_time": 8.331331638,
                        "remaining_time": 3.79578865,
                        "test": [
                          0.06361855764
                        ]
                      },
                      {
                        "learn": [
                          0.01288820422
                        ],
                        "iteration": 687,
                        "passed_time": 8.355618744,
                        "remaining_time": 3.789175942,
                        "test": [
                          0.06361752213
                        ]
                      },
                      {
                        "learn": [
                          0.01287770973
                        ],
                        "iteration": 688,
                        "passed_time": 8.366328643,
                        "remaining_time": 3.776383466,
                        "test": [
                          0.06361304935
                        ]
                      },
                      {
                        "learn": [
                          0.01284358581
                        ],
                        "iteration": 689,
                        "passed_time": 8.37097258,
                        "remaining_time": 3.760871739,
                        "test": [
                          0.06361663222
                        ]
                      },
                      {
                        "learn": [
                          0.01282548232
                        ],
                        "iteration": 690,
                        "passed_time": 8.378752522,
                        "remaining_time": 3.74679382,
                        "test": [
                          0.06362510032
                        ]
                      },
                      {
                        "learn": [
                          0.01280579751
                        ],
                        "iteration": 691,
                        "passed_time": 8.384001626,
                        "remaining_time": 3.73160766,
                        "test": [
                          0.06361867205
                        ]
                      },
                      {
                        "learn": [
                          0.01279157072
                        ],
                        "iteration": 692,
                        "passed_time": 8.398504587,
                        "remaining_time": 3.720549651,
                        "test": [
                          0.0636136361
                        ]
                      },
                      {
                        "learn": [
                          0.012779266
                        ],
                        "iteration": 693,
                        "passed_time": 8.410499416,
                        "remaining_time": 3.708375823,
                        "test": [
                          0.06361274915
                        ]
                      },
                      {
                        "learn": [
                          0.01277608676
                        ],
                        "iteration": 694,
                        "passed_time": 8.435612675,
                        "remaining_time": 3.701959519,
                        "test": [
                          0.06361391584
                        ]
                      },
                      {
                        "learn": [
                          0.01276356025
                        ],
                        "iteration": 695,
                        "passed_time": 8.446058198,
                        "remaining_time": 3.689082891,
                        "test": [
                          0.06361987102
                        ]
                      },
                      {
                        "learn": [
                          0.01274813658
                        ],
                        "iteration": 696,
                        "passed_time": 8.457933499,
                        "remaining_time": 3.676834792,
                        "test": [
                          0.06361920775
                        ]
                      },
                      {
                        "learn": [
                          0.01274780119
                        ],
                        "iteration": 697,
                        "passed_time": 8.470535001,
                        "remaining_time": 3.664901963,
                        "test": [
                          0.06361970709
                        ]
                      },
                      {
                        "learn": [
                          0.01274432725
                        ],
                        "iteration": 698,
                        "passed_time": 8.479265605,
                        "remaining_time": 3.651300353,
                        "test": [
                          0.06361982228
                        ]
                      },
                      {
                        "learn": [
                          0.0127308892
                        ],
                        "iteration": 699,
                        "passed_time": 8.495248349,
                        "remaining_time": 3.640820721,
                        "test": [
                          0.06362207079
                        ]
                      },
                      {
                        "learn": [
                          0.01272652244
                        ],
                        "iteration": 700,
                        "passed_time": 8.505616056,
                        "remaining_time": 3.627930386,
                        "test": [
                          0.06362149469
                        ]
                      },
                      {
                        "learn": [
                          0.01272225278
                        ],
                        "iteration": 701,
                        "passed_time": 8.520295272,
                        "remaining_time": 3.61687748,
                        "test": [
                          0.06362318369
                        ]
                      },
                      {
                        "learn": [
                          0.01269661327
                        ],
                        "iteration": 702,
                        "passed_time": 8.53340288,
                        "remaining_time": 3.605150292,
                        "test": [
                          0.06363148686
                        ]
                      },
                      {
                        "learn": [
                          0.01269283077
                        ],
                        "iteration": 703,
                        "passed_time": 8.543924632,
                        "remaining_time": 3.592331947,
                        "test": [
                          0.06363835215
                        ]
                      },
                      {
                        "learn": [
                          0.01269051583
                        ],
                        "iteration": 704,
                        "passed_time": 8.553654044,
                        "remaining_time": 3.579188572,
                        "test": [
                          0.06363966683
                        ]
                      },
                      {
                        "learn": [
                          0.01269007234
                        ],
                        "iteration": 705,
                        "passed_time": 8.564124617,
                        "remaining_time": 3.566363509,
                        "test": [
                          0.06364058482
                        ]
                      },
                      {
                        "learn": [
                          0.01266932449
                        ],
                        "iteration": 706,
                        "passed_time": 8.576962716,
                        "remaining_time": 3.554526274,
                        "test": [
                          0.0636300049
                        ]
                      },
                      {
                        "learn": [
                          0.01264380827
                        ],
                        "iteration": 707,
                        "passed_time": 8.588869162,
                        "remaining_time": 3.542301971,
                        "test": [
                          0.06361245358
                        ]
                      },
                      {
                        "learn": [
                          0.01264120369
                        ],
                        "iteration": 708,
                        "passed_time": 8.600679368,
                        "remaining_time": 3.530039063,
                        "test": [
                          0.06361532959
                        ]
                      },
                      {
                        "learn": [
                          0.01263513845
                        ],
                        "iteration": 709,
                        "passed_time": 8.610392207,
                        "remaining_time": 3.516920761,
                        "test": [
                          0.06361734687
                        ]
                      },
                      {
                        "learn": [
                          0.01261993818
                        ],
                        "iteration": 710,
                        "passed_time": 8.644095294,
                        "remaining_time": 3.513563347,
                        "test": [
                          0.06361666859
                        ]
                      },
                      {
                        "learn": [
                          0.0126071203
                        ],
                        "iteration": 711,
                        "passed_time": 8.679844539,
                        "remaining_time": 3.510948353,
                        "test": [
                          0.06361324124
                        ]
                      },
                      {
                        "learn": [
                          0.01260025628
                        ],
                        "iteration": 712,
                        "passed_time": 8.726367445,
                        "remaining_time": 3.512577078,
                        "test": [
                          0.06361674089
                        ]
                      },
                      {
                        "learn": [
                          0.01258956281
                        ],
                        "iteration": 713,
                        "passed_time": 8.744269004,
                        "remaining_time": 3.502606352,
                        "test": [
                          0.06361843887
                        ]
                      },
                      {
                        "learn": [
                          0.01256528625
                        ],
                        "iteration": 714,
                        "passed_time": 8.756436748,
                        "remaining_time": 3.490327935,
                        "test": [
                          0.0636081451
                        ]
                      },
                      {
                        "learn": [
                          0.01253579664
                        ],
                        "iteration": 715,
                        "passed_time": 8.767338715,
                        "remaining_time": 3.477547759,
                        "test": [
                          0.06359684708
                        ]
                      },
                      {
                        "learn": [
                          0.0124973772
                        ],
                        "iteration": 716,
                        "passed_time": 8.777017262,
                        "remaining_time": 3.464289937,
                        "test": [
                          0.06359630592
                        ]
                      },
                      {
                        "learn": [
                          0.01249554218
                        ],
                        "iteration": 717,
                        "passed_time": 8.808188715,
                        "remaining_time": 3.45948359,
                        "test": [
                          0.06359599321
                        ]
                      },
                      {
                        "learn": [
                          0.01249316211
                        ],
                        "iteration": 718,
                        "passed_time": 8.828914751,
                        "remaining_time": 3.45052162,
                        "test": [
                          0.06359378372
                        ]
                      },
                      {
                        "learn": [
                          0.01249090899
                        ],
                        "iteration": 719,
                        "passed_time": 8.839617289,
                        "remaining_time": 3.437628946,
                        "test": [
                          0.06359513327
                        ]
                      },
                      {
                        "learn": [
                          0.01248694662
                        ],
                        "iteration": 720,
                        "passed_time": 8.851549632,
                        "remaining_time": 3.425218235,
                        "test": [
                          0.06359707538
                        ]
                      },
                      {
                        "learn": [
                          0.01247353508
                        ],
                        "iteration": 721,
                        "passed_time": 8.861643805,
                        "remaining_time": 3.412101077,
                        "test": [
                          0.06360202859
                        ]
                      },
                      {
                        "learn": [
                          0.01247327395
                        ],
                        "iteration": 722,
                        "passed_time": 8.871401429,
                        "remaining_time": 3.398863341,
                        "test": [
                          0.06359975855
                        ]
                      },
                      {
                        "learn": [
                          0.01246412494
                        ],
                        "iteration": 723,
                        "passed_time": 8.882061174,
                        "remaining_time": 3.385979122,
                        "test": [
                          0.06359637257
                        ]
                      },
                      {
                        "learn": [
                          0.0124538391
                        ],
                        "iteration": 724,
                        "passed_time": 8.896536033,
                        "remaining_time": 3.37454815,
                        "test": [
                          0.063595158
                        ]
                      },
                      {
                        "learn": [
                          0.01244104485
                        ],
                        "iteration": 725,
                        "passed_time": 8.906322381,
                        "remaining_time": 3.361339301,
                        "test": [
                          0.06359390948
                        ]
                      },
                      {
                        "learn": [
                          0.01242067561
                        ],
                        "iteration": 726,
                        "passed_time": 8.91743379,
                        "remaining_time": 3.348637448,
                        "test": [
                          0.06358848923
                        ]
                      },
                      {
                        "learn": [
                          0.01241313067
                        ],
                        "iteration": 727,
                        "passed_time": 8.928160359,
                        "remaining_time": 3.335796178,
                        "test": [
                          0.06358694194
                        ]
                      },
                      {
                        "learn": [
                          0.01240838917
                        ],
                        "iteration": 728,
                        "passed_time": 8.937982215,
                        "remaining_time": 3.32262439,
                        "test": [
                          0.06358814315
                        ]
                      },
                      {
                        "learn": [
                          0.0123982143
                        ],
                        "iteration": 729,
                        "passed_time": 8.948630708,
                        "remaining_time": 3.309767522,
                        "test": [
                          0.06358497951
                        ]
                      },
                      {
                        "learn": [
                          0.01239550026
                        ],
                        "iteration": 730,
                        "passed_time": 8.958740314,
                        "remaining_time": 3.296718392,
                        "test": [
                          0.06358330514
                        ]
                      },
                      {
                        "learn": [
                          0.01238510966
                        ],
                        "iteration": 731,
                        "passed_time": 8.980250664,
                        "remaining_time": 3.287851336,
                        "test": [
                          0.06358283799
                        ]
                      },
                      {
                        "learn": [
                          0.01237451418
                        ],
                        "iteration": 732,
                        "passed_time": 8.992002647,
                        "remaining_time": 3.275395234,
                        "test": [
                          0.06358448891
                        ]
                      },
                      {
                        "learn": [
                          0.01234386457
                        ],
                        "iteration": 733,
                        "passed_time": 9.001672532,
                        "remaining_time": 3.262186504,
                        "test": [
                          0.06357682252
                        ]
                      },
                      {
                        "learn": [
                          0.01233017915
                        ],
                        "iteration": 734,
                        "passed_time": 9.014761478,
                        "remaining_time": 3.250220125,
                        "test": [
                          0.06357837086
                        ]
                      },
                      {
                        "learn": [
                          0.01231486637
                        ],
                        "iteration": 735,
                        "passed_time": 9.029459803,
                        "remaining_time": 3.238827973,
                        "test": [
                          0.06357733887
                        ]
                      },
                      {
                        "learn": [
                          0.01230493298
                        ],
                        "iteration": 736,
                        "passed_time": 9.053819418,
                        "remaining_time": 3.230874501,
                        "test": [
                          0.06358348418
                        ]
                      },
                      {
                        "learn": [
                          0.01228208866
                        ],
                        "iteration": 737,
                        "passed_time": 9.071422771,
                        "remaining_time": 3.220478003,
                        "test": [
                          0.06357663799
                        ]
                      },
                      {
                        "learn": [
                          0.01227026084
                        ],
                        "iteration": 738,
                        "passed_time": 9.083943382,
                        "remaining_time": 3.208266878,
                        "test": [
                          0.06357698697
                        ]
                      },
                      {
                        "learn": [
                          0.01222824182
                        ],
                        "iteration": 739,
                        "passed_time": 9.096295943,
                        "remaining_time": 3.195995872,
                        "test": [
                          0.06357616535
                        ]
                      },
                      {
                        "learn": [
                          0.01220751745
                        ],
                        "iteration": 740,
                        "passed_time": 9.107827556,
                        "remaining_time": 3.183437702,
                        "test": [
                          0.0635699825
                        ]
                      },
                      {
                        "learn": [
                          0.01219370997
                        ],
                        "iteration": 741,
                        "passed_time": 9.119553301,
                        "remaining_time": 3.1709498,
                        "test": [
                          0.06356655156
                        ]
                      },
                      {
                        "learn": [
                          0.01218176678
                        ],
                        "iteration": 742,
                        "passed_time": 9.131576558,
                        "remaining_time": 3.158566858,
                        "test": [
                          0.0635731741
                        ]
                      },
                      {
                        "learn": [
                          0.01217890865
                        ],
                        "iteration": 743,
                        "passed_time": 9.143019249,
                        "remaining_time": 3.145985118,
                        "test": [
                          0.06357918127
                        ]
                      },
                      {
                        "learn": [
                          0.01216154093
                        ],
                        "iteration": 744,
                        "passed_time": 9.150879553,
                        "remaining_time": 3.13218025,
                        "test": [
                          0.06358146547
                        ]
                      },
                      {
                        "learn": [
                          0.01215174886
                        ],
                        "iteration": 745,
                        "passed_time": 9.160100888,
                        "remaining_time": 3.118854726,
                        "test": [
                          0.06358033572
                        ]
                      },
                      {
                        "learn": [
                          0.0121487249
                        ],
                        "iteration": 746,
                        "passed_time": 9.165979918,
                        "remaining_time": 3.104408192,
                        "test": [
                          0.06357983271
                        ]
                      },
                      {
                        "learn": [
                          0.01214325274
                        ],
                        "iteration": 747,
                        "passed_time": 9.174164364,
                        "remaining_time": 3.090761256,
                        "test": [
                          0.06358295146
                        ]
                      },
                      {
                        "learn": [
                          0.01213134819
                        ],
                        "iteration": 748,
                        "passed_time": 9.181446759,
                        "remaining_time": 3.076826617,
                        "test": [
                          0.06358023637
                        ]
                      },
                      {
                        "learn": [
                          0.0121134897
                        ],
                        "iteration": 749,
                        "passed_time": 9.191013633,
                        "remaining_time": 3.063671211,
                        "test": [
                          0.06358105585
                        ]
                      },
                      {
                        "learn": [
                          0.01209276085
                        ],
                        "iteration": 750,
                        "passed_time": 9.197203618,
                        "remaining_time": 3.049405727,
                        "test": [
                          0.06356716178
                        ]
                      },
                      {
                        "learn": [
                          0.01208360625
                        ],
                        "iteration": 751,
                        "passed_time": 9.20857968,
                        "remaining_time": 3.036872022,
                        "test": [
                          0.06357333026
                        ]
                      },
                      {
                        "learn": [
                          0.01206485265
                        ],
                        "iteration": 752,
                        "passed_time": 9.218709507,
                        "remaining_time": 3.0239326,
                        "test": [
                          0.06357476515
                        ]
                      },
                      {
                        "learn": [
                          0.01206275787
                        ],
                        "iteration": 753,
                        "passed_time": 9.22981879,
                        "remaining_time": 3.011320189,
                        "test": [
                          0.06357592218
                        ]
                      },
                      {
                        "learn": [
                          0.01205274829
                        ],
                        "iteration": 754,
                        "passed_time": 9.241878584,
                        "remaining_time": 2.999020203,
                        "test": [
                          0.06357541499
                        ]
                      },
                      {
                        "learn": [
                          0.01205037505
                        ],
                        "iteration": 755,
                        "passed_time": 9.2569769,
                        "remaining_time": 2.987701539,
                        "test": [
                          0.06357605494
                        ]
                      },
                      {
                        "learn": [
                          0.01204441883
                        ],
                        "iteration": 756,
                        "passed_time": 9.265767931,
                        "remaining_time": 2.974348226,
                        "test": [
                          0.06357430832
                        ]
                      },
                      {
                        "learn": [
                          0.01202743023
                        ],
                        "iteration": 757,
                        "passed_time": 9.276050214,
                        "remaining_time": 2.96148305,
                        "test": [
                          0.06357728918
                        ]
                      },
                      {
                        "learn": [
                          0.01200136481
                        ],
                        "iteration": 758,
                        "passed_time": 9.28753111,
                        "remaining_time": 2.949005267,
                        "test": [
                          0.0635794632
                        ]
                      },
                      {
                        "learn": [
                          0.0119961595
                        ],
                        "iteration": 759,
                        "passed_time": 9.298389481,
                        "remaining_time": 2.93633352,
                        "test": [
                          0.06358095578
                        ]
                      },
                      {
                        "learn": [
                          0.0119876557
                        ],
                        "iteration": 760,
                        "passed_time": 9.310421056,
                        "remaining_time": 2.924034997,
                        "test": [
                          0.06357471699
                        ]
                      },
                      {
                        "learn": [
                          0.01194922212
                        ],
                        "iteration": 761,
                        "passed_time": 9.322518285,
                        "remaining_time": 2.91175768,
                        "test": [
                          0.06357748305
                        ]
                      },
                      {
                        "learn": [
                          0.01194267199
                        ],
                        "iteration": 762,
                        "passed_time": 9.33200215,
                        "remaining_time": 2.898669082,
                        "test": [
                          0.06356483746
                        ]
                      },
                      {
                        "learn": [
                          0.011937199
                        ],
                        "iteration": 763,
                        "passed_time": 9.341625786,
                        "remaining_time": 2.885633096,
                        "test": [
                          0.0635647806
                        ]
                      },
                      {
                        "learn": [
                          0.01193114407
                        ],
                        "iteration": 764,
                        "passed_time": 9.351050397,
                        "remaining_time": 2.872544893,
                        "test": [
                          0.06356157759
                        ]
                      },
                      {
                        "learn": [
                          0.01192425922
                        ],
                        "iteration": 765,
                        "passed_time": 9.363012556,
                        "remaining_time": 2.860241434,
                        "test": [
                          0.06355130365
                        ]
                      },
                      {
                        "learn": [
                          0.01191601017
                        ],
                        "iteration": 766,
                        "passed_time": 9.385936542,
                        "remaining_time": 2.851268858,
                        "test": [
                          0.06354885399
                        ]
                      },
                      {
                        "learn": [
                          0.01189808342
                        ],
                        "iteration": 767,
                        "passed_time": 9.409543076,
                        "remaining_time": 2.842466138,
                        "test": [
                          0.06354107519
                        ]
                      },
                      {
                        "learn": [
                          0.01187938922
                        ],
                        "iteration": 768,
                        "passed_time": 9.42301635,
                        "remaining_time": 2.830580984,
                        "test": [
                          0.06353834527
                        ]
                      },
                      {
                        "learn": [
                          0.01185526136
                        ],
                        "iteration": 769,
                        "passed_time": 9.433868963,
                        "remaining_time": 2.817908911,
                        "test": [
                          0.06353644053
                        ]
                      },
                      {
                        "learn": [
                          0.0118542927
                        ],
                        "iteration": 770,
                        "passed_time": 9.442241291,
                        "remaining_time": 2.804504871,
                        "test": [
                          0.06353644063
                        ]
                      },
                      {
                        "learn": [
                          0.01182373703
                        ],
                        "iteration": 771,
                        "passed_time": 9.450170264,
                        "remaining_time": 2.790982928,
                        "test": [
                          0.06352348054
                        ]
                      },
                      {
                        "learn": [
                          0.01181452317
                        ],
                        "iteration": 772,
                        "passed_time": 9.457085162,
                        "remaining_time": 2.777177661,
                        "test": [
                          0.06350553886
                        ]
                      },
                      {
                        "learn": [
                          0.01181151138
                        ],
                        "iteration": 773,
                        "passed_time": 9.466238905,
                        "remaining_time": 2.764043918,
                        "test": [
                          0.06350486421
                        ]
                      },
                      {
                        "learn": [
                          0.01179243081
                        ],
                        "iteration": 774,
                        "passed_time": 9.474710375,
                        "remaining_time": 2.750722367,
                        "test": [
                          0.06349933317
                        ]
                      },
                      {
                        "learn": [
                          0.01178367877
                        ],
                        "iteration": 775,
                        "passed_time": 9.481762298,
                        "remaining_time": 2.73700355,
                        "test": [
                          0.06349773289
                        ]
                      },
                      {
                        "learn": [
                          0.011774582
                        ],
                        "iteration": 776,
                        "passed_time": 9.494996051,
                        "remaining_time": 2.725076087,
                        "test": [
                          0.06349519045
                        ]
                      },
                      {
                        "learn": [
                          0.01174402101
                        ],
                        "iteration": 777,
                        "passed_time": 9.504970945,
                        "remaining_time": 2.71221536,
                        "test": [
                          0.063500565
                        ]
                      },
                      {
                        "learn": [
                          0.01173823305
                        ],
                        "iteration": 778,
                        "passed_time": 9.52178358,
                        "remaining_time": 2.701301889,
                        "test": [
                          0.06350355884
                        ]
                      },
                      {
                        "learn": [
                          0.01172694474
                        ],
                        "iteration": 779,
                        "passed_time": 9.543283149,
                        "remaining_time": 2.691695247,
                        "test": [
                          0.06350022155
                        ]
                      },
                      {
                        "learn": [
                          0.01169705249
                        ],
                        "iteration": 780,
                        "passed_time": 9.561119093,
                        "remaining_time": 2.681030834,
                        "test": [
                          0.06348760912
                        ]
                      },
                      {
                        "learn": [
                          0.01168997736
                        ],
                        "iteration": 781,
                        "passed_time": 9.571964216,
                        "remaining_time": 2.668399232,
                        "test": [
                          0.06347697978
                        ]
                      },
                      {
                        "learn": [
                          0.01168691633
                        ],
                        "iteration": 782,
                        "passed_time": 9.587907264,
                        "remaining_time": 2.657185027,
                        "test": [
                          0.06347413403
                        ]
                      },
                      {
                        "learn": [
                          0.01166984342
                        ],
                        "iteration": 783,
                        "passed_time": 9.624303274,
                        "remaining_time": 2.651593759,
                        "test": [
                          0.06348081807
                        ]
                      },
                      {
                        "learn": [
                          0.01164928033
                        ],
                        "iteration": 784,
                        "passed_time": 9.657148141,
                        "remaining_time": 2.644951402,
                        "test": [
                          0.06346913905
                        ]
                      },
                      {
                        "learn": [
                          0.01164310248
                        ],
                        "iteration": 785,
                        "passed_time": 9.684018953,
                        "remaining_time": 2.636615847,
                        "test": [
                          0.06346945738
                        ]
                      },
                      {
                        "learn": [
                          0.0116378709
                        ],
                        "iteration": 786,
                        "passed_time": 9.712333708,
                        "remaining_time": 2.62862399,
                        "test": [
                          0.06347107343
                        ]
                      },
                      {
                        "learn": [
                          0.01163712586
                        ],
                        "iteration": 787,
                        "passed_time": 9.753770063,
                        "remaining_time": 2.624110728,
                        "test": [
                          0.06347130576
                        ]
                      },
                      {
                        "learn": [
                          0.01159790498
                        ],
                        "iteration": 788,
                        "passed_time": 9.768638643,
                        "remaining_time": 2.612398927,
                        "test": [
                          0.06347141706
                        ]
                      },
                      {
                        "learn": [
                          0.01159316925
                        ],
                        "iteration": 789,
                        "passed_time": 9.788935617,
                        "remaining_time": 2.602122126,
                        "test": [
                          0.06347282341
                        ]
                      },
                      {
                        "learn": [
                          0.01156445459
                        ],
                        "iteration": 790,
                        "passed_time": 9.811475715,
                        "remaining_time": 2.592412673,
                        "test": [
                          0.06346419269
                        ]
                      },
                      {
                        "learn": [
                          0.01154607441
                        ],
                        "iteration": 791,
                        "passed_time": 9.822868077,
                        "remaining_time": 2.579743131,
                        "test": [
                          0.06346592734
                        ]
                      },
                      {
                        "learn": [
                          0.01152001444
                        ],
                        "iteration": 792,
                        "passed_time": 9.836462864,
                        "remaining_time": 2.567651719,
                        "test": [
                          0.06345729995
                        ]
                      },
                      {
                        "learn": [
                          0.01151937858
                        ],
                        "iteration": 793,
                        "passed_time": 9.846641278,
                        "remaining_time": 2.554670155,
                        "test": [
                          0.06345735982
                        ]
                      },
                      {
                        "learn": [
                          0.01149584259
                        ],
                        "iteration": 794,
                        "passed_time": 9.857672773,
                        "remaining_time": 2.541915621,
                        "test": [
                          0.06345382534
                        ]
                      },
                      {
                        "learn": [
                          0.01148509491
                        ],
                        "iteration": 795,
                        "passed_time": 9.869216368,
                        "remaining_time": 2.529296657,
                        "test": [
                          0.06344721443
                        ]
                      },
                      {
                        "learn": [
                          0.01147839551
                        ],
                        "iteration": 796,
                        "passed_time": 9.88024718,
                        "remaining_time": 2.516549784,
                        "test": [
                          0.06344671376
                        ]
                      },
                      {
                        "learn": [
                          0.01147327803
                        ],
                        "iteration": 797,
                        "passed_time": 9.889797418,
                        "remaining_time": 2.503432429,
                        "test": [
                          0.06344729014
                        ]
                      },
                      {
                        "learn": [
                          0.01147065229
                        ],
                        "iteration": 798,
                        "passed_time": 9.90141504,
                        "remaining_time": 2.490844084,
                        "test": [
                          0.06344730579
                        ]
                      },
                      {
                        "learn": [
                          0.01146564954
                        ],
                        "iteration": 799,
                        "passed_time": 9.912077236,
                        "remaining_time": 2.478019309,
                        "test": [
                          0.06344924537
                        ]
                      },
                      {
                        "learn": [
                          0.01144719642
                        ],
                        "iteration": 800,
                        "passed_time": 9.923703939,
                        "remaining_time": 2.465439555,
                        "test": [
                          0.06345288745
                        ]
                      },
                      {
                        "learn": [
                          0.01143561274
                        ],
                        "iteration": 801,
                        "passed_time": 9.935664199,
                        "remaining_time": 2.452944528,
                        "test": [
                          0.06345253974
                        ]
                      },
                      {
                        "learn": [
                          0.01141734431
                        ],
                        "iteration": 802,
                        "passed_time": 9.957429246,
                        "remaining_time": 2.442856241,
                        "test": [
                          0.06345440518
                        ]
                      },
                      {
                        "learn": [
                          0.01141006768
                        ],
                        "iteration": 803,
                        "passed_time": 9.972641543,
                        "remaining_time": 2.431141471,
                        "test": [
                          0.06345141003
                        ]
                      },
                      {
                        "learn": [
                          0.01140675507
                        ],
                        "iteration": 804,
                        "passed_time": 9.992137507,
                        "remaining_time": 2.420455669,
                        "test": [
                          0.06344946475
                        ]
                      },
                      {
                        "learn": [
                          0.01135915952
                        ],
                        "iteration": 805,
                        "passed_time": 10.00415289,
                        "remaining_time": 2.407947469,
                        "test": [
                          0.06343738541
                        ]
                      },
                      {
                        "learn": [
                          0.0113570911
                        ],
                        "iteration": 806,
                        "passed_time": 10.01214459,
                        "remaining_time": 2.394478197,
                        "test": [
                          0.06343887548
                        ]
                      },
                      {
                        "learn": [
                          0.01134569956
                        ],
                        "iteration": 807,
                        "passed_time": 10.06578169,
                        "remaining_time": 2.391868915,
                        "test": [
                          0.06343599872
                        ]
                      },
                      {
                        "learn": [
                          0.01134265998
                        ],
                        "iteration": 808,
                        "passed_time": 10.09588289,
                        "remaining_time": 2.383576801,
                        "test": [
                          0.06343311712
                        ]
                      },
                      {
                        "learn": [
                          0.01134220301
                        ],
                        "iteration": 809,
                        "passed_time": 10.11469925,
                        "remaining_time": 2.372583775,
                        "test": [
                          0.06343411512
                        ]
                      },
                      {
                        "learn": [
                          0.01133961556
                        ],
                        "iteration": 810,
                        "passed_time": 10.12830623,
                        "remaining_time": 2.360357432,
                        "test": [
                          0.06343372066
                        ]
                      },
                      {
                        "learn": [
                          0.01133489525
                        ],
                        "iteration": 811,
                        "passed_time": 10.15019947,
                        "remaining_time": 2.350046182,
                        "test": [
                          0.06343650997
                        ]
                      },
                      {
                        "learn": [
                          0.01130732791
                        ],
                        "iteration": 812,
                        "passed_time": 10.16106812,
                        "remaining_time": 2.33717065,
                        "test": [
                          0.06344812122
                        ]
                      },
                      {
                        "learn": [
                          0.01130119464
                        ],
                        "iteration": 813,
                        "passed_time": 10.17567761,
                        "remaining_time": 2.325154834,
                        "test": [
                          0.06344717422
                        ]
                      },
                      {
                        "learn": [
                          0.01129375834
                        ],
                        "iteration": 814,
                        "passed_time": 10.18691845,
                        "remaining_time": 2.312367991,
                        "test": [
                          0.06345325536
                        ]
                      },
                      {
                        "learn": [
                          0.01128213645
                        ],
                        "iteration": 815,
                        "passed_time": 10.20109451,
                        "remaining_time": 2.300246802,
                        "test": [
                          0.06345008267
                        ]
                      },
                      {
                        "learn": [
                          0.01127270639
                        ],
                        "iteration": 816,
                        "passed_time": 10.2122153,
                        "remaining_time": 2.28743623,
                        "test": [
                          0.06344939254
                        ]
                      },
                      {
                        "learn": [
                          0.01126088085
                        ],
                        "iteration": 817,
                        "passed_time": 10.22227044,
                        "remaining_time": 2.274392689,
                        "test": [
                          0.06345213635
                        ]
                      },
                      {
                        "learn": [
                          0.01125579915
                        ],
                        "iteration": 818,
                        "passed_time": 10.25153499,
                        "remaining_time": 2.265601749,
                        "test": [
                          0.06345442626
                        ]
                      },
                      {
                        "learn": [
                          0.01124630445
                        ],
                        "iteration": 819,
                        "passed_time": 10.27060693,
                        "remaining_time": 2.254523473,
                        "test": [
                          0.06345164035
                        ]
                      },
                      {
                        "learn": [
                          0.01122706356
                        ],
                        "iteration": 820,
                        "passed_time": 10.2861531,
                        "remaining_time": 2.242657009,
                        "test": [
                          0.06345516495
                        ]
                      },
                      {
                        "learn": [
                          0.01121120345
                        ],
                        "iteration": 821,
                        "passed_time": 10.29703288,
                        "remaining_time": 2.229771111,
                        "test": [
                          0.06346152235
                        ]
                      },
                      {
                        "learn": [
                          0.01121043285
                        ],
                        "iteration": 822,
                        "passed_time": 10.30708468,
                        "remaining_time": 2.216712016,
                        "test": [
                          0.06346239024
                        ]
                      },
                      {
                        "learn": [
                          0.01117848531
                        ],
                        "iteration": 823,
                        "passed_time": 10.31801037,
                        "remaining_time": 2.203846876,
                        "test": [
                          0.06345236754
                        ]
                      },
                      {
                        "learn": [
                          0.01117026835
                        ],
                        "iteration": 824,
                        "passed_time": 10.32952335,
                        "remaining_time": 2.191111014,
                        "test": [
                          0.06345058839
                        ]
                      },
                      {
                        "learn": [
                          0.01115420315
                        ],
                        "iteration": 825,
                        "passed_time": 10.34353128,
                        "remaining_time": 2.178903684,
                        "test": [
                          0.06345227861
                        ]
                      },
                      {
                        "learn": [
                          0.01112540013
                        ],
                        "iteration": 826,
                        "passed_time": 10.35547115,
                        "remaining_time": 2.166259383,
                        "test": [
                          0.06346063994
                        ]
                      },
                      {
                        "learn": [
                          0.01111344187
                        ],
                        "iteration": 827,
                        "passed_time": 10.3706695,
                        "remaining_time": 2.154293664,
                        "test": [
                          0.0634540933
                        ]
                      },
                      {
                        "learn": [
                          0.01109774946
                        ],
                        "iteration": 828,
                        "passed_time": 10.38000159,
                        "remaining_time": 2.1411101,
                        "test": [
                          0.06344938852
                        ]
                      },
                      {
                        "learn": [
                          0.0110917857
                        ],
                        "iteration": 829,
                        "passed_time": 10.38908096,
                        "remaining_time": 2.127884053,
                        "test": [
                          0.06344920303
                        ]
                      },
                      {
                        "learn": [
                          0.01108281161
                        ],
                        "iteration": 830,
                        "passed_time": 10.40613947,
                        "remaining_time": 2.116290699,
                        "test": [
                          0.06344936045
                        ]
                      },
                      {
                        "learn": [
                          0.01107566407
                        ],
                        "iteration": 831,
                        "passed_time": 10.4197955,
                        "remaining_time": 2.103997168,
                        "test": [
                          0.06344310388
                        ]
                      },
                      {
                        "learn": [
                          0.01107184094
                        ],
                        "iteration": 832,
                        "passed_time": 10.42996733,
                        "remaining_time": 2.091001854,
                        "test": [
                          0.06344145793
                        ]
                      },
                      {
                        "learn": [
                          0.01106949852
                        ],
                        "iteration": 833,
                        "passed_time": 10.43494318,
                        "remaining_time": 2.076979098,
                        "test": [
                          0.06344055437
                        ]
                      },
                      {
                        "learn": [
                          0.01105973771
                        ],
                        "iteration": 834,
                        "passed_time": 10.43987066,
                        "remaining_time": 2.062968453,
                        "test": [
                          0.06343941371
                        ]
                      },
                      {
                        "learn": [
                          0.01105138912
                        ],
                        "iteration": 835,
                        "passed_time": 10.44472057,
                        "remaining_time": 2.048964322,
                        "test": [
                          0.06343942042
                        ]
                      },
                      {
                        "learn": [
                          0.01104449628
                        ],
                        "iteration": 836,
                        "passed_time": 10.45030248,
                        "remaining_time": 2.035124617,
                        "test": [
                          0.06343532083
                        ]
                      },
                      {
                        "learn": [
                          0.01103894961
                        ],
                        "iteration": 837,
                        "passed_time": 10.45501547,
                        "remaining_time": 2.021136643,
                        "test": [
                          0.06343755008
                        ]
                      },
                      {
                        "learn": [
                          0.01101278514
                        ],
                        "iteration": 838,
                        "passed_time": 10.45975566,
                        "remaining_time": 2.007175997,
                        "test": [
                          0.0634450254
                        ]
                      },
                      {
                        "learn": [
                          0.01099149474
                        ],
                        "iteration": 839,
                        "passed_time": 10.46478343,
                        "remaining_time": 1.993292081,
                        "test": [
                          0.06343642866
                        ]
                      },
                      {
                        "learn": [
                          0.01097042711
                        ],
                        "iteration": 840,
                        "passed_time": 10.47055961,
                        "remaining_time": 1.979570723,
                        "test": [
                          0.06344557079
                        ]
                      },
                      {
                        "learn": [
                          0.01096041616
                        ],
                        "iteration": 841,
                        "passed_time": 10.47542978,
                        "remaining_time": 1.965698225,
                        "test": [
                          0.06344597229
                        ]
                      },
                      {
                        "learn": [
                          0.01095607566
                        ],
                        "iteration": 842,
                        "passed_time": 10.48047395,
                        "remaining_time": 1.95187949,
                        "test": [
                          0.06343945423
                        ]
                      },
                      {
                        "learn": [
                          0.01094835945
                        ],
                        "iteration": 843,
                        "passed_time": 10.48490764,
                        "remaining_time": 1.937968711,
                        "test": [
                          0.06343495221
                        ]
                      },
                      {
                        "learn": [
                          0.0109461982
                        ],
                        "iteration": 844,
                        "passed_time": 10.48971907,
                        "remaining_time": 1.924149652,
                        "test": [
                          0.06343487586
                        ]
                      },
                      {
                        "learn": [
                          0.01093140353
                        ],
                        "iteration": 845,
                        "passed_time": 10.49440011,
                        "remaining_time": 1.910328153,
                        "test": [
                          0.06343225791
                        ]
                      },
                      {
                        "learn": [
                          0.01092595908
                        ],
                        "iteration": 846,
                        "passed_time": 10.50015937,
                        "remaining_time": 1.896723003,
                        "test": [
                          0.06343342851
                        ]
                      },
                      {
                        "learn": [
                          0.01091476851
                        ],
                        "iteration": 847,
                        "passed_time": 10.50544431,
                        "remaining_time": 1.883051339,
                        "test": [
                          0.06343950755
                        ]
                      },
                      {
                        "learn": [
                          0.01091061799
                        ],
                        "iteration": 848,
                        "passed_time": 10.51025065,
                        "remaining_time": 1.869314309,
                        "test": [
                          0.06343637151
                        ]
                      },
                      {
                        "learn": [
                          0.0108980949
                        ],
                        "iteration": 849,
                        "passed_time": 10.51545647,
                        "remaining_time": 1.855668789,
                        "test": [
                          0.0634295783
                        ]
                      },
                      {
                        "learn": [
                          0.01088103685
                        ],
                        "iteration": 850,
                        "passed_time": 10.52072848,
                        "remaining_time": 1.842054693,
                        "test": [
                          0.06343882629
                        ]
                      },
                      {
                        "learn": [
                          0.0108525645
                        ],
                        "iteration": 851,
                        "passed_time": 10.52540285,
                        "remaining_time": 1.828356364,
                        "test": [
                          0.06344466734
                        ]
                      },
                      {
                        "learn": [
                          0.01085244048
                        ],
                        "iteration": 852,
                        "passed_time": 10.53218532,
                        "remaining_time": 1.815042488,
                        "test": [
                          0.06344489219
                        ]
                      },
                      {
                        "learn": [
                          0.01084872922
                        ],
                        "iteration": 853,
                        "passed_time": 10.5359728,
                        "remaining_time": 1.801231884,
                        "test": [
                          0.063447791
                        ]
                      },
                      {
                        "learn": [
                          0.01084111727
                        ],
                        "iteration": 854,
                        "passed_time": 10.54065464,
                        "remaining_time": 1.787596402,
                        "test": [
                          0.06344366152
                        ]
                      },
                      {
                        "learn": [
                          0.01081730351
                        ],
                        "iteration": 855,
                        "passed_time": 10.54688298,
                        "remaining_time": 1.774241997,
                        "test": [
                          0.06343464752
                        ]
                      },
                      {
                        "learn": [
                          0.0108077596
                        ],
                        "iteration": 856,
                        "passed_time": 10.55118791,
                        "remaining_time": 1.760583281,
                        "test": [
                          0.06343714073
                        ]
                      },
                      {
                        "learn": [
                          0.01080409362
                        ],
                        "iteration": 857,
                        "passed_time": 10.55912951,
                        "remaining_time": 1.747548241,
                        "test": [
                          0.06343567103
                        ]
                      },
                      {
                        "learn": [
                          0.01079309276
                        ],
                        "iteration": 858,
                        "passed_time": 10.58538469,
                        "remaining_time": 1.737531131,
                        "test": [
                          0.06343270111
                        ]
                      },
                      {
                        "learn": [
                          0.01078802349
                        ],
                        "iteration": 859,
                        "passed_time": 10.60524018,
                        "remaining_time": 1.726434448,
                        "test": [
                          0.06343212277
                        ]
                      },
                      {
                        "learn": [
                          0.01078263795
                        ],
                        "iteration": 860,
                        "passed_time": 10.612173,
                        "remaining_time": 1.713231181,
                        "test": [
                          0.0634300194
                        ]
                      },
                      {
                        "learn": [
                          0.01077853091
                        ],
                        "iteration": 861,
                        "passed_time": 10.66768984,
                        "remaining_time": 1.707820415,
                        "test": [
                          0.06342817459
                        ]
                      },
                      {
                        "learn": [
                          0.01076866986
                        ],
                        "iteration": 862,
                        "passed_time": 10.67817917,
                        "remaining_time": 1.695145477,
                        "test": [
                          0.06342456408
                        ]
                      },
                      {
                        "learn": [
                          0.01075592984
                        ],
                        "iteration": 863,
                        "passed_time": 10.69162785,
                        "remaining_time": 1.682941421,
                        "test": [
                          0.06342040524
                        ]
                      },
                      {
                        "learn": [
                          0.01074074793
                        ],
                        "iteration": 864,
                        "passed_time": 10.70252272,
                        "remaining_time": 1.670335916,
                        "test": [
                          0.06341591547
                        ]
                      },
                      {
                        "learn": [
                          0.0107159752
                        ],
                        "iteration": 865,
                        "passed_time": 10.7072542,
                        "remaining_time": 1.656780672,
                        "test": [
                          0.06342108926
                        ]
                      },
                      {
                        "learn": [
                          0.01069207998
                        ],
                        "iteration": 866,
                        "passed_time": 10.71170747,
                        "remaining_time": 1.643203106,
                        "test": [
                          0.06342304214
                        ]
                      },
                      {
                        "learn": [
                          0.01069038615
                        ],
                        "iteration": 867,
                        "passed_time": 10.71682768,
                        "remaining_time": 1.629747988,
                        "test": [
                          0.06342543343
                        ]
                      },
                      {
                        "learn": [
                          0.01067783097
                        ],
                        "iteration": 868,
                        "passed_time": 10.72218137,
                        "remaining_time": 1.616347248,
                        "test": [
                          0.06342429741
                        ]
                      },
                      {
                        "learn": [
                          0.01067778272
                        ],
                        "iteration": 869,
                        "passed_time": 10.72788528,
                        "remaining_time": 1.60301734,
                        "test": [
                          0.06342470621
                        ]
                      },
                      {
                        "learn": [
                          0.01066053059
                        ],
                        "iteration": 870,
                        "passed_time": 10.73291692,
                        "remaining_time": 1.589605377,
                        "test": [
                          0.06342791938
                        ]
                      },
                      {
                        "learn": [
                          0.01065186581
                        ],
                        "iteration": 871,
                        "passed_time": 10.73872133,
                        "remaining_time": 1.576326067,
                        "test": [
                          0.06342826864
                        ]
                      },
                      {
                        "learn": [
                          0.0106384769
                        ],
                        "iteration": 872,
                        "passed_time": 10.74385674,
                        "remaining_time": 1.562966559,
                        "test": [
                          0.06343027081
                        ]
                      },
                      {
                        "learn": [
                          0.01062016935
                        ],
                        "iteration": 873,
                        "passed_time": 10.75183692,
                        "remaining_time": 1.550035986,
                        "test": [
                          0.0634290855
                        ]
                      },
                      {
                        "learn": [
                          0.01059870986
                        ],
                        "iteration": 874,
                        "passed_time": 10.76037953,
                        "remaining_time": 1.537197075,
                        "test": [
                          0.06343355674
                        ]
                      },
                      {
                        "learn": [
                          0.01058780268
                        ],
                        "iteration": 875,
                        "passed_time": 10.76719108,
                        "remaining_time": 1.524122938,
                        "test": [
                          0.06343282047
                        ]
                      },
                      {
                        "learn": [
                          0.01058032201
                        ],
                        "iteration": 876,
                        "passed_time": 10.77209188,
                        "remaining_time": 1.510795098,
                        "test": [
                          0.06343294624
                        ]
                      },
                      {
                        "learn": [
                          0.01057271245
                        ],
                        "iteration": 877,
                        "passed_time": 10.77698477,
                        "remaining_time": 1.497485356,
                        "test": [
                          0.06343379641
                        ]
                      },
                      {
                        "learn": [
                          0.01057223442
                        ],
                        "iteration": 878,
                        "passed_time": 10.78194125,
                        "remaining_time": 1.484203516,
                        "test": [
                          0.06343594828
                        ]
                      },
                      {
                        "learn": [
                          0.01056779923
                        ],
                        "iteration": 879,
                        "passed_time": 10.78647218,
                        "remaining_time": 1.47088257,
                        "test": [
                          0.06343555247
                        ]
                      },
                      {
                        "learn": [
                          0.01055472279
                        ],
                        "iteration": 880,
                        "passed_time": 10.79160825,
                        "remaining_time": 1.457663316,
                        "test": [
                          0.06343875037
                        ]
                      },
                      {
                        "learn": [
                          0.01054402434
                        ],
                        "iteration": 881,
                        "passed_time": 10.79514646,
                        "remaining_time": 1.444248619,
                        "test": [
                          0.063443049
                        ]
                      },
                      {
                        "learn": [
                          0.01054067248
                        ],
                        "iteration": 882,
                        "passed_time": 10.80080647,
                        "remaining_time": 1.431137438,
                        "test": [
                          0.06344446517
                        ]
                      },
                      {
                        "learn": [
                          0.01052503402
                        ],
                        "iteration": 883,
                        "passed_time": 10.80491877,
                        "remaining_time": 1.417840019,
                        "test": [
                          0.0634429298
                        ]
                      },
                      {
                        "learn": [
                          0.01051027959
                        ],
                        "iteration": 884,
                        "passed_time": 10.81019935,
                        "remaining_time": 1.40471517,
                        "test": [
                          0.06342911552
                        ]
                      },
                      {
                        "learn": [
                          0.01049878798
                        ],
                        "iteration": 885,
                        "passed_time": 10.81523568,
                        "remaining_time": 1.3915766,
                        "test": [
                          0.06343405388
                        ]
                      },
                      {
                        "learn": [
                          0.01048538905
                        ],
                        "iteration": 886,
                        "passed_time": 10.81999043,
                        "remaining_time": 1.378420427,
                        "test": [
                          0.06343013701
                        ]
                      },
                      {
                        "learn": [
                          0.01048277838
                        ],
                        "iteration": 887,
                        "passed_time": 10.8261278,
                        "remaining_time": 1.36545756,
                        "test": [
                          0.06343209178
                        ]
                      },
                      {
                        "learn": [
                          0.01047035796
                        ],
                        "iteration": 888,
                        "passed_time": 10.83602679,
                        "remaining_time": 1.352979723,
                        "test": [
                          0.06343440263
                        ]
                      },
                      {
                        "learn": [
                          0.01044883099
                        ],
                        "iteration": 889,
                        "passed_time": 10.85213186,
                        "remaining_time": 1.341274724,
                        "test": [
                          0.06342862254
                        ]
                      },
                      {
                        "learn": [
                          0.01044464074
                        ],
                        "iteration": 890,
                        "passed_time": 10.87372017,
                        "remaining_time": 1.330230638,
                        "test": [
                          0.06343128454
                        ]
                      },
                      {
                        "learn": [
                          0.01044162646
                        ],
                        "iteration": 891,
                        "passed_time": 10.88657647,
                        "remaining_time": 1.318105672,
                        "test": [
                          0.06343079619
                        ]
                      },
                      {
                        "learn": [
                          0.01042908453
                        ],
                        "iteration": 892,
                        "passed_time": 10.89882918,
                        "remaining_time": 1.305906744,
                        "test": [
                          0.06342992063
                        ]
                      },
                      {
                        "learn": [
                          0.0104266696
                        ],
                        "iteration": 893,
                        "passed_time": 10.93164671,
                        "remaining_time": 1.29614603,
                        "test": [
                          0.06342874415
                        ]
                      },
                      {
                        "learn": [
                          0.01039540095
                        ],
                        "iteration": 894,
                        "passed_time": 10.95822894,
                        "remaining_time": 1.285602278,
                        "test": [
                          0.06340783767
                        ]
                      },
                      {
                        "learn": [
                          0.01037657587
                        ],
                        "iteration": 895,
                        "passed_time": 10.96772287,
                        "remaining_time": 1.273039261,
                        "test": [
                          0.0634125406
                        ]
                      },
                      {
                        "learn": [
                          0.01037165848
                        ],
                        "iteration": 896,
                        "passed_time": 10.99461902,
                        "remaining_time": 1.262481336,
                        "test": [
                          0.06341274629
                        ]
                      },
                      {
                        "learn": [
                          0.01036737014
                        ],
                        "iteration": 897,
                        "passed_time": 11.00896816,
                        "remaining_time": 1.250461862,
                        "test": [
                          0.06341318029
                        ]
                      },
                      {
                        "learn": [
                          0.01035857477
                        ],
                        "iteration": 898,
                        "passed_time": 11.02405599,
                        "remaining_time": 1.238520195,
                        "test": [
                          0.06341409779
                        ]
                      },
                      {
                        "learn": [
                          0.01033245141
                        ],
                        "iteration": 899,
                        "passed_time": 11.03426899,
                        "remaining_time": 1.226029888,
                        "test": [
                          0.06341701465
                        ]
                      },
                      {
                        "learn": [
                          0.01032005187
                        ],
                        "iteration": 900,
                        "passed_time": 11.04498643,
                        "remaining_time": 1.213600063,
                        "test": [
                          0.06340968688
                        ]
                      },
                      {
                        "learn": [
                          0.01030889239
                        ],
                        "iteration": 901,
                        "passed_time": 11.05628703,
                        "remaining_time": 1.201237393,
                        "test": [
                          0.06340552681
                        ]
                      },
                      {
                        "learn": [
                          0.01030807941
                        ],
                        "iteration": 902,
                        "passed_time": 11.08135267,
                        "remaining_time": 1.190355713,
                        "test": [
                          0.06340543628
                        ]
                      },
                      {
                        "learn": [
                          0.01030413991
                        ],
                        "iteration": 903,
                        "passed_time": 11.1059622,
                        "remaining_time": 1.179394216,
                        "test": [
                          0.06340508156
                        ]
                      },
                      {
                        "learn": [
                          0.0102731054
                        ],
                        "iteration": 904,
                        "passed_time": 11.1187648,
                        "remaining_time": 1.167163155,
                        "test": [
                          0.06340815304
                        ]
                      },
                      {
                        "learn": [
                          0.01026803316
                        ],
                        "iteration": 905,
                        "passed_time": 11.1264638,
                        "remaining_time": 1.154401321,
                        "test": [
                          0.06340628136
                        ]
                      },
                      {
                        "learn": [
                          0.01026691046
                        ],
                        "iteration": 906,
                        "passed_time": 11.13150636,
                        "remaining_time": 1.141378271,
                        "test": [
                          0.06340458879
                        ]
                      },
                      {
                        "learn": [
                          0.01026566465
                        ],
                        "iteration": 907,
                        "passed_time": 11.13755715,
                        "remaining_time": 1.128474953,
                        "test": [
                          0.06340374919
                        ]
                      },
                      {
                        "learn": [
                          0.0102641202
                        ],
                        "iteration": 908,
                        "passed_time": 11.14223772,
                        "remaining_time": 1.11544954,
                        "test": [
                          0.06339842281
                        ]
                      },
                      {
                        "learn": [
                          0.01026037385
                        ],
                        "iteration": 909,
                        "passed_time": 11.14676818,
                        "remaining_time": 1.102427623,
                        "test": [
                          0.06340697589
                        ]
                      },
                      {
                        "learn": [
                          0.01025818808
                        ],
                        "iteration": 910,
                        "passed_time": 11.152471,
                        "remaining_time": 1.089538879,
                        "test": [
                          0.06340684194
                        ]
                      },
                      {
                        "learn": [
                          0.01020986154
                        ],
                        "iteration": 911,
                        "passed_time": 11.15694103,
                        "remaining_time": 1.076546941,
                        "test": [
                          0.06341467932
                        ]
                      },
                      {
                        "learn": [
                          0.01020444433
                        ],
                        "iteration": 912,
                        "passed_time": 11.16220936,
                        "remaining_time": 1.063649742,
                        "test": [
                          0.06341521666
                        ]
                      },
                      {
                        "learn": [
                          0.01020045707
                        ],
                        "iteration": 913,
                        "passed_time": 11.16759155,
                        "remaining_time": 1.050779949,
                        "test": [
                          0.0634157811
                        ]
                      },
                      {
                        "learn": [
                          0.01019971209
                        ],
                        "iteration": 914,
                        "passed_time": 11.17350452,
                        "remaining_time": 1.03797583,
                        "test": [
                          0.0634154089
                        ]
                      },
                      {
                        "learn": [
                          0.01019144611
                        ],
                        "iteration": 915,
                        "passed_time": 11.1790309,
                        "remaining_time": 1.025151305,
                        "test": [
                          0.06341663683
                        ]
                      },
                      {
                        "learn": [
                          0.01018233906
                        ],
                        "iteration": 916,
                        "passed_time": 11.18425743,
                        "remaining_time": 1.012315558,
                        "test": [
                          0.06341703284
                        ]
                      },
                      {
                        "learn": [
                          0.01017935224
                        ],
                        "iteration": 917,
                        "passed_time": 11.1899332,
                        "remaining_time": 0.9995365166,
                        "test": [
                          0.06341848303
                        ]
                      },
                      {
                        "learn": [
                          0.01017871632
                        ],
                        "iteration": 918,
                        "passed_time": 11.19483753,
                        "remaining_time": 0.9867049402,
                        "test": [
                          0.06341799543
                        ]
                      },
                      {
                        "learn": [
                          0.01015773885
                        ],
                        "iteration": 919,
                        "passed_time": 11.19980392,
                        "remaining_time": 0.9738959932,
                        "test": [
                          0.0634092536
                        ]
                      },
                      {
                        "learn": [
                          0.0101519284
                        ],
                        "iteration": 920,
                        "passed_time": 11.20612681,
                        "remaining_time": 0.9612204321,
                        "test": [
                          0.06340865687
                        ]
                      },
                      {
                        "learn": [
                          0.01013646152
                        ],
                        "iteration": 921,
                        "passed_time": 11.21112136,
                        "remaining_time": 0.9484462755,
                        "test": [
                          0.06341063506
                        ]
                      },
                      {
                        "learn": [
                          0.01013626511
                        ],
                        "iteration": 922,
                        "passed_time": 11.21730938,
                        "remaining_time": 0.93578854,
                        "test": [
                          0.06341049853
                        ]
                      },
                      {
                        "learn": [
                          0.01013553169
                        ],
                        "iteration": 923,
                        "passed_time": 11.22626966,
                        "remaining_time": 0.9233728293,
                        "test": [
                          0.06341075685
                        ]
                      },
                      {
                        "learn": [
                          0.01013190677
                        ],
                        "iteration": 924,
                        "passed_time": 11.23101957,
                        "remaining_time": 0.9106232086,
                        "test": [
                          0.06341126033
                        ]
                      },
                      {
                        "learn": [
                          0.01010911174
                        ],
                        "iteration": 925,
                        "passed_time": 11.23645947,
                        "remaining_time": 0.897946005,
                        "test": [
                          0.06341062751
                        ]
                      },
                      {
                        "learn": [
                          0.01007686871
                        ],
                        "iteration": 926,
                        "passed_time": 11.24168923,
                        "remaining_time": 0.8852678679,
                        "test": [
                          0.06341335097
                        ]
                      },
                      {
                        "learn": [
                          0.01007673753
                        ],
                        "iteration": 927,
                        "passed_time": 11.24653867,
                        "remaining_time": 0.872576276,
                        "test": [
                          0.0634133994
                        ]
                      },
                      {
                        "learn": [
                          0.01007005647
                        ],
                        "iteration": 928,
                        "passed_time": 11.25179964,
                        "remaining_time": 0.8599330187,
                        "test": [
                          0.06341611737
                        ]
                      },
                      {
                        "learn": [
                          0.01006748286
                        ],
                        "iteration": 929,
                        "passed_time": 11.25675483,
                        "remaining_time": 0.8472826213,
                        "test": [
                          0.06341419749
                        ]
                      },
                      {
                        "learn": [
                          0.01006731933
                        ],
                        "iteration": 930,
                        "passed_time": 11.26184602,
                        "remaining_time": 0.8346588351,
                        "test": [
                          0.06341408632
                        ]
                      },
                      {
                        "learn": [
                          0.01005979189
                        ],
                        "iteration": 931,
                        "passed_time": 11.26698645,
                        "remaining_time": 0.8220548051,
                        "test": [
                          0.06341098148
                        ]
                      },
                      {
                        "learn": [
                          0.01004806646
                        ],
                        "iteration": 932,
                        "passed_time": 11.27221255,
                        "remaining_time": 0.8094729267,
                        "test": [
                          0.06340742388
                        ]
                      },
                      {
                        "learn": [
                          0.01003701359
                        ],
                        "iteration": 933,
                        "passed_time": 11.27785393,
                        "remaining_time": 0.7969361446,
                        "test": [
                          0.06341252294
                        ]
                      },
                      {
                        "learn": [
                          0.01002457818
                        ],
                        "iteration": 934,
                        "passed_time": 11.28307155,
                        "remaining_time": 0.7843846534,
                        "test": [
                          0.06340885206
                        ]
                      },
                      {
                        "learn": [
                          0.01002259522
                        ],
                        "iteration": 935,
                        "passed_time": 11.28827583,
                        "remaining_time": 0.7718479197,
                        "test": [
                          0.06340818097
                        ]
                      },
                      {
                        "learn": [
                          0.01000410224
                        ],
                        "iteration": 936,
                        "passed_time": 11.29927519,
                        "remaining_time": 0.759716475,
                        "test": [
                          0.06340099892
                        ]
                      },
                      {
                        "learn": [
                          0.01000032089
                        ],
                        "iteration": 937,
                        "passed_time": 11.31056274,
                        "remaining_time": 0.7476064926,
                        "test": [
                          0.06340064482
                        ]
                      },
                      {
                        "learn": [
                          0.009993132463
                        ],
                        "iteration": 938,
                        "passed_time": 11.33466314,
                        "remaining_time": 0.7363306196,
                        "test": [
                          0.06340042211
                        ]
                      },
                      {
                        "learn": [
                          0.00999260106
                        ],
                        "iteration": 939,
                        "passed_time": 11.35513483,
                        "remaining_time": 0.7247958404,
                        "test": [
                          0.06339951175
                        ]
                      },
                      {
                        "learn": [
                          0.009984388024
                        ],
                        "iteration": 940,
                        "passed_time": 11.37667425,
                        "remaining_time": 0.7133090128,
                        "test": [
                          0.06339522529
                        ]
                      },
                      {
                        "learn": [
                          0.009975193686
                        ],
                        "iteration": 941,
                        "passed_time": 11.38836555,
                        "remaining_time": 0.7011944817,
                        "test": [
                          0.06339644746
                        ]
                      },
                      {
                        "learn": [
                          0.009965516385
                        ],
                        "iteration": 942,
                        "passed_time": 11.39778504,
                        "remaining_time": 0.6889435285,
                        "test": [
                          0.06338820531
                        ]
                      },
                      {
                        "learn": [
                          0.00996086863
                        ],
                        "iteration": 943,
                        "passed_time": 11.41894843,
                        "remaining_time": 0.677395246,
                        "test": [
                          0.06338809299
                        ]
                      },
                      {
                        "learn": [
                          0.009955123263
                        ],
                        "iteration": 944,
                        "passed_time": 11.42794189,
                        "remaining_time": 0.6651183109,
                        "test": [
                          0.06338889892
                        ]
                      },
                      {
                        "learn": [
                          0.009941223528
                        ],
                        "iteration": 945,
                        "passed_time": 11.43759616,
                        "remaining_time": 0.6528860389,
                        "test": [
                          0.06339422218
                        ]
                      },
                      {
                        "learn": [
                          0.009939647116
                        ],
                        "iteration": 946,
                        "passed_time": 11.45077872,
                        "remaining_time": 0.640856676,
                        "test": [
                          0.06339323405
                        ]
                      },
                      {
                        "learn": [
                          0.009939637776
                        ],
                        "iteration": 947,
                        "passed_time": 11.45765326,
                        "remaining_time": 0.6284788706,
                        "test": [
                          0.06339296208
                        ]
                      },
                      {
                        "learn": [
                          0.009939634339
                        ],
                        "iteration": 948,
                        "passed_time": 11.47575446,
                        "remaining_time": 0.6167159933,
                        "test": [
                          0.06339276224
                        ]
                      },
                      {
                        "learn": [
                          0.009933880179
                        ],
                        "iteration": 949,
                        "passed_time": 11.49745853,
                        "remaining_time": 0.6051293965,
                        "test": [
                          0.0633904576
                        ]
                      },
                      {
                        "learn": [
                          0.009931308597
                        ],
                        "iteration": 950,
                        "passed_time": 11.5063063,
                        "remaining_time": 0.5928591046,
                        "test": [
                          0.06339162764
                        ]
                      },
                      {
                        "learn": [
                          0.009929920025
                        ],
                        "iteration": 951,
                        "passed_time": 11.51539429,
                        "remaining_time": 0.5806081156,
                        "test": [
                          0.06339438406
                        ]
                      },
                      {
                        "learn": [
                          0.009925233439
                        ],
                        "iteration": 952,
                        "passed_time": 11.52541057,
                        "remaining_time": 0.5684095453,
                        "test": [
                          0.06339557336
                        ]
                      },
                      {
                        "learn": [
                          0.009919680993
                        ],
                        "iteration": 953,
                        "passed_time": 11.53575096,
                        "remaining_time": 0.5562311781,
                        "test": [
                          0.06339270185
                        ]
                      },
                      {
                        "learn": [
                          0.009915425421
                        ],
                        "iteration": 954,
                        "passed_time": 11.54799176,
                        "remaining_time": 0.5441462088,
                        "test": [
                          0.06339314238
                        ]
                      },
                      {
                        "learn": [
                          0.009906775759
                        ],
                        "iteration": 955,
                        "passed_time": 11.55457761,
                        "remaining_time": 0.5318006431,
                        "test": [
                          0.0633883424
                        ]
                      },
                      {
                        "learn": [
                          0.009885896119
                        ],
                        "iteration": 956,
                        "passed_time": 11.56925595,
                        "remaining_time": 0.5198307272,
                        "test": [
                          0.06338606197
                        ]
                      },
                      {
                        "learn": [
                          0.009880043852
                        ],
                        "iteration": 957,
                        "passed_time": 11.57460608,
                        "remaining_time": 0.5074461958,
                        "test": [
                          0.06338652622
                        ]
                      },
                      {
                        "learn": [
                          0.009878900029
                        ],
                        "iteration": 958,
                        "passed_time": 11.59415117,
                        "remaining_time": 0.4956832097,
                        "test": [
                          0.06338602615
                        ]
                      },
                      {
                        "learn": [
                          0.009873562158
                        ],
                        "iteration": 959,
                        "passed_time": 11.60568152,
                        "remaining_time": 0.4835700633,
                        "test": [
                          0.06338234121
                        ]
                      },
                      {
                        "learn": [
                          0.009869329529
                        ],
                        "iteration": 960,
                        "passed_time": 11.62485192,
                        "remaining_time": 0.4717681842,
                        "test": [
                          0.06338323047
                        ]
                      },
                      {
                        "learn": [
                          0.009865135745
                        ],
                        "iteration": 961,
                        "passed_time": 11.66090364,
                        "remaining_time": 0.4606178155,
                        "test": [
                          0.06337891486
                        ]
                      },
                      {
                        "learn": [
                          0.009856614678
                        ],
                        "iteration": 962,
                        "passed_time": 11.67502282,
                        "remaining_time": 0.448573047,
                        "test": [
                          0.0633745886
                        ]
                      },
                      {
                        "learn": [
                          0.00984751034
                        ],
                        "iteration": 963,
                        "passed_time": 11.71167343,
                        "remaining_time": 0.4373653978,
                        "test": [
                          0.06337918336
                        ]
                      },
                      {
                        "learn": [
                          0.009819799584
                        ],
                        "iteration": 964,
                        "passed_time": 11.73671508,
                        "remaining_time": 0.4256839665,
                        "test": [
                          0.06339618528
                        ]
                      },
                      {
                        "learn": [
                          0.009801413238
                        ],
                        "iteration": 965,
                        "passed_time": 11.74364344,
                        "remaining_time": 0.4133373469,
                        "test": [
                          0.06339699333
                        ]
                      },
                      {
                        "learn": [
                          0.009800021607
                        ],
                        "iteration": 966,
                        "passed_time": 11.75649301,
                        "remaining_time": 0.4012040012,
                        "test": [
                          0.06339722323
                        ]
                      },
                      {
                        "learn": [
                          0.009790896914
                        ],
                        "iteration": 967,
                        "passed_time": 11.7652739,
                        "remaining_time": 0.3889346744,
                        "test": [
                          0.06338898761
                        ]
                      },
                      {
                        "learn": [
                          0.009776200209
                        ],
                        "iteration": 968,
                        "passed_time": 11.77622846,
                        "remaining_time": 0.3767420869,
                        "test": [
                          0.06338748078
                        ]
                      },
                      {
                        "learn": [
                          0.009769095342
                        ],
                        "iteration": 969,
                        "passed_time": 11.78239731,
                        "remaining_time": 0.3644040407,
                        "test": [
                          0.06338813237
                        ]
                      },
                      {
                        "learn": [
                          0.009761436047
                        ],
                        "iteration": 970,
                        "passed_time": 11.78786541,
                        "remaining_time": 0.3520577723,
                        "test": [
                          0.06338790181
                        ]
                      },
                      {
                        "learn": [
                          0.009759298491
                        ],
                        "iteration": 971,
                        "passed_time": 11.79453575,
                        "remaining_time": 0.3397602891,
                        "test": [
                          0.06338504524
                        ]
                      },
                      {
                        "learn": [
                          0.009751786877
                        ],
                        "iteration": 972,
                        "passed_time": 11.80058772,
                        "remaining_time": 0.3274572133,
                        "test": [
                          0.06339004861
                        ]
                      },
                      {
                        "learn": [
                          0.009748510558
                        ],
                        "iteration": 973,
                        "passed_time": 11.80712606,
                        "remaining_time": 0.3151799563,
                        "test": [
                          0.06338897832
                        ]
                      },
                      {
                        "learn": [
                          0.009744908702
                        ],
                        "iteration": 974,
                        "passed_time": 11.81410183,
                        "remaining_time": 0.3029256879,
                        "test": [
                          0.0633918458
                        ]
                      },
                      {
                        "learn": [
                          0.00974489365
                        ],
                        "iteration": 975,
                        "passed_time": 11.81894786,
                        "remaining_time": 0.2906298655,
                        "test": [
                          0.06339182415
                        ]
                      },
                      {
                        "learn": [
                          0.009740044216
                        ],
                        "iteration": 976,
                        "passed_time": 11.82603905,
                        "remaining_time": 0.2784021476,
                        "test": [
                          0.06339245985
                        ]
                      },
                      {
                        "learn": [
                          0.009728161299
                        ],
                        "iteration": 977,
                        "passed_time": 11.83043782,
                        "remaining_time": 0.2661243681,
                        "test": [
                          0.06339098857
                        ]
                      },
                      {
                        "learn": [
                          0.009707491936
                        ],
                        "iteration": 978,
                        "passed_time": 11.83524381,
                        "remaining_time": 0.2538714198,
                        "test": [
                          0.06338535553
                        ]
                      },
                      {
                        "learn": [
                          0.009707458024
                        ],
                        "iteration": 979,
                        "passed_time": 11.83971298,
                        "remaining_time": 0.2416267955,
                        "test": [
                          0.06338529418
                        ]
                      },
                      {
                        "learn": [
                          0.009707279407
                        ],
                        "iteration": 980,
                        "passed_time": 11.84440981,
                        "remaining_time": 0.2294024326,
                        "test": [
                          0.06338551044
                        ]
                      },
                      {
                        "learn": [
                          0.009703279121
                        ],
                        "iteration": 981,
                        "passed_time": 11.8492571,
                        "remaining_time": 0.2171961587,
                        "test": [
                          0.0633877004
                        ]
                      },
                      {
                        "learn": [
                          0.009679402982
                        ],
                        "iteration": 982,
                        "passed_time": 11.85466153,
                        "remaining_time": 0.2050144924,
                        "test": [
                          0.0633901272
                        ]
                      },
                      {
                        "learn": [
                          0.009669572865
                        ],
                        "iteration": 983,
                        "passed_time": 11.86640101,
                        "remaining_time": 0.1929496099,
                        "test": [
                          0.06339817643
                        ]
                      },
                      {
                        "learn": [
                          0.009663103531
                        ],
                        "iteration": 984,
                        "passed_time": 11.87723246,
                        "remaining_time": 0.1808715603,
                        "test": [
                          0.06339101726
                        ]
                      },
                      {
                        "learn": [
                          0.009654051967
                        ],
                        "iteration": 985,
                        "passed_time": 11.88277348,
                        "remaining_time": 0.1687209217,
                        "test": [
                          0.06339805207
                        ]
                      },
                      {
                        "learn": [
                          0.009631882506
                        ],
                        "iteration": 986,
                        "passed_time": 11.88818915,
                        "remaining_time": 0.1565820253,
                        "test": [
                          0.06339687351
                        ]
                      },
                      {
                        "learn": [
                          0.009630181989
                        ],
                        "iteration": 987,
                        "passed_time": 11.89356298,
                        "remaining_time": 0.1444562305,
                        "test": [
                          0.06339518953
                        ]
                      },
                      {
                        "learn": [
                          0.009629768044
                        ],
                        "iteration": 988,
                        "passed_time": 11.89933542,
                        "remaining_time": 0.1323485234,
                        "test": [
                          0.06339560464
                        ]
                      },
                      {
                        "learn": [
                          0.009589692642
                        ],
                        "iteration": 989,
                        "passed_time": 11.90421339,
                        "remaining_time": 0.1202445797,
                        "test": [
                          0.0633975871
                        ]
                      },
                      {
                        "learn": [
                          0.009580157273
                        ],
                        "iteration": 990,
                        "passed_time": 11.90983784,
                        "remaining_time": 0.1081619986,
                        "test": [
                          0.06339587835
                        ]
                      },
                      {
                        "learn": [
                          0.009578887703
                        ],
                        "iteration": 991,
                        "passed_time": 11.91463215,
                        "remaining_time": 0.09608574317,
                        "test": [
                          0.06339616081
                        ]
                      },
                      {
                        "learn": [
                          0.009572601353
                        ],
                        "iteration": 992,
                        "passed_time": 11.91993152,
                        "remaining_time": 0.08402771464,
                        "test": [
                          0.06339736806
                        ]
                      },
                      {
                        "learn": [
                          0.009569989215
                        ],
                        "iteration": 993,
                        "passed_time": 11.92436824,
                        "remaining_time": 0.0719780779,
                        "test": [
                          0.06339557812
                        ]
                      },
                      {
                        "learn": [
                          0.009552650571
                        ],
                        "iteration": 994,
                        "passed_time": 11.92933409,
                        "remaining_time": 0.05994640248,
                        "test": [
                          0.06338964106
                        ]
                      },
                      {
                        "learn": [
                          0.009542422524
                        ],
                        "iteration": 995,
                        "passed_time": 11.93435472,
                        "remaining_time": 0.04792913542,
                        "test": [
                          0.06339331716
                        ]
                      },
                      {
                        "learn": [
                          0.009537017464
                        ],
                        "iteration": 996,
                        "passed_time": 11.93929107,
                        "remaining_time": 0.03592565017,
                        "test": [
                          0.06339440878
                        ]
                      },
                      {
                        "learn": [
                          0.009526523278
                        ],
                        "iteration": 997,
                        "passed_time": 11.9446199,
                        "remaining_time": 0.02393711402,
                        "test": [
                          0.06339243376
                        ]
                      },
                      {
                        "learn": [
                          0.009507211774
                        ],
                        "iteration": 998,
                        "passed_time": 11.95231519,
                        "remaining_time": 0.01196427947,
                        "test": [
                          0.06338782888
                        ]
                      },
                      {
                        "learn": [
                          0.009506478733
                        ],
                        "iteration": 999,
                        "passed_time": 11.99194199,
                        "remaining_time": 0,
                        "test": [
                          0.06338799885
                        ]
                      }
                    ],
                    "meta": {
                      "test_sets": [
                        "test"
                      ],
                      "test_metrics": [
                        {
                          "best_value": "Min",
                          "name": "RMSE"
                        }
                      ],
                      "learn_metrics": [
                        {
                          "best_value": "Min",
                          "name": "RMSE"
                        }
                      ],
                      "launch_mode": "Train",
                      "parameters": "",
                      "iteration_count": 1000,
                      "learn_sets": [
                        "learn"
                      ],
                      "name": "experiment"
                    }
                  }
                }
              }
            },
            "layout": "IPY_MODEL_8e23bd12d0bf46ce9250c57a66f99230"
          }
        }
      }
    }
  },
  "cells": [
    {
      "cell_type": "markdown",
      "metadata": {
        "id": "view-in-github",
        "colab_type": "text"
      },
      "source": [
        "<a href=\"https://colab.research.google.com/github/Liang130520/Tibame-TeamProject/blob/main/Catboost%E9%A9%97%E8%AD%89.ipynb\" target=\"_parent\"><img src=\"https://colab.research.google.com/assets/colab-badge.svg\" alt=\"Open In Colab\"/></a>"
      ]
    },
    {
      "cell_type": "code",
      "source": [
        "!pip install catboost"
      ],
      "metadata": {
        "id": "BlpHpFCzjl4K",
        "outputId": "961c7fcd-c328-463b-9285-5831f7ea0534",
        "colab": {
          "base_uri": "https://localhost:8080/"
        }
      },
      "execution_count": 23,
      "outputs": [
        {
          "output_type": "stream",
          "name": "stdout",
          "text": [
            "Looking in indexes: https://pypi.org/simple, https://us-python.pkg.dev/colab-wheels/public/simple/\n",
            "Requirement already satisfied: catboost in /usr/local/lib/python3.8/dist-packages (1.1.1)\n",
            "Requirement already satisfied: six in /usr/local/lib/python3.8/dist-packages (from catboost) (1.15.0)\n",
            "Requirement already satisfied: matplotlib in /usr/local/lib/python3.8/dist-packages (from catboost) (3.2.2)\n",
            "Requirement already satisfied: graphviz in /usr/local/lib/python3.8/dist-packages (from catboost) (0.10.1)\n",
            "Requirement already satisfied: plotly in /usr/local/lib/python3.8/dist-packages (from catboost) (5.5.0)\n",
            "Requirement already satisfied: pandas>=0.24.0 in /usr/local/lib/python3.8/dist-packages (from catboost) (1.3.5)\n",
            "Requirement already satisfied: scipy in /usr/local/lib/python3.8/dist-packages (from catboost) (1.7.3)\n",
            "Requirement already satisfied: numpy>=1.16.0 in /usr/local/lib/python3.8/dist-packages (from catboost) (1.21.6)\n",
            "Requirement already satisfied: python-dateutil>=2.7.3 in /usr/local/lib/python3.8/dist-packages (from pandas>=0.24.0->catboost) (2.8.2)\n",
            "Requirement already satisfied: pytz>=2017.3 in /usr/local/lib/python3.8/dist-packages (from pandas>=0.24.0->catboost) (2022.6)\n",
            "Requirement already satisfied: kiwisolver>=1.0.1 in /usr/local/lib/python3.8/dist-packages (from matplotlib->catboost) (1.4.4)\n",
            "Requirement already satisfied: cycler>=0.10 in /usr/local/lib/python3.8/dist-packages (from matplotlib->catboost) (0.11.0)\n",
            "Requirement already satisfied: pyparsing!=2.0.4,!=2.1.2,!=2.1.6,>=2.0.1 in /usr/local/lib/python3.8/dist-packages (from matplotlib->catboost) (3.0.9)\n",
            "Requirement already satisfied: tenacity>=6.2.0 in /usr/local/lib/python3.8/dist-packages (from plotly->catboost) (8.1.0)\n"
          ]
        }
      ]
    },
    {
      "cell_type": "code",
      "execution_count": 24,
      "metadata": {
        "colab": {
          "base_uri": "https://localhost:8080/"
        },
        "id": "8cyDCuoWo9Bl",
        "outputId": "a4900703-4d28-46ac-fbe6-a7bc0a79c8ae"
      },
      "outputs": [
        {
          "output_type": "stream",
          "name": "stdout",
          "text": [
            "Drive already mounted at /content/drive; to attempt to forcibly remount, call drive.mount(\"/content/drive\", force_remount=True).\n",
            "Drive already mounted at /content/drive; to attempt to forcibly remount, call drive.mount(\"/content/drive\", force_remount=True).\n"
          ]
        },
        {
          "output_type": "execute_result",
          "data": {
            "text/plain": [
              "['raw_data',\n",
              " '宗庭',\n",
              " '博翔',\n",
              " '俊佑',\n",
              " '聖評',\n",
              " '柏崴',\n",
              " '冠文',\n",
              " '設施座標表.xlsx',\n",
              " '設施座標表Ver2.xlsx',\n",
              " '聖評台北市房屋交易初始版Ver1.csv',\n",
              " '台北市房屋交易_test.csv',\n",
              " '台北市房屋交易_finish.csv',\n",
              " '.ipynb_checkpoints',\n",
              " 'catboost_info']"
            ]
          },
          "metadata": {},
          "execution_count": 24
        }
      ],
      "source": [
        "from pandas.core.dtypes.cast import maybe_infer_to_datetimelike\n",
        "\"\"\"\n",
        "使用方式：\n",
        "1. 點選上方執行階段 -> 全部執行\n",
        "2. 允許連接雲端\n",
        "3. 輸入名字後兩字\n",
        "4. 將自己名字資料夾中的r2_score最高分數檔案留下，其餘刪除\n",
        "5. 將r2_score最高分數的檔案名稱(EX：台北市房屋交易_公園100公尺.csv)複製\n",
        "6. 在「特徵-公尺內設施數量」程式的第四格程式碼中的str(name)+\"/後面貼上\n",
        "\n",
        "\"\"\"\n",
        "\n",
        "import pandas as pd\n",
        "import numpy as np\n",
        "from sklearn.model_selection import GridSearchCV\n",
        "from sklearn.tree import DecisionTreeRegressor\n",
        "from sklearn.model_selection import train_test_split\n",
        "import glob\n",
        "import os\n",
        "from catboost import CatBoostRegressor\n",
        "\n",
        "from google.colab import drive\n",
        "drive.mount('/content/drive')\n",
        "\n",
        "drive.mount('/content/drive')\n",
        "os.chdir('/content/drive/MyDrive/程式語言/特徵檔案') #切換該目錄\n",
        "os.listdir()"
      ]
    },
    {
      "cell_type": "code",
      "source": [
        "# 原始檔案\n",
        "\n",
        "# name = input(\"請輸入名字後兩字：\")\n",
        "name = \"博翔\"\n",
        "f = pd.read_csv(str(name) + \"/台北市房屋交易_for_model_1126_加設施_3.csv\", encoding = \"utf-8\")  # 讀取csv檔案\n",
        "\n",
        "pd.set_option('display.max_columns', 100)\n",
        "\n",
        "x = f.drop([\"土地位置建物門牌\",\"總價元\",\"單價元平方公尺\",\"車位總價元\",\"總價元_正規化\",\"單價元平方公尺_正規化\",\"車位總價元_正規化\"], axis = 1)  # 特徵(去除總價元、單價元平方公尺、車位總價元)\n",
        "y = f[\"總價元_正規化\"]  # 目標(取得總價元)\n",
        "\n",
        "# x_train, x_test, y_train, y_test = train_test_split(x, y, test_size=0.1)  # 切分資料"
      ],
      "metadata": {
        "id": "EPDqlIUqoy_S"
      },
      "execution_count": 25,
      "outputs": []
    },
    {
      "cell_type": "code",
      "source": [
        "from sklearn.model_selection import train_test_split\n",
        "\n",
        "x_train, x_test, y_train, y_test = train_test_split(x, y, train_size=0.1, random_state=1234)\n",
        "categorical_features_indices = np.where(x.dtypes != np.float)[0]"
      ],
      "metadata": {
        "id": "XJ6BEys4yIM3",
        "outputId": "8d01a8b2-7609-4943-dabe-90aa386982c7",
        "colab": {
          "base_uri": "https://localhost:8080/"
        }
      },
      "execution_count": 26,
      "outputs": [
        {
          "output_type": "stream",
          "name": "stderr",
          "text": [
            "<ipython-input-26-3a22113b17bc>:4: DeprecationWarning: `np.float` is a deprecated alias for the builtin `float`. To silence this warning, use `float` by itself. Doing this will not modify any behavior and is safe. If you specifically wanted the numpy scalar type, use `np.float64` here.\n",
            "Deprecated in NumPy 1.20; for more details and guidance: https://numpy.org/devdocs/release/1.20.0-notes.html#deprecations\n",
            "  categorical_features_indices = np.where(x.dtypes != np.float)[0]\n"
          ]
        }
      ]
    },
    {
      "cell_type": "code",
      "source": [
        "from catboost import CatBoostRegressor, Pool, EShapCalcType, EFeaturesSelectionAlgorithm\n",
        "\n",
        "# feature_names = ['F{}'.format(i) for i in range(x_train.shape[1])]\n",
        "train_pool = Pool(x_train, y_train, feature_names=x.columns.tolist())\n",
        "test_pool = Pool(x_test, y_test, feature_names=x.columns.tolist())\n",
        "\n",
        "\" 模型訓練 \"\n",
        "model = CatBoostRegressor(random_state=42,\n",
        "                          loss_function='RMSE',\n",
        "                          eval_metric='RMSE',\n",
        "                          learning_rate=0.1,\n",
        "                          use_best_model=True,\n",
        "                          depth=3)\n",
        "\n",
        "\" 抓取最有效特徵 \"\n",
        "summary = model.select_features(\n",
        "    train_pool,\n",
        "    eval_set=test_pool,\n",
        "    features_for_select='0-12',\n",
        "    num_features_to_select=3,\n",
        "    steps=2,\n",
        "    algorithm=EFeaturesSelectionAlgorithm.RecursiveByShapValues,\n",
        "    shap_calc_type=EShapCalcType.Regular,\n",
        "    train_final_model=True,\n",
        "    logging_level='Silent',\n",
        "    plot=False\n",
        ")\n",
        "summary"
      ],
      "metadata": {
        "id": "tjvDueqWvVyT",
        "outputId": "aa8b3156-bbaa-458d-a676-77c06a4ecc59",
        "colab": {
          "base_uri": "https://localhost:8080/"
        }
      },
      "execution_count": 27,
      "outputs": [
        {
          "output_type": "execute_result",
          "data": {
            "text/plain": [
              "{'selected_features': [4, 5, 10],\n",
              " 'eliminated_features_names': ['建物現況格局-房',\n",
              "  '車位移轉總面積(平方公尺)',\n",
              "  '交易年月日',\n",
              "  '建物現況格局-衛',\n",
              "  '土地移轉總面積平方公尺',\n",
              "  '陽台面積',\n",
              "  '建物現況格局-廳',\n",
              "  '總樓層數',\n",
              "  '移轉層次',\n",
              "  '附屬建物面積'],\n",
              " 'loss_graph': {'main_indices': [0, 7, 10],\n",
              "  'removed_features_count': [0, 1, 2, 3, 4, 5, 6, 7, 8, 9, 10],\n",
              "  'loss_values': [0.06012892452831253,\n",
              "   0.06017431118608555,\n",
              "   0.06016294273513062,\n",
              "   0.060121300557636675,\n",
              "   0.06004485961979588,\n",
              "   0.059936918352008976,\n",
              "   0.05971002670512143,\n",
              "   0.0594554236569008,\n",
              "   0.059606074545421536,\n",
              "   0.059911017600048196,\n",
              "   0.060538745118696814]},\n",
              " 'eliminated_features': [6, 9, 1, 8, 0, 12, 7, 3, 2, 11],\n",
              " 'selected_features_names': ['建築完成年月', '建物移轉總面積平方公尺', '主建物面積']}"
            ]
          },
          "metadata": {},
          "execution_count": 27
        }
      ]
    },
    {
      "cell_type": "code",
      "source": [
        "from catboost import CatBoostRegressor\n",
        "\n",
        "model.fit(x_train, y_train,cat_features=categorical_features_indices,eval_set=(x_test, y_test), verbose=0, plot=True)"
      ],
      "metadata": {
        "id": "3Ec7jB7rx8Y-",
        "outputId": "6f9a5d9a-9c90-4c08-cf7b-2d6294d2058d",
        "colab": {
          "base_uri": "https://localhost:8080/",
          "height": 35,
          "referenced_widgets": [
            "defa5741ecbf4581ac42b94f4d130c37"
          ]
        }
      },
      "execution_count": 28,
      "outputs": [
        {
          "output_type": "display_data",
          "data": {
            "text/plain": [
              "MetricVisualizer(layout=Layout(align_self='stretch', height='500px'))"
            ],
            "application/vnd.jupyter.widget-view+json": {
              "version_major": 2,
              "version_minor": 0,
              "model_id": "defa5741ecbf4581ac42b94f4d130c37"
            }
          },
          "metadata": {}
        },
        {
          "output_type": "execute_result",
          "data": {
            "text/plain": [
              "<catboost.core.CatBoostRegressor at 0x7f4f96694a30>"
            ]
          },
          "metadata": {},
          "execution_count": 28
        }
      ]
    },
    {
      "cell_type": "code",
      "source": [
        "from sklearn.model_selection import train_test_split\n",
        "from sklearn.metrics import mean_squared_error\n",
        "from sklearn.metrics import r2_score\n",
        "from sklearn.inspection import permutation_importance\n",
        "\n",
        "pre = model.predict(x_test)\n",
        "rmse = (np.sqrt(mean_squared_error(y_test, pre)))\n",
        "r2 = r2_score(y_test, pre)\n",
        "print(\"Testing performance\")\n",
        "print(\"RMSE: {}\".format(rmse))\n",
        "print(\"R2: {}\".format(r2))\n",
        "model.get_best_score()"
      ],
      "metadata": {
        "id": "9O3_wl9XzJK7",
        "outputId": "5d3255c3-7e4e-4842-c520-e23e2faa307e",
        "colab": {
          "base_uri": "https://localhost:8080/"
        }
      },
      "execution_count": 29,
      "outputs": [
        {
          "output_type": "stream",
          "name": "stdout",
          "text": [
            "Testing performance\n",
            "RMSE: 0.06337458864964447\n",
            "R2: 0.8375913809613751\n"
          ]
        },
        {
          "output_type": "execute_result",
          "data": {
            "text/plain": [
              "{'learn': {'RMSE': 0.009506478733220271},\n",
              " 'validation': {'RMSE': 0.06337458859562153}}"
            ]
          },
          "metadata": {},
          "execution_count": 29
        }
      ]
    }
  ]
}