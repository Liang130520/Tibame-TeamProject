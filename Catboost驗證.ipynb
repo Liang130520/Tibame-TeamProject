{
  "nbformat": 4,
  "nbformat_minor": 0,
  "metadata": {
    "colab": {
      "provenance": [],
      "authorship_tag": "ABX9TyP7nrbUWaVdiWu2KzMrtXhD",
      "include_colab_link": true
    },
    "kernelspec": {
      "name": "python3",
      "display_name": "Python 3"
    },
    "language_info": {
      "name": "python"
    },
    "widgets": {
      "application/vnd.jupyter.widget-state+json": {
        "926730e50eaf46dda4a117b3963be450": {
          "model_module": "catboost-widget",
          "model_name": "CatboostWidgetModel",
          "model_module_version": "^1.0.0",
          "state": {
            "_dom_classes": [],
            "_model_module": "catboost-widget",
            "_model_module_version": "^1.0.0",
            "_model_name": "CatboostWidgetModel",
            "_view_count": null,
            "_view_module": "catboost-widget",
            "_view_module_version": "^1.0.0",
            "_view_name": "CatboostWidgetView",
            "data": {
              "catboost_info": {
                "path": "catboost_info",
                "name": "catboost_info",
                "content": {
                  "passed_iterations": 999,
                  "total_iterations": 1000,
                  "data": {
                    "iterations": [
                      {
                        "learn": [
                          0.1508031596
                        ],
                        "iteration": 0,
                        "passed_time": 0.005085984249,
                        "remaining_time": 5.080898265,
                        "test": [
                          0.1495810972
                        ]
                      },
                      {
                        "learn": [
                          0.1431561576
                        ],
                        "iteration": 1,
                        "passed_time": 0.01225652265,
                        "remaining_time": 6.116004802,
                        "test": [
                          0.1419831512
                        ]
                      },
                      {
                        "learn": [
                          0.1374855769
                        ],
                        "iteration": 2,
                        "passed_time": 0.01654561904,
                        "remaining_time": 5.498660729,
                        "test": [
                          0.1364774357
                        ]
                      },
                      {
                        "learn": [
                          0.132425895
                        ],
                        "iteration": 3,
                        "passed_time": 0.01882194914,
                        "remaining_time": 4.686665336,
                        "test": [
                          0.131227039
                        ]
                      },
                      {
                        "learn": [
                          0.1269757182
                        ],
                        "iteration": 4,
                        "passed_time": 0.02494149557,
                        "remaining_time": 4.963357618,
                        "test": [
                          0.1261584553
                        ]
                      },
                      {
                        "learn": [
                          0.1226038874
                        ],
                        "iteration": 5,
                        "passed_time": 0.029138352,
                        "remaining_time": 4.827253647,
                        "test": [
                          0.1216247858
                        ]
                      },
                      {
                        "learn": [
                          0.119690872
                        ],
                        "iteration": 6,
                        "passed_time": 0.03589165665,
                        "remaining_time": 5.091487865,
                        "test": [
                          0.11893516
                        ]
                      },
                      {
                        "learn": [
                          0.1152405739
                        ],
                        "iteration": 7,
                        "passed_time": 0.03985209512,
                        "remaining_time": 4.941659795,
                        "test": [
                          0.1147094794
                        ]
                      },
                      {
                        "learn": [
                          0.1124248987
                        ],
                        "iteration": 8,
                        "passed_time": 0.04198676591,
                        "remaining_time": 4.623209446,
                        "test": [
                          0.1120542948
                        ]
                      },
                      {
                        "learn": [
                          0.1098930488
                        ],
                        "iteration": 9,
                        "passed_time": 0.04754379058,
                        "remaining_time": 4.706835268,
                        "test": [
                          0.1094953204
                        ]
                      },
                      {
                        "learn": [
                          0.1070286484
                        ],
                        "iteration": 10,
                        "passed_time": 0.05175532404,
                        "remaining_time": 4.653274134,
                        "test": [
                          0.1071515265
                        ]
                      },
                      {
                        "learn": [
                          0.1043589459
                        ],
                        "iteration": 11,
                        "passed_time": 0.05698972225,
                        "remaining_time": 4.692153799,
                        "test": [
                          0.1049883373
                        ]
                      },
                      {
                        "learn": [
                          0.1018399704
                        ],
                        "iteration": 12,
                        "passed_time": 0.0610769921,
                        "remaining_time": 4.637153169,
                        "test": [
                          0.1028631062
                        ]
                      },
                      {
                        "learn": [
                          0.09995342461
                        ],
                        "iteration": 13,
                        "passed_time": 0.06637848309,
                        "remaining_time": 4.674941738,
                        "test": [
                          0.1011157563
                        ]
                      },
                      {
                        "learn": [
                          0.09827518944
                        ],
                        "iteration": 14,
                        "passed_time": 0.07053889172,
                        "remaining_time": 4.63205389,
                        "test": [
                          0.09970497392
                        ]
                      },
                      {
                        "learn": [
                          0.0966025412
                        ],
                        "iteration": 15,
                        "passed_time": 0.07594220736,
                        "remaining_time": 4.670445753,
                        "test": [
                          0.09832841623
                        ]
                      },
                      {
                        "learn": [
                          0.09529463796
                        ],
                        "iteration": 16,
                        "passed_time": 0.08048211919,
                        "remaining_time": 4.653760186,
                        "test": [
                          0.09745871681
                        ]
                      },
                      {
                        "learn": [
                          0.09395679893
                        ],
                        "iteration": 17,
                        "passed_time": 0.08583162452,
                        "remaining_time": 4.68259196,
                        "test": [
                          0.09614460522
                        ]
                      },
                      {
                        "learn": [
                          0.09200266839
                        ],
                        "iteration": 18,
                        "passed_time": 0.09022113099,
                        "remaining_time": 4.658259448,
                        "test": [
                          0.09463296191
                        ]
                      },
                      {
                        "learn": [
                          0.09079256226
                        ],
                        "iteration": 19,
                        "passed_time": 0.09631069517,
                        "remaining_time": 4.719224063,
                        "test": [
                          0.09374719382
                        ]
                      },
                      {
                        "learn": [
                          0.089363482
                        ],
                        "iteration": 20,
                        "passed_time": 0.1007994626,
                        "remaining_time": 4.699174948,
                        "test": [
                          0.09277095918
                        ]
                      },
                      {
                        "learn": [
                          0.08789416352
                        ],
                        "iteration": 21,
                        "passed_time": 0.1051203277,
                        "remaining_time": 4.673076384,
                        "test": [
                          0.09199776549
                        ]
                      },
                      {
                        "learn": [
                          0.08684507072
                        ],
                        "iteration": 22,
                        "passed_time": 0.1143430575,
                        "remaining_time": 4.857094224,
                        "test": [
                          0.09120380301
                        ]
                      },
                      {
                        "learn": [
                          0.08562437108
                        ],
                        "iteration": 23,
                        "passed_time": 0.1262617002,
                        "remaining_time": 5.134642477,
                        "test": [
                          0.09032763757
                        ]
                      },
                      {
                        "learn": [
                          0.08499772478
                        ],
                        "iteration": 24,
                        "passed_time": 0.1371882387,
                        "remaining_time": 5.35034131,
                        "test": [
                          0.0898815121
                        ]
                      },
                      {
                        "learn": [
                          0.08392622693
                        ],
                        "iteration": 25,
                        "passed_time": 0.1516645325,
                        "remaining_time": 5.681586716,
                        "test": [
                          0.08920794827
                        ]
                      },
                      {
                        "learn": [
                          0.08285543319
                        ],
                        "iteration": 26,
                        "passed_time": 0.1625667688,
                        "remaining_time": 5.858424667,
                        "test": [
                          0.08886094043
                        ]
                      },
                      {
                        "learn": [
                          0.08157290689
                        ],
                        "iteration": 27,
                        "passed_time": 0.1736291483,
                        "remaining_time": 6.027411862,
                        "test": [
                          0.08799938292
                        ]
                      },
                      {
                        "learn": [
                          0.08079933138
                        ],
                        "iteration": 28,
                        "passed_time": 0.1878784783,
                        "remaining_time": 6.290689739,
                        "test": [
                          0.08768792687
                        ]
                      },
                      {
                        "learn": [
                          0.07912364737
                        ],
                        "iteration": 29,
                        "passed_time": 0.1968015133,
                        "remaining_time": 6.363248931,
                        "test": [
                          0.08625095331
                        ]
                      },
                      {
                        "learn": [
                          0.07747350499
                        ],
                        "iteration": 30,
                        "passed_time": 0.2092228911,
                        "remaining_time": 6.539902628,
                        "test": [
                          0.08535469929
                        ]
                      },
                      {
                        "learn": [
                          0.07657770856
                        ],
                        "iteration": 31,
                        "passed_time": 0.2317229887,
                        "remaining_time": 7.009620409,
                        "test": [
                          0.08464989094
                        ]
                      },
                      {
                        "learn": [
                          0.07578084895
                        ],
                        "iteration": 32,
                        "passed_time": 0.2428470519,
                        "remaining_time": 7.11615452,
                        "test": [
                          0.08431195546
                        ]
                      },
                      {
                        "learn": [
                          0.07506096425
                        ],
                        "iteration": 33,
                        "passed_time": 0.2536225568,
                        "remaining_time": 7.205864408,
                        "test": [
                          0.08372118963
                        ]
                      },
                      {
                        "learn": [
                          0.0742003961
                        ],
                        "iteration": 34,
                        "passed_time": 0.265944644,
                        "remaining_time": 7.332473757,
                        "test": [
                          0.08352417274
                        ]
                      },
                      {
                        "learn": [
                          0.07368316314
                        ],
                        "iteration": 35,
                        "passed_time": 0.2777751574,
                        "remaining_time": 7.438201436,
                        "test": [
                          0.08294153692
                        ]
                      },
                      {
                        "learn": [
                          0.0734771756
                        ],
                        "iteration": 36,
                        "passed_time": 0.2895839913,
                        "remaining_time": 7.537010367,
                        "test": [
                          0.08285550141
                        ]
                      },
                      {
                        "learn": [
                          0.072685881
                        ],
                        "iteration": 37,
                        "passed_time": 0.3009773674,
                        "remaining_time": 7.619479669,
                        "test": [
                          0.08226148453
                        ]
                      },
                      {
                        "learn": [
                          0.07196851487
                        ],
                        "iteration": 38,
                        "passed_time": 0.3112584247,
                        "remaining_time": 7.669726825,
                        "test": [
                          0.08183576183
                        ]
                      },
                      {
                        "learn": [
                          0.07129906995
                        ],
                        "iteration": 39,
                        "passed_time": 0.3234694635,
                        "remaining_time": 7.763267125,
                        "test": [
                          0.08161788809
                        ]
                      },
                      {
                        "learn": [
                          0.06999318787
                        ],
                        "iteration": 40,
                        "passed_time": 0.3353597209,
                        "remaining_time": 7.844145667,
                        "test": [
                          0.08062135486
                        ]
                      },
                      {
                        "learn": [
                          0.06989990204
                        ],
                        "iteration": 41,
                        "passed_time": 0.3456571758,
                        "remaining_time": 7.88427558,
                        "test": [
                          0.08058021543
                        ]
                      },
                      {
                        "learn": [
                          0.0689762705
                        ],
                        "iteration": 42,
                        "passed_time": 0.36051162,
                        "remaining_time": 8.023479542,
                        "test": [
                          0.08007595111
                        ]
                      },
                      {
                        "learn": [
                          0.06862937856
                        ],
                        "iteration": 43,
                        "passed_time": 0.3714119544,
                        "remaining_time": 8.069768828,
                        "test": [
                          0.07980627778
                        ]
                      },
                      {
                        "learn": [
                          0.0679700885
                        ],
                        "iteration": 44,
                        "passed_time": 0.3819352634,
                        "remaining_time": 8.105515035,
                        "test": [
                          0.07958052785
                        ]
                      },
                      {
                        "learn": [
                          0.06715382214
                        ],
                        "iteration": 45,
                        "passed_time": 0.3939283359,
                        "remaining_time": 8.169731141,
                        "test": [
                          0.0791516973
                        ]
                      },
                      {
                        "learn": [
                          0.06675773362
                        ],
                        "iteration": 46,
                        "passed_time": 0.4030678382,
                        "remaining_time": 8.172843612,
                        "test": [
                          0.07910818442
                        ]
                      },
                      {
                        "learn": [
                          0.06623070978
                        ],
                        "iteration": 47,
                        "passed_time": 0.4144808341,
                        "remaining_time": 8.220536543,
                        "test": [
                          0.07890756028
                        ]
                      },
                      {
                        "learn": [
                          0.0655706937
                        ],
                        "iteration": 48,
                        "passed_time": 0.4288892632,
                        "remaining_time": 8.323952844,
                        "test": [
                          0.07866845697
                        ]
                      },
                      {
                        "learn": [
                          0.06464810803
                        ],
                        "iteration": 49,
                        "passed_time": 0.4394799387,
                        "remaining_time": 8.350118835,
                        "test": [
                          0.07829071
                        ]
                      },
                      {
                        "learn": [
                          0.06402807216
                        ],
                        "iteration": 50,
                        "passed_time": 0.4518545362,
                        "remaining_time": 8.408038331,
                        "test": [
                          0.07777636349
                        ]
                      },
                      {
                        "learn": [
                          0.06346941781
                        ],
                        "iteration": 51,
                        "passed_time": 0.4646373301,
                        "remaining_time": 8.470695941,
                        "test": [
                          0.07746714007
                        ]
                      },
                      {
                        "learn": [
                          0.06294089704
                        ],
                        "iteration": 52,
                        "passed_time": 0.4728601732,
                        "remaining_time": 8.449029888,
                        "test": [
                          0.0772861162
                        ]
                      },
                      {
                        "learn": [
                          0.06284644471
                        ],
                        "iteration": 53,
                        "passed_time": 0.4847418873,
                        "remaining_time": 8.491959729,
                        "test": [
                          0.0773116057
                        ]
                      },
                      {
                        "learn": [
                          0.06271872125
                        ],
                        "iteration": 54,
                        "passed_time": 0.4954813212,
                        "remaining_time": 8.513269974,
                        "test": [
                          0.07721226335
                        ]
                      },
                      {
                        "learn": [
                          0.06190143309
                        ],
                        "iteration": 55,
                        "passed_time": 0.5050915666,
                        "remaining_time": 8.514400695,
                        "test": [
                          0.07665161999
                        ]
                      },
                      {
                        "learn": [
                          0.06136996954
                        ],
                        "iteration": 56,
                        "passed_time": 0.5122823467,
                        "remaining_time": 8.475127244,
                        "test": [
                          0.07626378587
                        ]
                      },
                      {
                        "learn": [
                          0.06123276754
                        ],
                        "iteration": 57,
                        "passed_time": 0.5246818655,
                        "remaining_time": 8.521557195,
                        "test": [
                          0.07622931266
                        ]
                      },
                      {
                        "learn": [
                          0.06087969266
                        ],
                        "iteration": 58,
                        "passed_time": 0.5362963148,
                        "remaining_time": 8.553471733,
                        "test": [
                          0.07587576508
                        ]
                      },
                      {
                        "learn": [
                          0.06001966587
                        ],
                        "iteration": 59,
                        "passed_time": 0.5469444592,
                        "remaining_time": 8.568796528,
                        "test": [
                          0.07521581082
                        ]
                      },
                      {
                        "learn": [
                          0.05906097976
                        ],
                        "iteration": 60,
                        "passed_time": 0.5576394712,
                        "remaining_time": 8.583991204,
                        "test": [
                          0.07437758694
                        ]
                      },
                      {
                        "learn": [
                          0.05833904109
                        ],
                        "iteration": 61,
                        "passed_time": 0.5695786943,
                        "remaining_time": 8.617174439,
                        "test": [
                          0.07383985816
                        ]
                      },
                      {
                        "learn": [
                          0.05803391023
                        ],
                        "iteration": 62,
                        "passed_time": 0.5936378871,
                        "remaining_time": 8.829185718,
                        "test": [
                          0.07359980992
                        ]
                      },
                      {
                        "learn": [
                          0.05796323552
                        ],
                        "iteration": 63,
                        "passed_time": 0.6002597067,
                        "remaining_time": 8.77879821,
                        "test": [
                          0.07361454394
                        ]
                      },
                      {
                        "learn": [
                          0.0570433315
                        ],
                        "iteration": 64,
                        "passed_time": 0.6098118113,
                        "remaining_time": 8.771908362,
                        "test": [
                          0.0732265921
                        ]
                      },
                      {
                        "learn": [
                          0.05693588452
                        ],
                        "iteration": 65,
                        "passed_time": 0.6456243272,
                        "remaining_time": 9.136562449,
                        "test": [
                          0.07315377896
                        ]
                      },
                      {
                        "learn": [
                          0.05608855763
                        ],
                        "iteration": 66,
                        "passed_time": 0.6553693618,
                        "remaining_time": 9.126262904,
                        "test": [
                          0.07283306936
                        ]
                      },
                      {
                        "learn": [
                          0.05583346248
                        ],
                        "iteration": 67,
                        "passed_time": 0.6590544786,
                        "remaining_time": 9.032923148,
                        "test": [
                          0.07275716813
                        ]
                      },
                      {
                        "learn": [
                          0.05509073134
                        ],
                        "iteration": 68,
                        "passed_time": 0.6634853161,
                        "remaining_time": 8.952243903,
                        "test": [
                          0.0723152006
                        ]
                      },
                      {
                        "learn": [
                          0.05463493788
                        ],
                        "iteration": 69,
                        "passed_time": 0.667866733,
                        "remaining_time": 8.873086595,
                        "test": [
                          0.07201267555
                        ]
                      },
                      {
                        "learn": [
                          0.05428749196
                        ],
                        "iteration": 70,
                        "passed_time": 0.6729216713,
                        "remaining_time": 8.804848347,
                        "test": [
                          0.07175446976
                        ]
                      },
                      {
                        "learn": [
                          0.05394599727
                        ],
                        "iteration": 71,
                        "passed_time": 0.6809331096,
                        "remaining_time": 8.77647119,
                        "test": [
                          0.07168643967
                        ]
                      },
                      {
                        "learn": [
                          0.05388016478
                        ],
                        "iteration": 72,
                        "passed_time": 0.6849032104,
                        "remaining_time": 8.697332549,
                        "test": [
                          0.07170664561
                        ]
                      },
                      {
                        "learn": [
                          0.05379023464
                        ],
                        "iteration": 73,
                        "passed_time": 0.6894523729,
                        "remaining_time": 8.627471585,
                        "test": [
                          0.0716289197
                        ]
                      },
                      {
                        "learn": [
                          0.05347127297
                        ],
                        "iteration": 74,
                        "passed_time": 0.6962804763,
                        "remaining_time": 8.587459208,
                        "test": [
                          0.07149611212
                        ]
                      },
                      {
                        "learn": [
                          0.05340856354
                        ],
                        "iteration": 75,
                        "passed_time": 0.7006022791,
                        "remaining_time": 8.517848762,
                        "test": [
                          0.07151758997
                        ]
                      },
                      {
                        "learn": [
                          0.0529712876
                        ],
                        "iteration": 76,
                        "passed_time": 0.7046082832,
                        "remaining_time": 8.446148642,
                        "test": [
                          0.0712147171
                        ]
                      },
                      {
                        "learn": [
                          0.05244928209
                        ],
                        "iteration": 77,
                        "passed_time": 0.7095080902,
                        "remaining_time": 8.386749477,
                        "test": [
                          0.07109997255
                        ]
                      },
                      {
                        "learn": [
                          0.05236378708
                        ],
                        "iteration": 78,
                        "passed_time": 0.713790287,
                        "remaining_time": 8.321529802,
                        "test": [
                          0.07111583738
                        ]
                      },
                      {
                        "learn": [
                          0.05211923438
                        ],
                        "iteration": 79,
                        "passed_time": 0.7182437421,
                        "remaining_time": 8.259803034,
                        "test": [
                          0.07104719464
                        ]
                      },
                      {
                        "learn": [
                          0.05126002139
                        ],
                        "iteration": 80,
                        "passed_time": 0.7230423904,
                        "remaining_time": 8.203406874,
                        "test": [
                          0.07046937013
                        ]
                      },
                      {
                        "learn": [
                          0.05083642844
                        ],
                        "iteration": 81,
                        "passed_time": 0.7289821438,
                        "remaining_time": 8.161044,
                        "test": [
                          0.07034141766
                        ]
                      },
                      {
                        "learn": [
                          0.05077974658
                        ],
                        "iteration": 82,
                        "passed_time": 0.7373244632,
                        "remaining_time": 8.146102804,
                        "test": [
                          0.07036464477
                        ]
                      },
                      {
                        "learn": [
                          0.05072604838
                        ],
                        "iteration": 83,
                        "passed_time": 0.7423796479,
                        "remaining_time": 8.095473303,
                        "test": [
                          0.07038849942
                        ]
                      },
                      {
                        "learn": [
                          0.05034079681
                        ],
                        "iteration": 84,
                        "passed_time": 0.7465151334,
                        "remaining_time": 8.036015848,
                        "test": [
                          0.07031274629
                        ]
                      },
                      {
                        "learn": [
                          0.04973520096
                        ],
                        "iteration": 85,
                        "passed_time": 0.7510006622,
                        "remaining_time": 7.981565177,
                        "test": [
                          0.07002714333
                        ]
                      },
                      {
                        "learn": [
                          0.04952283072
                        ],
                        "iteration": 86,
                        "passed_time": 0.7558669796,
                        "remaining_time": 7.932259223,
                        "test": [
                          0.06993094146
                        ]
                      },
                      {
                        "learn": [
                          0.04921897349
                        ],
                        "iteration": 87,
                        "passed_time": 0.7606006875,
                        "remaining_time": 7.882588943,
                        "test": [
                          0.06970730444
                        ]
                      },
                      {
                        "learn": [
                          0.04904626165
                        ],
                        "iteration": 88,
                        "passed_time": 0.7642576225,
                        "remaining_time": 7.822906675,
                        "test": [
                          0.06956285101
                        ]
                      },
                      {
                        "learn": [
                          0.04899897
                        ],
                        "iteration": 89,
                        "passed_time": 0.7686484608,
                        "remaining_time": 7.771889992,
                        "test": [
                          0.06958874213
                        ]
                      },
                      {
                        "learn": [
                          0.0485153366
                        ],
                        "iteration": 90,
                        "passed_time": 0.7799627153,
                        "remaining_time": 7.791056134,
                        "test": [
                          0.06929148661
                        ]
                      },
                      {
                        "learn": [
                          0.04809300642
                        ],
                        "iteration": 91,
                        "passed_time": 0.7927674222,
                        "remaining_time": 7.824269776,
                        "test": [
                          0.06918931908
                        ]
                      },
                      {
                        "learn": [
                          0.04802712298
                        ],
                        "iteration": 92,
                        "passed_time": 0.7966918747,
                        "remaining_time": 7.769887423,
                        "test": [
                          0.0691510566
                        ]
                      },
                      {
                        "learn": [
                          0.04766182395
                        ],
                        "iteration": 93,
                        "passed_time": 0.8612113255,
                        "remaining_time": 8.300611287,
                        "test": [
                          0.0690217992
                        ]
                      },
                      {
                        "learn": [
                          0.04759772647
                        ],
                        "iteration": 94,
                        "passed_time": 0.8745209461,
                        "remaining_time": 8.330962697,
                        "test": [
                          0.06903776673
                        ]
                      },
                      {
                        "learn": [
                          0.04705994654
                        ],
                        "iteration": 95,
                        "passed_time": 0.8821709641,
                        "remaining_time": 8.307109912,
                        "test": [
                          0.06876360632
                        ]
                      },
                      {
                        "learn": [
                          0.0469275558
                        ],
                        "iteration": 96,
                        "passed_time": 0.886434762,
                        "remaining_time": 8.252067939,
                        "test": [
                          0.06877839715
                        ]
                      },
                      {
                        "learn": [
                          0.04653337042
                        ],
                        "iteration": 97,
                        "passed_time": 0.8912659326,
                        "remaining_time": 8.2032844,
                        "test": [
                          0.06847250698
                        ]
                      },
                      {
                        "learn": [
                          0.04639150767
                        ],
                        "iteration": 98,
                        "passed_time": 0.8958233374,
                        "remaining_time": 8.152897242,
                        "test": [
                          0.06850987334
                        ]
                      },
                      {
                        "learn": [
                          0.04632954612
                        ],
                        "iteration": 99,
                        "passed_time": 0.9001363778,
                        "remaining_time": 8.1012274,
                        "test": [
                          0.0685241443
                        ]
                      },
                      {
                        "learn": [
                          0.0458354835
                        ],
                        "iteration": 100,
                        "passed_time": 0.9106660332,
                        "remaining_time": 8.105829345,
                        "test": [
                          0.06834872951
                        ]
                      },
                      {
                        "learn": [
                          0.04556328864
                        ],
                        "iteration": 101,
                        "passed_time": 0.914824715,
                        "remaining_time": 8.05404504,
                        "test": [
                          0.06826234676
                        ]
                      },
                      {
                        "learn": [
                          0.04523408071
                        ],
                        "iteration": 102,
                        "passed_time": 0.9190637407,
                        "remaining_time": 8.003885198,
                        "test": [
                          0.06809284702
                        ]
                      },
                      {
                        "learn": [
                          0.0448992044
                        ],
                        "iteration": 103,
                        "passed_time": 0.9239020786,
                        "remaining_time": 7.959771754,
                        "test": [
                          0.06781033575
                        ]
                      },
                      {
                        "learn": [
                          0.04459123079
                        ],
                        "iteration": 104,
                        "passed_time": 0.9277245701,
                        "remaining_time": 7.907747526,
                        "test": [
                          0.06771465606
                        ]
                      },
                      {
                        "learn": [
                          0.04454535732
                        ],
                        "iteration": 105,
                        "passed_time": 0.931766853,
                        "remaining_time": 7.858486477,
                        "test": [
                          0.0677410645
                        ]
                      },
                      {
                        "learn": [
                          0.04447034141
                        ],
                        "iteration": 106,
                        "passed_time": 0.93657538,
                        "remaining_time": 7.816465555,
                        "test": [
                          0.0676413964
                        ]
                      },
                      {
                        "learn": [
                          0.04440350048
                        ],
                        "iteration": 107,
                        "passed_time": 0.9408177571,
                        "remaining_time": 7.770457772,
                        "test": [
                          0.0677015275
                        ]
                      },
                      {
                        "learn": [
                          0.04406620302
                        ],
                        "iteration": 108,
                        "passed_time": 0.9468211146,
                        "remaining_time": 7.739611129,
                        "test": [
                          0.0678072281
                        ]
                      },
                      {
                        "learn": [
                          0.04380663727
                        ],
                        "iteration": 109,
                        "passed_time": 0.9537086703,
                        "remaining_time": 7.71637015,
                        "test": [
                          0.06760616372
                        ]
                      },
                      {
                        "learn": [
                          0.04362396268
                        ],
                        "iteration": 110,
                        "passed_time": 0.9575971713,
                        "remaining_time": 7.669404372,
                        "test": [
                          0.06768875475
                        ]
                      },
                      {
                        "learn": [
                          0.04346356214
                        ],
                        "iteration": 111,
                        "passed_time": 0.9619895788,
                        "remaining_time": 7.627203089,
                        "test": [
                          0.06755992156
                        ]
                      },
                      {
                        "learn": [
                          0.04321019604
                        ],
                        "iteration": 112,
                        "passed_time": 0.9667807229,
                        "remaining_time": 7.588800895,
                        "test": [
                          0.0673598707
                        ]
                      },
                      {
                        "learn": [
                          0.04313453508
                        ],
                        "iteration": 113,
                        "passed_time": 0.9705233968,
                        "remaining_time": 7.542839733,
                        "test": [
                          0.06738227628
                        ]
                      },
                      {
                        "learn": [
                          0.0429930056
                        ],
                        "iteration": 114,
                        "passed_time": 0.9743626481,
                        "remaining_time": 7.498356031,
                        "test": [
                          0.06733193965
                        ]
                      },
                      {
                        "learn": [
                          0.04295507658
                        ],
                        "iteration": 115,
                        "passed_time": 0.9786505636,
                        "remaining_time": 7.457992226,
                        "test": [
                          0.06736358923
                        ]
                      },
                      {
                        "learn": [
                          0.04278698148
                        ],
                        "iteration": 116,
                        "passed_time": 0.9845836305,
                        "remaining_time": 7.430661075,
                        "test": [
                          0.06744524787
                        ]
                      },
                      {
                        "learn": [
                          0.04264905654
                        ],
                        "iteration": 117,
                        "passed_time": 0.9972598051,
                        "remaining_time": 7.454094475,
                        "test": [
                          0.06736020034
                        ]
                      },
                      {
                        "learn": [
                          0.04232190273
                        ],
                        "iteration": 118,
                        "passed_time": 1.005166238,
                        "remaining_time": 7.441608873,
                        "test": [
                          0.06717494829
                        ]
                      },
                      {
                        "learn": [
                          0.04196014366
                        ],
                        "iteration": 119,
                        "passed_time": 1.012788984,
                        "remaining_time": 7.427119216,
                        "test": [
                          0.06690888392
                        ]
                      },
                      {
                        "learn": [
                          0.04191312651
                        ],
                        "iteration": 120,
                        "passed_time": 1.019886417,
                        "remaining_time": 7.408926949,
                        "test": [
                          0.06692145525
                        ]
                      },
                      {
                        "learn": [
                          0.04186487386
                        ],
                        "iteration": 121,
                        "passed_time": 1.031030011,
                        "remaining_time": 7.420035654,
                        "test": [
                          0.06693046162
                        ]
                      },
                      {
                        "learn": [
                          0.04155708731
                        ],
                        "iteration": 122,
                        "passed_time": 1.038313016,
                        "remaining_time": 7.403256221,
                        "test": [
                          0.06690925849
                        ]
                      },
                      {
                        "learn": [
                          0.04139395156
                        ],
                        "iteration": 123,
                        "passed_time": 1.046801965,
                        "remaining_time": 7.395149369,
                        "test": [
                          0.06680620025
                        ]
                      },
                      {
                        "learn": [
                          0.04134883602
                        ],
                        "iteration": 124,
                        "passed_time": 1.061827514,
                        "remaining_time": 7.432792597,
                        "test": [
                          0.0668212363
                        ]
                      },
                      {
                        "learn": [
                          0.04130610793
                        ],
                        "iteration": 125,
                        "passed_time": 1.068337355,
                        "remaining_time": 7.410530542,
                        "test": [
                          0.06683696573
                        ]
                      },
                      {
                        "learn": [
                          0.04088923005
                        ],
                        "iteration": 126,
                        "passed_time": 1.075658261,
                        "remaining_time": 7.394091823,
                        "test": [
                          0.06668118262
                        ]
                      },
                      {
                        "learn": [
                          0.04049290926
                        ],
                        "iteration": 127,
                        "passed_time": 1.083546656,
                        "remaining_time": 7.381661592,
                        "test": [
                          0.06650727665
                        ]
                      },
                      {
                        "learn": [
                          0.04035407743
                        ],
                        "iteration": 128,
                        "passed_time": 1.092668996,
                        "remaining_time": 7.377633301,
                        "test": [
                          0.06651164167
                        ]
                      },
                      {
                        "learn": [
                          0.04030512409
                        ],
                        "iteration": 129,
                        "passed_time": 1.101047071,
                        "remaining_time": 7.368545782,
                        "test": [
                          0.06653701162
                        ]
                      },
                      {
                        "learn": [
                          0.04027650079
                        ],
                        "iteration": 130,
                        "passed_time": 1.108418724,
                        "remaining_time": 7.352792912,
                        "test": [
                          0.0665542318
                        ]
                      },
                      {
                        "learn": [
                          0.04023325361
                        ],
                        "iteration": 131,
                        "passed_time": 1.115653147,
                        "remaining_time": 7.336264635,
                        "test": [
                          0.06657930475
                        ]
                      },
                      {
                        "learn": [
                          0.04007824761
                        ],
                        "iteration": 132,
                        "passed_time": 1.123547563,
                        "remaining_time": 7.324178475,
                        "test": [
                          0.06659594889
                        ]
                      },
                      {
                        "learn": [
                          0.03976102843
                        ],
                        "iteration": 133,
                        "passed_time": 1.131333337,
                        "remaining_time": 7.311452761,
                        "test": [
                          0.06648139145
                        ]
                      },
                      {
                        "learn": [
                          0.03947317648
                        ],
                        "iteration": 134,
                        "passed_time": 1.139189223,
                        "remaining_time": 7.299249466,
                        "test": [
                          0.06642062602
                        ]
                      },
                      {
                        "learn": [
                          0.03928263925
                        ],
                        "iteration": 135,
                        "passed_time": 1.146459057,
                        "remaining_time": 7.28338695,
                        "test": [
                          0.06635450831
                        ]
                      },
                      {
                        "learn": [
                          0.03921854128
                        ],
                        "iteration": 136,
                        "passed_time": 1.154219973,
                        "remaining_time": 7.270743337,
                        "test": [
                          0.06633066769
                        ]
                      },
                      {
                        "learn": [
                          0.0390514647
                        ],
                        "iteration": 137,
                        "passed_time": 1.164197405,
                        "remaining_time": 7.272015675,
                        "test": [
                          0.06627329441
                        ]
                      },
                      {
                        "learn": [
                          0.0390043411
                        ],
                        "iteration": 138,
                        "passed_time": 1.170422499,
                        "remaining_time": 7.249883252,
                        "test": [
                          0.06629260173
                        ]
                      },
                      {
                        "learn": [
                          0.03881675653
                        ],
                        "iteration": 139,
                        "passed_time": 1.177673633,
                        "remaining_time": 7.234280889,
                        "test": [
                          0.06616420569
                        ]
                      },
                      {
                        "learn": [
                          0.03871667415
                        ],
                        "iteration": 140,
                        "passed_time": 1.185841908,
                        "remaining_time": 7.22438439,
                        "test": [
                          0.06617557459
                        ]
                      },
                      {
                        "learn": [
                          0.03858227218
                        ],
                        "iteration": 141,
                        "passed_time": 1.196060777,
                        "remaining_time": 7.226902443,
                        "test": [
                          0.0661056259
                        ]
                      },
                      {
                        "learn": [
                          0.03856084025
                        ],
                        "iteration": 142,
                        "passed_time": 1.202862375,
                        "remaining_time": 7.208762627,
                        "test": [
                          0.06610370517
                        ]
                      },
                      {
                        "learn": [
                          0.03852541986
                        ],
                        "iteration": 143,
                        "passed_time": 1.209930793,
                        "remaining_time": 7.192366379,
                        "test": [
                          0.06612344385
                        ]
                      },
                      {
                        "learn": [
                          0.03838903118
                        ],
                        "iteration": 144,
                        "passed_time": 1.217682305,
                        "remaining_time": 7.180126695,
                        "test": [
                          0.06611462909
                        ]
                      },
                      {
                        "learn": [
                          0.0382968893
                        ],
                        "iteration": 145,
                        "passed_time": 1.235618657,
                        "remaining_time": 7.227522828,
                        "test": [
                          0.0660368559
                        ]
                      },
                      {
                        "learn": [
                          0.0381435714
                        ],
                        "iteration": 146,
                        "passed_time": 1.243453754,
                        "remaining_time": 7.215415323,
                        "test": [
                          0.06598455766
                        ]
                      },
                      {
                        "learn": [
                          0.0381032054
                        ],
                        "iteration": 147,
                        "passed_time": 1.25334484,
                        "remaining_time": 7.215201374,
                        "test": [
                          0.06595605463
                        ]
                      },
                      {
                        "learn": [
                          0.03774855967
                        ],
                        "iteration": 148,
                        "passed_time": 1.259352907,
                        "remaining_time": 7.192680025,
                        "test": [
                          0.0658399598
                        ]
                      },
                      {
                        "learn": [
                          0.03757835004
                        ],
                        "iteration": 149,
                        "passed_time": 1.269164116,
                        "remaining_time": 7.191929988,
                        "test": [
                          0.06585376035
                        ]
                      },
                      {
                        "learn": [
                          0.03746860433
                        ],
                        "iteration": 150,
                        "passed_time": 1.275226866,
                        "remaining_time": 7.169984165,
                        "test": [
                          0.06592817328
                        ]
                      },
                      {
                        "learn": [
                          0.03734392263
                        ],
                        "iteration": 151,
                        "passed_time": 1.279706111,
                        "remaining_time": 7.139413041,
                        "test": [
                          0.06591339255
                        ]
                      },
                      {
                        "learn": [
                          0.03714838429
                        ],
                        "iteration": 152,
                        "passed_time": 1.283790173,
                        "remaining_time": 7.106995273,
                        "test": [
                          0.06585650857
                        ]
                      },
                      {
                        "learn": [
                          0.03701595706
                        ],
                        "iteration": 153,
                        "passed_time": 1.290405972,
                        "remaining_time": 7.088853588,
                        "test": [
                          0.06588388807
                        ]
                      },
                      {
                        "learn": [
                          0.03698470236
                        ],
                        "iteration": 154,
                        "passed_time": 1.294027251,
                        "remaining_time": 7.054535658,
                        "test": [
                          0.065903047
                        ]
                      },
                      {
                        "learn": [
                          0.03692791474
                        ],
                        "iteration": 155,
                        "passed_time": 1.29924298,
                        "remaining_time": 7.029237662,
                        "test": [
                          0.06590087276
                        ]
                      },
                      {
                        "learn": [
                          0.03692441554
                        ],
                        "iteration": 156,
                        "passed_time": 1.308754338,
                        "remaining_time": 7.027260555,
                        "test": [
                          0.06591697002
                        ]
                      },
                      {
                        "learn": [
                          0.03686704192
                        ],
                        "iteration": 157,
                        "passed_time": 1.313736887,
                        "remaining_time": 7.001053539,
                        "test": [
                          0.06588794009
                        ]
                      },
                      {
                        "learn": [
                          0.03677464661
                        ],
                        "iteration": 158,
                        "passed_time": 1.318257369,
                        "remaining_time": 6.97266948,
                        "test": [
                          0.06589185804
                        ]
                      },
                      {
                        "learn": [
                          0.03674577874
                        ],
                        "iteration": 159,
                        "passed_time": 1.323278829,
                        "remaining_time": 6.947213855,
                        "test": [
                          0.0659110863
                        ]
                      },
                      {
                        "learn": [
                          0.03661890741
                        ],
                        "iteration": 160,
                        "passed_time": 1.328808865,
                        "remaining_time": 6.924662347,
                        "test": [
                          0.06583182876
                        ]
                      },
                      {
                        "learn": [
                          0.03654794895
                        ],
                        "iteration": 161,
                        "passed_time": 1.33509121,
                        "remaining_time": 6.906212555,
                        "test": [
                          0.06582283098
                        ]
                      },
                      {
                        "learn": [
                          0.03634838435
                        ],
                        "iteration": 162,
                        "passed_time": 1.34165061,
                        "remaining_time": 6.889334729,
                        "test": [
                          0.06573636947
                        ]
                      },
                      {
                        "learn": [
                          0.03629143369
                        ],
                        "iteration": 163,
                        "passed_time": 1.347207389,
                        "remaining_time": 6.86747181,
                        "test": [
                          0.06573965351
                        ]
                      },
                      {
                        "learn": [
                          0.03614061019
                        ],
                        "iteration": 164,
                        "passed_time": 1.353343235,
                        "remaining_time": 6.848736976,
                        "test": [
                          0.06562202093
                        ]
                      },
                      {
                        "learn": [
                          0.03591828948
                        ],
                        "iteration": 165,
                        "passed_time": 1.358565043,
                        "remaining_time": 6.825561724,
                        "test": [
                          0.06564361847
                        ]
                      },
                      {
                        "learn": [
                          0.0357528255
                        ],
                        "iteration": 166,
                        "passed_time": 1.362527025,
                        "remaining_time": 6.796317434,
                        "test": [
                          0.06563688204
                        ]
                      },
                      {
                        "learn": [
                          0.03566806159
                        ],
                        "iteration": 167,
                        "passed_time": 1.366052484,
                        "remaining_time": 6.765212302,
                        "test": [
                          0.06560778737
                        ]
                      },
                      {
                        "learn": [
                          0.03566497249
                        ],
                        "iteration": 168,
                        "passed_time": 1.371304339,
                        "remaining_time": 6.74292252,
                        "test": [
                          0.06562322775
                        ]
                      },
                      {
                        "learn": [
                          0.03559185548
                        ],
                        "iteration": 169,
                        "passed_time": 1.375288302,
                        "remaining_time": 6.714642885,
                        "test": [
                          0.06560724166
                        ]
                      },
                      {
                        "learn": [
                          0.03550611129
                        ],
                        "iteration": 170,
                        "passed_time": 1.380248797,
                        "remaining_time": 6.691381597,
                        "test": [
                          0.06556927198
                        ]
                      },
                      {
                        "learn": [
                          0.0354546759
                        ],
                        "iteration": 171,
                        "passed_time": 1.384788947,
                        "remaining_time": 6.666309584,
                        "test": [
                          0.06552494199
                        ]
                      },
                      {
                        "learn": [
                          0.03530801531
                        ],
                        "iteration": 172,
                        "passed_time": 1.390147636,
                        "remaining_time": 6.645387834,
                        "test": [
                          0.06551049299
                        ]
                      },
                      {
                        "learn": [
                          0.03514792173
                        ],
                        "iteration": 173,
                        "passed_time": 1.395474839,
                        "remaining_time": 6.624495501,
                        "test": [
                          0.06556033904
                        ]
                      },
                      {
                        "learn": [
                          0.03483126485
                        ],
                        "iteration": 174,
                        "passed_time": 1.4008875,
                        "remaining_time": 6.604183931,
                        "test": [
                          0.06546377465
                        ]
                      },
                      {
                        "learn": [
                          0.03480917882
                        ],
                        "iteration": 175,
                        "passed_time": 1.405325396,
                        "remaining_time": 6.579477989,
                        "test": [
                          0.06547756671
                        ]
                      },
                      {
                        "learn": [
                          0.03480618369
                        ],
                        "iteration": 176,
                        "passed_time": 1.410468183,
                        "remaining_time": 6.558278614,
                        "test": [
                          0.06549239613
                        ]
                      },
                      {
                        "learn": [
                          0.03457592529
                        ],
                        "iteration": 177,
                        "passed_time": 1.416026061,
                        "remaining_time": 6.539176531,
                        "test": [
                          0.06553491287
                        ]
                      },
                      {
                        "learn": [
                          0.03449989926
                        ],
                        "iteration": 178,
                        "passed_time": 1.422665332,
                        "remaining_time": 6.525185684,
                        "test": [
                          0.06549416486
                        ]
                      },
                      {
                        "learn": [
                          0.0343704961
                        ],
                        "iteration": 179,
                        "passed_time": 1.426741623,
                        "remaining_time": 6.499600728,
                        "test": [
                          0.06541231694
                        ]
                      },
                      {
                        "learn": [
                          0.03434286615
                        ],
                        "iteration": 180,
                        "passed_time": 1.431363912,
                        "remaining_time": 6.476724,
                        "test": [
                          0.06542540205
                        ]
                      },
                      {
                        "learn": [
                          0.03427130991
                        ],
                        "iteration": 181,
                        "passed_time": 1.436028842,
                        "remaining_time": 6.454239521,
                        "test": [
                          0.06539005976
                        ]
                      },
                      {
                        "learn": [
                          0.03411580811
                        ],
                        "iteration": 182,
                        "passed_time": 1.440377129,
                        "remaining_time": 6.430536142,
                        "test": [
                          0.06536147714
                        ]
                      },
                      {
                        "learn": [
                          0.03396560896
                        ],
                        "iteration": 183,
                        "passed_time": 1.446645683,
                        "remaining_time": 6.415559116,
                        "test": [
                          0.065339705
                        ]
                      },
                      {
                        "learn": [
                          0.03370061141
                        ],
                        "iteration": 184,
                        "passed_time": 1.45195437,
                        "remaining_time": 6.396447632,
                        "test": [
                          0.06526305836
                        ]
                      },
                      {
                        "learn": [
                          0.03355172076
                        ],
                        "iteration": 185,
                        "passed_time": 1.456438595,
                        "remaining_time": 6.37387643,
                        "test": [
                          0.06527169643
                        ]
                      },
                      {
                        "learn": [
                          0.03347415768
                        ],
                        "iteration": 186,
                        "passed_time": 1.462590852,
                        "remaining_time": 6.358750603,
                        "test": [
                          0.06521629957
                        ]
                      },
                      {
                        "learn": [
                          0.03346760387
                        ],
                        "iteration": 187,
                        "passed_time": 1.46676274,
                        "remaining_time": 6.335166728,
                        "test": [
                          0.0652182204
                        ]
                      },
                      {
                        "learn": [
                          0.03342971006
                        ],
                        "iteration": 188,
                        "passed_time": 1.474457303,
                        "remaining_time": 6.326904089,
                        "test": [
                          0.06519922279
                        ]
                      },
                      {
                        "learn": [
                          0.03337737069
                        ],
                        "iteration": 189,
                        "passed_time": 1.490771959,
                        "remaining_time": 6.355396246,
                        "test": [
                          0.065203245
                        ]
                      },
                      {
                        "learn": [
                          0.03331278037
                        ],
                        "iteration": 190,
                        "passed_time": 1.498610726,
                        "remaining_time": 6.347518729,
                        "test": [
                          0.06517964119
                        ]
                      },
                      {
                        "learn": [
                          0.03328086179
                        ],
                        "iteration": 191,
                        "passed_time": 1.514649093,
                        "remaining_time": 6.374148265,
                        "test": [
                          0.06515793616
                        ]
                      },
                      {
                        "learn": [
                          0.03317779337
                        ],
                        "iteration": 192,
                        "passed_time": 1.526476276,
                        "remaining_time": 6.382727225,
                        "test": [
                          0.06520850912
                        ]
                      },
                      {
                        "learn": [
                          0.03310455848
                        ],
                        "iteration": 193,
                        "passed_time": 1.551804946,
                        "remaining_time": 6.44718962,
                        "test": [
                          0.0651829604
                        ]
                      },
                      {
                        "learn": [
                          0.03302420006
                        ],
                        "iteration": 194,
                        "passed_time": 1.563628695,
                        "remaining_time": 6.454979997,
                        "test": [
                          0.06510604044
                        ]
                      },
                      {
                        "learn": [
                          0.03295492462
                        ],
                        "iteration": 195,
                        "passed_time": 1.571320969,
                        "remaining_time": 6.44562275,
                        "test": [
                          0.06510492559
                        ]
                      },
                      {
                        "learn": [
                          0.03286417508
                        ],
                        "iteration": 196,
                        "passed_time": 1.578452992,
                        "remaining_time": 6.433998745,
                        "test": [
                          0.06503224197
                        ]
                      },
                      {
                        "learn": [
                          0.03268142138
                        ],
                        "iteration": 197,
                        "passed_time": 1.587546093,
                        "remaining_time": 6.430363467,
                        "test": [
                          0.06500436886
                        ]
                      },
                      {
                        "learn": [
                          0.03250800718
                        ],
                        "iteration": 198,
                        "passed_time": 1.594754768,
                        "remaining_time": 6.419088287,
                        "test": [
                          0.06505028343
                        ]
                      },
                      {
                        "learn": [
                          0.03248306757
                        ],
                        "iteration": 199,
                        "passed_time": 1.601147288,
                        "remaining_time": 6.404589151,
                        "test": [
                          0.06504506653
                        ]
                      },
                      {
                        "learn": [
                          0.0324260659
                        ],
                        "iteration": 200,
                        "passed_time": 1.609235621,
                        "remaining_time": 6.396911748,
                        "test": [
                          0.06501990236
                        ]
                      },
                      {
                        "learn": [
                          0.03221557341
                        ],
                        "iteration": 201,
                        "passed_time": 1.616848426,
                        "remaining_time": 6.387351703,
                        "test": [
                          0.06493665805
                        ]
                      },
                      {
                        "learn": [
                          0.0320655834
                        ],
                        "iteration": 202,
                        "passed_time": 1.635333693,
                        "remaining_time": 6.420497307,
                        "test": [
                          0.06494073138
                        ]
                      },
                      {
                        "learn": [
                          0.03195529949
                        ],
                        "iteration": 203,
                        "passed_time": 1.650583856,
                        "remaining_time": 6.440513476,
                        "test": [
                          0.0648080447
                        ]
                      },
                      {
                        "learn": [
                          0.03185035853
                        ],
                        "iteration": 204,
                        "passed_time": 1.658784593,
                        "remaining_time": 6.432847566,
                        "test": [
                          0.06480075657
                        ]
                      },
                      {
                        "learn": [
                          0.03173531933
                        ],
                        "iteration": 205,
                        "passed_time": 1.66582645,
                        "remaining_time": 6.420709713,
                        "test": [
                          0.06478690923
                        ]
                      },
                      {
                        "learn": [
                          0.03151366937
                        ],
                        "iteration": 206,
                        "passed_time": 1.689659122,
                        "remaining_time": 6.472945331,
                        "test": [
                          0.06461704226
                        ]
                      },
                      {
                        "learn": [
                          0.03149571929
                        ],
                        "iteration": 207,
                        "passed_time": 1.70995193,
                        "remaining_time": 6.510970812,
                        "test": [
                          0.06464631336
                        ]
                      },
                      {
                        "learn": [
                          0.0313534264
                        ],
                        "iteration": 208,
                        "passed_time": 1.717298479,
                        "remaining_time": 6.499440657,
                        "test": [
                          0.06449952826
                        ]
                      },
                      {
                        "learn": [
                          0.03111397555
                        ],
                        "iteration": 209,
                        "passed_time": 1.724614072,
                        "remaining_time": 6.487833891,
                        "test": [
                          0.06442934123
                        ]
                      },
                      {
                        "learn": [
                          0.03108525442
                        ],
                        "iteration": 210,
                        "passed_time": 1.731347082,
                        "remaining_time": 6.474089327,
                        "test": [
                          0.06443526661
                        ]
                      },
                      {
                        "learn": [
                          0.0310647908
                        ],
                        "iteration": 211,
                        "passed_time": 1.74061409,
                        "remaining_time": 6.469829732,
                        "test": [
                          0.06444401233
                        ]
                      },
                      {
                        "learn": [
                          0.03099708319
                        ],
                        "iteration": 212,
                        "passed_time": 1.75101929,
                        "remaining_time": 6.46972855,
                        "test": [
                          0.06449650098
                        ]
                      },
                      {
                        "learn": [
                          0.03080663085
                        ],
                        "iteration": 213,
                        "passed_time": 1.758364883,
                        "remaining_time": 6.458293447,
                        "test": [
                          0.06445482168
                        ]
                      },
                      {
                        "learn": [
                          0.03076510555
                        ],
                        "iteration": 214,
                        "passed_time": 1.766912263,
                        "remaining_time": 6.451284309,
                        "test": [
                          0.0643982525
                        ]
                      },
                      {
                        "learn": [
                          0.03062923196
                        ],
                        "iteration": 215,
                        "passed_time": 1.787490592,
                        "remaining_time": 6.487928814,
                        "test": [
                          0.0643234934
                        ]
                      },
                      {
                        "learn": [
                          0.03045367476
                        ],
                        "iteration": 216,
                        "passed_time": 1.803163947,
                        "remaining_time": 6.506347329,
                        "test": [
                          0.06429650795
                        ]
                      },
                      {
                        "learn": [
                          0.03029624694
                        ],
                        "iteration": 217,
                        "passed_time": 1.811620617,
                        "remaining_time": 6.498565701,
                        "test": [
                          0.06414914451
                        ]
                      },
                      {
                        "learn": [
                          0.03017789101
                        ],
                        "iteration": 218,
                        "passed_time": 1.819732847,
                        "remaining_time": 6.489549559,
                        "test": [
                          0.06416941093
                        ]
                      },
                      {
                        "learn": [
                          0.0301233931
                        ],
                        "iteration": 219,
                        "passed_time": 1.82624863,
                        "remaining_time": 6.474881505,
                        "test": [
                          0.06420059575
                        ]
                      },
                      {
                        "learn": [
                          0.02998501226
                        ],
                        "iteration": 220,
                        "passed_time": 1.833537637,
                        "remaining_time": 6.463012757,
                        "test": [
                          0.06415341015
                        ]
                      },
                      {
                        "learn": [
                          0.02986612517
                        ],
                        "iteration": 221,
                        "passed_time": 1.843076863,
                        "remaining_time": 6.459071169,
                        "test": [
                          0.06411853527
                        ]
                      },
                      {
                        "learn": [
                          0.02986032586
                        ],
                        "iteration": 222,
                        "passed_time": 1.853095509,
                        "remaining_time": 6.456749823,
                        "test": [
                          0.06412375329
                        ]
                      },
                      {
                        "learn": [
                          0.0298057347
                        ],
                        "iteration": 223,
                        "passed_time": 1.860327181,
                        "remaining_time": 6.444704879,
                        "test": [
                          0.06408671393
                        ]
                      },
                      {
                        "learn": [
                          0.02971827772
                        ],
                        "iteration": 224,
                        "passed_time": 1.870537315,
                        "remaining_time": 6.442961861,
                        "test": [
                          0.06409145282
                        ]
                      },
                      {
                        "learn": [
                          0.02970310954
                        ],
                        "iteration": 225,
                        "passed_time": 1.877246626,
                        "remaining_time": 6.429154375,
                        "test": [
                          0.06410515778
                        ]
                      },
                      {
                        "learn": [
                          0.02964870791
                        ],
                        "iteration": 226,
                        "passed_time": 1.884857884,
                        "remaining_time": 6.418480813,
                        "test": [
                          0.06409053111
                        ]
                      },
                      {
                        "learn": [
                          0.02953639271
                        ],
                        "iteration": 227,
                        "passed_time": 1.892809089,
                        "remaining_time": 6.408985161,
                        "test": [
                          0.06410592356
                        ]
                      },
                      {
                        "learn": [
                          0.02950037116
                        ],
                        "iteration": 228,
                        "passed_time": 1.89997158,
                        "remaining_time": 6.396847547,
                        "test": [
                          0.06411355034
                        ]
                      },
                      {
                        "learn": [
                          0.02948820622
                        ],
                        "iteration": 229,
                        "passed_time": 1.90630294,
                        "remaining_time": 6.381970713,
                        "test": [
                          0.06412538803
                        ]
                      },
                      {
                        "learn": [
                          0.02939284538
                        ],
                        "iteration": 230,
                        "passed_time": 1.913877443,
                        "remaining_time": 6.371306294,
                        "test": [
                          0.06407874059
                        ]
                      },
                      {
                        "learn": [
                          0.02936537443
                        ],
                        "iteration": 231,
                        "passed_time": 1.923496847,
                        "remaining_time": 6.36743784,
                        "test": [
                          0.06408437957
                        ]
                      },
                      {
                        "learn": [
                          0.02927579454
                        ],
                        "iteration": 232,
                        "passed_time": 1.932811476,
                        "remaining_time": 6.362516747,
                        "test": [
                          0.06407780355
                        ]
                      },
                      {
                        "learn": [
                          0.0291890723
                        ],
                        "iteration": 233,
                        "passed_time": 1.940747551,
                        "remaining_time": 6.353045401,
                        "test": [
                          0.0640886234
                        ]
                      },
                      {
                        "learn": [
                          0.02905752958
                        ],
                        "iteration": 234,
                        "passed_time": 1.950392817,
                        "remaining_time": 6.349151085,
                        "test": [
                          0.06404166324
                        ]
                      },
                      {
                        "learn": [
                          0.02892147512
                        ],
                        "iteration": 235,
                        "passed_time": 1.957495278,
                        "remaining_time": 6.336976239,
                        "test": [
                          0.06406389732
                        ]
                      },
                      {
                        "learn": [
                          0.02887397327
                        ],
                        "iteration": 236,
                        "passed_time": 1.967936516,
                        "remaining_time": 6.335593089,
                        "test": [
                          0.06403961012
                        ]
                      },
                      {
                        "learn": [
                          0.02881801873
                        ],
                        "iteration": 237,
                        "passed_time": 1.975407463,
                        "remaining_time": 6.324623895,
                        "test": [
                          0.06406373251
                        ]
                      },
                      {
                        "learn": [
                          0.02876834383
                        ],
                        "iteration": 238,
                        "passed_time": 1.983042394,
                        "remaining_time": 6.314206117,
                        "test": [
                          0.06404837232
                        ]
                      },
                      {
                        "learn": [
                          0.0287322423
                        ],
                        "iteration": 239,
                        "passed_time": 1.991786745,
                        "remaining_time": 6.307324694,
                        "test": [
                          0.06402451109
                        ]
                      },
                      {
                        "learn": [
                          0.02861564982
                        ],
                        "iteration": 240,
                        "passed_time": 1.999654692,
                        "remaining_time": 6.297667683,
                        "test": [
                          0.06395133865
                        ]
                      },
                      {
                        "learn": [
                          0.02846718821
                        ],
                        "iteration": 241,
                        "passed_time": 2.007139719,
                        "remaining_time": 6.286826061,
                        "test": [
                          0.06381612746
                        ]
                      },
                      {
                        "learn": [
                          0.02834580991
                        ],
                        "iteration": 242,
                        "passed_time": 2.014966248,
                        "remaining_time": 6.277075926,
                        "test": [
                          0.06379862844
                        ]
                      },
                      {
                        "learn": [
                          0.02832137179
                        ],
                        "iteration": 243,
                        "passed_time": 2.022001148,
                        "remaining_time": 6.264888802,
                        "test": [
                          0.06380370921
                        ]
                      },
                      {
                        "learn": [
                          0.0282235187
                        ],
                        "iteration": 244,
                        "passed_time": 2.030246794,
                        "remaining_time": 6.256474816,
                        "test": [
                          0.06376495986
                        ]
                      },
                      {
                        "learn": [
                          0.02818995613
                        ],
                        "iteration": 245,
                        "passed_time": 2.037598695,
                        "remaining_time": 6.245322828,
                        "test": [
                          0.06379419428
                        ]
                      },
                      {
                        "learn": [
                          0.028146462
                        ],
                        "iteration": 246,
                        "passed_time": 2.046606529,
                        "remaining_time": 6.239249865,
                        "test": [
                          0.06378209617
                        ]
                      },
                      {
                        "learn": [
                          0.02797683529
                        ],
                        "iteration": 247,
                        "passed_time": 2.055245449,
                        "remaining_time": 6.232034586,
                        "test": [
                          0.06373195293
                        ]
                      },
                      {
                        "learn": [
                          0.02796321843
                        ],
                        "iteration": 248,
                        "passed_time": 2.062159753,
                        "remaining_time": 6.219606324,
                        "test": [
                          0.0637137193
                        ]
                      },
                      {
                        "learn": [
                          0.02785906823
                        ],
                        "iteration": 249,
                        "passed_time": 2.068231625,
                        "remaining_time": 6.204694875,
                        "test": [
                          0.06374226024
                        ]
                      },
                      {
                        "learn": [
                          0.02775985315
                        ],
                        "iteration": 250,
                        "passed_time": 2.073931095,
                        "remaining_time": 6.18874259,
                        "test": [
                          0.06377852856
                        ]
                      },
                      {
                        "learn": [
                          0.02765716607
                        ],
                        "iteration": 251,
                        "passed_time": 2.084584901,
                        "remaining_time": 6.187577405,
                        "test": [
                          0.06377701544
                        ]
                      },
                      {
                        "learn": [
                          0.02763827701
                        ],
                        "iteration": 252,
                        "passed_time": 2.105712305,
                        "remaining_time": 6.217261231,
                        "test": [
                          0.06379949546
                        ]
                      },
                      {
                        "learn": [
                          0.02753315179
                        ],
                        "iteration": 253,
                        "passed_time": 2.116830464,
                        "remaining_time": 6.21714774,
                        "test": [
                          0.06377689329
                        ]
                      },
                      {
                        "learn": [
                          0.02740432652
                        ],
                        "iteration": 254,
                        "passed_time": 2.149026246,
                        "remaining_time": 6.278527661,
                        "test": [
                          0.06374083558
                        ]
                      },
                      {
                        "learn": [
                          0.02732114731
                        ],
                        "iteration": 255,
                        "passed_time": 2.188759817,
                        "remaining_time": 6.361083218,
                        "test": [
                          0.06372514092
                        ]
                      },
                      {
                        "learn": [
                          0.02730741474
                        ],
                        "iteration": 256,
                        "passed_time": 2.205324042,
                        "remaining_time": 6.375703358,
                        "test": [
                          0.06372764432
                        ]
                      },
                      {
                        "learn": [
                          0.02717529839
                        ],
                        "iteration": 257,
                        "passed_time": 2.225491319,
                        "remaining_time": 6.400444026,
                        "test": [
                          0.06373250189
                        ]
                      },
                      {
                        "learn": [
                          0.02705218268
                        ],
                        "iteration": 258,
                        "passed_time": 2.236273827,
                        "remaining_time": 6.397988054,
                        "test": [
                          0.06362981073
                        ]
                      },
                      {
                        "learn": [
                          0.02679298977
                        ],
                        "iteration": 259,
                        "passed_time": 2.245661661,
                        "remaining_time": 6.391498573,
                        "test": [
                          0.06343784939
                        ]
                      },
                      {
                        "learn": [
                          0.02666822792
                        ],
                        "iteration": 260,
                        "passed_time": 2.253346059,
                        "remaining_time": 6.380163745,
                        "test": [
                          0.06337134225
                        ]
                      },
                      {
                        "learn": [
                          0.02654115072
                        ],
                        "iteration": 261,
                        "passed_time": 2.259255422,
                        "remaining_time": 6.363856876,
                        "test": [
                          0.06335639136
                        ]
                      },
                      {
                        "learn": [
                          0.02647468074
                        ],
                        "iteration": 262,
                        "passed_time": 2.268186922,
                        "remaining_time": 6.356097952,
                        "test": [
                          0.06333798266
                        ]
                      },
                      {
                        "learn": [
                          0.0262719161
                        ],
                        "iteration": 263,
                        "passed_time": 2.276400161,
                        "remaining_time": 6.346327721,
                        "test": [
                          0.06322853765
                        ]
                      },
                      {
                        "learn": [
                          0.02620637097
                        ],
                        "iteration": 264,
                        "passed_time": 2.293838337,
                        "remaining_time": 6.362155388,
                        "test": [
                          0.06322178927
                        ]
                      },
                      {
                        "learn": [
                          0.02611761326
                        ],
                        "iteration": 265,
                        "passed_time": 2.305789276,
                        "remaining_time": 6.36259146,
                        "test": [
                          0.06326187288
                        ]
                      },
                      {
                        "learn": [
                          0.0261062871
                        ],
                        "iteration": 266,
                        "passed_time": 2.313657869,
                        "remaining_time": 6.351727407,
                        "test": [
                          0.06327302173
                        ]
                      },
                      {
                        "learn": [
                          0.02604192086
                        ],
                        "iteration": 267,
                        "passed_time": 2.325712006,
                        "remaining_time": 6.352317867,
                        "test": [
                          0.06326927565
                        ]
                      },
                      {
                        "learn": [
                          0.02603087764
                        ],
                        "iteration": 268,
                        "passed_time": 2.336955725,
                        "remaining_time": 6.350612026,
                        "test": [
                          0.06327948096
                        ]
                      },
                      {
                        "learn": [
                          0.02600277777
                        ],
                        "iteration": 269,
                        "passed_time": 2.348202784,
                        "remaining_time": 6.348844564,
                        "test": [
                          0.06330650527
                        ]
                      },
                      {
                        "learn": [
                          0.02595217981
                        ],
                        "iteration": 270,
                        "passed_time": 2.356817485,
                        "remaining_time": 6.339926003,
                        "test": [
                          0.06328476592
                        ]
                      },
                      {
                        "learn": [
                          0.02583691077
                        ],
                        "iteration": 271,
                        "passed_time": 2.37149332,
                        "remaining_time": 6.347232122,
                        "test": [
                          0.06322934089
                        ]
                      },
                      {
                        "learn": [
                          0.02580725631
                        ],
                        "iteration": 272,
                        "passed_time": 2.381907481,
                        "remaining_time": 6.343028348,
                        "test": [
                          0.06324939619
                        ]
                      },
                      {
                        "learn": [
                          0.02567684626
                        ],
                        "iteration": 273,
                        "passed_time": 2.392715102,
                        "remaining_time": 6.339821766,
                        "test": [
                          0.06322128712
                        ]
                      },
                      {
                        "learn": [
                          0.02557549434
                        ],
                        "iteration": 274,
                        "passed_time": 2.403877622,
                        "remaining_time": 6.33749555,
                        "test": [
                          0.06324242049
                        ]
                      },
                      {
                        "learn": [
                          0.02547158169
                        ],
                        "iteration": 275,
                        "passed_time": 2.419923684,
                        "remaining_time": 6.347915751,
                        "test": [
                          0.06323651499
                        ]
                      },
                      {
                        "learn": [
                          0.02530907038
                        ],
                        "iteration": 276,
                        "passed_time": 2.429006383,
                        "remaining_time": 6.33996973,
                        "test": [
                          0.06314611681
                        ]
                      },
                      {
                        "learn": [
                          0.0252260864
                        ],
                        "iteration": 277,
                        "passed_time": 2.435821164,
                        "remaining_time": 6.326125469,
                        "test": [
                          0.06309043068
                        ]
                      },
                      {
                        "learn": [
                          0.02521481079
                        ],
                        "iteration": 278,
                        "passed_time": 2.444618888,
                        "remaining_time": 6.31745598,
                        "test": [
                          0.06310088428
                        ]
                      },
                      {
                        "learn": [
                          0.02515493122
                        ],
                        "iteration": 279,
                        "passed_time": 2.457151285,
                        "remaining_time": 6.31838902,
                        "test": [
                          0.06310775222
                        ]
                      },
                      {
                        "learn": [
                          0.02513923504
                        ],
                        "iteration": 280,
                        "passed_time": 2.464718999,
                        "remaining_time": 6.306522991,
                        "test": [
                          0.0630742979
                        ]
                      },
                      {
                        "learn": [
                          0.02512831001
                        ],
                        "iteration": 281,
                        "passed_time": 2.471525132,
                        "remaining_time": 6.292748386,
                        "test": [
                          0.0630879762
                        ]
                      },
                      {
                        "learn": [
                          0.02509733024
                        ],
                        "iteration": 282,
                        "passed_time": 2.479907411,
                        "remaining_time": 6.283016302,
                        "test": [
                          0.06310485551
                        ]
                      },
                      {
                        "learn": [
                          0.0250657614
                        ],
                        "iteration": 283,
                        "passed_time": 2.489381378,
                        "remaining_time": 6.27604601,
                        "test": [
                          0.06312133123
                        ]
                      },
                      {
                        "learn": [
                          0.02500438738
                        ],
                        "iteration": 284,
                        "passed_time": 2.506042167,
                        "remaining_time": 6.287088244,
                        "test": [
                          0.0630914881
                        ]
                      },
                      {
                        "learn": [
                          0.02497472734
                        ],
                        "iteration": 285,
                        "passed_time": 2.51461255,
                        "remaining_time": 6.277739024,
                        "test": [
                          0.0631414067
                        ]
                      },
                      {
                        "learn": [
                          0.02494240785
                        ],
                        "iteration": 286,
                        "passed_time": 2.525540453,
                        "remaining_time": 6.274252066,
                        "test": [
                          0.06312738268
                        ]
                      },
                      {
                        "learn": [
                          0.02477543898
                        ],
                        "iteration": 287,
                        "passed_time": 2.535081684,
                        "remaining_time": 6.267285275,
                        "test": [
                          0.06311039432
                        ]
                      },
                      {
                        "learn": [
                          0.02469965884
                        ],
                        "iteration": 288,
                        "passed_time": 2.546819317,
                        "remaining_time": 6.265704272,
                        "test": [
                          0.06310348797
                        ]
                      },
                      {
                        "learn": [
                          0.02468972634
                        ],
                        "iteration": 289,
                        "passed_time": 2.557306797,
                        "remaining_time": 6.260992502,
                        "test": [
                          0.06311695863
                        ]
                      },
                      {
                        "learn": [
                          0.02466701893
                        ],
                        "iteration": 290,
                        "passed_time": 2.566774785,
                        "remaining_time": 6.253757122,
                        "test": [
                          0.06311514027
                        ]
                      },
                      {
                        "learn": [
                          0.02453144335
                        ],
                        "iteration": 291,
                        "passed_time": 2.576933854,
                        "remaining_time": 6.248182085,
                        "test": [
                          0.06308397987
                        ]
                      },
                      {
                        "learn": [
                          0.02448943326
                        ],
                        "iteration": 292,
                        "passed_time": 2.587531267,
                        "remaining_time": 6.243633467,
                        "test": [
                          0.06306297668
                        ]
                      },
                      {
                        "learn": [
                          0.02447450509
                        ],
                        "iteration": 293,
                        "passed_time": 2.596949745,
                        "remaining_time": 6.236212652,
                        "test": [
                          0.06307739471
                        ]
                      },
                      {
                        "learn": [
                          0.02444232575
                        ],
                        "iteration": 294,
                        "passed_time": 2.608140667,
                        "remaining_time": 6.233014137,
                        "test": [
                          0.06309037288
                        ]
                      },
                      {
                        "learn": [
                          0.02440193646
                        ],
                        "iteration": 295,
                        "passed_time": 2.623621179,
                        "remaining_time": 6.239963886,
                        "test": [
                          0.06310822131
                        ]
                      },
                      {
                        "learn": [
                          0.02433637233
                        ],
                        "iteration": 296,
                        "passed_time": 2.636783618,
                        "remaining_time": 6.241275702,
                        "test": [
                          0.06311001066
                        ]
                      },
                      {
                        "learn": [
                          0.02430095657
                        ],
                        "iteration": 297,
                        "passed_time": 2.664153408,
                        "remaining_time": 6.2759587,
                        "test": [
                          0.06310596572
                        ]
                      },
                      {
                        "learn": [
                          0.02424972838
                        ],
                        "iteration": 298,
                        "passed_time": 2.676159747,
                        "remaining_time": 6.274207299,
                        "test": [
                          0.06310189075
                        ]
                      },
                      {
                        "learn": [
                          0.02409264035
                        ],
                        "iteration": 299,
                        "passed_time": 2.686167464,
                        "remaining_time": 6.267724083,
                        "test": [
                          0.06307112417
                        ]
                      },
                      {
                        "learn": [
                          0.02408901778
                        ],
                        "iteration": 300,
                        "passed_time": 2.711061384,
                        "remaining_time": 6.295787068,
                        "test": [
                          0.0630739777
                        ]
                      },
                      {
                        "learn": [
                          0.02398150601
                        ],
                        "iteration": 301,
                        "passed_time": 2.74742237,
                        "remaining_time": 6.350002696,
                        "test": [
                          0.06304697649
                        ]
                      },
                      {
                        "learn": [
                          0.02397412544
                        ],
                        "iteration": 302,
                        "passed_time": 2.757574523,
                        "remaining_time": 6.343331493,
                        "test": [
                          0.06303497922
                        ]
                      },
                      {
                        "learn": [
                          0.02389372764
                        ],
                        "iteration": 303,
                        "passed_time": 2.767185704,
                        "remaining_time": 6.335398849,
                        "test": [
                          0.06305999527
                        ]
                      },
                      {
                        "learn": [
                          0.02377475834
                        ],
                        "iteration": 304,
                        "passed_time": 2.77917802,
                        "remaining_time": 6.332881062,
                        "test": [
                          0.06298982319
                        ]
                      },
                      {
                        "learn": [
                          0.02368162251
                        ],
                        "iteration": 305,
                        "passed_time": 2.791209756,
                        "remaining_time": 6.330390753,
                        "test": [
                          0.06295713857
                        ]
                      },
                      {
                        "learn": [
                          0.02366839362
                        ],
                        "iteration": 306,
                        "passed_time": 2.802033703,
                        "remaining_time": 6.32511191,
                        "test": [
                          0.06296728625
                        ]
                      },
                      {
                        "learn": [
                          0.02361987561
                        ],
                        "iteration": 307,
                        "passed_time": 2.814237372,
                        "remaining_time": 6.322896954,
                        "test": [
                          0.06290942284
                        ]
                      },
                      {
                        "learn": [
                          0.02360895715
                        ],
                        "iteration": 308,
                        "passed_time": 2.823033666,
                        "remaining_time": 6.312997616,
                        "test": [
                          0.06291924743
                        ]
                      },
                      {
                        "learn": [
                          0.02359355443
                        ],
                        "iteration": 309,
                        "passed_time": 2.831155177,
                        "remaining_time": 6.301603459,
                        "test": [
                          0.06292853538
                        ]
                      },
                      {
                        "learn": [
                          0.02353104076
                        ],
                        "iteration": 310,
                        "passed_time": 2.845780702,
                        "remaining_time": 6.304639561,
                        "test": [
                          0.06292889579
                        ]
                      },
                      {
                        "learn": [
                          0.02343089407
                        ],
                        "iteration": 311,
                        "passed_time": 2.854549361,
                        "remaining_time": 6.29464731,
                        "test": [
                          0.06289721089
                        ]
                      },
                      {
                        "learn": [
                          0.02338900076
                        ],
                        "iteration": 312,
                        "passed_time": 2.864874927,
                        "remaining_time": 6.288080111,
                        "test": [
                          0.06290512032
                        ]
                      },
                      {
                        "learn": [
                          0.02335746913
                        ],
                        "iteration": 313,
                        "passed_time": 2.876453391,
                        "remaining_time": 6.284226198,
                        "test": [
                          0.06290744226
                        ]
                      },
                      {
                        "learn": [
                          0.02330522656
                        ],
                        "iteration": 314,
                        "passed_time": 2.887841969,
                        "remaining_time": 6.279910314,
                        "test": [
                          0.06287862345
                        ]
                      },
                      {
                        "learn": [
                          0.02330270326
                        ],
                        "iteration": 315,
                        "passed_time": 2.899503026,
                        "remaining_time": 6.276139461,
                        "test": [
                          0.06288358756
                        ]
                      },
                      {
                        "learn": [
                          0.02327000072
                        ],
                        "iteration": 316,
                        "passed_time": 2.911489943,
                        "remaining_time": 6.273020918,
                        "test": [
                          0.06287034875
                        ]
                      },
                      {
                        "learn": [
                          0.02326029725
                        ],
                        "iteration": 317,
                        "passed_time": 2.923887132,
                        "remaining_time": 6.270726491,
                        "test": [
                          0.06288118981
                        ]
                      },
                      {
                        "learn": [
                          0.02310289496
                        ],
                        "iteration": 318,
                        "passed_time": 2.932501644,
                        "remaining_time": 6.260293478,
                        "test": [
                          0.06280584356
                        ]
                      },
                      {
                        "learn": [
                          0.02305583133
                        ],
                        "iteration": 319,
                        "passed_time": 2.947814777,
                        "remaining_time": 6.264106401,
                        "test": [
                          0.06278679435
                        ]
                      },
                      {
                        "learn": [
                          0.02304624646
                        ],
                        "iteration": 320,
                        "passed_time": 2.956322267,
                        "remaining_time": 6.253404421,
                        "test": [
                          0.06279746515
                        ]
                      },
                      {
                        "learn": [
                          0.02297868165
                        ],
                        "iteration": 321,
                        "passed_time": 2.963361014,
                        "remaining_time": 6.239623502,
                        "test": [
                          0.06275879876
                        ]
                      },
                      {
                        "learn": [
                          0.02291546188
                        ],
                        "iteration": 322,
                        "passed_time": 2.9674493,
                        "remaining_time": 6.219700235,
                        "test": [
                          0.06278504381
                        ]
                      },
                      {
                        "learn": [
                          0.02288558288
                        ],
                        "iteration": 323,
                        "passed_time": 2.972886609,
                        "remaining_time": 6.202689345,
                        "test": [
                          0.06274745835
                        ]
                      },
                      {
                        "learn": [
                          0.02285230553
                        ],
                        "iteration": 324,
                        "passed_time": 2.981442638,
                        "remaining_time": 6.192227017,
                        "test": [
                          0.06272517901
                        ]
                      },
                      {
                        "learn": [
                          0.02274708905
                        ],
                        "iteration": 325,
                        "passed_time": 2.989464054,
                        "remaining_time": 6.180671081,
                        "test": [
                          0.06273092871
                        ]
                      },
                      {
                        "learn": [
                          0.02273719864
                        ],
                        "iteration": 326,
                        "passed_time": 2.997231628,
                        "remaining_time": 6.168614329,
                        "test": [
                          0.06272287562
                        ]
                      },
                      {
                        "learn": [
                          0.02272097095
                        ],
                        "iteration": 327,
                        "passed_time": 3.007481089,
                        "remaining_time": 6.161668573,
                        "test": [
                          0.06268880526
                        ]
                      },
                      {
                        "learn": [
                          0.02264531829
                        ],
                        "iteration": 328,
                        "passed_time": 3.022766411,
                        "remaining_time": 6.16497344,
                        "test": [
                          0.06272007934
                        ]
                      },
                      {
                        "learn": [
                          0.02254031329
                        ],
                        "iteration": 329,
                        "passed_time": 3.04566805,
                        "remaining_time": 6.18362907,
                        "test": [
                          0.06267028786
                        ]
                      },
                      {
                        "learn": [
                          0.02250604591
                        ],
                        "iteration": 330,
                        "passed_time": 3.063984982,
                        "remaining_time": 6.192767229,
                        "test": [
                          0.06264645661
                        ]
                      },
                      {
                        "learn": [
                          0.02249668309
                        ],
                        "iteration": 331,
                        "passed_time": 3.075079866,
                        "remaining_time": 6.187208887,
                        "test": [
                          0.06265525703
                        ]
                      },
                      {
                        "learn": [
                          0.02249502631
                        ],
                        "iteration": 332,
                        "passed_time": 3.082592848,
                        "remaining_time": 6.174442731,
                        "test": [
                          0.06265674583
                        ]
                      },
                      {
                        "learn": [
                          0.02243425189
                        ],
                        "iteration": 333,
                        "passed_time": 3.090128712,
                        "remaining_time": 6.16175366,
                        "test": [
                          0.0626360463
                        ]
                      },
                      {
                        "learn": [
                          0.0223746018
                        ],
                        "iteration": 334,
                        "passed_time": 3.098437418,
                        "remaining_time": 6.150629502,
                        "test": [
                          0.06265246687
                        ]
                      },
                      {
                        "learn": [
                          0.02228600308
                        ],
                        "iteration": 335,
                        "passed_time": 3.107359229,
                        "remaining_time": 6.140733715,
                        "test": [
                          0.06263139206
                        ]
                      },
                      {
                        "learn": [
                          0.02225807912
                        ],
                        "iteration": 336,
                        "passed_time": 3.115864373,
                        "remaining_time": 6.130023974,
                        "test": [
                          0.06265600212
                        ]
                      },
                      {
                        "learn": [
                          0.02224974259
                        ],
                        "iteration": 337,
                        "passed_time": 3.12481884,
                        "remaining_time": 6.120207313,
                        "test": [
                          0.06266511529
                        ]
                      },
                      {
                        "learn": [
                          0.02221691646
                        ],
                        "iteration": 338,
                        "passed_time": 3.13265509,
                        "remaining_time": 6.108215382,
                        "test": [
                          0.06267907075
                        ]
                      },
                      {
                        "learn": [
                          0.02218148677
                        ],
                        "iteration": 339,
                        "passed_time": 3.139702011,
                        "remaining_time": 6.094715668,
                        "test": [
                          0.06268638801
                        ]
                      },
                      {
                        "learn": [
                          0.02215677953
                        ],
                        "iteration": 340,
                        "passed_time": 3.146066151,
                        "remaining_time": 6.079934293,
                        "test": [
                          0.06268135026
                        ]
                      },
                      {
                        "learn": [
                          0.02215296684
                        ],
                        "iteration": 341,
                        "passed_time": 3.153405346,
                        "remaining_time": 6.067078123,
                        "test": [
                          0.06268335652
                        ]
                      },
                      {
                        "learn": [
                          0.02207670531
                        ],
                        "iteration": 342,
                        "passed_time": 3.161658184,
                        "remaining_time": 6.056004161,
                        "test": [
                          0.06264183608
                        ]
                      },
                      {
                        "learn": [
                          0.02205235903
                        ],
                        "iteration": 343,
                        "passed_time": 3.172481274,
                        "remaining_time": 6.04984801,
                        "test": [
                          0.06263865029
                        ]
                      },
                      {
                        "learn": [
                          0.02199472218
                        ],
                        "iteration": 344,
                        "passed_time": 3.180923545,
                        "remaining_time": 6.039144701,
                        "test": [
                          0.06261367198
                        ]
                      },
                      {
                        "learn": [
                          0.0219589614
                        ],
                        "iteration": 345,
                        "passed_time": 3.197875347,
                        "remaining_time": 6.04453895,
                        "test": [
                          0.06261112484
                        ]
                      },
                      {
                        "learn": [
                          0.02188493503
                        ],
                        "iteration": 346,
                        "passed_time": 3.210368376,
                        "remaining_time": 6.041413687,
                        "test": [
                          0.06259316716
                        ]
                      },
                      {
                        "learn": [
                          0.02184646195
                        ],
                        "iteration": 347,
                        "passed_time": 3.220772624,
                        "remaining_time": 6.034321123,
                        "test": [
                          0.06257711108
                        ]
                      },
                      {
                        "learn": [
                          0.02172513803
                        ],
                        "iteration": 348,
                        "passed_time": 3.23193894,
                        "remaining_time": 6.028631089,
                        "test": [
                          0.06256543284
                        ]
                      },
                      {
                        "learn": [
                          0.02164296716
                        ],
                        "iteration": 349,
                        "passed_time": 3.243513903,
                        "remaining_time": 6.023668676,
                        "test": [
                          0.06259091667
                        ]
                      },
                      {
                        "learn": [
                          0.02160965112
                        ],
                        "iteration": 350,
                        "passed_time": 3.253703436,
                        "remaining_time": 6.016106923,
                        "test": [
                          0.06257684343
                        ]
                      },
                      {
                        "learn": [
                          0.0215808767
                        ],
                        "iteration": 351,
                        "passed_time": 3.264874055,
                        "remaining_time": 6.010336329,
                        "test": [
                          0.0625547917
                        ]
                      },
                      {
                        "learn": [
                          0.02141608533
                        ],
                        "iteration": 352,
                        "passed_time": 3.272763253,
                        "remaining_time": 5.99852075,
                        "test": [
                          0.06249410009
                        ]
                      },
                      {
                        "learn": [
                          0.02141301604
                        ],
                        "iteration": 353,
                        "passed_time": 3.279522211,
                        "remaining_time": 5.984664826,
                        "test": [
                          0.06248802965
                        ]
                      },
                      {
                        "learn": [
                          0.02134295422
                        ],
                        "iteration": 354,
                        "passed_time": 3.285912459,
                        "remaining_time": 5.970178976,
                        "test": [
                          0.06247695139
                        ]
                      },
                      {
                        "learn": [
                          0.02132018315
                        ],
                        "iteration": 355,
                        "passed_time": 3.290569657,
                        "remaining_time": 5.952603536,
                        "test": [
                          0.06249078722
                        ]
                      },
                      {
                        "learn": [
                          0.02129579408
                        ],
                        "iteration": 356,
                        "passed_time": 3.295128966,
                        "remaining_time": 5.934924159,
                        "test": [
                          0.06250311248
                        ]
                      },
                      {
                        "learn": [
                          0.02127265718
                        ],
                        "iteration": 357,
                        "passed_time": 3.299370311,
                        "remaining_time": 5.916747876,
                        "test": [
                          0.06253829673
                        ]
                      },
                      {
                        "learn": [
                          0.02109701682
                        ],
                        "iteration": 358,
                        "passed_time": 3.306475705,
                        "remaining_time": 5.903763028,
                        "test": [
                          0.06261647893
                        ]
                      },
                      {
                        "learn": [
                          0.02107952961
                        ],
                        "iteration": 359,
                        "passed_time": 3.312924533,
                        "remaining_time": 5.889643613,
                        "test": [
                          0.06261297092
                        ]
                      },
                      {
                        "learn": [
                          0.02098660063
                        ],
                        "iteration": 360,
                        "passed_time": 3.330697113,
                        "remaining_time": 5.89561068,
                        "test": [
                          0.06259239734
                        ]
                      },
                      {
                        "learn": [
                          0.02094912291
                        ],
                        "iteration": 361,
                        "passed_time": 3.338824507,
                        "remaining_time": 5.884447612,
                        "test": [
                          0.06260434877
                        ]
                      },
                      {
                        "learn": [
                          0.02092761798
                        ],
                        "iteration": 362,
                        "passed_time": 3.354237602,
                        "remaining_time": 5.88608637,
                        "test": [
                          0.06258272494
                        ]
                      },
                      {
                        "learn": [
                          0.02091620241
                        ],
                        "iteration": 363,
                        "passed_time": 3.378845892,
                        "remaining_time": 5.903697767,
                        "test": [
                          0.06259255865
                        ]
                      },
                      {
                        "learn": [
                          0.0208664394
                        ],
                        "iteration": 364,
                        "passed_time": 3.394908119,
                        "remaining_time": 5.906210016,
                        "test": [
                          0.06261573217
                        ]
                      },
                      {
                        "learn": [
                          0.02084604468
                        ],
                        "iteration": 365,
                        "passed_time": 3.407053767,
                        "remaining_time": 5.901836306,
                        "test": [
                          0.06263474123
                        ]
                      },
                      {
                        "learn": [
                          0.02084501618
                        ],
                        "iteration": 366,
                        "passed_time": 3.411806895,
                        "remaining_time": 5.884669659,
                        "test": [
                          0.06263554794
                        ]
                      },
                      {
                        "learn": [
                          0.02082902357
                        ],
                        "iteration": 367,
                        "passed_time": 3.41876283,
                        "remaining_time": 5.871353556,
                        "test": [
                          0.06264194073
                        ]
                      },
                      {
                        "learn": [
                          0.02081788617
                        ],
                        "iteration": 368,
                        "passed_time": 3.422927544,
                        "remaining_time": 5.853298862,
                        "test": [
                          0.06264818752
                        ]
                      },
                      {
                        "learn": [
                          0.0207521501
                        ],
                        "iteration": 369,
                        "passed_time": 3.426740891,
                        "remaining_time": 5.834720977,
                        "test": [
                          0.06264509
                        ]
                      },
                      {
                        "learn": [
                          0.02073231713
                        ],
                        "iteration": 370,
                        "passed_time": 3.431127039,
                        "remaining_time": 5.817193821,
                        "test": [
                          0.06264680382
                        ]
                      },
                      {
                        "learn": [
                          0.02066002402
                        ],
                        "iteration": 371,
                        "passed_time": 3.439957658,
                        "remaining_time": 5.807240348,
                        "test": [
                          0.06267618738
                        ]
                      },
                      {
                        "learn": [
                          0.02062245132
                        ],
                        "iteration": 372,
                        "passed_time": 3.447983211,
                        "remaining_time": 5.795939607,
                        "test": [
                          0.06268680644
                        ]
                      },
                      {
                        "learn": [
                          0.02055870185
                        ],
                        "iteration": 373,
                        "passed_time": 3.455390136,
                        "remaining_time": 5.783620922,
                        "test": [
                          0.0626670063
                        ]
                      },
                      {
                        "learn": [
                          0.02054660605
                        ],
                        "iteration": 374,
                        "passed_time": 3.462093059,
                        "remaining_time": 5.770155098,
                        "test": [
                          0.06268770332
                        ]
                      },
                      {
                        "learn": [
                          0.02052381156
                        ],
                        "iteration": 375,
                        "passed_time": 3.471132967,
                        "remaining_time": 5.760603647,
                        "test": [
                          0.06267173274
                        ]
                      },
                      {
                        "learn": [
                          0.02045739988
                        ],
                        "iteration": 376,
                        "passed_time": 3.478262811,
                        "remaining_time": 5.747898491,
                        "test": [
                          0.06266341654
                        ]
                      },
                      {
                        "learn": [
                          0.02043953332
                        ],
                        "iteration": 377,
                        "passed_time": 3.486252428,
                        "remaining_time": 5.736637593,
                        "test": [
                          0.06268056587
                        ]
                      },
                      {
                        "learn": [
                          0.02033691586
                        ],
                        "iteration": 378,
                        "passed_time": 3.494153661,
                        "remaining_time": 5.725249138,
                        "test": [
                          0.06269513055
                        ]
                      },
                      {
                        "learn": [
                          0.0203252853
                        ],
                        "iteration": 379,
                        "passed_time": 3.502708755,
                        "remaining_time": 5.714945863,
                        "test": [
                          0.06269030687
                        ]
                      },
                      {
                        "learn": [
                          0.02030414478
                        ],
                        "iteration": 380,
                        "passed_time": 3.510976311,
                        "remaining_time": 5.70418461,
                        "test": [
                          0.06270110497
                        ]
                      },
                      {
                        "learn": [
                          0.02024742506
                        ],
                        "iteration": 381,
                        "passed_time": 3.520237581,
                        "remaining_time": 5.695044044,
                        "test": [
                          0.06268532129
                        ]
                      },
                      {
                        "learn": [
                          0.02023433913
                        ],
                        "iteration": 382,
                        "passed_time": 3.528615927,
                        "remaining_time": 5.684480489,
                        "test": [
                          0.06269437016
                        ]
                      },
                      {
                        "learn": [
                          0.02018690434
                        ],
                        "iteration": 383,
                        "passed_time": 3.534690177,
                        "remaining_time": 5.670232159,
                        "test": [
                          0.06265784197
                        ]
                      },
                      {
                        "learn": [
                          0.0201313834
                        ],
                        "iteration": 384,
                        "passed_time": 3.541222754,
                        "remaining_time": 5.656758426,
                        "test": [
                          0.06263908964
                        ]
                      },
                      {
                        "learn": [
                          0.02011658409
                        ],
                        "iteration": 385,
                        "passed_time": 3.550282106,
                        "remaining_time": 5.647339931,
                        "test": [
                          0.06263630301
                        ]
                      },
                      {
                        "learn": [
                          0.0200357575
                        ],
                        "iteration": 386,
                        "passed_time": 3.559018319,
                        "remaining_time": 5.637411445,
                        "test": [
                          0.06268090913
                        ]
                      },
                      {
                        "learn": [
                          0.02001752226
                        ],
                        "iteration": 387,
                        "passed_time": 3.569263034,
                        "remaining_time": 5.629868498,
                        "test": [
                          0.06266996637
                        ]
                      },
                      {
                        "learn": [
                          0.01995454047
                        ],
                        "iteration": 388,
                        "passed_time": 3.577342576,
                        "remaining_time": 5.618910832,
                        "test": [
                          0.06264637963
                        ]
                      },
                      {
                        "learn": [
                          0.01994214579
                        ],
                        "iteration": 389,
                        "passed_time": 3.585510554,
                        "remaining_time": 5.608106251,
                        "test": [
                          0.06264485372
                        ]
                      },
                      {
                        "learn": [
                          0.01991503569
                        ],
                        "iteration": 390,
                        "passed_time": 3.595191378,
                        "remaining_time": 5.599671481,
                        "test": [
                          0.06264421799
                        ]
                      },
                      {
                        "learn": [
                          0.01987208143
                        ],
                        "iteration": 391,
                        "passed_time": 3.604081632,
                        "remaining_time": 5.590004164,
                        "test": [
                          0.06260500732
                        ]
                      },
                      {
                        "learn": [
                          0.01980694384
                        ],
                        "iteration": 392,
                        "passed_time": 3.642482063,
                        "remaining_time": 5.625920133,
                        "test": [
                          0.0626370088
                        ]
                      },
                      {
                        "learn": [
                          0.01979807936
                        ],
                        "iteration": 393,
                        "passed_time": 3.659088987,
                        "remaining_time": 5.627938898,
                        "test": [
                          0.06261427401
                        ]
                      },
                      {
                        "learn": [
                          0.01975925477
                        ],
                        "iteration": 394,
                        "passed_time": 3.664998408,
                        "remaining_time": 5.613478574,
                        "test": [
                          0.06260962025
                        ]
                      },
                      {
                        "learn": [
                          0.01971807823
                        ],
                        "iteration": 395,
                        "passed_time": 3.670526891,
                        "remaining_time": 5.598480409,
                        "test": [
                          0.06259793272
                        ]
                      },
                      {
                        "learn": [
                          0.01968396453
                        ],
                        "iteration": 396,
                        "passed_time": 3.675193677,
                        "remaining_time": 5.582221126,
                        "test": [
                          0.06261069247
                        ]
                      },
                      {
                        "learn": [
                          0.01967051069
                        ],
                        "iteration": 397,
                        "passed_time": 3.679053872,
                        "remaining_time": 5.564800077,
                        "test": [
                          0.06260279738
                        ]
                      },
                      {
                        "learn": [
                          0.01966031536
                        ],
                        "iteration": 398,
                        "passed_time": 3.682434324,
                        "remaining_time": 5.546724382,
                        "test": [
                          0.06262156536
                        ]
                      },
                      {
                        "learn": [
                          0.01963615954
                        ],
                        "iteration": 399,
                        "passed_time": 3.699639992,
                        "remaining_time": 5.549459988,
                        "test": [
                          0.06262305119
                        ]
                      },
                      {
                        "learn": [
                          0.01958234739
                        ],
                        "iteration": 400,
                        "passed_time": 3.704780415,
                        "remaining_time": 5.534073488,
                        "test": [
                          0.06257870049
                        ]
                      },
                      {
                        "learn": [
                          0.01957932617
                        ],
                        "iteration": 401,
                        "passed_time": 3.708802443,
                        "remaining_time": 5.517074281,
                        "test": [
                          0.06257713896
                        ]
                      },
                      {
                        "learn": [
                          0.01953013509
                        ],
                        "iteration": 402,
                        "passed_time": 3.720134006,
                        "remaining_time": 5.510967746,
                        "test": [
                          0.06258589035
                        ]
                      },
                      {
                        "learn": [
                          0.01951824569
                        ],
                        "iteration": 403,
                        "passed_time": 3.732051865,
                        "remaining_time": 5.505700276,
                        "test": [
                          0.06257227893
                        ]
                      },
                      {
                        "learn": [
                          0.01950100605
                        ],
                        "iteration": 404,
                        "passed_time": 3.739501895,
                        "remaining_time": 5.493836118,
                        "test": [
                          0.0625517198
                        ]
                      },
                      {
                        "learn": [
                          0.01945613423
                        ],
                        "iteration": 405,
                        "passed_time": 3.751387513,
                        "remaining_time": 5.488483209,
                        "test": [
                          0.06251749547
                        ]
                      },
                      {
                        "learn": [
                          0.01942088232
                        ],
                        "iteration": 406,
                        "passed_time": 3.759520304,
                        "remaining_time": 5.477630321,
                        "test": [
                          0.06251626259
                        ]
                      },
                      {
                        "learn": [
                          0.01939643971
                        ],
                        "iteration": 407,
                        "passed_time": 3.765604762,
                        "remaining_time": 5.463818674,
                        "test": [
                          0.06251390973
                        ]
                      },
                      {
                        "learn": [
                          0.01936134991
                        ],
                        "iteration": 408,
                        "passed_time": 3.779492831,
                        "remaining_time": 5.461320937,
                        "test": [
                          0.0625209189
                        ]
                      },
                      {
                        "learn": [
                          0.0192979204
                        ],
                        "iteration": 409,
                        "passed_time": 3.815173709,
                        "remaining_time": 5.49012802,
                        "test": [
                          0.06249280352
                        ]
                      },
                      {
                        "learn": [
                          0.01928852685
                        ],
                        "iteration": 410,
                        "passed_time": 3.820624155,
                        "remaining_time": 5.475298363,
                        "test": [
                          0.0624845968
                        ]
                      },
                      {
                        "learn": [
                          0.01923776772
                        ],
                        "iteration": 411,
                        "passed_time": 3.825658977,
                        "remaining_time": 5.459921064,
                        "test": [
                          0.06245037747
                        ]
                      },
                      {
                        "learn": [
                          0.01920921001
                        ],
                        "iteration": 412,
                        "passed_time": 3.829752373,
                        "remaining_time": 5.443255793,
                        "test": [
                          0.06245701879
                        ]
                      },
                      {
                        "learn": [
                          0.01919408626
                        ],
                        "iteration": 413,
                        "passed_time": 3.833960458,
                        "remaining_time": 5.426813595,
                        "test": [
                          0.06246295724
                        ]
                      },
                      {
                        "learn": [
                          0.01917511968
                        ],
                        "iteration": 414,
                        "passed_time": 3.838472927,
                        "remaining_time": 5.410859428,
                        "test": [
                          0.06245240724
                        ]
                      },
                      {
                        "learn": [
                          0.01908036383
                        ],
                        "iteration": 415,
                        "passed_time": 3.842687417,
                        "remaining_time": 5.39454195,
                        "test": [
                          0.06244202457
                        ]
                      },
                      {
                        "learn": [
                          0.01904211429
                        ],
                        "iteration": 416,
                        "passed_time": 3.846969074,
                        "remaining_time": 5.378376427,
                        "test": [
                          0.0624290008
                        ]
                      },
                      {
                        "learn": [
                          0.0189216943
                        ],
                        "iteration": 417,
                        "passed_time": 3.850930746,
                        "remaining_time": 5.361822234,
                        "test": [
                          0.06245351028
                        ]
                      },
                      {
                        "learn": [
                          0.01886033982
                        ],
                        "iteration": 418,
                        "passed_time": 3.859346676,
                        "remaining_time": 5.351504579,
                        "test": [
                          0.0624362424
                        ]
                      },
                      {
                        "learn": [
                          0.01876983426
                        ],
                        "iteration": 419,
                        "passed_time": 3.864329104,
                        "remaining_time": 5.336454477,
                        "test": [
                          0.06240458779
                        ]
                      },
                      {
                        "learn": [
                          0.01875852275
                        ],
                        "iteration": 420,
                        "passed_time": 3.869030203,
                        "remaining_time": 5.321065291,
                        "test": [
                          0.06239897931
                        ]
                      },
                      {
                        "learn": [
                          0.01871042109
                        ],
                        "iteration": 421,
                        "passed_time": 3.873377936,
                        "remaining_time": 5.305242766,
                        "test": [
                          0.06236266654
                        ]
                      },
                      {
                        "learn": [
                          0.01869642302
                        ],
                        "iteration": 422,
                        "passed_time": 3.877733436,
                        "remaining_time": 5.289485089,
                        "test": [
                          0.06235104558
                        ]
                      },
                      {
                        "learn": [
                          0.01866722174
                        ],
                        "iteration": 423,
                        "passed_time": 3.88273798,
                        "remaining_time": 5.274662917,
                        "test": [
                          0.06235488975
                        ]
                      },
                      {
                        "learn": [
                          0.01859500731
                        ],
                        "iteration": 424,
                        "passed_time": 3.887951341,
                        "remaining_time": 5.260169461,
                        "test": [
                          0.06233600537
                        ]
                      },
                      {
                        "learn": [
                          0.01857172615
                        ],
                        "iteration": 425,
                        "passed_time": 3.891978506,
                        "remaining_time": 5.244121273,
                        "test": [
                          0.06232596546
                        ]
                      },
                      {
                        "learn": [
                          0.0185182467
                        ],
                        "iteration": 426,
                        "passed_time": 3.896334007,
                        "remaining_time": 5.228569991,
                        "test": [
                          0.06232714242
                        ]
                      },
                      {
                        "learn": [
                          0.01847960377
                        ],
                        "iteration": 427,
                        "passed_time": 3.901266334,
                        "remaining_time": 5.213841923,
                        "test": [
                          0.0623085982
                        ]
                      },
                      {
                        "learn": [
                          0.01841851718
                        ],
                        "iteration": 428,
                        "passed_time": 3.907820619,
                        "remaining_time": 5.201318353,
                        "test": [
                          0.06230689433
                        ]
                      },
                      {
                        "learn": [
                          0.01837443322
                        ],
                        "iteration": 429,
                        "passed_time": 3.916559092,
                        "remaining_time": 5.191717866,
                        "test": [
                          0.06231665783
                        ]
                      },
                      {
                        "learn": [
                          0.01833755438
                        ],
                        "iteration": 430,
                        "passed_time": 3.941933851,
                        "remaining_time": 5.204084365,
                        "test": [
                          0.06230743002
                        ]
                      },
                      {
                        "learn": [
                          0.01832784437
                        ],
                        "iteration": 431,
                        "passed_time": 3.948737901,
                        "remaining_time": 5.191859092,
                        "test": [
                          0.0623103196
                        ]
                      },
                      {
                        "learn": [
                          0.01830357476
                        ],
                        "iteration": 432,
                        "passed_time": 3.954060832,
                        "remaining_time": 5.177719381,
                        "test": [
                          0.06231664544
                        ]
                      },
                      {
                        "learn": [
                          0.01824394813
                        ],
                        "iteration": 433,
                        "passed_time": 3.964483642,
                        "remaining_time": 5.170271293,
                        "test": [
                          0.06234060429
                        ]
                      },
                      {
                        "learn": [
                          0.01823242514
                        ],
                        "iteration": 434,
                        "passed_time": 3.968326239,
                        "remaining_time": 5.154262816,
                        "test": [
                          0.06235612504
                        ]
                      },
                      {
                        "learn": [
                          0.01821840426
                        ],
                        "iteration": 435,
                        "passed_time": 3.972272474,
                        "remaining_time": 5.13844421,
                        "test": [
                          0.06236171477
                        ]
                      },
                      {
                        "learn": [
                          0.01819505458
                        ],
                        "iteration": 436,
                        "passed_time": 3.979100525,
                        "remaining_time": 5.126392668,
                        "test": [
                          0.06235429687
                        ]
                      },
                      {
                        "learn": [
                          0.01813403213
                        ],
                        "iteration": 437,
                        "passed_time": 3.985847718,
                        "remaining_time": 5.114261227,
                        "test": [
                          0.06234427994
                        ]
                      },
                      {
                        "learn": [
                          0.01811455193
                        ],
                        "iteration": 438,
                        "passed_time": 3.991714783,
                        "remaining_time": 5.101029597,
                        "test": [
                          0.06234247049
                        ]
                      },
                      {
                        "learn": [
                          0.01811163495
                        ],
                        "iteration": 439,
                        "passed_time": 3.997359341,
                        "remaining_time": 5.087548252,
                        "test": [
                          0.06233976531
                        ]
                      },
                      {
                        "learn": [
                          0.01809180156
                        ],
                        "iteration": 440,
                        "passed_time": 4.001825438,
                        "remaining_time": 5.072608662,
                        "test": [
                          0.06234851058
                        ]
                      },
                      {
                        "learn": [
                          0.01804145597
                        ],
                        "iteration": 441,
                        "passed_time": 4.007164214,
                        "remaining_time": 5.058818171,
                        "test": [
                          0.0623623958
                        ]
                      },
                      {
                        "learn": [
                          0.01803604379
                        ],
                        "iteration": 442,
                        "passed_time": 4.012671921,
                        "remaining_time": 5.045278239,
                        "test": [
                          0.06236691031
                        ]
                      },
                      {
                        "learn": [
                          0.01799813171
                        ],
                        "iteration": 443,
                        "passed_time": 4.01724556,
                        "remaining_time": 5.030604801,
                        "test": [
                          0.06234201002
                        ]
                      },
                      {
                        "learn": [
                          0.01799191307
                        ],
                        "iteration": 444,
                        "passed_time": 4.022575318,
                        "remaining_time": 5.016919779,
                        "test": [
                          0.06235739617
                        ]
                      },
                      {
                        "learn": [
                          0.01791863356
                        ],
                        "iteration": 445,
                        "passed_time": 4.026255362,
                        "remaining_time": 5.001223029,
                        "test": [
                          0.06234992286
                        ]
                      },
                      {
                        "learn": [
                          0.01787038348
                        ],
                        "iteration": 446,
                        "passed_time": 4.032382524,
                        "remaining_time": 4.988607463,
                        "test": [
                          0.06232800237
                        ]
                      },
                      {
                        "learn": [
                          0.01778444463
                        ],
                        "iteration": 447,
                        "passed_time": 4.036577805,
                        "remaining_time": 4.97364051,
                        "test": [
                          0.06232888683
                        ]
                      },
                      {
                        "learn": [
                          0.01770121694
                        ],
                        "iteration": 448,
                        "passed_time": 4.043284364,
                        "remaining_time": 4.961803306,
                        "test": [
                          0.06230376297
                        ]
                      },
                      {
                        "learn": [
                          0.01766474756
                        ],
                        "iteration": 449,
                        "passed_time": 4.061168829,
                        "remaining_time": 4.963650791,
                        "test": [
                          0.06231511984
                        ]
                      },
                      {
                        "learn": [
                          0.01762690738
                        ],
                        "iteration": 450,
                        "passed_time": 4.068417975,
                        "remaining_time": 4.952464452,
                        "test": [
                          0.06233642111
                        ]
                      },
                      {
                        "learn": [
                          0.01761956241
                        ],
                        "iteration": 451,
                        "passed_time": 4.074954766,
                        "remaining_time": 4.940431885,
                        "test": [
                          0.06234200061
                        ]
                      },
                      {
                        "learn": [
                          0.01757207165
                        ],
                        "iteration": 452,
                        "passed_time": 4.101770944,
                        "remaining_time": 4.952911052,
                        "test": [
                          0.06232593528
                        ]
                      },
                      {
                        "learn": [
                          0.01750723547
                        ],
                        "iteration": 453,
                        "passed_time": 4.108554096,
                        "remaining_time": 4.94112453,
                        "test": [
                          0.0623014764
                        ]
                      },
                      {
                        "learn": [
                          0.01747960106
                        ],
                        "iteration": 454,
                        "passed_time": 4.149043676,
                        "remaining_time": 4.969733634,
                        "test": [
                          0.06229656729
                        ]
                      },
                      {
                        "learn": [
                          0.01745693949
                        ],
                        "iteration": 455,
                        "passed_time": 4.170748705,
                        "remaining_time": 4.975630034,
                        "test": [
                          0.06230666714
                        ]
                      },
                      {
                        "learn": [
                          0.01743444557
                        ],
                        "iteration": 456,
                        "passed_time": 4.193873808,
                        "remaining_time": 4.983092949,
                        "test": [
                          0.06228220482
                        ]
                      },
                      {
                        "learn": [
                          0.01742995218
                        ],
                        "iteration": 457,
                        "passed_time": 4.212040292,
                        "remaining_time": 4.984554233,
                        "test": [
                          0.06228649217
                        ]
                      },
                      {
                        "learn": [
                          0.01742242874
                        ],
                        "iteration": 458,
                        "passed_time": 4.22954088,
                        "remaining_time": 4.985145133,
                        "test": [
                          0.06228154755
                        ]
                      },
                      {
                        "learn": [
                          0.01738833479
                        ],
                        "iteration": 459,
                        "passed_time": 4.242011921,
                        "remaining_time": 4.979753125,
                        "test": [
                          0.06227648187
                        ]
                      },
                      {
                        "learn": [
                          0.01735139602
                        ],
                        "iteration": 460,
                        "passed_time": 4.251481858,
                        "remaining_time": 4.970821522,
                        "test": [
                          0.06228027559
                        ]
                      },
                      {
                        "learn": [
                          0.01734104111
                        ],
                        "iteration": 461,
                        "passed_time": 4.261678125,
                        "remaining_time": 4.962733401,
                        "test": [
                          0.06227915195
                        ]
                      },
                      {
                        "learn": [
                          0.01732701678
                        ],
                        "iteration": 462,
                        "passed_time": 4.271780967,
                        "remaining_time": 4.954527817,
                        "test": [
                          0.06228555611
                        ]
                      },
                      {
                        "learn": [
                          0.01731653075
                        ],
                        "iteration": 463,
                        "passed_time": 4.29009221,
                        "remaining_time": 4.955796174,
                        "test": [
                          0.06229002358
                        ]
                      },
                      {
                        "learn": [
                          0.01730010286
                        ],
                        "iteration": 464,
                        "passed_time": 4.297643745,
                        "remaining_time": 4.944600867,
                        "test": [
                          0.06231014721
                        ]
                      },
                      {
                        "learn": [
                          0.01727261123
                        ],
                        "iteration": 465,
                        "passed_time": 4.311840174,
                        "remaining_time": 4.941035736,
                        "test": [
                          0.06232139544
                        ]
                      },
                      {
                        "learn": [
                          0.01725541161
                        ],
                        "iteration": 466,
                        "passed_time": 4.319214803,
                        "remaining_time": 4.929639165,
                        "test": [
                          0.06231623934
                        ]
                      },
                      {
                        "learn": [
                          0.01724027654
                        ],
                        "iteration": 467,
                        "passed_time": 4.327417282,
                        "remaining_time": 4.919200842,
                        "test": [
                          0.06232602479
                        ]
                      },
                      {
                        "learn": [
                          0.01718155709
                        ],
                        "iteration": 468,
                        "passed_time": 4.336521332,
                        "remaining_time": 4.909792809,
                        "test": [
                          0.06232387335
                        ]
                      },
                      {
                        "learn": [
                          0.01704731412
                        ],
                        "iteration": 469,
                        "passed_time": 4.343474388,
                        "remaining_time": 4.89796048,
                        "test": [
                          0.06232518416
                        ]
                      },
                      {
                        "learn": [
                          0.01704038366
                        ],
                        "iteration": 470,
                        "passed_time": 4.351519606,
                        "remaining_time": 4.887375524,
                        "test": [
                          0.06232108307
                        ]
                      },
                      {
                        "learn": [
                          0.01703472954
                        ],
                        "iteration": 471,
                        "passed_time": 4.359073543,
                        "remaining_time": 4.87625176,
                        "test": [
                          0.06231998508
                        ]
                      },
                      {
                        "learn": [
                          0.01697294216
                        ],
                        "iteration": 472,
                        "passed_time": 4.374512223,
                        "remaining_time": 4.873927995,
                        "test": [
                          0.06230271847
                        ]
                      },
                      {
                        "learn": [
                          0.01692682959
                        ],
                        "iteration": 473,
                        "passed_time": 4.386916703,
                        "remaining_time": 4.868181827,
                        "test": [
                          0.06231606205
                        ]
                      },
                      {
                        "learn": [
                          0.01690553992
                        ],
                        "iteration": 474,
                        "passed_time": 4.394812761,
                        "remaining_time": 4.85742463,
                        "test": [
                          0.06230509978
                        ]
                      },
                      {
                        "learn": [
                          0.01686704868
                        ],
                        "iteration": 475,
                        "passed_time": 4.399965705,
                        "remaining_time": 4.843659725,
                        "test": [
                          0.06226543451
                        ]
                      },
                      {
                        "learn": [
                          0.01678704344
                        ],
                        "iteration": 476,
                        "passed_time": 4.404347814,
                        "remaining_time": 4.829085758,
                        "test": [
                          0.06222719724
                        ]
                      },
                      {
                        "learn": [
                          0.01677450119
                        ],
                        "iteration": 477,
                        "passed_time": 4.420850928,
                        "remaining_time": 4.82779118,
                        "test": [
                          0.06222225131
                        ]
                      },
                      {
                        "learn": [
                          0.01676838363
                        ],
                        "iteration": 478,
                        "passed_time": 4.432232139,
                        "remaining_time": 4.820862097,
                        "test": [
                          0.0622238423
                        ]
                      },
                      {
                        "learn": [
                          0.01675463755
                        ],
                        "iteration": 479,
                        "passed_time": 4.438712649,
                        "remaining_time": 4.80860537,
                        "test": [
                          0.06222325761
                        ]
                      },
                      {
                        "learn": [
                          0.0167095853
                        ],
                        "iteration": 480,
                        "passed_time": 4.447277641,
                        "remaining_time": 4.798621821,
                        "test": [
                          0.06223793234
                        ]
                      },
                      {
                        "learn": [
                          0.01670752527
                        ],
                        "iteration": 481,
                        "passed_time": 4.450907528,
                        "remaining_time": 4.783340455,
                        "test": [
                          0.06223757614
                        ]
                      },
                      {
                        "learn": [
                          0.01666306437
                        ],
                        "iteration": 482,
                        "passed_time": 4.468459009,
                        "remaining_time": 4.783008918,
                        "test": [
                          0.06223210043
                        ]
                      },
                      {
                        "learn": [
                          0.01664407606
                        ],
                        "iteration": 483,
                        "passed_time": 4.512139869,
                        "remaining_time": 4.810463167,
                        "test": [
                          0.06223957434
                        ]
                      },
                      {
                        "learn": [
                          0.01663909056
                        ],
                        "iteration": 484,
                        "passed_time": 4.524197635,
                        "remaining_time": 4.804044911,
                        "test": [
                          0.06223594975
                        ]
                      },
                      {
                        "learn": [
                          0.01656007434
                        ],
                        "iteration": 485,
                        "passed_time": 4.528943574,
                        "remaining_time": 4.789870364,
                        "test": [
                          0.06219340958
                        ]
                      },
                      {
                        "learn": [
                          0.0165552013
                        ],
                        "iteration": 486,
                        "passed_time": 4.536958641,
                        "remaining_time": 4.779178199,
                        "test": [
                          0.0621907344
                        ]
                      },
                      {
                        "learn": [
                          0.01652614205
                        ],
                        "iteration": 487,
                        "passed_time": 4.542502435,
                        "remaining_time": 4.765904194,
                        "test": [
                          0.06219829361
                        ]
                      },
                      {
                        "learn": [
                          0.01647677781
                        ],
                        "iteration": 488,
                        "passed_time": 4.546497864,
                        "remaining_time": 4.75104378,
                        "test": [
                          0.06218706953
                        ]
                      },
                      {
                        "learn": [
                          0.01647323503
                        ],
                        "iteration": 489,
                        "passed_time": 4.551294266,
                        "remaining_time": 4.737061379,
                        "test": [
                          0.06218440257
                        ]
                      },
                      {
                        "learn": [
                          0.01644151659
                        ],
                        "iteration": 490,
                        "passed_time": 4.555882575,
                        "remaining_time": 4.722900673,
                        "test": [
                          0.06218756453
                        ]
                      },
                      {
                        "learn": [
                          0.01642708852
                        ],
                        "iteration": 491,
                        "passed_time": 4.561630073,
                        "remaining_time": 4.709975766,
                        "test": [
                          0.06219529915
                        ]
                      },
                      {
                        "learn": [
                          0.01640169503
                        ],
                        "iteration": 492,
                        "passed_time": 4.566798283,
                        "remaining_time": 4.696484238,
                        "test": [
                          0.06220436429
                        ]
                      },
                      {
                        "learn": [
                          0.01638611794
                        ],
                        "iteration": 493,
                        "passed_time": 4.572019581,
                        "remaining_time": 4.683080785,
                        "test": [
                          0.06220816086
                        ]
                      },
                      {
                        "learn": [
                          0.01635309907
                        ],
                        "iteration": 494,
                        "passed_time": 4.576834051,
                        "remaining_time": 4.669295345,
                        "test": [
                          0.06222316784
                        ]
                      },
                      {
                        "learn": [
                          0.01629833242
                        ],
                        "iteration": 495,
                        "passed_time": 4.58109293,
                        "remaining_time": 4.654981526,
                        "test": [
                          0.06224919492
                        ]
                      },
                      {
                        "learn": [
                          0.01628132058
                        ],
                        "iteration": 496,
                        "passed_time": 4.586593219,
                        "remaining_time": 4.641964565,
                        "test": [
                          0.06222384328
                        ]
                      },
                      {
                        "learn": [
                          0.01627214034
                        ],
                        "iteration": 497,
                        "passed_time": 4.590124363,
                        "remaining_time": 4.626992832,
                        "test": [
                          0.06222866265
                        ]
                      },
                      {
                        "learn": [
                          0.01624816346
                        ],
                        "iteration": 498,
                        "passed_time": 4.594057553,
                        "remaining_time": 4.612470609,
                        "test": [
                          0.06222732916
                        ]
                      },
                      {
                        "learn": [
                          0.01619788603
                        ],
                        "iteration": 499,
                        "passed_time": 4.599628488,
                        "remaining_time": 4.599628488,
                        "test": [
                          0.06220711812
                        ]
                      },
                      {
                        "learn": [
                          0.01618141775
                        ],
                        "iteration": 500,
                        "passed_time": 4.615449779,
                        "remaining_time": 4.59702483,
                        "test": [
                          0.06221236267
                        ]
                      },
                      {
                        "learn": [
                          0.01615875195
                        ],
                        "iteration": 501,
                        "passed_time": 4.637885142,
                        "remaining_time": 4.600929882,
                        "test": [
                          0.06220922833
                        ]
                      },
                      {
                        "learn": [
                          0.01614793611
                        ],
                        "iteration": 502,
                        "passed_time": 4.652338007,
                        "remaining_time": 4.596842921,
                        "test": [
                          0.06220022705
                        ]
                      },
                      {
                        "learn": [
                          0.01614208353
                        ],
                        "iteration": 503,
                        "passed_time": 4.658523114,
                        "remaining_time": 4.584578303,
                        "test": [
                          0.0621957938
                        ]
                      },
                      {
                        "learn": [
                          0.01613618279
                        ],
                        "iteration": 504,
                        "passed_time": 4.673634629,
                        "remaining_time": 4.581087409,
                        "test": [
                          0.0621907068
                        ]
                      },
                      {
                        "learn": [
                          0.01612240756
                        ],
                        "iteration": 505,
                        "passed_time": 4.686127537,
                        "remaining_time": 4.574994078,
                        "test": [
                          0.06220267064
                        ]
                      },
                      {
                        "learn": [
                          0.01611497238
                        ],
                        "iteration": 506,
                        "passed_time": 4.694253073,
                        "remaining_time": 4.564628728,
                        "test": [
                          0.06221571743
                        ]
                      },
                      {
                        "learn": [
                          0.01610056893
                        ],
                        "iteration": 507,
                        "passed_time": 4.703428123,
                        "remaining_time": 4.555288654,
                        "test": [
                          0.06221362296
                        ]
                      },
                      {
                        "learn": [
                          0.01609032425
                        ],
                        "iteration": 508,
                        "passed_time": 4.708525699,
                        "remaining_time": 4.542015949,
                        "test": [
                          0.0622186313
                        ]
                      },
                      {
                        "learn": [
                          0.01603408813
                        ],
                        "iteration": 509,
                        "passed_time": 4.712609017,
                        "remaining_time": 4.52780082,
                        "test": [
                          0.06220737029
                        ]
                      },
                      {
                        "learn": [
                          0.01603056595
                        ],
                        "iteration": 510,
                        "passed_time": 4.718655802,
                        "remaining_time": 4.515504281,
                        "test": [
                          0.06220434764
                        ]
                      },
                      {
                        "learn": [
                          0.01600995679
                        ],
                        "iteration": 511,
                        "passed_time": 4.722482658,
                        "remaining_time": 4.501116284,
                        "test": [
                          0.06220221805
                        ]
                      },
                      {
                        "learn": [
                          0.01598642931
                        ],
                        "iteration": 512,
                        "passed_time": 4.728472987,
                        "remaining_time": 4.488823284,
                        "test": [
                          0.06220313485
                        ]
                      },
                      {
                        "learn": [
                          0.01598272039
                        ],
                        "iteration": 513,
                        "passed_time": 4.73336612,
                        "remaining_time": 4.475517382,
                        "test": [
                          0.06221513717
                        ]
                      },
                      {
                        "learn": [
                          0.01597090557
                        ],
                        "iteration": 514,
                        "passed_time": 4.737688744,
                        "remaining_time": 4.461706876,
                        "test": [
                          0.0622110037
                        ]
                      },
                      {
                        "learn": [
                          0.01593097516
                        ],
                        "iteration": 515,
                        "passed_time": 4.743530581,
                        "remaining_time": 4.449358142,
                        "test": [
                          0.06219710189
                        ]
                      },
                      {
                        "learn": [
                          0.01591272099
                        ],
                        "iteration": 516,
                        "passed_time": 4.749355681,
                        "remaining_time": 4.437018943,
                        "test": [
                          0.06218569469
                        ]
                      },
                      {
                        "learn": [
                          0.01586638992
                        ],
                        "iteration": 517,
                        "passed_time": 4.758430721,
                        "remaining_time": 4.427728972,
                        "test": [
                          0.06218442104
                        ]
                      },
                      {
                        "learn": [
                          0.01583014267
                        ],
                        "iteration": 518,
                        "passed_time": 4.76690337,
                        "remaining_time": 4.417881543,
                        "test": [
                          0.06219206679
                        ]
                      },
                      {
                        "learn": [
                          0.01581668124
                        ],
                        "iteration": 519,
                        "passed_time": 4.775769003,
                        "remaining_time": 4.408402156,
                        "test": [
                          0.06216944731
                        ]
                      },
                      {
                        "learn": [
                          0.01576295151
                        ],
                        "iteration": 520,
                        "passed_time": 4.785132487,
                        "remaining_time": 4.399382843,
                        "test": [
                          0.06218405666
                        ]
                      },
                      {
                        "learn": [
                          0.0157479927
                        ],
                        "iteration": 521,
                        "passed_time": 4.795587677,
                        "remaining_time": 4.391361896,
                        "test": [
                          0.06217750322
                        ]
                      },
                      {
                        "learn": [
                          0.01574042334
                        ],
                        "iteration": 522,
                        "passed_time": 4.80269291,
                        "remaining_time": 4.380276325,
                        "test": [
                          0.06218187431
                        ]
                      },
                      {
                        "learn": [
                          0.01572346816
                        ],
                        "iteration": 523,
                        "passed_time": 4.808342868,
                        "remaining_time": 4.367883979,
                        "test": [
                          0.06217840036
                        ]
                      },
                      {
                        "learn": [
                          0.01571435318
                        ],
                        "iteration": 524,
                        "passed_time": 4.812090897,
                        "remaining_time": 4.353796526,
                        "test": [
                          0.06219343497
                        ]
                      },
                      {
                        "learn": [
                          0.01567697308
                        ],
                        "iteration": 525,
                        "passed_time": 4.815794572,
                        "remaining_time": 4.339708417,
                        "test": [
                          0.0621886323
                        ]
                      },
                      {
                        "learn": [
                          0.01562614163
                        ],
                        "iteration": 526,
                        "passed_time": 4.821483871,
                        "remaining_time": 4.32744188,
                        "test": [
                          0.06218921418
                        ]
                      },
                      {
                        "learn": [
                          0.01559893106
                        ],
                        "iteration": 527,
                        "passed_time": 4.825553394,
                        "remaining_time": 4.313752276,
                        "test": [
                          0.06219009649
                        ]
                      },
                      {
                        "learn": [
                          0.01558622473
                        ],
                        "iteration": 528,
                        "passed_time": 4.831341741,
                        "remaining_time": 4.301629414,
                        "test": [
                          0.06219141457
                        ]
                      },
                      {
                        "learn": [
                          0.01555025277
                        ],
                        "iteration": 529,
                        "passed_time": 4.836366517,
                        "remaining_time": 4.288853326,
                        "test": [
                          0.06220501678
                        ]
                      },
                      {
                        "learn": [
                          0.01548872227
                        ],
                        "iteration": 530,
                        "passed_time": 4.841737813,
                        "remaining_time": 4.276412494,
                        "test": [
                          0.06222383382
                        ]
                      },
                      {
                        "learn": [
                          0.01548144938
                        ],
                        "iteration": 531,
                        "passed_time": 4.848265096,
                        "remaining_time": 4.26501516,
                        "test": [
                          0.06220528213
                        ]
                      },
                      {
                        "learn": [
                          0.01546075349
                        ],
                        "iteration": 532,
                        "passed_time": 4.852550068,
                        "remaining_time": 4.251671448,
                        "test": [
                          0.06220042126
                        ]
                      },
                      {
                        "learn": [
                          0.01545589286
                        ],
                        "iteration": 533,
                        "passed_time": 4.857735672,
                        "remaining_time": 4.239147609,
                        "test": [
                          0.0621985274
                        ]
                      },
                      {
                        "learn": [
                          0.01543851776
                        ],
                        "iteration": 534,
                        "passed_time": 4.861580871,
                        "remaining_time": 4.225486177,
                        "test": [
                          0.06219282043
                        ]
                      },
                      {
                        "learn": [
                          0.0154062513
                        ],
                        "iteration": 535,
                        "passed_time": 4.867371038,
                        "remaining_time": 4.213545078,
                        "test": [
                          0.06221206265
                        ]
                      },
                      {
                        "learn": [
                          0.01539497198
                        ],
                        "iteration": 536,
                        "passed_time": 4.875400376,
                        "remaining_time": 4.203557494,
                        "test": [
                          0.06221394809
                        ]
                      },
                      {
                        "learn": [
                          0.01538314156
                        ],
                        "iteration": 537,
                        "passed_time": 4.880985845,
                        "remaining_time": 4.191478551,
                        "test": [
                          0.0622220857
                        ]
                      },
                      {
                        "learn": [
                          0.01533601674
                        ],
                        "iteration": 538,
                        "passed_time": 4.887046958,
                        "remaining_time": 4.179830515,
                        "test": [
                          0.06222362458
                        ]
                      },
                      {
                        "learn": [
                          0.01533230198
                        ],
                        "iteration": 539,
                        "passed_time": 4.892421662,
                        "remaining_time": 4.167618453,
                        "test": [
                          0.06223627248
                        ]
                      },
                      {
                        "learn": [
                          0.01530936556
                        ],
                        "iteration": 540,
                        "passed_time": 4.898539165,
                        "remaining_time": 4.156061879,
                        "test": [
                          0.06223007956
                        ]
                      },
                      {
                        "learn": [
                          0.01529596076
                        ],
                        "iteration": 541,
                        "passed_time": 4.905426787,
                        "remaining_time": 4.145176141,
                        "test": [
                          0.062227433
                        ]
                      },
                      {
                        "learn": [
                          0.01526827271
                        ],
                        "iteration": 542,
                        "passed_time": 4.910908977,
                        "remaining_time": 4.133122288,
                        "test": [
                          0.06220759523
                        ]
                      },
                      {
                        "learn": [
                          0.0152464901
                        ],
                        "iteration": 543,
                        "passed_time": 4.915988078,
                        "remaining_time": 4.120754713,
                        "test": [
                          0.06221777646
                        ]
                      },
                      {
                        "learn": [
                          0.01524019679
                        ],
                        "iteration": 544,
                        "passed_time": 4.921266068,
                        "remaining_time": 4.108579928,
                        "test": [
                          0.06221897441
                        ]
                      },
                      {
                        "learn": [
                          0.01521969128
                        ],
                        "iteration": 545,
                        "passed_time": 4.925559976,
                        "remaining_time": 4.095612142,
                        "test": [
                          0.06221552813
                        ]
                      },
                      {
                        "learn": [
                          0.01519752266
                        ],
                        "iteration": 546,
                        "passed_time": 4.930695133,
                        "remaining_time": 4.083372752,
                        "test": [
                          0.06222059385
                        ]
                      },
                      {
                        "learn": [
                          0.01517858865
                        ],
                        "iteration": 547,
                        "passed_time": 4.940364317,
                        "remaining_time": 4.074899035,
                        "test": [
                          0.06219304464
                        ]
                      },
                      {
                        "learn": [
                          0.01514435862
                        ],
                        "iteration": 548,
                        "passed_time": 4.944737978,
                        "remaining_time": 4.062070725,
                        "test": [
                          0.06218978985
                        ]
                      },
                      {
                        "learn": [
                          0.01512877459
                        ],
                        "iteration": 549,
                        "passed_time": 4.952572428,
                        "remaining_time": 4.052104714,
                        "test": [
                          0.06219781098
                        ]
                      },
                      {
                        "learn": [
                          0.01511459546
                        ],
                        "iteration": 550,
                        "passed_time": 4.959531184,
                        "remaining_time": 4.041432852,
                        "test": [
                          0.06219921685
                        ]
                      },
                      {
                        "learn": [
                          0.01510522001
                        ],
                        "iteration": 551,
                        "passed_time": 4.964767451,
                        "remaining_time": 4.029376482,
                        "test": [
                          0.06219958922
                        ]
                      },
                      {
                        "learn": [
                          0.01509521463
                        ],
                        "iteration": 552,
                        "passed_time": 4.970630235,
                        "remaining_time": 4.017851203,
                        "test": [
                          0.0621911854
                        ]
                      },
                      {
                        "learn": [
                          0.01507234351
                        ],
                        "iteration": 553,
                        "passed_time": 4.976296709,
                        "remaining_time": 4.006188325,
                        "test": [
                          0.06220261513
                        ]
                      },
                      {
                        "learn": [
                          0.0150656039
                        ],
                        "iteration": 554,
                        "passed_time": 4.981563134,
                        "remaining_time": 3.994226296,
                        "test": [
                          0.06220719455
                        ]
                      },
                      {
                        "learn": [
                          0.01505271131
                        ],
                        "iteration": 555,
                        "passed_time": 4.986977276,
                        "remaining_time": 3.982406314,
                        "test": [
                          0.0621944234
                        ]
                      },
                      {
                        "learn": [
                          0.01503810553
                        ],
                        "iteration": 556,
                        "passed_time": 5.002033328,
                        "remaining_time": 3.978277854,
                        "test": [
                          0.06219071802
                        ]
                      },
                      {
                        "learn": [
                          0.0150344236
                        ],
                        "iteration": 557,
                        "passed_time": 5.014964322,
                        "remaining_time": 3.972426936,
                        "test": [
                          0.06218728104
                        ]
                      },
                      {
                        "learn": [
                          0.01501886195
                        ],
                        "iteration": 558,
                        "passed_time": 5.019282157,
                        "remaining_time": 3.959755691,
                        "test": [
                          0.06217634501
                        ]
                      },
                      {
                        "learn": [
                          0.01501306181
                        ],
                        "iteration": 559,
                        "passed_time": 5.024451745,
                        "remaining_time": 3.947783514,
                        "test": [
                          0.06217443884
                        ]
                      },
                      {
                        "learn": [
                          0.01500461768
                        ],
                        "iteration": 560,
                        "passed_time": 5.030070771,
                        "remaining_time": 3.936187288,
                        "test": [
                          0.06217085289
                        ]
                      },
                      {
                        "learn": [
                          0.01499462186
                        ],
                        "iteration": 561,
                        "passed_time": 5.034205822,
                        "remaining_time": 3.923455783,
                        "test": [
                          0.06216952645
                        ]
                      },
                      {
                        "learn": [
                          0.01495575343
                        ],
                        "iteration": 562,
                        "passed_time": 5.038617076,
                        "remaining_time": 3.910969205,
                        "test": [
                          0.0621390114
                        ]
                      },
                      {
                        "learn": [
                          0.01493699365
                        ],
                        "iteration": 563,
                        "passed_time": 5.044539465,
                        "remaining_time": 3.899679444,
                        "test": [
                          0.06214024497
                        ]
                      },
                      {
                        "learn": [
                          0.01492721027
                        ],
                        "iteration": 564,
                        "passed_time": 5.048420901,
                        "remaining_time": 3.886837331,
                        "test": [
                          0.06215299852
                        ]
                      },
                      {
                        "learn": [
                          0.01491046871
                        ],
                        "iteration": 565,
                        "passed_time": 5.052224294,
                        "remaining_time": 3.873967038,
                        "test": [
                          0.06216783958
                        ]
                      },
                      {
                        "learn": [
                          0.01490206385
                        ],
                        "iteration": 566,
                        "passed_time": 5.058000971,
                        "remaining_time": 3.862635662,
                        "test": [
                          0.06216400914
                        ]
                      },
                      {
                        "learn": [
                          0.01486621662
                        ],
                        "iteration": 567,
                        "passed_time": 5.061771523,
                        "remaining_time": 3.84979806,
                        "test": [
                          0.06214257229
                        ]
                      },
                      {
                        "learn": [
                          0.01486304927
                        ],
                        "iteration": 568,
                        "passed_time": 5.067535317,
                        "remaining_time": 3.838502147,
                        "test": [
                          0.06215423531
                        ]
                      },
                      {
                        "learn": [
                          0.0148485008
                        ],
                        "iteration": 569,
                        "passed_time": 5.074175067,
                        "remaining_time": 3.827886454,
                        "test": [
                          0.0621589647
                        ]
                      },
                      {
                        "learn": [
                          0.01482971505
                        ],
                        "iteration": 570,
                        "passed_time": 5.091837046,
                        "remaining_time": 3.825565837,
                        "test": [
                          0.06215974764
                        ]
                      },
                      {
                        "learn": [
                          0.01481926586
                        ],
                        "iteration": 571,
                        "passed_time": 5.106087689,
                        "remaining_time": 3.82063904,
                        "test": [
                          0.06217741718
                        ]
                      },
                      {
                        "learn": [
                          0.01478803619
                        ],
                        "iteration": 572,
                        "passed_time": 5.114371971,
                        "remaining_time": 3.811233563,
                        "test": [
                          0.0621891494
                        ]
                      },
                      {
                        "learn": [
                          0.01477845496
                        ],
                        "iteration": 573,
                        "passed_time": 5.136965691,
                        "remaining_time": 3.812451889,
                        "test": [
                          0.06220701425
                        ]
                      },
                      {
                        "learn": [
                          0.01474755356
                        ],
                        "iteration": 574,
                        "passed_time": 5.151862557,
                        "remaining_time": 3.807898411,
                        "test": [
                          0.06224321572
                        ]
                      },
                      {
                        "learn": [
                          0.01472929929
                        ],
                        "iteration": 575,
                        "passed_time": 5.157257369,
                        "remaining_time": 3.796314452,
                        "test": [
                          0.06224720402
                        ]
                      },
                      {
                        "learn": [
                          0.0147024787
                        ],
                        "iteration": 576,
                        "passed_time": 5.176572312,
                        "remaining_time": 3.794956825,
                        "test": [
                          0.0622395897
                        ]
                      },
                      {
                        "learn": [
                          0.01467597702
                        ],
                        "iteration": 577,
                        "passed_time": 5.184553476,
                        "remaining_time": 3.785262227,
                        "test": [
                          0.06223883464
                        ]
                      },
                      {
                        "learn": [
                          0.01467472788
                        ],
                        "iteration": 578,
                        "passed_time": 5.188867789,
                        "remaining_time": 3.772907321,
                        "test": [
                          0.06223870499
                        ]
                      },
                      {
                        "learn": [
                          0.01466664333
                        ],
                        "iteration": 579,
                        "passed_time": 5.195235868,
                        "remaining_time": 3.762067353,
                        "test": [
                          0.06222368889
                        ]
                      },
                      {
                        "learn": [
                          0.01465667016
                        ],
                        "iteration": 580,
                        "passed_time": 5.199159093,
                        "remaining_time": 3.749479621,
                        "test": [
                          0.06223988504
                        ]
                      },
                      {
                        "learn": [
                          0.01465263032
                        ],
                        "iteration": 581,
                        "passed_time": 5.205743577,
                        "remaining_time": 3.738833016,
                        "test": [
                          0.06225170932
                        ]
                      },
                      {
                        "learn": [
                          0.01464764073
                        ],
                        "iteration": 582,
                        "passed_time": 5.210443333,
                        "remaining_time": 3.726852264,
                        "test": [
                          0.06225062298
                        ]
                      },
                      {
                        "learn": [
                          0.01464534024
                        ],
                        "iteration": 583,
                        "passed_time": 5.216090882,
                        "remaining_time": 3.715571587,
                        "test": [
                          0.06225054829
                        ]
                      },
                      {
                        "learn": [
                          0.01463187231
                        ],
                        "iteration": 584,
                        "passed_time": 5.220360973,
                        "remaining_time": 3.703332998,
                        "test": [
                          0.06226141607
                        ]
                      },
                      {
                        "learn": [
                          0.01462611913
                        ],
                        "iteration": 585,
                        "passed_time": 5.22599461,
                        "remaining_time": 3.692084929,
                        "test": [
                          0.06226634489
                        ]
                      },
                      {
                        "learn": [
                          0.01460859295
                        ],
                        "iteration": 586,
                        "passed_time": 5.230167691,
                        "remaining_time": 3.679828375,
                        "test": [
                          0.06223089702
                        ]
                      },
                      {
                        "learn": [
                          0.01458162037
                        ],
                        "iteration": 587,
                        "passed_time": 5.236040343,
                        "remaining_time": 3.668790172,
                        "test": [
                          0.06223309425
                        ]
                      },
                      {
                        "learn": [
                          0.01456647544
                        ],
                        "iteration": 588,
                        "passed_time": 5.239996409,
                        "remaining_time": 3.656432129,
                        "test": [
                          0.06223458736
                        ]
                      },
                      {
                        "learn": [
                          0.01455816159
                        ],
                        "iteration": 589,
                        "passed_time": 5.244978689,
                        "remaining_time": 3.644815699,
                        "test": [
                          0.06224402309
                        ]
                      },
                      {
                        "learn": [
                          0.01455712565
                        ],
                        "iteration": 590,
                        "passed_time": 5.248958238,
                        "remaining_time": 3.632527782,
                        "test": [
                          0.06224092887
                        ]
                      },
                      {
                        "learn": [
                          0.01455226293
                        ],
                        "iteration": 591,
                        "passed_time": 5.253474401,
                        "remaining_time": 3.620637763,
                        "test": [
                          0.06224059948
                        ]
                      },
                      {
                        "learn": [
                          0.01451569492
                        ],
                        "iteration": 592,
                        "passed_time": 5.257634945,
                        "remaining_time": 3.608528537,
                        "test": [
                          0.06224857706
                        ]
                      },
                      {
                        "learn": [
                          0.01445250112
                        ],
                        "iteration": 593,
                        "passed_time": 5.26370925,
                        "remaining_time": 3.597754134,
                        "test": [
                          0.06224364542
                        ]
                      },
                      {
                        "learn": [
                          0.01442946693
                        ],
                        "iteration": 594,
                        "passed_time": 5.268377632,
                        "remaining_time": 3.586038556,
                        "test": [
                          0.06226162723
                        ]
                      },
                      {
                        "learn": [
                          0.01442461109
                        ],
                        "iteration": 595,
                        "passed_time": 5.274052634,
                        "remaining_time": 3.575028967,
                        "test": [
                          0.06227129925
                        ]
                      },
                      {
                        "learn": [
                          0.01437928363
                        ],
                        "iteration": 596,
                        "passed_time": 5.278444745,
                        "remaining_time": 3.563171243,
                        "test": [
                          0.06227643739
                        ]
                      },
                      {
                        "learn": [
                          0.01437842682
                        ],
                        "iteration": 597,
                        "passed_time": 5.283903405,
                        "remaining_time": 3.552055466,
                        "test": [
                          0.06226908176
                        ]
                      },
                      {
                        "learn": [
                          0.01437280308
                        ],
                        "iteration": 598,
                        "passed_time": 5.288258582,
                        "remaining_time": 3.540219852,
                        "test": [
                          0.06226515046
                        ]
                      },
                      {
                        "learn": [
                          0.01433562908
                        ],
                        "iteration": 599,
                        "passed_time": 5.29272481,
                        "remaining_time": 3.528483206,
                        "test": [
                          0.06225721161
                        ]
                      },
                      {
                        "learn": [
                          0.01431030623
                        ],
                        "iteration": 600,
                        "passed_time": 5.304202657,
                        "remaining_time": 3.521425724,
                        "test": [
                          0.06224654978
                        ]
                      },
                      {
                        "learn": [
                          0.01427597191
                        ],
                        "iteration": 601,
                        "passed_time": 5.308696853,
                        "remaining_time": 3.509736458,
                        "test": [
                          0.06223190451
                        ]
                      },
                      {
                        "learn": [
                          0.01427456018
                        ],
                        "iteration": 602,
                        "passed_time": 5.31420005,
                        "remaining_time": 3.498735356,
                        "test": [
                          0.06224124672
                        ]
                      },
                      {
                        "learn": [
                          0.01425805618
                        ],
                        "iteration": 603,
                        "passed_time": 5.318325637,
                        "remaining_time": 3.486849259,
                        "test": [
                          0.06226796322
                        ]
                      },
                      {
                        "learn": [
                          0.01424494509
                        ],
                        "iteration": 604,
                        "passed_time": 5.324242089,
                        "remaining_time": 3.476158058,
                        "test": [
                          0.06226519648
                        ]
                      },
                      {
                        "learn": [
                          0.01421675437
                        ],
                        "iteration": 605,
                        "passed_time": 5.328227254,
                        "remaining_time": 3.464226961,
                        "test": [
                          0.06226088616
                        ]
                      },
                      {
                        "learn": [
                          0.014211939
                        ],
                        "iteration": 606,
                        "passed_time": 5.332008136,
                        "remaining_time": 3.452189782,
                        "test": [
                          0.06227153322
                        ]
                      },
                      {
                        "learn": [
                          0.01418094817
                        ],
                        "iteration": 607,
                        "passed_time": 5.341551795,
                        "remaining_time": 3.443895236,
                        "test": [
                          0.06226642686
                        ]
                      },
                      {
                        "learn": [
                          0.01417767732
                        ],
                        "iteration": 608,
                        "passed_time": 5.352172644,
                        "remaining_time": 3.436288183,
                        "test": [
                          0.06226379216
                        ]
                      },
                      {
                        "learn": [
                          0.01415808608
                        ],
                        "iteration": 609,
                        "passed_time": 5.362276607,
                        "remaining_time": 3.428340781,
                        "test": [
                          0.06226653584
                        ]
                      },
                      {
                        "learn": [
                          0.01413355801
                        ],
                        "iteration": 610,
                        "passed_time": 5.38981726,
                        "remaining_time": 3.431487585,
                        "test": [
                          0.06226043822
                        ]
                      },
                      {
                        "learn": [
                          0.01412969502
                        ],
                        "iteration": 611,
                        "passed_time": 5.399782532,
                        "remaining_time": 3.42339154,
                        "test": [
                          0.06226435059
                        ]
                      },
                      {
                        "learn": [
                          0.01410388333
                        ],
                        "iteration": 612,
                        "passed_time": 5.404132987,
                        "remaining_time": 3.411744642,
                        "test": [
                          0.06226203895
                        ]
                      },
                      {
                        "learn": [
                          0.01407927653
                        ],
                        "iteration": 613,
                        "passed_time": 5.408189823,
                        "remaining_time": 3.399936925,
                        "test": [
                          0.06227275019
                        ]
                      },
                      {
                        "learn": [
                          0.01406633448
                        ],
                        "iteration": 614,
                        "passed_time": 5.412444344,
                        "remaining_time": 3.388278167,
                        "test": [
                          0.0622712236
                        ]
                      },
                      {
                        "learn": [
                          0.01404052191
                        ],
                        "iteration": 615,
                        "passed_time": 5.430516789,
                        "remaining_time": 3.385257219,
                        "test": [
                          0.06228568209
                        ]
                      },
                      {
                        "learn": [
                          0.01402987808
                        ],
                        "iteration": 616,
                        "passed_time": 5.447787486,
                        "remaining_time": 3.381689801,
                        "test": [
                          0.06230139897
                        ]
                      },
                      {
                        "learn": [
                          0.01399763912
                        ],
                        "iteration": 617,
                        "passed_time": 5.459534094,
                        "remaining_time": 3.374663469,
                        "test": [
                          0.06231082026
                        ]
                      },
                      {
                        "learn": [
                          0.01399477365
                        ],
                        "iteration": 618,
                        "passed_time": 5.468559376,
                        "remaining_time": 3.365946886,
                        "test": [
                          0.0623166344
                        ]
                      },
                      {
                        "learn": [
                          0.01397049076
                        ],
                        "iteration": 619,
                        "passed_time": 5.473001316,
                        "remaining_time": 3.354420161,
                        "test": [
                          0.06233241012
                        ]
                      },
                      {
                        "learn": [
                          0.01395109566
                        ],
                        "iteration": 620,
                        "passed_time": 5.484500185,
                        "remaining_time": 3.34722314,
                        "test": [
                          0.06233243796
                        ]
                      },
                      {
                        "learn": [
                          0.01394349794
                        ],
                        "iteration": 621,
                        "passed_time": 5.495100162,
                        "remaining_time": 3.339466015,
                        "test": [
                          0.06233989242
                        ]
                      },
                      {
                        "learn": [
                          0.01392046357
                        ],
                        "iteration": 622,
                        "passed_time": 5.505967222,
                        "remaining_time": 3.331861385,
                        "test": [
                          0.06237316464
                        ]
                      },
                      {
                        "learn": [
                          0.01391798831
                        ],
                        "iteration": 623,
                        "passed_time": 5.515798807,
                        "remaining_time": 3.323622358,
                        "test": [
                          0.06237030946
                        ]
                      },
                      {
                        "learn": [
                          0.01388836678
                        ],
                        "iteration": 624,
                        "passed_time": 5.525916841,
                        "remaining_time": 3.315550105,
                        "test": [
                          0.06235427029
                        ]
                      },
                      {
                        "learn": [
                          0.01387746151
                        ],
                        "iteration": 625,
                        "passed_time": 5.537329699,
                        "remaining_time": 3.3082449,
                        "test": [
                          0.06235340407
                        ]
                      },
                      {
                        "learn": [
                          0.01387258738
                        ],
                        "iteration": 626,
                        "passed_time": 5.550367402,
                        "remaining_time": 3.301893207,
                        "test": [
                          0.06236008196
                        ]
                      },
                      {
                        "learn": [
                          0.0138688915
                        ],
                        "iteration": 627,
                        "passed_time": 5.56235683,
                        "remaining_time": 3.294899268,
                        "test": [
                          0.06236541905
                        ]
                      },
                      {
                        "learn": [
                          0.01385413916
                        ],
                        "iteration": 628,
                        "passed_time": 5.573785876,
                        "remaining_time": 3.287558919,
                        "test": [
                          0.062348755
                        ]
                      },
                      {
                        "learn": [
                          0.0138265678
                        ],
                        "iteration": 629,
                        "passed_time": 5.584363242,
                        "remaining_time": 3.279705396,
                        "test": [
                          0.06235499732
                        ]
                      },
                      {
                        "learn": [
                          0.01381995883
                        ],
                        "iteration": 630,
                        "passed_time": 5.595607764,
                        "remaining_time": 3.272233384,
                        "test": [
                          0.06234096617
                        ]
                      },
                      {
                        "learn": [
                          0.01381425505
                        ],
                        "iteration": 631,
                        "passed_time": 5.603833979,
                        "remaining_time": 3.262991937,
                        "test": [
                          0.06235510798
                        ]
                      },
                      {
                        "learn": [
                          0.01378822585
                        ],
                        "iteration": 632,
                        "passed_time": 5.619271165,
                        "remaining_time": 3.257934467,
                        "test": [
                          0.06235817635
                        ]
                      },
                      {
                        "learn": [
                          0.01376112301
                        ],
                        "iteration": 633,
                        "passed_time": 5.62781865,
                        "remaining_time": 3.248866918,
                        "test": [
                          0.06234259307
                        ]
                      },
                      {
                        "learn": [
                          0.0137473137
                        ],
                        "iteration": 634,
                        "passed_time": 5.642710534,
                        "remaining_time": 3.243447787,
                        "test": [
                          0.06234290782
                        ]
                      },
                      {
                        "learn": [
                          0.01372137264
                        ],
                        "iteration": 635,
                        "passed_time": 5.662838748,
                        "remaining_time": 3.240995761,
                        "test": [
                          0.06232570256
                        ]
                      },
                      {
                        "learn": [
                          0.01370537488
                        ],
                        "iteration": 636,
                        "passed_time": 5.687142098,
                        "remaining_time": 3.240867475,
                        "test": [
                          0.06233300567
                        ]
                      },
                      {
                        "learn": [
                          0.01369611006
                        ],
                        "iteration": 637,
                        "passed_time": 5.709008907,
                        "remaining_time": 3.239280916,
                        "test": [
                          0.0623215696
                        ]
                      },
                      {
                        "learn": [
                          0.01367817582
                        ],
                        "iteration": 638,
                        "passed_time": 5.719087887,
                        "remaining_time": 3.230971404,
                        "test": [
                          0.06232653099
                        ]
                      },
                      {
                        "learn": [
                          0.01367774559
                        ],
                        "iteration": 639,
                        "passed_time": 5.729271402,
                        "remaining_time": 3.222715164,
                        "test": [
                          0.062328226
                        ]
                      },
                      {
                        "learn": [
                          0.01366865627
                        ],
                        "iteration": 640,
                        "passed_time": 5.753035986,
                        "remaining_time": 3.222059156,
                        "test": [
                          0.062339929
                        ]
                      },
                      {
                        "learn": [
                          0.0136623309
                        ],
                        "iteration": 641,
                        "passed_time": 5.768029243,
                        "remaining_time": 3.216439983,
                        "test": [
                          0.06233788317
                        ]
                      },
                      {
                        "learn": [
                          0.01365247528
                        ],
                        "iteration": 642,
                        "passed_time": 5.780613346,
                        "remaining_time": 3.209454066,
                        "test": [
                          0.06236058656
                        ]
                      },
                      {
                        "learn": [
                          0.01364802878
                        ],
                        "iteration": 643,
                        "passed_time": 5.795737452,
                        "remaining_time": 3.203854865,
                        "test": [
                          0.06236089167
                        ]
                      },
                      {
                        "learn": [
                          0.01363117674
                        ],
                        "iteration": 644,
                        "passed_time": 5.807800694,
                        "remaining_time": 3.196541467,
                        "test": [
                          0.0623606854
                        ]
                      },
                      {
                        "learn": [
                          0.01362777593
                        ],
                        "iteration": 645,
                        "passed_time": 5.822753279,
                        "remaining_time": 3.190796688,
                        "test": [
                          0.06236356245
                        ]
                      },
                      {
                        "learn": [
                          0.01362462043
                        ],
                        "iteration": 646,
                        "passed_time": 5.841947689,
                        "remaining_time": 3.187337765,
                        "test": [
                          0.06236099743
                        ]
                      },
                      {
                        "learn": [
                          0.01356102039
                        ],
                        "iteration": 647,
                        "passed_time": 5.854014079,
                        "remaining_time": 3.179958265,
                        "test": [
                          0.06233868463
                        ]
                      },
                      {
                        "learn": [
                          0.01355503771
                        ],
                        "iteration": 648,
                        "passed_time": 5.869704227,
                        "remaining_time": 3.174524166,
                        "test": [
                          0.06234477546
                        ]
                      },
                      {
                        "learn": [
                          0.013537139
                        ],
                        "iteration": 649,
                        "passed_time": 5.881532469,
                        "remaining_time": 3.166979022,
                        "test": [
                          0.06236152154
                        ]
                      },
                      {
                        "learn": [
                          0.0135156626
                        ],
                        "iteration": 650,
                        "passed_time": 5.891550889,
                        "remaining_time": 3.158450477,
                        "test": [
                          0.06237952919
                        ]
                      },
                      {
                        "learn": [
                          0.01350732916
                        ],
                        "iteration": 651,
                        "passed_time": 5.903757878,
                        "remaining_time": 3.151085493,
                        "test": [
                          0.06238632425
                        ]
                      },
                      {
                        "learn": [
                          0.01349352346
                        ],
                        "iteration": 652,
                        "passed_time": 5.914937703,
                        "remaining_time": 3.143159852,
                        "test": [
                          0.06238910388
                        ]
                      },
                      {
                        "learn": [
                          0.01348767547
                        ],
                        "iteration": 653,
                        "passed_time": 5.924758595,
                        "remaining_time": 3.134505312,
                        "test": [
                          0.06239733185
                        ]
                      },
                      {
                        "learn": [
                          0.01345357144
                        ],
                        "iteration": 654,
                        "passed_time": 5.937816822,
                        "remaining_time": 3.127552372,
                        "test": [
                          0.06239665771
                        ]
                      },
                      {
                        "learn": [
                          0.01343628423
                        ],
                        "iteration": 655,
                        "passed_time": 5.94527838,
                        "remaining_time": 3.11764598,
                        "test": [
                          0.06239569292
                        ]
                      },
                      {
                        "learn": [
                          0.01339205316
                        ],
                        "iteration": 656,
                        "passed_time": 5.959107693,
                        "remaining_time": 3.111071444,
                        "test": [
                          0.06241017262
                        ]
                      },
                      {
                        "learn": [
                          0.01337669448
                        ],
                        "iteration": 657,
                        "passed_time": 5.985892135,
                        "remaining_time": 3.111208374,
                        "test": [
                          0.06241904181
                        ]
                      },
                      {
                        "learn": [
                          0.01335904181
                        ],
                        "iteration": 658,
                        "passed_time": 5.998827261,
                        "remaining_time": 3.104097262,
                        "test": [
                          0.06241672513
                        ]
                      },
                      {
                        "learn": [
                          0.01335384362
                        ],
                        "iteration": 659,
                        "passed_time": 6.021905501,
                        "remaining_time": 3.102193743,
                        "test": [
                          0.06241876436
                        ]
                      },
                      {
                        "learn": [
                          0.01334222103
                        ],
                        "iteration": 660,
                        "passed_time": 6.048731669,
                        "remaining_time": 3.102148314,
                        "test": [
                          0.06242392152
                        ]
                      },
                      {
                        "learn": [
                          0.01332491093
                        ],
                        "iteration": 661,
                        "passed_time": 6.064597123,
                        "remaining_time": 3.096425722,
                        "test": [
                          0.0624208017
                        ]
                      },
                      {
                        "learn": [
                          0.01331489606
                        ],
                        "iteration": 662,
                        "passed_time": 6.077483809,
                        "remaining_time": 3.089158437,
                        "test": [
                          0.06241938192
                        ]
                      },
                      {
                        "learn": [
                          0.01330721645
                        ],
                        "iteration": 663,
                        "passed_time": 6.087896145,
                        "remaining_time": 3.080622146,
                        "test": [
                          0.0624261303
                        ]
                      },
                      {
                        "learn": [
                          0.01328944812
                        ],
                        "iteration": 664,
                        "passed_time": 6.093189502,
                        "remaining_time": 3.069501479,
                        "test": [
                          0.06242870616
                        ]
                      },
                      {
                        "learn": [
                          0.01325360591
                        ],
                        "iteration": 665,
                        "passed_time": 6.105549595,
                        "remaining_time": 3.061942289,
                        "test": [
                          0.06239955378
                        ]
                      },
                      {
                        "learn": [
                          0.01321280423
                        ],
                        "iteration": 666,
                        "passed_time": 6.112662869,
                        "remaining_time": 3.051749228,
                        "test": [
                          0.06237094945
                        ]
                      },
                      {
                        "learn": [
                          0.01318036232
                        ],
                        "iteration": 667,
                        "passed_time": 6.117299335,
                        "remaining_time": 3.0403344,
                        "test": [
                          0.06237431025
                        ]
                      },
                      {
                        "learn": [
                          0.01316752262
                        ],
                        "iteration": 668,
                        "passed_time": 6.121243604,
                        "remaining_time": 3.028597358,
                        "test": [
                          0.06237833069
                        ]
                      },
                      {
                        "learn": [
                          0.01313705964
                        ],
                        "iteration": 669,
                        "passed_time": 6.12594038,
                        "remaining_time": 3.017254217,
                        "test": [
                          0.06239210591
                        ]
                      },
                      {
                        "learn": [
                          0.01313434772
                        ],
                        "iteration": 670,
                        "passed_time": 6.130785371,
                        "remaining_time": 3.006003558,
                        "test": [
                          0.06238929522
                        ]
                      },
                      {
                        "learn": [
                          0.01313161171
                        ],
                        "iteration": 671,
                        "passed_time": 6.13564658,
                        "remaining_time": 2.994779878,
                        "test": [
                          0.06239782806
                        ]
                      },
                      {
                        "learn": [
                          0.01312563872
                        ],
                        "iteration": 672,
                        "passed_time": 6.140632142,
                        "remaining_time": 2.983635528,
                        "test": [
                          0.06240424911
                        ]
                      },
                      {
                        "learn": [
                          0.01312038535
                        ],
                        "iteration": 673,
                        "passed_time": 6.144778329,
                        "remaining_time": 2.972103465,
                        "test": [
                          0.06240799753
                        ]
                      },
                      {
                        "learn": [
                          0.01311985243
                        ],
                        "iteration": 674,
                        "passed_time": 6.149224525,
                        "remaining_time": 2.960737734,
                        "test": [
                          0.06241349078
                        ]
                      },
                      {
                        "learn": [
                          0.01311127711
                        ],
                        "iteration": 675,
                        "passed_time": 6.153753194,
                        "remaining_time": 2.949432004,
                        "test": [
                          0.06241102946
                        ]
                      },
                      {
                        "learn": [
                          0.01309865486
                        ],
                        "iteration": 676,
                        "passed_time": 6.15790479,
                        "remaining_time": 2.937966392,
                        "test": [
                          0.06240421264
                        ]
                      },
                      {
                        "learn": [
                          0.01306564838
                        ],
                        "iteration": 677,
                        "passed_time": 6.16282689,
                        "remaining_time": 2.926888287,
                        "test": [
                          0.06241680542
                        ]
                      },
                      {
                        "learn": [
                          0.01305642379
                        ],
                        "iteration": 678,
                        "passed_time": 6.16676086,
                        "remaining_time": 2.915361172,
                        "test": [
                          0.06243055917
                        ]
                      },
                      {
                        "learn": [
                          0.01301965513
                        ],
                        "iteration": 679,
                        "passed_time": 6.17168709,
                        "remaining_time": 2.904323337,
                        "test": [
                          0.06241477328
                        ]
                      },
                      {
                        "learn": [
                          0.01299046036
                        ],
                        "iteration": 680,
                        "passed_time": 6.182487784,
                        "remaining_time": 2.896055218,
                        "test": [
                          0.06239629265
                        ]
                      },
                      {
                        "learn": [
                          0.01298477252
                        ],
                        "iteration": 681,
                        "passed_time": 6.190458505,
                        "remaining_time": 2.886460124,
                        "test": [
                          0.0623940953
                        ]
                      },
                      {
                        "learn": [
                          0.01298219704
                        ],
                        "iteration": 682,
                        "passed_time": 6.212891343,
                        "remaining_time": 2.883582073,
                        "test": [
                          0.06239345445
                        ]
                      },
                      {
                        "learn": [
                          0.01294957836
                        ],
                        "iteration": 683,
                        "passed_time": 6.218816128,
                        "remaining_time": 2.873020316,
                        "test": [
                          0.06238923878
                        ]
                      },
                      {
                        "learn": [
                          0.01291423071
                        ],
                        "iteration": 684,
                        "passed_time": 6.225014217,
                        "remaining_time": 2.862597779,
                        "test": [
                          0.06240277848
                        ]
                      },
                      {
                        "learn": [
                          0.01290834012
                        ],
                        "iteration": 685,
                        "passed_time": 6.229378436,
                        "remaining_time": 2.851348147,
                        "test": [
                          0.0624043482
                        ]
                      },
                      {
                        "learn": [
                          0.01290247761
                        ],
                        "iteration": 686,
                        "passed_time": 6.252330969,
                        "remaining_time": 2.848587472,
                        "test": [
                          0.06241303149
                        ]
                      },
                      {
                        "learn": [
                          0.01288820422
                        ],
                        "iteration": 687,
                        "passed_time": 6.257747473,
                        "remaining_time": 2.837815715,
                        "test": [
                          0.0624190815
                        ]
                      },
                      {
                        "learn": [
                          0.01287770973
                        ],
                        "iteration": 688,
                        "passed_time": 6.271785119,
                        "remaining_time": 2.830950903,
                        "test": [
                          0.06242249803
                        ]
                      },
                      {
                        "learn": [
                          0.01284358581
                        ],
                        "iteration": 689,
                        "passed_time": 6.296694615,
                        "remaining_time": 2.828949754,
                        "test": [
                          0.06241499864
                        ]
                      },
                      {
                        "learn": [
                          0.01282548232
                        ],
                        "iteration": 690,
                        "passed_time": 6.302639999,
                        "remaining_time": 2.818401968,
                        "test": [
                          0.06241973828
                        ]
                      },
                      {
                        "learn": [
                          0.01280579751
                        ],
                        "iteration": 691,
                        "passed_time": 6.340212419,
                        "remaining_time": 2.821944256,
                        "test": [
                          0.06241980721
                        ]
                      },
                      {
                        "learn": [
                          0.01279157072
                        ],
                        "iteration": 692,
                        "passed_time": 6.365240303,
                        "remaining_time": 2.819810639,
                        "test": [
                          0.06242401347
                        ]
                      },
                      {
                        "learn": [
                          0.012779266
                        ],
                        "iteration": 693,
                        "passed_time": 6.378153852,
                        "remaining_time": 2.812269566,
                        "test": [
                          0.06242290435
                        ]
                      },
                      {
                        "learn": [
                          0.01277608676
                        ],
                        "iteration": 694,
                        "passed_time": 6.397190544,
                        "remaining_time": 2.807400167,
                        "test": [
                          0.06242323708
                        ]
                      },
                      {
                        "learn": [
                          0.01276356025
                        ],
                        "iteration": 695,
                        "passed_time": 6.401790098,
                        "remaining_time": 2.796184181,
                        "test": [
                          0.06243603522
                        ]
                      },
                      {
                        "learn": [
                          0.01274813658
                        ],
                        "iteration": 696,
                        "passed_time": 6.458916228,
                        "remaining_time": 2.807821545,
                        "test": [
                          0.06243428766
                        ]
                      },
                      {
                        "learn": [
                          0.01274780119
                        ],
                        "iteration": 697,
                        "passed_time": 6.466175499,
                        "remaining_time": 2.797686248,
                        "test": [
                          0.06242980025
                        ]
                      },
                      {
                        "learn": [
                          0.01274432725
                        ],
                        "iteration": 698,
                        "passed_time": 6.474790567,
                        "remaining_time": 2.788143005,
                        "test": [
                          0.06243529412
                        ]
                      },
                      {
                        "learn": [
                          0.0127308892
                        ],
                        "iteration": 699,
                        "passed_time": 6.482947785,
                        "remaining_time": 2.778406194,
                        "test": [
                          0.06244767285
                        ]
                      },
                      {
                        "learn": [
                          0.01272652244
                        ],
                        "iteration": 700,
                        "passed_time": 6.493136255,
                        "remaining_time": 2.769540285,
                        "test": [
                          0.06243811985
                        ]
                      },
                      {
                        "learn": [
                          0.01272225278
                        ],
                        "iteration": 701,
                        "passed_time": 6.505105955,
                        "remaining_time": 2.761426744,
                        "test": [
                          0.06244407105
                        ]
                      },
                      {
                        "learn": [
                          0.01269661327
                        ],
                        "iteration": 702,
                        "passed_time": 6.518217528,
                        "remaining_time": 2.753784646,
                        "test": [
                          0.06244271968
                        ]
                      },
                      {
                        "learn": [
                          0.01269283077
                        ],
                        "iteration": 703,
                        "passed_time": 6.526090123,
                        "remaining_time": 2.743924256,
                        "test": [
                          0.06245429965
                        ]
                      },
                      {
                        "learn": [
                          0.01269051583
                        ],
                        "iteration": 704,
                        "passed_time": 6.533430244,
                        "remaining_time": 2.733846698,
                        "test": [
                          0.06245557268
                        ]
                      },
                      {
                        "learn": [
                          0.01269007234
                        ],
                        "iteration": 705,
                        "passed_time": 6.541103677,
                        "remaining_time": 2.723915696,
                        "test": [
                          0.06245785439
                        ]
                      },
                      {
                        "learn": [
                          0.01266932449
                        ],
                        "iteration": 706,
                        "passed_time": 6.550153217,
                        "remaining_time": 2.714561376,
                        "test": [
                          0.06243300063
                        ]
                      },
                      {
                        "learn": [
                          0.01264380827
                        ],
                        "iteration": 707,
                        "passed_time": 6.558278021,
                        "remaining_time": 2.704826528,
                        "test": [
                          0.06241893486
                        ]
                      },
                      {
                        "learn": [
                          0.01264120369
                        ],
                        "iteration": 708,
                        "passed_time": 6.566134866,
                        "remaining_time": 2.694986243,
                        "test": [
                          0.0624233383
                        ]
                      },
                      {
                        "learn": [
                          0.01263513845
                        ],
                        "iteration": 709,
                        "passed_time": 6.57629273,
                        "remaining_time": 2.686091397,
                        "test": [
                          0.06242645474
                        ]
                      },
                      {
                        "learn": [
                          0.01261993818
                        ],
                        "iteration": 710,
                        "passed_time": 6.583713929,
                        "remaining_time": 2.676080627,
                        "test": [
                          0.0624482576
                        ]
                      },
                      {
                        "learn": [
                          0.0126071203
                        ],
                        "iteration": 711,
                        "passed_time": 6.591097226,
                        "remaining_time": 2.666061799,
                        "test": [
                          0.06244374681
                        ]
                      },
                      {
                        "learn": [
                          0.01260025628
                        ],
                        "iteration": 712,
                        "passed_time": 6.599536209,
                        "remaining_time": 2.656475304,
                        "test": [
                          0.062446303
                        ]
                      },
                      {
                        "learn": [
                          0.01258956281
                        ],
                        "iteration": 713,
                        "passed_time": 6.608074587,
                        "remaining_time": 2.646931837,
                        "test": [
                          0.06244847519
                        ]
                      },
                      {
                        "learn": [
                          0.01256528625
                        ],
                        "iteration": 714,
                        "passed_time": 6.618069889,
                        "remaining_time": 2.637971914,
                        "test": [
                          0.06245308915
                        ]
                      },
                      {
                        "learn": [
                          0.01253579664
                        ],
                        "iteration": 715,
                        "passed_time": 6.626849242,
                        "remaining_time": 2.628526794,
                        "test": [
                          0.06244968987
                        ]
                      },
                      {
                        "learn": [
                          0.0124973772
                        ],
                        "iteration": 716,
                        "passed_time": 6.635440323,
                        "remaining_time": 2.619009221,
                        "test": [
                          0.06245511928
                        ]
                      },
                      {
                        "learn": [
                          0.01249554218
                        ],
                        "iteration": 717,
                        "passed_time": 6.644803738,
                        "remaining_time": 2.609797568,
                        "test": [
                          0.06245456056
                        ]
                      },
                      {
                        "learn": [
                          0.01249316211
                        ],
                        "iteration": 718,
                        "passed_time": 6.652822955,
                        "remaining_time": 2.600060153,
                        "test": [
                          0.06245320054
                        ]
                      },
                      {
                        "learn": [
                          0.01249090899
                        ],
                        "iteration": 719,
                        "passed_time": 6.660986029,
                        "remaining_time": 2.590383456,
                        "test": [
                          0.06245963003
                        ]
                      },
                      {
                        "learn": [
                          0.01248694662
                        ],
                        "iteration": 720,
                        "passed_time": 6.669343372,
                        "remaining_time": 2.580786131,
                        "test": [
                          0.06246130164
                        ]
                      },
                      {
                        "learn": [
                          0.01247353508
                        ],
                        "iteration": 721,
                        "passed_time": 6.676705837,
                        "remaining_time": 2.570809173,
                        "test": [
                          0.06246476973
                        ]
                      },
                      {
                        "learn": [
                          0.01247327395
                        ],
                        "iteration": 722,
                        "passed_time": 6.68536242,
                        "remaining_time": 2.561335256,
                        "test": [
                          0.06246165771
                        ]
                      },
                      {
                        "learn": [
                          0.01246412494
                        ],
                        "iteration": 723,
                        "passed_time": 6.700647897,
                        "remaining_time": 2.554390635,
                        "test": [
                          0.06245953925
                        ]
                      },
                      {
                        "learn": [
                          0.0124538391
                        ],
                        "iteration": 724,
                        "passed_time": 6.713064843,
                        "remaining_time": 2.546334941,
                        "test": [
                          0.06246643294
                        ]
                      },
                      {
                        "learn": [
                          0.01244104485
                        ],
                        "iteration": 725,
                        "passed_time": 6.725405839,
                        "remaining_time": 2.538238567,
                        "test": [
                          0.06247148908
                        ]
                      },
                      {
                        "learn": [
                          0.01242067561
                        ],
                        "iteration": 726,
                        "passed_time": 6.736232112,
                        "remaining_time": 2.529561715,
                        "test": [
                          0.06246412666
                        ]
                      },
                      {
                        "learn": [
                          0.01241313067
                        ],
                        "iteration": 727,
                        "passed_time": 6.743299331,
                        "remaining_time": 2.519474475,
                        "test": [
                          0.062463237
                        ]
                      },
                      {
                        "learn": [
                          0.01240838917
                        ],
                        "iteration": 728,
                        "passed_time": 6.760487014,
                        "remaining_time": 2.513157724,
                        "test": [
                          0.06245803966
                        ]
                      },
                      {
                        "learn": [
                          0.0123982143
                        ],
                        "iteration": 729,
                        "passed_time": 6.771291615,
                        "remaining_time": 2.504450323,
                        "test": [
                          0.06245640738
                        ]
                      },
                      {
                        "learn": [
                          0.01239550026
                        ],
                        "iteration": 730,
                        "passed_time": 6.783122435,
                        "remaining_time": 2.496114822,
                        "test": [
                          0.06245433727
                        ]
                      },
                      {
                        "learn": [
                          0.01238510966
                        ],
                        "iteration": 731,
                        "passed_time": 6.795299695,
                        "remaining_time": 2.487896609,
                        "test": [
                          0.06246307917
                        ]
                      },
                      {
                        "learn": [
                          0.01237451418
                        ],
                        "iteration": 732,
                        "passed_time": 6.801363418,
                        "remaining_time": 2.477440699,
                        "test": [
                          0.0624680097
                        ]
                      },
                      {
                        "learn": [
                          0.01234386457
                        ],
                        "iteration": 733,
                        "passed_time": 6.806020475,
                        "remaining_time": 2.466486984,
                        "test": [
                          0.0624685286
                        ]
                      },
                      {
                        "learn": [
                          0.01233017915
                        ],
                        "iteration": 734,
                        "passed_time": 6.812177282,
                        "remaining_time": 2.456091129,
                        "test": [
                          0.06248330425
                        ]
                      },
                      {
                        "learn": [
                          0.01231486637
                        ],
                        "iteration": 735,
                        "passed_time": 6.817960816,
                        "remaining_time": 2.445572901,
                        "test": [
                          0.06248160771
                        ]
                      },
                      {
                        "learn": [
                          0.01230493298
                        ],
                        "iteration": 736,
                        "passed_time": 6.825124686,
                        "remaining_time": 2.435560098,
                        "test": [
                          0.0624918774
                        ]
                      },
                      {
                        "learn": [
                          0.01228208866
                        ],
                        "iteration": 737,
                        "passed_time": 6.831060809,
                        "remaining_time": 2.425119149,
                        "test": [
                          0.06249288094
                        ]
                      },
                      {
                        "learn": [
                          0.01227026084
                        ],
                        "iteration": 738,
                        "passed_time": 6.841902767,
                        "remaining_time": 2.416423034,
                        "test": [
                          0.06249241245
                        ]
                      },
                      {
                        "learn": [
                          0.01222824182
                        ],
                        "iteration": 739,
                        "passed_time": 6.850920914,
                        "remaining_time": 2.407080321,
                        "test": [
                          0.06250306395
                        ]
                      },
                      {
                        "learn": [
                          0.01220751745
                        ],
                        "iteration": 740,
                        "passed_time": 6.865165851,
                        "remaining_time": 2.399565392,
                        "test": [
                          0.06249004443
                        ]
                      },
                      {
                        "learn": [
                          0.01219370997
                        ],
                        "iteration": 741,
                        "passed_time": 6.874825434,
                        "remaining_time": 2.390437954,
                        "test": [
                          0.06250523249
                        ]
                      },
                      {
                        "learn": [
                          0.01218176678
                        ],
                        "iteration": 742,
                        "passed_time": 6.890162013,
                        "remaining_time": 2.383272729,
                        "test": [
                          0.06252157261
                        ]
                      },
                      {
                        "learn": [
                          0.01217890865
                        ],
                        "iteration": 743,
                        "passed_time": 6.913940986,
                        "remaining_time": 2.378990447,
                        "test": [
                          0.06253162121
                        ]
                      },
                      {
                        "learn": [
                          0.01216154093
                        ],
                        "iteration": 744,
                        "passed_time": 6.924351399,
                        "remaining_time": 2.370080009,
                        "test": [
                          0.06254387018
                        ]
                      },
                      {
                        "learn": [
                          0.01215174886
                        ],
                        "iteration": 745,
                        "passed_time": 6.93428706,
                        "remaining_time": 2.361003905,
                        "test": [
                          0.06253871007
                        ]
                      },
                      {
                        "learn": [
                          0.0121487249
                        ],
                        "iteration": 746,
                        "passed_time": 6.945355801,
                        "remaining_time": 2.352309261,
                        "test": [
                          0.06253725764
                        ]
                      },
                      {
                        "learn": [
                          0.01214325274
                        ],
                        "iteration": 747,
                        "passed_time": 6.957046875,
                        "remaining_time": 2.343817931,
                        "test": [
                          0.06254152675
                        ]
                      },
                      {
                        "learn": [
                          0.01213134819
                        ],
                        "iteration": 748,
                        "passed_time": 6.967652922,
                        "remaining_time": 2.334954451,
                        "test": [
                          0.06253057071
                        ]
                      },
                      {
                        "learn": [
                          0.0121134897
                        ],
                        "iteration": 749,
                        "passed_time": 6.978371081,
                        "remaining_time": 2.326123694,
                        "test": [
                          0.06253317638
                        ]
                      },
                      {
                        "learn": [
                          0.01209276085
                        ],
                        "iteration": 750,
                        "passed_time": 6.989739236,
                        "remaining_time": 2.317503422,
                        "test": [
                          0.06251344182
                        ]
                      },
                      {
                        "learn": [
                          0.01208360625
                        ],
                        "iteration": 751,
                        "passed_time": 7.001475819,
                        "remaining_time": 2.308997344,
                        "test": [
                          0.06251801426
                        ]
                      },
                      {
                        "learn": [
                          0.01206485265
                        ],
                        "iteration": 752,
                        "passed_time": 7.011874834,
                        "remaining_time": 2.300043936,
                        "test": [
                          0.0625139599
                        ]
                      },
                      {
                        "learn": [
                          0.01206275787
                        ],
                        "iteration": 753,
                        "passed_time": 7.022642542,
                        "remaining_time": 2.291206983,
                        "test": [
                          0.0625152263
                        ]
                      },
                      {
                        "learn": [
                          0.01205274829
                        ],
                        "iteration": 754,
                        "passed_time": 7.035070021,
                        "remaining_time": 2.282903517,
                        "test": [
                          0.06251565042
                        ]
                      },
                      {
                        "learn": [
                          0.01205037505
                        ],
                        "iteration": 755,
                        "passed_time": 7.047102486,
                        "remaining_time": 2.274461649,
                        "test": [
                          0.0625145451
                        ]
                      },
                      {
                        "learn": [
                          0.01204441883
                        ],
                        "iteration": 756,
                        "passed_time": 7.058946395,
                        "remaining_time": 2.265949767,
                        "test": [
                          0.06251144176
                        ]
                      },
                      {
                        "learn": [
                          0.01202743023
                        ],
                        "iteration": 757,
                        "passed_time": 7.07135588,
                        "remaining_time": 2.257609661,
                        "test": [
                          0.06252160145
                        ]
                      },
                      {
                        "learn": [
                          0.01200136481
                        ],
                        "iteration": 758,
                        "passed_time": 7.082768049,
                        "remaining_time": 2.248942161,
                        "test": [
                          0.06251401332
                        ]
                      },
                      {
                        "learn": [
                          0.0119961595
                        ],
                        "iteration": 759,
                        "passed_time": 7.094085999,
                        "remaining_time": 2.240237684,
                        "test": [
                          0.0625139084
                        ]
                      },
                      {
                        "learn": [
                          0.0119876557
                        ],
                        "iteration": 760,
                        "passed_time": 7.104496159,
                        "remaining_time": 2.231241238,
                        "test": [
                          0.0625079746
                        ]
                      },
                      {
                        "learn": [
                          0.01194922212
                        ],
                        "iteration": 761,
                        "passed_time": 7.114624094,
                        "remaining_time": 2.222152932,
                        "test": [
                          0.06251447954
                        ]
                      },
                      {
                        "learn": [
                          0.01194267199
                        ],
                        "iteration": 762,
                        "passed_time": 7.138550277,
                        "remaining_time": 2.217347858,
                        "test": [
                          0.0625046543
                        ]
                      },
                      {
                        "learn": [
                          0.011937199
                        ],
                        "iteration": 763,
                        "passed_time": 7.16085635,
                        "remaining_time": 2.211992276,
                        "test": [
                          0.06251527674
                        ]
                      },
                      {
                        "learn": [
                          0.01193114407
                        ],
                        "iteration": 764,
                        "passed_time": 7.165018078,
                        "remaining_time": 2.201018625,
                        "test": [
                          0.06251805889
                        ]
                      },
                      {
                        "learn": [
                          0.01192425922
                        ],
                        "iteration": 765,
                        "passed_time": 7.17300442,
                        "remaining_time": 2.191231115,
                        "test": [
                          0.06251055806
                        ]
                      },
                      {
                        "learn": [
                          0.01191601017
                        ],
                        "iteration": 766,
                        "passed_time": 7.180492987,
                        "remaining_time": 2.181297087,
                        "test": [
                          0.06250605726
                        ]
                      },
                      {
                        "learn": [
                          0.01189808342
                        ],
                        "iteration": 767,
                        "passed_time": 7.189002725,
                        "remaining_time": 2.171677906,
                        "test": [
                          0.06248778695
                        ]
                      },
                      {
                        "learn": [
                          0.01187938922
                        ],
                        "iteration": 768,
                        "passed_time": 7.197975186,
                        "remaining_time": 2.162200609,
                        "test": [
                          0.06248216095
                        ]
                      },
                      {
                        "learn": [
                          0.01185526136
                        ],
                        "iteration": 769,
                        "passed_time": 7.208618612,
                        "remaining_time": 2.153223741,
                        "test": [
                          0.06247638089
                        ]
                      },
                      {
                        "learn": [
                          0.0118542927
                        ],
                        "iteration": 770,
                        "passed_time": 7.218287295,
                        "remaining_time": 2.143953036,
                        "test": [
                          0.0624766169
                        ]
                      },
                      {
                        "learn": [
                          0.01182373703
                        ],
                        "iteration": 771,
                        "passed_time": 7.228509565,
                        "remaining_time": 2.134844794,
                        "test": [
                          0.06244752413
                        ]
                      },
                      {
                        "learn": [
                          0.01181452317
                        ],
                        "iteration": 772,
                        "passed_time": 7.237618773,
                        "remaining_time": 2.125406807,
                        "test": [
                          0.0624310558
                        ]
                      },
                      {
                        "learn": [
                          0.01181151138
                        ],
                        "iteration": 773,
                        "passed_time": 7.247639075,
                        "remaining_time": 2.116235699,
                        "test": [
                          0.06242919851
                        ]
                      },
                      {
                        "learn": [
                          0.01179243081
                        ],
                        "iteration": 774,
                        "passed_time": 7.276502534,
                        "remaining_time": 2.112532994,
                        "test": [
                          0.06240290614
                        ]
                      },
                      {
                        "learn": [
                          0.01178367877
                        ],
                        "iteration": 775,
                        "passed_time": 7.286923745,
                        "remaining_time": 2.103441906,
                        "test": [
                          0.06240702794
                        ]
                      },
                      {
                        "learn": [
                          0.011774582
                        ],
                        "iteration": 776,
                        "passed_time": 7.295958313,
                        "remaining_time": 2.093949426,
                        "test": [
                          0.06240352009
                        ]
                      },
                      {
                        "learn": [
                          0.01174402101
                        ],
                        "iteration": 777,
                        "passed_time": 7.307192648,
                        "remaining_time": 2.08508582,
                        "test": [
                          0.06239665504
                        ]
                      },
                      {
                        "learn": [
                          0.01173823305
                        ],
                        "iteration": 778,
                        "passed_time": 7.315746466,
                        "remaining_time": 2.075455673,
                        "test": [
                          0.06240001405
                        ]
                      },
                      {
                        "learn": [
                          0.01172694474
                        ],
                        "iteration": 779,
                        "passed_time": 7.341733893,
                        "remaining_time": 2.070745457,
                        "test": [
                          0.06239347702
                        ]
                      },
                      {
                        "learn": [
                          0.01169705249
                        ],
                        "iteration": 780,
                        "passed_time": 7.362922003,
                        "remaining_time": 2.064634979,
                        "test": [
                          0.06240168292
                        ]
                      },
                      {
                        "learn": [
                          0.01168997736
                        ],
                        "iteration": 781,
                        "passed_time": 7.37767179,
                        "remaining_time": 2.056691113,
                        "test": [
                          0.06238940303
                        ]
                      },
                      {
                        "learn": [
                          0.01168691633
                        ],
                        "iteration": 782,
                        "passed_time": 7.386477567,
                        "remaining_time": 2.047082544,
                        "test": [
                          0.06239226223
                        ]
                      },
                      {
                        "learn": [
                          0.01166984342
                        ],
                        "iteration": 783,
                        "passed_time": 7.405979045,
                        "remaining_time": 2.040422798,
                        "test": [
                          0.06239937352
                        ]
                      },
                      {
                        "learn": [
                          0.01164928033
                        ],
                        "iteration": 784,
                        "passed_time": 7.428301506,
                        "remaining_time": 2.03450296,
                        "test": [
                          0.06236929765
                        ]
                      },
                      {
                        "learn": [
                          0.01164310248
                        ],
                        "iteration": 785,
                        "passed_time": 7.451687938,
                        "remaining_time": 2.028831067,
                        "test": [
                          0.06236609242
                        ]
                      },
                      {
                        "learn": [
                          0.0116378709
                        ],
                        "iteration": 786,
                        "passed_time": 7.464048708,
                        "remaining_time": 2.020130082,
                        "test": [
                          0.06236649545
                        ]
                      },
                      {
                        "learn": [
                          0.01163712586
                        ],
                        "iteration": 787,
                        "passed_time": 7.46930807,
                        "remaining_time": 2.009509278,
                        "test": [
                          0.0623663152
                        ]
                      },
                      {
                        "learn": [
                          0.01159790498
                        ],
                        "iteration": 788,
                        "passed_time": 7.473801499,
                        "remaining_time": 1.998697232,
                        "test": [
                          0.0623526495
                        ]
                      },
                      {
                        "learn": [
                          0.01159316925
                        ],
                        "iteration": 789,
                        "passed_time": 7.479332152,
                        "remaining_time": 1.988176901,
                        "test": [
                          0.06235266812
                        ]
                      },
                      {
                        "learn": [
                          0.01156445459
                        ],
                        "iteration": 790,
                        "passed_time": 7.483339987,
                        "remaining_time": 1.977266823,
                        "test": [
                          0.06233732082
                        ]
                      },
                      {
                        "learn": [
                          0.01154607441
                        ],
                        "iteration": 791,
                        "passed_time": 7.48754003,
                        "remaining_time": 1.966424654,
                        "test": [
                          0.06234455674
                        ]
                      },
                      {
                        "learn": [
                          0.01152001444
                        ],
                        "iteration": 792,
                        "passed_time": 7.492253017,
                        "remaining_time": 1.955733133,
                        "test": [
                          0.06232602826
                        ]
                      },
                      {
                        "learn": [
                          0.01151937858
                        ],
                        "iteration": 793,
                        "passed_time": 7.49770982,
                        "remaining_time": 1.945249651,
                        "test": [
                          0.06232576702
                        ]
                      },
                      {
                        "learn": [
                          0.01149584259
                        ],
                        "iteration": 794,
                        "passed_time": 7.501947894,
                        "remaining_time": 1.934464551,
                        "test": [
                          0.06232028163
                        ]
                      },
                      {
                        "learn": [
                          0.01148509491
                        ],
                        "iteration": 795,
                        "passed_time": 7.505779956,
                        "remaining_time": 1.923591848,
                        "test": [
                          0.06232050999
                        ]
                      },
                      {
                        "learn": [
                          0.01147839551
                        ],
                        "iteration": 796,
                        "passed_time": 7.510050341,
                        "remaining_time": 1.912848456,
                        "test": [
                          0.06231792038
                        ]
                      },
                      {
                        "learn": [
                          0.01147327803
                        ],
                        "iteration": 797,
                        "passed_time": 7.51448814,
                        "remaining_time": 1.902163665,
                        "test": [
                          0.06231840281
                        ]
                      },
                      {
                        "learn": [
                          0.01147065229
                        ],
                        "iteration": 798,
                        "passed_time": 7.51842962,
                        "remaining_time": 1.891369654,
                        "test": [
                          0.06231769183
                        ]
                      },
                      {
                        "learn": [
                          0.01146564954
                        ],
                        "iteration": 799,
                        "passed_time": 7.524152449,
                        "remaining_time": 1.881038112,
                        "test": [
                          0.06231709278
                        ]
                      },
                      {
                        "learn": [
                          0.01144719642
                        ],
                        "iteration": 800,
                        "passed_time": 7.530464638,
                        "remaining_time": 1.870864498,
                        "test": [
                          0.06231925478
                        ]
                      },
                      {
                        "learn": [
                          0.01143561274
                        ],
                        "iteration": 801,
                        "passed_time": 7.535962951,
                        "remaining_time": 1.860499581,
                        "test": [
                          0.06233722946
                        ]
                      },
                      {
                        "learn": [
                          0.01141734431
                        ],
                        "iteration": 802,
                        "passed_time": 7.545269997,
                        "remaining_time": 1.851081182,
                        "test": [
                          0.06233733864
                        ]
                      },
                      {
                        "learn": [
                          0.01141006768
                        ],
                        "iteration": 803,
                        "passed_time": 7.55075074,
                        "remaining_time": 1.84073028,
                        "test": [
                          0.06233719425
                        ]
                      },
                      {
                        "learn": [
                          0.01140675507
                        ],
                        "iteration": 804,
                        "passed_time": 7.555194451,
                        "remaining_time": 1.830140271,
                        "test": [
                          0.06233518801
                        ]
                      },
                      {
                        "learn": [
                          0.01135915952
                        ],
                        "iteration": 805,
                        "passed_time": 7.560904555,
                        "remaining_time": 1.819870327,
                        "test": [
                          0.06233361003
                        ]
                      },
                      {
                        "learn": [
                          0.0113570911
                        ],
                        "iteration": 806,
                        "passed_time": 7.565705929,
                        "remaining_time": 1.809394355,
                        "test": [
                          0.06233619511
                        ]
                      },
                      {
                        "learn": [
                          0.01134569956
                        ],
                        "iteration": 807,
                        "passed_time": 7.570264737,
                        "remaining_time": 1.798874789,
                        "test": [
                          0.06233605664
                        ]
                      },
                      {
                        "learn": [
                          0.01134265998
                        ],
                        "iteration": 808,
                        "passed_time": 7.574761934,
                        "remaining_time": 1.788355413,
                        "test": [
                          0.06233883784
                        ]
                      },
                      {
                        "learn": [
                          0.01134220301
                        ],
                        "iteration": 809,
                        "passed_time": 7.579447363,
                        "remaining_time": 1.77789506,
                        "test": [
                          0.06234204371
                        ]
                      },
                      {
                        "learn": [
                          0.01133961556
                        ],
                        "iteration": 810,
                        "passed_time": 7.584683522,
                        "remaining_time": 1.767577294,
                        "test": [
                          0.06234078645
                        ]
                      },
                      {
                        "learn": [
                          0.01133489525
                        ],
                        "iteration": 811,
                        "passed_time": 7.592532308,
                        "remaining_time": 1.757876938,
                        "test": [
                          0.06234236286
                        ]
                      },
                      {
                        "learn": [
                          0.01130732791
                        ],
                        "iteration": 812,
                        "passed_time": 7.596795504,
                        "remaining_time": 1.747356408,
                        "test": [
                          0.06235296049
                        ]
                      },
                      {
                        "learn": [
                          0.01130119464
                        ],
                        "iteration": 813,
                        "passed_time": 7.602746723,
                        "remaining_time": 1.737236966,
                        "test": [
                          0.06234671644
                        ]
                      },
                      {
                        "learn": [
                          0.01129375834
                        ],
                        "iteration": 814,
                        "passed_time": 7.607273607,
                        "remaining_time": 1.726804438,
                        "test": [
                          0.06235545178
                        ]
                      },
                      {
                        "learn": [
                          0.01128213645
                        ],
                        "iteration": 815,
                        "passed_time": 7.613622399,
                        "remaining_time": 1.716797208,
                        "test": [
                          0.06235500457
                        ]
                      },
                      {
                        "learn": [
                          0.01127270639
                        ],
                        "iteration": 816,
                        "passed_time": 7.620757556,
                        "remaining_time": 1.706975071,
                        "test": [
                          0.06234724779
                        ]
                      },
                      {
                        "learn": [
                          0.01126088085
                        ],
                        "iteration": 817,
                        "passed_time": 7.627419189,
                        "remaining_time": 1.697054147,
                        "test": [
                          0.06234708501
                        ]
                      },
                      {
                        "learn": [
                          0.01125579915
                        ],
                        "iteration": 818,
                        "passed_time": 7.632964676,
                        "remaining_time": 1.686894513,
                        "test": [
                          0.06234977385
                        ]
                      },
                      {
                        "learn": [
                          0.01124630445
                        ],
                        "iteration": 819,
                        "passed_time": 7.638535414,
                        "remaining_time": 1.676751676,
                        "test": [
                          0.06233822822
                        ]
                      },
                      {
                        "learn": [
                          0.01122706356
                        ],
                        "iteration": 820,
                        "passed_time": 7.642373818,
                        "remaining_time": 1.666242282,
                        "test": [
                          0.06233349097
                        ]
                      },
                      {
                        "learn": [
                          0.01121120345
                        ],
                        "iteration": 821,
                        "passed_time": 7.648182376,
                        "remaining_time": 1.656175746,
                        "test": [
                          0.06234818324
                        ]
                      },
                      {
                        "learn": [
                          0.01121043285
                        ],
                        "iteration": 822,
                        "passed_time": 7.652500507,
                        "remaining_time": 1.645799015,
                        "test": [
                          0.06234903532
                        ]
                      },
                      {
                        "learn": [
                          0.01117848531
                        ],
                        "iteration": 823,
                        "passed_time": 7.656467638,
                        "remaining_time": 1.63536202,
                        "test": [
                          0.06231478567
                        ]
                      },
                      {
                        "learn": [
                          0.01117026835
                        ],
                        "iteration": 824,
                        "passed_time": 7.661964036,
                        "remaining_time": 1.625265099,
                        "test": [
                          0.06231209067
                        ]
                      },
                      {
                        "learn": [
                          0.01115420315
                        ],
                        "iteration": 825,
                        "passed_time": 7.666075023,
                        "remaining_time": 1.614887474,
                        "test": [
                          0.06231689307
                        ]
                      },
                      {
                        "learn": [
                          0.01112540013
                        ],
                        "iteration": 826,
                        "passed_time": 7.671384759,
                        "remaining_time": 1.604775772,
                        "test": [
                          0.06231784918
                        ]
                      },
                      {
                        "learn": [
                          0.01111344187
                        ],
                        "iteration": 827,
                        "passed_time": 7.68073145,
                        "remaining_time": 1.595514263,
                        "test": [
                          0.06231808131
                        ]
                      },
                      {
                        "learn": [
                          0.01109774946
                        ],
                        "iteration": 828,
                        "passed_time": 7.686780928,
                        "remaining_time": 1.585572423,
                        "test": [
                          0.0623211537
                        ]
                      },
                      {
                        "learn": [
                          0.0110917857
                        ],
                        "iteration": 829,
                        "passed_time": 7.690954567,
                        "remaining_time": 1.575255755,
                        "test": [
                          0.06232317351
                        ]
                      },
                      {
                        "learn": [
                          0.01108281161
                        ],
                        "iteration": 830,
                        "passed_time": 7.694959369,
                        "remaining_time": 1.564919535,
                        "test": [
                          0.06232559222
                        ]
                      },
                      {
                        "learn": [
                          0.01107566407
                        ],
                        "iteration": 831,
                        "passed_time": 7.704741654,
                        "remaining_time": 1.555765142,
                        "test": [
                          0.06233229914
                        ]
                      },
                      {
                        "learn": [
                          0.01107184094
                        ],
                        "iteration": 832,
                        "passed_time": 7.708512889,
                        "remaining_time": 1.545404145,
                        "test": [
                          0.06232816713
                        ]
                      },
                      {
                        "learn": [
                          0.01106949852
                        ],
                        "iteration": 833,
                        "passed_time": 7.71384548,
                        "remaining_time": 1.535369724,
                        "test": [
                          0.06232679119
                        ]
                      },
                      {
                        "learn": [
                          0.01105973771
                        ],
                        "iteration": 834,
                        "passed_time": 7.720594683,
                        "remaining_time": 1.525626494,
                        "test": [
                          0.06231774529
                        ]
                      },
                      {
                        "learn": [
                          0.01105138912
                        ],
                        "iteration": 835,
                        "passed_time": 7.728080099,
                        "remaining_time": 1.516034852,
                        "test": [
                          0.06231326187
                        ]
                      },
                      {
                        "learn": [
                          0.01104449628
                        ],
                        "iteration": 836,
                        "passed_time": 7.736685128,
                        "remaining_time": 1.506666279,
                        "test": [
                          0.06230773176
                        ]
                      },
                      {
                        "learn": [
                          0.01103894961
                        ],
                        "iteration": 837,
                        "passed_time": 7.744788845,
                        "remaining_time": 1.497202617,
                        "test": [
                          0.06230009814
                        ]
                      },
                      {
                        "learn": [
                          0.01101278514
                        ],
                        "iteration": 838,
                        "passed_time": 7.752028903,
                        "remaining_time": 1.487576464,
                        "test": [
                          0.06230420268
                        ]
                      },
                      {
                        "learn": [
                          0.01099149474
                        ],
                        "iteration": 839,
                        "passed_time": 7.760194752,
                        "remaining_time": 1.478132334,
                        "test": [
                          0.06229325643
                        ]
                      },
                      {
                        "learn": [
                          0.01097042711
                        ],
                        "iteration": 840,
                        "passed_time": 7.768918497,
                        "remaining_time": 1.468796719,
                        "test": [
                          0.06230154436
                        ]
                      },
                      {
                        "learn": [
                          0.01096041616
                        ],
                        "iteration": 841,
                        "passed_time": 7.780359904,
                        "remaining_time": 1.459972524,
                        "test": [
                          0.06230663353
                        ]
                      },
                      {
                        "learn": [
                          0.01095607566
                        ],
                        "iteration": 842,
                        "passed_time": 7.794881853,
                        "remaining_time": 1.451715837,
                        "test": [
                          0.06229268867
                        ]
                      },
                      {
                        "learn": [
                          0.01094835945
                        ],
                        "iteration": 843,
                        "passed_time": 7.806926494,
                        "remaining_time": 1.442986414,
                        "test": [
                          0.06229330869
                        ]
                      },
                      {
                        "learn": [
                          0.0109461982
                        ],
                        "iteration": 844,
                        "passed_time": 7.818514764,
                        "remaining_time": 1.43416543,
                        "test": [
                          0.06229034089
                        ]
                      },
                      {
                        "learn": [
                          0.01093140353
                        ],
                        "iteration": 845,
                        "passed_time": 7.828936084,
                        "remaining_time": 1.425125481,
                        "test": [
                          0.06229025521
                        ]
                      },
                      {
                        "learn": [
                          0.01092595908
                        ],
                        "iteration": 846,
                        "passed_time": 7.843827154,
                        "remaining_time": 1.416889675,
                        "test": [
                          0.06229264101
                        ]
                      },
                      {
                        "learn": [
                          0.01091476851
                        ],
                        "iteration": 847,
                        "passed_time": 7.857816192,
                        "remaining_time": 1.408476487,
                        "test": [
                          0.06229618714
                        ]
                      },
                      {
                        "learn": [
                          0.01091061799
                        ],
                        "iteration": 848,
                        "passed_time": 7.869693843,
                        "remaining_time": 1.399674641,
                        "test": [
                          0.0622820911
                        ]
                      },
                      {
                        "learn": [
                          0.0108980949
                        ],
                        "iteration": 849,
                        "passed_time": 7.888385143,
                        "remaining_time": 1.392067966,
                        "test": [
                          0.06228322808
                        ]
                      },
                      {
                        "learn": [
                          0.01088103685
                        ],
                        "iteration": 850,
                        "passed_time": 7.909076701,
                        "remaining_time": 1.384785462,
                        "test": [
                          0.06228727391
                        ]
                      },
                      {
                        "learn": [
                          0.0108525645
                        ],
                        "iteration": 851,
                        "passed_time": 7.921966672,
                        "remaining_time": 1.376116276,
                        "test": [
                          0.06229205491
                        ]
                      },
                      {
                        "learn": [
                          0.01085244048
                        ],
                        "iteration": 852,
                        "passed_time": 7.93288766,
                        "remaining_time": 1.367097873,
                        "test": [
                          0.06229228706
                        ]
                      },
                      {
                        "learn": [
                          0.01084872922
                        ],
                        "iteration": 853,
                        "passed_time": 7.941285845,
                        "remaining_time": 1.357643716,
                        "test": [
                          0.06229458343
                        ]
                      },
                      {
                        "learn": [
                          0.01084111727
                        ],
                        "iteration": 854,
                        "passed_time": 7.953686376,
                        "remaining_time": 1.348870789,
                        "test": [
                          0.062294254
                        ]
                      },
                      {
                        "learn": [
                          0.01081730351
                        ],
                        "iteration": 855,
                        "passed_time": 7.964916914,
                        "remaining_time": 1.339892565,
                        "test": [
                          0.06229025015
                        ]
                      },
                      {
                        "learn": [
                          0.0108077596
                        ],
                        "iteration": 856,
                        "passed_time": 7.974905726,
                        "remaining_time": 1.330701889,
                        "test": [
                          0.06229594829
                        ]
                      },
                      {
                        "learn": [
                          0.01080409362
                        ],
                        "iteration": 857,
                        "passed_time": 7.985713352,
                        "remaining_time": 1.321644867,
                        "test": [
                          0.06229564141
                        ]
                      },
                      {
                        "learn": [
                          0.01079309276
                        ],
                        "iteration": 858,
                        "passed_time": 7.993844201,
                        "remaining_time": 1.312144392,
                        "test": [
                          0.06229265277
                        ]
                      },
                      {
                        "learn": [
                          0.01078802349
                        ],
                        "iteration": 859,
                        "passed_time": 8.005028506,
                        "remaining_time": 1.303144175,
                        "test": [
                          0.06229450259
                        ]
                      },
                      {
                        "learn": [
                          0.01078263795
                        ],
                        "iteration": 860,
                        "passed_time": 8.017242264,
                        "remaining_time": 1.294305081,
                        "test": [
                          0.06229012387
                        ]
                      },
                      {
                        "learn": [
                          0.01077853091
                        ],
                        "iteration": 861,
                        "passed_time": 8.027945765,
                        "remaining_time": 1.285216375,
                        "test": [
                          0.06228858721
                        ]
                      },
                      {
                        "learn": [
                          0.01076866986
                        ],
                        "iteration": 862,
                        "passed_time": 8.039064257,
                        "remaining_time": 1.276189807,
                        "test": [
                          0.06227930124
                        ]
                      },
                      {
                        "learn": [
                          0.01075592984
                        ],
                        "iteration": 863,
                        "passed_time": 8.049975925,
                        "remaining_time": 1.26712584,
                        "test": [
                          0.06226225097
                        ]
                      },
                      {
                        "learn": [
                          0.01074074793
                        ],
                        "iteration": 864,
                        "passed_time": 8.060522206,
                        "remaining_time": 1.258000576,
                        "test": [
                          0.06226044974
                        ]
                      },
                      {
                        "learn": [
                          0.0107159752
                        ],
                        "iteration": 865,
                        "passed_time": 8.070528839,
                        "remaining_time": 1.248788527,
                        "test": [
                          0.06227018917
                        ]
                      },
                      {
                        "learn": [
                          0.01069207998
                        ],
                        "iteration": 866,
                        "passed_time": 8.08063417,
                        "remaining_time": 1.239589786,
                        "test": [
                          0.062281549
                        ]
                      },
                      {
                        "learn": [
                          0.01069038615
                        ],
                        "iteration": 867,
                        "passed_time": 8.102187766,
                        "remaining_time": 1.232129937,
                        "test": [
                          0.06228414235
                        ]
                      },
                      {
                        "learn": [
                          0.01067783097
                        ],
                        "iteration": 868,
                        "passed_time": 8.11708992,
                        "remaining_time": 1.223634959,
                        "test": [
                          0.06228362914
                        ]
                      },
                      {
                        "learn": [
                          0.01067778272
                        ],
                        "iteration": 869,
                        "passed_time": 8.129254907,
                        "remaining_time": 1.21471625,
                        "test": [
                          0.06228396416
                        ]
                      },
                      {
                        "learn": [
                          0.01066053059
                        ],
                        "iteration": 870,
                        "passed_time": 8.134280179,
                        "remaining_time": 1.204732656,
                        "test": [
                          0.06228754643
                        ]
                      },
                      {
                        "learn": [
                          0.01065186581
                        ],
                        "iteration": 871,
                        "passed_time": 8.142408424,
                        "remaining_time": 1.195215915,
                        "test": [
                          0.062289147
                        ]
                      },
                      {
                        "learn": [
                          0.0106384769
                        ],
                        "iteration": 872,
                        "passed_time": 8.150184669,
                        "remaining_time": 1.185651149,
                        "test": [
                          0.06229173219
                        ]
                      },
                      {
                        "learn": [
                          0.01062016935
                        ],
                        "iteration": 873,
                        "passed_time": 8.157613756,
                        "remaining_time": 1.176040427,
                        "test": [
                          0.06229371532
                        ]
                      },
                      {
                        "learn": [
                          0.01059870986
                        ],
                        "iteration": 874,
                        "passed_time": 8.171983739,
                        "remaining_time": 1.167426248,
                        "test": [
                          0.06229629091
                        ]
                      },
                      {
                        "learn": [
                          0.01058780268
                        ],
                        "iteration": 875,
                        "passed_time": 8.196451261,
                        "remaining_time": 1.160228261,
                        "test": [
                          0.06228927639
                        ]
                      },
                      {
                        "learn": [
                          0.01058032201
                        ],
                        "iteration": 876,
                        "passed_time": 8.212985679,
                        "remaining_time": 1.151878265,
                        "test": [
                          0.06228661927
                        ]
                      },
                      {
                        "learn": [
                          0.01057271245
                        ],
                        "iteration": 877,
                        "passed_time": 8.227560214,
                        "remaining_time": 1.143237296,
                        "test": [
                          0.06228713695
                        ]
                      },
                      {
                        "learn": [
                          0.01057223442
                        ],
                        "iteration": 878,
                        "passed_time": 8.241446126,
                        "remaining_time": 1.134488033,
                        "test": [
                          0.06229008717
                        ]
                      },
                      {
                        "learn": [
                          0.01056779923
                        ],
                        "iteration": 879,
                        "passed_time": 8.256535159,
                        "remaining_time": 1.125891158,
                        "test": [
                          0.06228520242
                        ]
                      },
                      {
                        "learn": [
                          0.01055472279
                        ],
                        "iteration": 880,
                        "passed_time": 8.289884608,
                        "remaining_time": 1.119746048,
                        "test": [
                          0.0622845804
                        ]
                      },
                      {
                        "learn": [
                          0.01054402434
                        ],
                        "iteration": 881,
                        "passed_time": 8.295711621,
                        "remaining_time": 1.10985711,
                        "test": [
                          0.06229194284
                        ]
                      },
                      {
                        "learn": [
                          0.01054067248
                        ],
                        "iteration": 882,
                        "passed_time": 8.319835139,
                        "remaining_time": 1.102401712,
                        "test": [
                          0.06229206976
                        ]
                      },
                      {
                        "learn": [
                          0.01052503402
                        ],
                        "iteration": 883,
                        "passed_time": 8.360092418,
                        "remaining_time": 1.097025702,
                        "test": [
                          0.06229343257
                        ]
                      },
                      {
                        "learn": [
                          0.01051027959
                        ],
                        "iteration": 884,
                        "passed_time": 8.376173684,
                        "remaining_time": 1.088429349,
                        "test": [
                          0.06227795969
                        ]
                      },
                      {
                        "learn": [
                          0.01049878798
                        ],
                        "iteration": 885,
                        "passed_time": 8.394767995,
                        "remaining_time": 1.080139449,
                        "test": [
                          0.06228223068
                        ]
                      },
                      {
                        "learn": [
                          0.01048538905
                        ],
                        "iteration": 886,
                        "passed_time": 8.403090319,
                        "remaining_time": 1.070517707,
                        "test": [
                          0.06227599048
                        ]
                      },
                      {
                        "learn": [
                          0.01048277838
                        ],
                        "iteration": 887,
                        "passed_time": 8.407225421,
                        "remaining_time": 1.060370774,
                        "test": [
                          0.06227921909
                        ]
                      },
                      {
                        "learn": [
                          0.01047035796
                        ],
                        "iteration": 888,
                        "passed_time": 8.411214038,
                        "remaining_time": 1.050219076,
                        "test": [
                          0.06227929511
                        ]
                      },
                      {
                        "learn": [
                          0.01044883099
                        ],
                        "iteration": 889,
                        "passed_time": 8.418092138,
                        "remaining_time": 1.040438354,
                        "test": [
                          0.06229025602
                        ]
                      },
                      {
                        "learn": [
                          0.01044464074
                        ],
                        "iteration": 890,
                        "passed_time": 8.423140208,
                        "remaining_time": 1.030440272,
                        "test": [
                          0.06229249634
                        ]
                      },
                      {
                        "learn": [
                          0.01044162646
                        ],
                        "iteration": 891,
                        "passed_time": 8.427623879,
                        "remaining_time": 1.020384954,
                        "test": [
                          0.0622934424
                        ]
                      },
                      {
                        "learn": [
                          0.01042908453
                        ],
                        "iteration": 892,
                        "passed_time": 8.432823239,
                        "remaining_time": 1.010427868,
                        "test": [
                          0.06229136295
                        ]
                      },
                      {
                        "learn": [
                          0.0104266696
                        ],
                        "iteration": 893,
                        "passed_time": 8.4373706,
                        "remaining_time": 1.00040412,
                        "test": [
                          0.06229019332
                        ]
                      },
                      {
                        "learn": [
                          0.01039540095
                        ],
                        "iteration": 894,
                        "passed_time": 8.441963448,
                        "remaining_time": 0.9903979464,
                        "test": [
                          0.06228390652
                        ]
                      },
                      {
                        "learn": [
                          0.01037657587
                        ],
                        "iteration": 895,
                        "passed_time": 8.448183181,
                        "remaining_time": 0.9805926906,
                        "test": [
                          0.06227876643
                        ]
                      },
                      {
                        "learn": [
                          0.01037165848
                        ],
                        "iteration": 896,
                        "passed_time": 8.455518749,
                        "remaining_time": 0.9709235576,
                        "test": [
                          0.06227809056
                        ]
                      },
                      {
                        "learn": [
                          0.01036737014
                        ],
                        "iteration": 897,
                        "passed_time": 8.461887016,
                        "remaining_time": 0.9611497502,
                        "test": [
                          0.06227811329
                        ]
                      },
                      {
                        "learn": [
                          0.01035857477
                        ],
                        "iteration": 898,
                        "passed_time": 8.466994205,
                        "remaining_time": 0.9512418407,
                        "test": [
                          0.06227739255
                        ]
                      },
                      {
                        "learn": [
                          0.01033245141
                        ],
                        "iteration": 899,
                        "passed_time": 8.471255619,
                        "remaining_time": 0.9412506243,
                        "test": [
                          0.06228383479
                        ]
                      },
                      {
                        "learn": [
                          0.01032005187
                        ],
                        "iteration": 900,
                        "passed_time": 8.476993364,
                        "remaining_time": 0.931434343,
                        "test": [
                          0.06226225248
                        ]
                      },
                      {
                        "learn": [
                          0.01030889239
                        ],
                        "iteration": 901,
                        "passed_time": 8.488200858,
                        "remaining_time": 0.9222213792,
                        "test": [
                          0.06225547716
                        ]
                      },
                      {
                        "learn": [
                          0.01030807941
                        ],
                        "iteration": 902,
                        "passed_time": 8.496935025,
                        "remaining_time": 0.9127383138,
                        "test": [
                          0.06225516108
                        ]
                      },
                      {
                        "learn": [
                          0.01030413991
                        ],
                        "iteration": 903,
                        "passed_time": 8.5051536,
                        "remaining_time": 0.9032021522,
                        "test": [
                          0.06226050154
                        ]
                      },
                      {
                        "learn": [
                          0.0102731054
                        ],
                        "iteration": 904,
                        "passed_time": 8.511403483,
                        "remaining_time": 0.8934622441,
                        "test": [
                          0.06225847922
                        ]
                      },
                      {
                        "learn": [
                          0.01026803316
                        ],
                        "iteration": 905,
                        "passed_time": 8.517189084,
                        "remaining_time": 0.8836818697,
                        "test": [
                          0.06225553665
                        ]
                      },
                      {
                        "learn": [
                          0.01026691046
                        ],
                        "iteration": 906,
                        "passed_time": 8.522709041,
                        "remaining_time": 0.873883066,
                        "test": [
                          0.06225678627
                        ]
                      },
                      {
                        "learn": [
                          0.01026566465
                        ],
                        "iteration": 907,
                        "passed_time": 8.526623643,
                        "remaining_time": 0.8639310299,
                        "test": [
                          0.06225623668
                        ]
                      },
                      {
                        "learn": [
                          0.0102641202
                        ],
                        "iteration": 908,
                        "passed_time": 8.532854355,
                        "remaining_time": 0.8542241434,
                        "test": [
                          0.06225222712
                        ]
                      },
                      {
                        "learn": [
                          0.01026037385
                        ],
                        "iteration": 909,
                        "passed_time": 8.537294691,
                        "remaining_time": 0.8443478266,
                        "test": [
                          0.0622607866
                        ]
                      },
                      {
                        "learn": [
                          0.01025818808
                        ],
                        "iteration": 910,
                        "passed_time": 8.543140646,
                        "remaining_time": 0.8346207657,
                        "test": [
                          0.06226032775
                        ]
                      },
                      {
                        "learn": [
                          0.01020986154
                        ],
                        "iteration": 911,
                        "passed_time": 8.546757738,
                        "remaining_time": 0.8246871502,
                        "test": [
                          0.06226840798
                        ]
                      },
                      {
                        "learn": [
                          0.01020444433
                        ],
                        "iteration": 912,
                        "passed_time": 8.552151318,
                        "remaining_time": 0.8149366535,
                        "test": [
                          0.06227109089
                        ]
                      },
                      {
                        "learn": [
                          0.01020045707
                        ],
                        "iteration": 913,
                        "passed_time": 8.556162465,
                        "remaining_time": 0.8050656149,
                        "test": [
                          0.06227150936
                        ]
                      },
                      {
                        "learn": [
                          0.01019971209
                        ],
                        "iteration": 914,
                        "passed_time": 8.560483885,
                        "remaining_time": 0.7952362079,
                        "test": [
                          0.06226957948
                        ]
                      },
                      {
                        "learn": [
                          0.01019144611
                        ],
                        "iteration": 915,
                        "passed_time": 8.566389746,
                        "remaining_time": 0.7855641252,
                        "test": [
                          0.06226861124
                        ]
                      },
                      {
                        "learn": [
                          0.01018233906
                        ],
                        "iteration": 916,
                        "passed_time": 8.572838417,
                        "remaining_time": 0.7759493878,
                        "test": [
                          0.06226728647
                        ]
                      },
                      {
                        "learn": [
                          0.01017935224
                        ],
                        "iteration": 917,
                        "passed_time": 8.581006166,
                        "remaining_time": 0.7664951041,
                        "test": [
                          0.06226845854
                        ]
                      },
                      {
                        "learn": [
                          0.01017871632
                        ],
                        "iteration": 918,
                        "passed_time": 8.586679976,
                        "remaining_time": 0.7568238064,
                        "test": [
                          0.06226646784
                        ]
                      },
                      {
                        "learn": [
                          0.01015773885
                        ],
                        "iteration": 919,
                        "passed_time": 8.59126893,
                        "remaining_time": 0.7470668635,
                        "test": [
                          0.06226397676
                        ]
                      },
                      {
                        "learn": [
                          0.0101519284
                        ],
                        "iteration": 920,
                        "passed_time": 8.595764498,
                        "remaining_time": 0.7373131328,
                        "test": [
                          0.06225815886
                        ]
                      },
                      {
                        "learn": [
                          0.01013646152
                        ],
                        "iteration": 921,
                        "passed_time": 8.601688811,
                        "remaining_time": 0.7276916782,
                        "test": [
                          0.06226771825
                        ]
                      },
                      {
                        "learn": [
                          0.01013626511
                        ],
                        "iteration": 922,
                        "passed_time": 8.606731232,
                        "remaining_time": 0.718004664,
                        "test": [
                          0.06226872697
                        ]
                      },
                      {
                        "learn": [
                          0.01013553169
                        ],
                        "iteration": 923,
                        "passed_time": 8.612411661,
                        "remaining_time": 0.7083801799,
                        "test": [
                          0.06226894997
                        ]
                      },
                      {
                        "learn": [
                          0.01013190677
                        ],
                        "iteration": 924,
                        "passed_time": 8.616450849,
                        "remaining_time": 0.6986311499,
                        "test": [
                          0.06226904164
                        ]
                      },
                      {
                        "learn": [
                          0.01010911174
                        ],
                        "iteration": 925,
                        "passed_time": 8.620602784,
                        "remaining_time": 0.6889034622,
                        "test": [
                          0.06227154297
                        ]
                      },
                      {
                        "learn": [
                          0.01007686871
                        ],
                        "iteration": 926,
                        "passed_time": 8.626076342,
                        "remaining_time": 0.6792918802,
                        "test": [
                          0.06228161079
                        ]
                      },
                      {
                        "learn": [
                          0.01007673753
                        ],
                        "iteration": 927,
                        "passed_time": 8.630388195,
                        "remaining_time": 0.6695990841,
                        "test": [
                          0.06228158486
                        ]
                      },
                      {
                        "learn": [
                          0.01007005647
                        ],
                        "iteration": 928,
                        "passed_time": 8.636316154,
                        "remaining_time": 0.6600413853,
                        "test": [
                          0.06228431974
                        ]
                      },
                      {
                        "learn": [
                          0.01006748286
                        ],
                        "iteration": 929,
                        "passed_time": 8.640561439,
                        "remaining_time": 0.6503648395,
                        "test": [
                          0.06228238791
                        ]
                      },
                      {
                        "learn": [
                          0.01006731933
                        ],
                        "iteration": 930,
                        "passed_time": 8.645714889,
                        "remaining_time": 0.6407672689,
                        "test": [
                          0.06228331678
                        ]
                      },
                      {
                        "learn": [
                          0.01005979189
                        ],
                        "iteration": 931,
                        "passed_time": 8.656325254,
                        "remaining_time": 0.6315773791,
                        "test": [
                          0.06228147786
                        ]
                      },
                      {
                        "learn": [
                          0.01004806646
                        ],
                        "iteration": 932,
                        "passed_time": 8.673890526,
                        "remaining_time": 0.6228838856,
                        "test": [
                          0.06227771906
                        ]
                      },
                      {
                        "learn": [
                          0.01003701359
                        ],
                        "iteration": 933,
                        "passed_time": 8.686060781,
                        "remaining_time": 0.6137901622,
                        "test": [
                          0.06228947951
                        ]
                      },
                      {
                        "learn": [
                          0.01002457818
                        ],
                        "iteration": 934,
                        "passed_time": 8.704687127,
                        "remaining_time": 0.6051386773,
                        "test": [
                          0.06229022888
                        ]
                      },
                      {
                        "learn": [
                          0.01002259522
                        ],
                        "iteration": 935,
                        "passed_time": 8.735861198,
                        "remaining_time": 0.5973238426,
                        "test": [
                          0.06228753823
                        ]
                      },
                      {
                        "learn": [
                          0.01000410224
                        ],
                        "iteration": 936,
                        "passed_time": 8.750922556,
                        "remaining_time": 0.5883757962,
                        "test": [
                          0.06227155896
                        ]
                      },
                      {
                        "learn": [
                          0.01000032089
                        ],
                        "iteration": 937,
                        "passed_time": 8.779627908,
                        "remaining_time": 0.5803165568,
                        "test": [
                          0.06226858609
                        ]
                      },
                      {
                        "learn": [
                          0.009993132463
                        ],
                        "iteration": 938,
                        "passed_time": 8.798533759,
                        "remaining_time": 0.5715767405,
                        "test": [
                          0.06226657509
                        ]
                      },
                      {
                        "learn": [
                          0.00999260106
                        ],
                        "iteration": 939,
                        "passed_time": 8.815541237,
                        "remaining_time": 0.5626941215,
                        "test": [
                          0.06226460896
                        ]
                      },
                      {
                        "learn": [
                          0.009984388024
                        ],
                        "iteration": 940,
                        "passed_time": 8.825321724,
                        "remaining_time": 0.5533411071,
                        "test": [
                          0.06227195698
                        ]
                      },
                      {
                        "learn": [
                          0.009975193686
                        ],
                        "iteration": 941,
                        "passed_time": 8.836038504,
                        "remaining_time": 0.5440448336,
                        "test": [
                          0.06227280608
                        ]
                      },
                      {
                        "learn": [
                          0.009965516385
                        ],
                        "iteration": 942,
                        "passed_time": 8.852562492,
                        "remaining_time": 0.5350965663,
                        "test": [
                          0.06226441225
                        ]
                      },
                      {
                        "learn": [
                          0.00996086863
                        ],
                        "iteration": 943,
                        "passed_time": 8.874403815,
                        "remaining_time": 0.5264476839,
                        "test": [
                          0.06226419827
                        ]
                      },
                      {
                        "learn": [
                          0.009955123263
                        ],
                        "iteration": 944,
                        "passed_time": 8.887066323,
                        "remaining_time": 0.5172366643,
                        "test": [
                          0.06226548297
                        ]
                      },
                      {
                        "learn": [
                          0.009941223528
                        ],
                        "iteration": 945,
                        "passed_time": 8.896612734,
                        "remaining_time": 0.5078404732,
                        "test": [
                          0.0622804027
                        ]
                      },
                      {
                        "learn": [
                          0.009939647116
                        ],
                        "iteration": 946,
                        "passed_time": 8.907146532,
                        "remaining_time": 0.4984992251,
                        "test": [
                          0.06227622097
                        ]
                      },
                      {
                        "learn": [
                          0.009939637776
                        ],
                        "iteration": 947,
                        "passed_time": 8.910292021,
                        "remaining_time": 0.4887501952,
                        "test": [
                          0.0622759552
                        ]
                      },
                      {
                        "learn": [
                          0.009939634339
                        ],
                        "iteration": 948,
                        "passed_time": 8.920398168,
                        "remaining_time": 0.4793891534,
                        "test": [
                          0.06227575991
                        ]
                      },
                      {
                        "learn": [
                          0.009933880179
                        ],
                        "iteration": 949,
                        "passed_time": 8.926854536,
                        "remaining_time": 0.4698344493,
                        "test": [
                          0.06227457675
                        ]
                      },
                      {
                        "learn": [
                          0.009931308597
                        ],
                        "iteration": 950,
                        "passed_time": 8.930675315,
                        "remaining_time": 0.4601504632,
                        "test": [
                          0.06227417731
                        ]
                      },
                      {
                        "learn": [
                          0.009929920025
                        ],
                        "iteration": 951,
                        "passed_time": 8.936340371,
                        "remaining_time": 0.4505717834,
                        "test": [
                          0.0622776568
                        ]
                      },
                      {
                        "learn": [
                          0.009925233439
                        ],
                        "iteration": 952,
                        "passed_time": 8.952403327,
                        "remaining_time": 0.44151412,
                        "test": [
                          0.06227790551
                        ]
                      },
                      {
                        "learn": [
                          0.009919680993
                        ],
                        "iteration": 953,
                        "passed_time": 8.962202401,
                        "remaining_time": 0.4321397384,
                        "test": [
                          0.06227026815
                        ]
                      },
                      {
                        "learn": [
                          0.009915425421
                        ],
                        "iteration": 954,
                        "passed_time": 8.974004496,
                        "remaining_time": 0.4228588506,
                        "test": [
                          0.06227123085
                        ]
                      },
                      {
                        "learn": [
                          0.009906775759
                        ],
                        "iteration": 955,
                        "passed_time": 8.990346699,
                        "remaining_time": 0.4137816472,
                        "test": [
                          0.0622586735
                        ]
                      },
                      {
                        "learn": [
                          0.009885896119
                        ],
                        "iteration": 956,
                        "passed_time": 9.002263193,
                        "remaining_time": 0.4044904047,
                        "test": [
                          0.06225263951
                        ]
                      },
                      {
                        "learn": [
                          0.009880043852
                        ],
                        "iteration": 957,
                        "passed_time": 9.020337345,
                        "remaining_time": 0.3954636414,
                        "test": [
                          0.0622478306
                        ]
                      },
                      {
                        "learn": [
                          0.009878900029
                        ],
                        "iteration": 958,
                        "passed_time": 9.025772443,
                        "remaining_time": 0.385877654,
                        "test": [
                          0.06224734189
                        ]
                      },
                      {
                        "learn": [
                          0.009873562158
                        ],
                        "iteration": 959,
                        "passed_time": 9.030014321,
                        "remaining_time": 0.3762505967,
                        "test": [
                          0.06224285438
                        ]
                      },
                      {
                        "learn": [
                          0.009869329529
                        ],
                        "iteration": 960,
                        "passed_time": 9.03974444,
                        "remaining_time": 0.3668574747,
                        "test": [
                          0.06224225032
                        ]
                      },
                      {
                        "learn": [
                          0.009865135745
                        ],
                        "iteration": 961,
                        "passed_time": 9.050463505,
                        "remaining_time": 0.3575027164,
                        "test": [
                          0.06224137531
                        ]
                      },
                      {
                        "learn": [
                          0.009856614678
                        ],
                        "iteration": 962,
                        "passed_time": 9.054552348,
                        "remaining_time": 0.347890381,
                        "test": [
                          0.06223761888
                        ]
                      },
                      {
                        "learn": [
                          0.00984751034
                        ],
                        "iteration": 963,
                        "passed_time": 9.058673885,
                        "remaining_time": 0.338290726,
                        "test": [
                          0.06225055699
                        ]
                      },
                      {
                        "learn": [
                          0.009819799584
                        ],
                        "iteration": 964,
                        "passed_time": 9.063735442,
                        "remaining_time": 0.3287365186,
                        "test": [
                          0.06226068498
                        ]
                      },
                      {
                        "learn": [
                          0.009801413238
                        ],
                        "iteration": 965,
                        "passed_time": 9.069872818,
                        "remaining_time": 0.3192294781,
                        "test": [
                          0.06226411274
                        ]
                      },
                      {
                        "learn": [
                          0.009800021607
                        ],
                        "iteration": 966,
                        "passed_time": 9.074191859,
                        "remaining_time": 0.309667354,
                        "test": [
                          0.062264152
                        ]
                      },
                      {
                        "learn": [
                          0.009790896914
                        ],
                        "iteration": 967,
                        "passed_time": 9.079115041,
                        "remaining_time": 0.3001360344,
                        "test": [
                          0.06225282682
                        ]
                      },
                      {
                        "learn": [
                          0.009776200209
                        ],
                        "iteration": 968,
                        "passed_time": 9.0849004,
                        "remaining_time": 0.2906418085,
                        "test": [
                          0.0622486522
                        ]
                      },
                      {
                        "learn": [
                          0.009769095342
                        ],
                        "iteration": 969,
                        "passed_time": 9.09186434,
                        "remaining_time": 0.2811916806,
                        "test": [
                          0.06225173106
                        ]
                      },
                      {
                        "learn": [
                          0.009761436047
                        ],
                        "iteration": 970,
                        "passed_time": 9.105408574,
                        "remaining_time": 0.2719432015,
                        "test": [
                          0.06225052751
                        ]
                      },
                      {
                        "learn": [
                          0.009759298491
                        ],
                        "iteration": 971,
                        "passed_time": 9.112988033,
                        "remaining_time": 0.2625140586,
                        "test": [
                          0.06224957973
                        ]
                      },
                      {
                        "learn": [
                          0.009751786877
                        ],
                        "iteration": 972,
                        "passed_time": 9.120990536,
                        "remaining_time": 0.2531004568,
                        "test": [
                          0.06225826574
                        ]
                      },
                      {
                        "learn": [
                          0.009748510558
                        ],
                        "iteration": 973,
                        "passed_time": 9.129305415,
                        "remaining_time": 0.2436980912,
                        "test": [
                          0.06226680692
                        ]
                      },
                      {
                        "learn": [
                          0.009744908702
                        ],
                        "iteration": 974,
                        "passed_time": 9.137499656,
                        "remaining_time": 0.234294863,
                        "test": [
                          0.06226716392
                        ]
                      },
                      {
                        "learn": [
                          0.00974489365
                        ],
                        "iteration": 975,
                        "passed_time": 9.155164352,
                        "remaining_time": 0.2251269923,
                        "test": [
                          0.06226713858
                        ]
                      },
                      {
                        "learn": [
                          0.009740044216
                        ],
                        "iteration": 976,
                        "passed_time": 9.165475528,
                        "remaining_time": 0.2157686153,
                        "test": [
                          0.06226424047
                        ]
                      },
                      {
                        "learn": [
                          0.009728161299
                        ],
                        "iteration": 977,
                        "passed_time": 9.172893844,
                        "remaining_time": 0.2063432153,
                        "test": [
                          0.06227234004
                        ]
                      },
                      {
                        "learn": [
                          0.009707491936
                        ],
                        "iteration": 978,
                        "passed_time": 9.180664351,
                        "remaining_time": 0.1969294702,
                        "test": [
                          0.06227120525
                        ]
                      },
                      {
                        "learn": [
                          0.009707458024
                        ],
                        "iteration": 979,
                        "passed_time": 9.19124916,
                        "remaining_time": 0.1875765135,
                        "test": [
                          0.0622711321
                        ]
                      },
                      {
                        "learn": [
                          0.009707279407
                        ],
                        "iteration": 980,
                        "passed_time": 9.199603976,
                        "remaining_time": 0.1781778548,
                        "test": [
                          0.06227134939
                        ]
                      },
                      {
                        "learn": [
                          0.009703279121
                        ],
                        "iteration": 981,
                        "passed_time": 9.214181221,
                        "remaining_time": 0.1688953788,
                        "test": [
                          0.06227488791
                        ]
                      },
                      {
                        "learn": [
                          0.009679402982
                        ],
                        "iteration": 982,
                        "passed_time": 9.238159267,
                        "remaining_time": 0.1597647076,
                        "test": [
                          0.06227887638
                        ]
                      },
                      {
                        "learn": [
                          0.009669572865
                        ],
                        "iteration": 983,
                        "passed_time": 9.263229638,
                        "remaining_time": 0.1506216201,
                        "test": [
                          0.06228740146
                        ]
                      },
                      {
                        "learn": [
                          0.009663103531
                        ],
                        "iteration": 984,
                        "passed_time": 9.281969912,
                        "remaining_time": 0.1413497956,
                        "test": [
                          0.06227219734
                        ]
                      },
                      {
                        "learn": [
                          0.009654051967
                        ],
                        "iteration": 985,
                        "passed_time": 9.307695953,
                        "remaining_time": 0.1321579547,
                        "test": [
                          0.06227882722
                        ]
                      },
                      {
                        "learn": [
                          0.009631882506
                        ],
                        "iteration": 986,
                        "passed_time": 9.339759927,
                        "remaining_time": 0.1230160882,
                        "test": [
                          0.06227515239
                        ]
                      },
                      {
                        "learn": [
                          0.009630181989
                        ],
                        "iteration": 987,
                        "passed_time": 9.358767683,
                        "remaining_time": 0.1136692431,
                        "test": [
                          0.06227163495
                        ]
                      },
                      {
                        "learn": [
                          0.009629768044
                        ],
                        "iteration": 988,
                        "passed_time": 9.391407,
                        "remaining_time": 0.1044544762,
                        "test": [
                          0.06227227491
                        ]
                      },
                      {
                        "learn": [
                          0.009589692642
                        ],
                        "iteration": 989,
                        "passed_time": 9.407692384,
                        "remaining_time": 0.09502719579,
                        "test": [
                          0.06229387443
                        ]
                      },
                      {
                        "learn": [
                          0.009580157273
                        ],
                        "iteration": 990,
                        "passed_time": 9.420967015,
                        "remaining_time": 0.08555873172,
                        "test": [
                          0.06230067198
                        ]
                      },
                      {
                        "learn": [
                          0.009578887703
                        ],
                        "iteration": 991,
                        "passed_time": 9.428516624,
                        "remaining_time": 0.07603642439,
                        "test": [
                          0.06229572269
                        ]
                      },
                      {
                        "learn": [
                          0.009572601353
                        ],
                        "iteration": 992,
                        "passed_time": 9.455369015,
                        "remaining_time": 0.06665416224,
                        "test": [
                          0.0622980181
                        ]
                      },
                      {
                        "learn": [
                          0.009569989215
                        ],
                        "iteration": 993,
                        "passed_time": 9.47074303,
                        "remaining_time": 0.05716746296,
                        "test": [
                          0.06229703318
                        ]
                      },
                      {
                        "learn": [
                          0.009552650571
                        ],
                        "iteration": 994,
                        "passed_time": 9.487487565,
                        "remaining_time": 0.04767581691,
                        "test": [
                          0.06228375621
                        ]
                      },
                      {
                        "learn": [
                          0.009542422524
                        ],
                        "iteration": 995,
                        "passed_time": 9.511777982,
                        "remaining_time": 0.03819991158,
                        "test": [
                          0.06228454673
                        ]
                      },
                      {
                        "learn": [
                          0.009537017464
                        ],
                        "iteration": 996,
                        "passed_time": 9.527443077,
                        "remaining_time": 0.02866833423,
                        "test": [
                          0.06228643069
                        ]
                      },
                      {
                        "learn": [
                          0.009526523278
                        ],
                        "iteration": 997,
                        "passed_time": 9.562106368,
                        "remaining_time": 0.01916253781,
                        "test": [
                          0.06229226132
                        ]
                      },
                      {
                        "learn": [
                          0.009507211774
                        ],
                        "iteration": 998,
                        "passed_time": 9.572894393,
                        "remaining_time": 0.00958247687,
                        "test": [
                          0.06229615194
                        ]
                      },
                      {
                        "learn": [
                          0.009506478733
                        ],
                        "iteration": 999,
                        "passed_time": 9.583846655,
                        "remaining_time": 0,
                        "test": [
                          0.06229546493
                        ]
                      }
                    ],
                    "meta": {
                      "test_sets": [
                        "test"
                      ],
                      "test_metrics": [
                        {
                          "best_value": "Min",
                          "name": "RMSE"
                        }
                      ],
                      "learn_metrics": [
                        {
                          "best_value": "Min",
                          "name": "RMSE"
                        }
                      ],
                      "launch_mode": "Train",
                      "parameters": "",
                      "iteration_count": 1000,
                      "learn_sets": [
                        "learn"
                      ],
                      "name": "experiment"
                    }
                  }
                }
              }
            },
            "layout": "IPY_MODEL_895d3eb6e43c4314a079d62e8b81f977"
          }
        }
      }
    }
  },
  "cells": [
    {
      "cell_type": "markdown",
      "metadata": {
        "id": "view-in-github",
        "colab_type": "text"
      },
      "source": [
        "<a href=\"https://colab.research.google.com/github/Liang130520/Tibame-TeamProject/blob/main/Catboost%E9%A9%97%E8%AD%89.ipynb\" target=\"_parent\"><img src=\"https://colab.research.google.com/assets/colab-badge.svg\" alt=\"Open In Colab\"/></a>"
      ]
    },
    {
      "cell_type": "code",
      "source": [
        "!pip install catboost"
      ],
      "metadata": {
        "id": "BlpHpFCzjl4K",
        "outputId": "20f8590d-547f-4f62-e1a0-3e9ff35231c2",
        "colab": {
          "base_uri": "https://localhost:8080/"
        }
      },
      "execution_count": 201,
      "outputs": [
        {
          "output_type": "stream",
          "name": "stdout",
          "text": [
            "Looking in indexes: https://pypi.org/simple, https://us-python.pkg.dev/colab-wheels/public/simple/\n",
            "Requirement already satisfied: catboost in /usr/local/lib/python3.8/dist-packages (1.1.1)\n",
            "Requirement already satisfied: six in /usr/local/lib/python3.8/dist-packages (from catboost) (1.15.0)\n",
            "Requirement already satisfied: pandas>=0.24.0 in /usr/local/lib/python3.8/dist-packages (from catboost) (1.3.5)\n",
            "Requirement already satisfied: numpy>=1.16.0 in /usr/local/lib/python3.8/dist-packages (from catboost) (1.21.6)\n",
            "Requirement already satisfied: graphviz in /usr/local/lib/python3.8/dist-packages (from catboost) (0.10.1)\n",
            "Requirement already satisfied: scipy in /usr/local/lib/python3.8/dist-packages (from catboost) (1.7.3)\n",
            "Requirement already satisfied: matplotlib in /usr/local/lib/python3.8/dist-packages (from catboost) (3.2.2)\n",
            "Requirement already satisfied: plotly in /usr/local/lib/python3.8/dist-packages (from catboost) (5.5.0)\n",
            "Requirement already satisfied: pytz>=2017.3 in /usr/local/lib/python3.8/dist-packages (from pandas>=0.24.0->catboost) (2022.6)\n",
            "Requirement already satisfied: python-dateutil>=2.7.3 in /usr/local/lib/python3.8/dist-packages (from pandas>=0.24.0->catboost) (2.8.2)\n",
            "Requirement already satisfied: kiwisolver>=1.0.1 in /usr/local/lib/python3.8/dist-packages (from matplotlib->catboost) (1.4.4)\n",
            "Requirement already satisfied: cycler>=0.10 in /usr/local/lib/python3.8/dist-packages (from matplotlib->catboost) (0.11.0)\n",
            "Requirement already satisfied: pyparsing!=2.0.4,!=2.1.2,!=2.1.6,>=2.0.1 in /usr/local/lib/python3.8/dist-packages (from matplotlib->catboost) (3.0.9)\n",
            "Requirement already satisfied: tenacity>=6.2.0 in /usr/local/lib/python3.8/dist-packages (from plotly->catboost) (8.1.0)\n"
          ]
        }
      ]
    },
    {
      "cell_type": "code",
      "execution_count": 202,
      "metadata": {
        "colab": {
          "base_uri": "https://localhost:8080/"
        },
        "id": "8cyDCuoWo9Bl",
        "outputId": "2ab2eea3-02fe-49c5-a9c5-48dd3c69fd2b"
      },
      "outputs": [
        {
          "output_type": "stream",
          "name": "stdout",
          "text": [
            "Drive already mounted at /content/drive; to attempt to forcibly remount, call drive.mount(\"/content/drive\", force_remount=True).\n",
            "Drive already mounted at /content/drive; to attempt to forcibly remount, call drive.mount(\"/content/drive\", force_remount=True).\n"
          ]
        },
        {
          "output_type": "execute_result",
          "data": {
            "text/plain": [
              "['raw_data',\n",
              " '宗庭',\n",
              " '博翔',\n",
              " '俊佑',\n",
              " '聖評',\n",
              " '柏崴',\n",
              " '冠文',\n",
              " '設施座標表.xlsx',\n",
              " '設施座標表Ver2.xlsx',\n",
              " '聖評台北市房屋交易初始版Ver1.csv',\n",
              " '台北市房屋交易_test.csv',\n",
              " '台北市房屋交易_finish.csv',\n",
              " '.ipynb_checkpoints',\n",
              " 'catboost_info']"
            ]
          },
          "metadata": {},
          "execution_count": 202
        }
      ],
      "source": [
        "from pandas.core.dtypes.cast import maybe_infer_to_datetimelike\n",
        "\"\"\"\n",
        "使用方式：\n",
        "1. 點選上方執行階段 -> 全部執行\n",
        "2. 允許連接雲端\n",
        "3. 輸入名字後兩字\n",
        "4. 將自己名字資料夾中的r2_score最高分數檔案留下，其餘刪除\n",
        "5. 將r2_score最高分數的檔案名稱(EX：台北市房屋交易_公園100公尺.csv)複製\n",
        "6. 在「特徵-公尺內設施數量」程式的第四格程式碼中的str(name)+\"/後面貼上\n",
        "\n",
        "\"\"\"\n",
        "\n",
        "import pandas as pd\n",
        "import numpy as np\n",
        "from sklearn.model_selection import GridSearchCV\n",
        "from sklearn.tree import DecisionTreeRegressor\n",
        "from sklearn.model_selection import train_test_split\n",
        "import glob\n",
        "import os\n",
        "from catboost import CatBoostRegressor\n",
        "\n",
        "from google.colab import drive\n",
        "drive.mount('/content/drive')\n",
        "\n",
        "drive.mount('/content/drive')\n",
        "os.chdir('/content/drive/MyDrive/程式語言/特徵檔案') #切換該目錄\n",
        "os.listdir()"
      ]
    },
    {
      "cell_type": "code",
      "source": [
        "# 原始檔案\n",
        "\n",
        "# name = input(\"請輸入名字後兩字：\")\n",
        "name = \"博翔\"\n",
        "f = pd.read_csv(str(name) + \"/台北市房屋交易_for_model_1126_加設施_3.csv\", encoding = \"utf-8\")  # 讀取csv檔案\n",
        "\n",
        "pd.set_option('display.max_columns', 100)\n",
        "\n",
        "x = f.drop([\"土地位置建物門牌\",\"總價元\",\"單價元平方公尺\",\"車位總價元\",\"總價元_正規化\",\"單價元平方公尺_正規化\",\"車位總價元_正規化\"], axis = 1)  # 特徵(去除總價元、單價元平方公尺、車位總價元)\n",
        "y = f[\"總價元_正規化\"]  # 目標(取得總價元)\n",
        "\n",
        "# x_train, x_test, y_train, y_test = train_test_split(x, y, test_size=0.1)  # 切分資料"
      ],
      "metadata": {
        "id": "EPDqlIUqoy_S"
      },
      "execution_count": 203,
      "outputs": []
    },
    {
      "cell_type": "code",
      "source": [
        "from sklearn.model_selection import train_test_split\n",
        "\n",
        "x_train, x_validation, y_train, y_validation = train_test_split(x, y, train_size=0.1, random_state=1234)\n",
        "categorical_features_indices = np.where(x.dtypes != np.float)[0]"
      ],
      "metadata": {
        "id": "XJ6BEys4yIM3",
        "outputId": "a9283df2-7fbc-4c27-c939-4801f30c55f5",
        "colab": {
          "base_uri": "https://localhost:8080/"
        }
      },
      "execution_count": 204,
      "outputs": [
        {
          "output_type": "stream",
          "name": "stderr",
          "text": [
            "<ipython-input-204-f4e107fb344a>:4: DeprecationWarning: `np.float` is a deprecated alias for the builtin `float`. To silence this warning, use `float` by itself. Doing this will not modify any behavior and is safe. If you specifically wanted the numpy scalar type, use `np.float64` here.\n",
            "Deprecated in NumPy 1.20; for more details and guidance: https://numpy.org/devdocs/release/1.20.0-notes.html#deprecations\n",
            "  categorical_features_indices = np.where(x.dtypes != np.float)[0]\n"
          ]
        }
      ]
    },
    {
      "cell_type": "code",
      "source": [
        "from catboost import CatBoostRegressor, Pool, EShapCalcType, EFeaturesSelectionAlgorithm\n",
        "\n",
        "# feature_names = ['F{}'.format(i) for i in range(x_train.shape[1])]\n",
        "train_pool = Pool(x_train, y_train, feature_names=f.columns[:86].tolist())\n",
        "test_pool = Pool(x_test, y_test, feature_names=f.columns[:86].tolist())\n",
        "\n",
        "model = CatBoostRegressor(random_state=42,\n",
        "                          loss_function='RMSE',\n",
        "                          eval_metric='RMSE',\n",
        "                          learning_rate=0.1,\n",
        "                          use_best_model=True,\n",
        "                          depth=3)\n",
        "summary = model.select_features(\n",
        "    train_pool,\n",
        "    eval_set=test_pool,\n",
        "    features_for_select='0-12',\n",
        "    num_features_to_select=3,\n",
        "    steps=2,\n",
        "    algorithm=EFeaturesSelectionAlgorithm.RecursiveByShapValues,\n",
        "    shap_calc_type=EShapCalcType.Regular,\n",
        "    train_final_model=True,\n",
        "    logging_level='Silent',\n",
        "    plot=False\n",
        ")\n",
        "summary"
      ],
      "metadata": {
        "id": "tjvDueqWvVyT",
        "outputId": "d5593782-08c6-4582-ec21-b775f9ca0306",
        "colab": {
          "base_uri": "https://localhost:8080/"
        }
      },
      "execution_count": 205,
      "outputs": [
        {
          "output_type": "execute_result",
          "data": {
            "text/plain": [
              "{'selected_features': [4, 5, 10],\n",
              " 'eliminated_features_names': ['建物移轉總面積平方公尺',\n",
              "  '建物現況格局-廳',\n",
              "  '土地位置建物門牌',\n",
              "  '土地移轉總面積平方公尺',\n",
              "  '交易年月日',\n",
              "  '建物現況格局-衛',\n",
              "  '單價元平方公尺',\n",
              "  '車位移轉總面積(平方公尺)',\n",
              "  '建物現況格局-房',\n",
              "  '移轉層次'],\n",
              " 'loss_graph': {'main_indices': [0, 7, 10],\n",
              "  'removed_features_count': [0, 1, 2, 3, 4, 5, 6, 7, 8, 9, 10],\n",
              "  'loss_values': [0.057023494533990374,\n",
              "   0.05707053262414149,\n",
              "   0.05700671617095353,\n",
              "   0.056871085565651035,\n",
              "   0.05668359673209354,\n",
              "   0.056402819380121386,\n",
              "   0.056144925241126555,\n",
              "   0.055758608396204404,\n",
              "   0.054629657565135964,\n",
              "   0.0548626256346135,\n",
              "   0.056729134751904234]},\n",
              " 'eliminated_features': [6, 8, 0, 1, 2, 9, 11, 12, 7, 3],\n",
              " 'selected_features_names': ['總樓層數', '建築完成年月', '總價元']}"
            ]
          },
          "metadata": {},
          "execution_count": 205
        }
      ]
    },
    {
      "cell_type": "code",
      "source": [
        "from catboost import CatBoostRegressor\n",
        "\n",
        "model.fit(x_train, y_train,cat_features=categorical_features_indices,eval_set=(x_test, y_test), verbose=0, plot=True)"
      ],
      "metadata": {
        "id": "3Ec7jB7rx8Y-",
        "outputId": "0859a9df-0f8b-4616-d6da-6c1c01093fcb",
        "colab": {
          "base_uri": "https://localhost:8080/",
          "height": 35,
          "referenced_widgets": [
            "926730e50eaf46dda4a117b3963be450"
          ]
        }
      },
      "execution_count": 206,
      "outputs": [
        {
          "output_type": "display_data",
          "data": {
            "text/plain": [
              "MetricVisualizer(layout=Layout(align_self='stretch', height='500px'))"
            ],
            "application/vnd.jupyter.widget-view+json": {
              "version_major": 2,
              "version_minor": 0,
              "model_id": "926730e50eaf46dda4a117b3963be450"
            }
          },
          "metadata": {}
        },
        {
          "output_type": "execute_result",
          "data": {
            "text/plain": [
              "<catboost.core.CatBoostRegressor at 0x7f957edf6970>"
            ]
          },
          "metadata": {},
          "execution_count": 206
        }
      ]
    },
    {
      "cell_type": "code",
      "source": [
        "from sklearn.model_selection import train_test_split\n",
        "from sklearn.metrics import mean_squared_error\n",
        "from sklearn.metrics import r2_score\n",
        "from sklearn.inspection import permutation_importance\n",
        "\n",
        "submission = pd.DataFrame()\n",
        "pre = model.predict(x_test)\n",
        "rmse = (np.sqrt(mean_squared_error(y_test, pre)))\n",
        "r2 = r2_score(y_test, pre)\n",
        "print(\"Testing performance\")\n",
        "print(\"RMSE: {}\".format(rmse))\n",
        "print(\"R2: {}\".format(r2))\n",
        "model.get_best_score()\n",
        "# submission['Item_Identifier'] = x_test['Item_Identifier']\n",
        "# submission['Outlet_Identifier'] = x_test['Outlet_Identifier']\n",
        "# submission['Item_Outlet_Sales'] = model.predict(x_test)"
      ],
      "metadata": {
        "id": "9O3_wl9XzJK7",
        "outputId": "3dff1544-6136-4bdf-e19b-a5bac5da8ab8",
        "colab": {
          "base_uri": "https://localhost:8080/"
        }
      },
      "execution_count": 207,
      "outputs": [
        {
          "output_type": "stream",
          "name": "stdout",
          "text": [
            "Testing performance\n",
            "RMSE: 0.062139012249002805\n",
            "R2: 0.8418826668917577\n"
          ]
        },
        {
          "output_type": "execute_result",
          "data": {
            "text/plain": [
              "{'learn': {'RMSE': 0.009506478733220271},\n",
              " 'validation': {'RMSE': 0.06213901140398945}}"
            ]
          },
          "metadata": {},
          "execution_count": 207
        }
      ]
    },
    {
      "cell_type": "code",
      "source": [
        "# model.predict(x_test,\n",
        "#         prediction_type=None,\n",
        "#         ntree_start=0,\n",
        "#         ntree_end=0,\n",
        "#         thread_count=-1,\n",
        "#         verbose=None)\n",
        "# model.get_best_score()"
      ],
      "metadata": {
        "id": "2UsbHvbR43qu"
      },
      "execution_count": 208,
      "outputs": []
    }
  ]
}