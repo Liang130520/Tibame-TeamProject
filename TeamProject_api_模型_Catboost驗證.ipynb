{
  "nbformat": 4,
  "nbformat_minor": 0,
  "metadata": {
    "colab": {
      "provenance": [],
      "authorship_tag": "ABX9TyOo5UJr0bR/exIKzNbbb8s3",
      "include_colab_link": true
    },
    "kernelspec": {
      "name": "python3",
      "display_name": "Python 3"
    },
    "language_info": {
      "name": "python"
    },
    "widgets": {
      "application/vnd.jupyter.widget-state+json": {
        "416300a95eb7422d9a47b3422623b782": {
          "model_module": "catboost-widget",
          "model_name": "CatboostWidgetModel",
          "model_module_version": "^1.0.0",
          "state": {
            "_dom_classes": [],
            "_model_module": "catboost-widget",
            "_model_module_version": "^1.0.0",
            "_model_name": "CatboostWidgetModel",
            "_view_count": null,
            "_view_module": "catboost-widget",
            "_view_module_version": "^1.0.0",
            "_view_name": "CatboostWidgetView",
            "data": {
              "catboost_info": {
                "path": "catboost_info",
                "name": "catboost_info",
                "content": {
                  "passed_iterations": 999,
                  "total_iterations": 1000,
                  "data": {
                    "iterations": [
                      {
                        "learn": [
                          0.1540075354
                        ],
                        "iteration": 0,
                        "passed_time": 0.006618342539,
                        "remaining_time": 6.611724196,
                        "test": [
                          0.1497376439
                        ]
                      },
                      {
                        "learn": [
                          0.1450842761
                        ],
                        "iteration": 1,
                        "passed_time": 0.01465787455,
                        "remaining_time": 7.314279399,
                        "test": [
                          0.1409189057
                        ]
                      },
                      {
                        "learn": [
                          0.1391923104
                        ],
                        "iteration": 2,
                        "passed_time": 0.02018326853,
                        "remaining_time": 6.707572907,
                        "test": [
                          0.1352011721
                        ]
                      },
                      {
                        "learn": [
                          0.1337625098
                        ],
                        "iteration": 3,
                        "passed_time": 0.0289591243,
                        "remaining_time": 7.210821951,
                        "test": [
                          0.1298761176
                        ]
                      },
                      {
                        "learn": [
                          0.1293978202
                        ],
                        "iteration": 4,
                        "passed_time": 0.03752511079,
                        "remaining_time": 7.467497047,
                        "test": [
                          0.1256380403
                        ]
                      },
                      {
                        "learn": [
                          0.1241531711
                        ],
                        "iteration": 5,
                        "passed_time": 0.04420100105,
                        "remaining_time": 7.322632507,
                        "test": [
                          0.1205955133
                        ]
                      },
                      {
                        "learn": [
                          0.1195983212
                        ],
                        "iteration": 6,
                        "passed_time": 0.05157527627,
                        "remaining_time": 7.316321333,
                        "test": [
                          0.1162558828
                        ]
                      },
                      {
                        "learn": [
                          0.1156929174
                        ],
                        "iteration": 7,
                        "passed_time": 0.05843843343,
                        "remaining_time": 7.246365745,
                        "test": [
                          0.1124806109
                        ]
                      },
                      {
                        "learn": [
                          0.11227698
                        ],
                        "iteration": 8,
                        "passed_time": 0.06628185448,
                        "remaining_time": 7.298368643,
                        "test": [
                          0.1089120029
                        ]
                      },
                      {
                        "learn": [
                          0.1093898392
                        ],
                        "iteration": 9,
                        "passed_time": 0.07144033242,
                        "remaining_time": 7.07259291,
                        "test": [
                          0.1063146804
                        ]
                      },
                      {
                        "learn": [
                          0.1063056149
                        ],
                        "iteration": 10,
                        "passed_time": 0.07830889837,
                        "remaining_time": 7.040681863,
                        "test": [
                          0.1033565649
                        ]
                      },
                      {
                        "learn": [
                          0.1035227451
                        ],
                        "iteration": 11,
                        "passed_time": 0.08473462522,
                        "remaining_time": 6.976484143,
                        "test": [
                          0.1006237117
                        ]
                      },
                      {
                        "learn": [
                          0.1008929658
                        ],
                        "iteration": 12,
                        "passed_time": 0.09092298157,
                        "remaining_time": 6.903152524,
                        "test": [
                          0.09821513248
                        ]
                      },
                      {
                        "learn": [
                          0.09860854791
                        ],
                        "iteration": 13,
                        "passed_time": 0.09613682917,
                        "remaining_time": 6.77077954,
                        "test": [
                          0.09600732982
                        ]
                      },
                      {
                        "learn": [
                          0.09625298281
                        ],
                        "iteration": 14,
                        "passed_time": 0.1204292565,
                        "remaining_time": 7.908187842,
                        "test": [
                          0.09378863599
                        ]
                      },
                      {
                        "learn": [
                          0.09432383195
                        ],
                        "iteration": 15,
                        "passed_time": 0.1409762803,
                        "remaining_time": 8.670041239,
                        "test": [
                          0.0920425761
                        ]
                      },
                      {
                        "learn": [
                          0.09223595234
                        ],
                        "iteration": 16,
                        "passed_time": 0.1650617082,
                        "remaining_time": 9.544450537,
                        "test": [
                          0.09019835391
                        ]
                      },
                      {
                        "learn": [
                          0.09021774761
                        ],
                        "iteration": 17,
                        "passed_time": 0.1888184333,
                        "remaining_time": 10.30109453,
                        "test": [
                          0.08857256723
                        ]
                      },
                      {
                        "learn": [
                          0.08845218315
                        ],
                        "iteration": 18,
                        "passed_time": 0.2023731563,
                        "remaining_time": 10.44884559,
                        "test": [
                          0.08678555551
                        ]
                      },
                      {
                        "learn": [
                          0.0863425343
                        ],
                        "iteration": 19,
                        "passed_time": 0.2123886306,
                        "remaining_time": 10.4070429,
                        "test": [
                          0.08499677216
                        ]
                      },
                      {
                        "learn": [
                          0.08481312668
                        ],
                        "iteration": 20,
                        "passed_time": 0.2232920649,
                        "remaining_time": 10.40966341,
                        "test": [
                          0.083943029
                        ]
                      },
                      {
                        "learn": [
                          0.08360575794
                        ],
                        "iteration": 21,
                        "passed_time": 0.232666563,
                        "remaining_time": 10.3430863,
                        "test": [
                          0.08282662884
                        ]
                      },
                      {
                        "learn": [
                          0.08263865587
                        ],
                        "iteration": 22,
                        "passed_time": 0.2422778925,
                        "remaining_time": 10.29154352,
                        "test": [
                          0.08200206179
                        ]
                      },
                      {
                        "learn": [
                          0.08134774357
                        ],
                        "iteration": 23,
                        "passed_time": 0.2554138205,
                        "remaining_time": 10.3868287,
                        "test": [
                          0.08093081578
                        ]
                      },
                      {
                        "learn": [
                          0.08001628271
                        ],
                        "iteration": 24,
                        "passed_time": 0.2684473977,
                        "remaining_time": 10.46944851,
                        "test": [
                          0.07983286401
                        ]
                      },
                      {
                        "learn": [
                          0.07949705479
                        ],
                        "iteration": 25,
                        "passed_time": 0.2809114156,
                        "remaining_time": 10.5233738,
                        "test": [
                          0.07924683019
                        ]
                      },
                      {
                        "learn": [
                          0.07830872459
                        ],
                        "iteration": 26,
                        "passed_time": 0.2949212987,
                        "remaining_time": 10.62808977,
                        "test": [
                          0.07810816194
                        ]
                      },
                      {
                        "learn": [
                          0.07722099463
                        ],
                        "iteration": 27,
                        "passed_time": 0.3041264253,
                        "remaining_time": 10.55753162,
                        "test": [
                          0.07739374282
                        ]
                      },
                      {
                        "learn": [
                          0.07636119565
                        ],
                        "iteration": 28,
                        "passed_time": 0.3184267642,
                        "remaining_time": 10.66180648,
                        "test": [
                          0.07667087393
                        ]
                      },
                      {
                        "learn": [
                          0.07590272597
                        ],
                        "iteration": 29,
                        "passed_time": 0.3365239519,
                        "remaining_time": 10.88094111,
                        "test": [
                          0.0762897244
                        ]
                      },
                      {
                        "learn": [
                          0.07480557464
                        ],
                        "iteration": 30,
                        "passed_time": 0.3542880326,
                        "remaining_time": 11.07435818,
                        "test": [
                          0.07556506644
                        ]
                      },
                      {
                        "learn": [
                          0.07403053332
                        ],
                        "iteration": 31,
                        "passed_time": 0.3749341718,
                        "remaining_time": 11.3417587,
                        "test": [
                          0.0751950868
                        ]
                      },
                      {
                        "learn": [
                          0.07329134607
                        ],
                        "iteration": 32,
                        "passed_time": 0.3896176049,
                        "remaining_time": 11.41697648,
                        "test": [
                          0.0745690223
                        ]
                      },
                      {
                        "learn": [
                          0.07296625436
                        ],
                        "iteration": 33,
                        "passed_time": 0.4066695769,
                        "remaining_time": 11.55420033,
                        "test": [
                          0.07433822734
                        ]
                      },
                      {
                        "learn": [
                          0.07225747468
                        ],
                        "iteration": 34,
                        "passed_time": 0.4174315854,
                        "remaining_time": 11.50918514,
                        "test": [
                          0.07382621739
                        ]
                      },
                      {
                        "learn": [
                          0.07193614386
                        ],
                        "iteration": 35,
                        "passed_time": 0.4288743598,
                        "remaining_time": 11.4843023,
                        "test": [
                          0.07358089955
                        ]
                      },
                      {
                        "learn": [
                          0.07131324901
                        ],
                        "iteration": 36,
                        "passed_time": 0.4408430115,
                        "remaining_time": 11.47383297,
                        "test": [
                          0.07318131443
                        ]
                      },
                      {
                        "learn": [
                          0.07051189413
                        ],
                        "iteration": 37,
                        "passed_time": 0.4512780554,
                        "remaining_time": 11.42446024,
                        "test": [
                          0.07265880944
                        ]
                      },
                      {
                        "learn": [
                          0.06989027007
                        ],
                        "iteration": 38,
                        "passed_time": 0.4646045782,
                        "remaining_time": 11.44833332,
                        "test": [
                          0.07225746095
                        ]
                      },
                      {
                        "learn": [
                          0.06912637836
                        ],
                        "iteration": 39,
                        "passed_time": 0.4746881188,
                        "remaining_time": 11.39251485,
                        "test": [
                          0.0718340745
                        ]
                      },
                      {
                        "learn": [
                          0.068611051
                        ],
                        "iteration": 40,
                        "passed_time": 0.4853349455,
                        "remaining_time": 11.35210275,
                        "test": [
                          0.07160232426
                        ]
                      },
                      {
                        "learn": [
                          0.06814575968
                        ],
                        "iteration": 41,
                        "passed_time": 0.4969137033,
                        "remaining_time": 11.33436495,
                        "test": [
                          0.07134532872
                        ]
                      },
                      {
                        "learn": [
                          0.06778858674
                        ],
                        "iteration": 42,
                        "passed_time": 0.5083668899,
                        "remaining_time": 11.31411892,
                        "test": [
                          0.07115267928
                        ]
                      },
                      {
                        "learn": [
                          0.06713998342
                        ],
                        "iteration": 43,
                        "passed_time": 0.5194500906,
                        "remaining_time": 11.28623379,
                        "test": [
                          0.0706208097
                        ]
                      },
                      {
                        "learn": [
                          0.06657334152
                        ],
                        "iteration": 44,
                        "passed_time": 0.5307378918,
                        "remaining_time": 11.26343748,
                        "test": [
                          0.07029810709
                        ]
                      },
                      {
                        "learn": [
                          0.06650722228
                        ],
                        "iteration": 45,
                        "passed_time": 0.5493195054,
                        "remaining_time": 11.39240887,
                        "test": [
                          0.0702753607
                        ]
                      },
                      {
                        "learn": [
                          0.06618813491
                        ],
                        "iteration": 46,
                        "passed_time": 0.5616412912,
                        "remaining_time": 11.38817341,
                        "test": [
                          0.06994724237
                        ]
                      },
                      {
                        "learn": [
                          0.06569849683
                        ],
                        "iteration": 47,
                        "passed_time": 0.5712157191,
                        "remaining_time": 11.32911176,
                        "test": [
                          0.06958382715
                        ]
                      },
                      {
                        "learn": [
                          0.06512516137
                        ],
                        "iteration": 48,
                        "passed_time": 0.581583943,
                        "remaining_time": 11.28747612,
                        "test": [
                          0.06925049076
                        ]
                      },
                      {
                        "learn": [
                          0.06491352555
                        ],
                        "iteration": 49,
                        "passed_time": 0.5909498634,
                        "remaining_time": 11.2280474,
                        "test": [
                          0.06918459469
                        ]
                      },
                      {
                        "learn": [
                          0.06440291611
                        ],
                        "iteration": 50,
                        "passed_time": 0.6020291434,
                        "remaining_time": 11.20246386,
                        "test": [
                          0.06888500557
                        ]
                      },
                      {
                        "learn": [
                          0.06408292141
                        ],
                        "iteration": 51,
                        "passed_time": 0.6158491744,
                        "remaining_time": 11.22740418,
                        "test": [
                          0.06866541705
                        ]
                      },
                      {
                        "learn": [
                          0.06391072965
                        ],
                        "iteration": 52,
                        "passed_time": 0.626544802,
                        "remaining_time": 11.19505524,
                        "test": [
                          0.06856150028
                        ]
                      },
                      {
                        "learn": [
                          0.06385299504
                        ],
                        "iteration": 53,
                        "passed_time": 0.6402538473,
                        "remaining_time": 11.21629888,
                        "test": [
                          0.06854099884
                        ]
                      },
                      {
                        "learn": [
                          0.06349842424
                        ],
                        "iteration": 54,
                        "passed_time": 0.6536951019,
                        "remaining_time": 11.23167039,
                        "test": [
                          0.06820776094
                        ]
                      },
                      {
                        "learn": [
                          0.06293245547
                        ],
                        "iteration": 55,
                        "passed_time": 0.6641908152,
                        "remaining_time": 11.19635946,
                        "test": [
                          0.06790170537
                        ]
                      },
                      {
                        "learn": [
                          0.06250869135
                        ],
                        "iteration": 56,
                        "passed_time": 0.6738146658,
                        "remaining_time": 11.14749526,
                        "test": [
                          0.06766289524
                        ]
                      },
                      {
                        "learn": [
                          0.06205443188
                        ],
                        "iteration": 57,
                        "passed_time": 0.6953772534,
                        "remaining_time": 11.29388574,
                        "test": [
                          0.0673879042
                        ]
                      },
                      {
                        "learn": [
                          0.06169370279
                        ],
                        "iteration": 58,
                        "passed_time": 0.7085677519,
                        "remaining_time": 11.30105516,
                        "test": [
                          0.06724115738
                        ]
                      },
                      {
                        "learn": [
                          0.06136013971
                        ],
                        "iteration": 59,
                        "passed_time": 0.7160544146,
                        "remaining_time": 11.21818583,
                        "test": [
                          0.06702366963
                        ]
                      },
                      {
                        "learn": [
                          0.06083856932
                        ],
                        "iteration": 60,
                        "passed_time": 0.7215761715,
                        "remaining_time": 11.10754139,
                        "test": [
                          0.06680277164
                        ]
                      },
                      {
                        "learn": [
                          0.06039777315
                        ],
                        "iteration": 61,
                        "passed_time": 0.7333011857,
                        "remaining_time": 11.09413729,
                        "test": [
                          0.06650666608
                        ]
                      },
                      {
                        "learn": [
                          0.06035126591
                        ],
                        "iteration": 62,
                        "passed_time": 0.7365461978,
                        "remaining_time": 10.95466329,
                        "test": [
                          0.06649171497
                        ]
                      },
                      {
                        "learn": [
                          0.06030706843
                        ],
                        "iteration": 63,
                        "passed_time": 0.74153055,
                        "remaining_time": 10.84488429,
                        "test": [
                          0.06647861694
                        ]
                      },
                      {
                        "learn": [
                          0.05991143852
                        ],
                        "iteration": 64,
                        "passed_time": 0.7597582968,
                        "remaining_time": 10.92883088,
                        "test": [
                          0.06627816108
                        ]
                      },
                      {
                        "learn": [
                          0.05952147473
                        ],
                        "iteration": 65,
                        "passed_time": 0.7657423899,
                        "remaining_time": 10.83641503,
                        "test": [
                          0.0661714684
                        ]
                      },
                      {
                        "learn": [
                          0.05947906827
                        ],
                        "iteration": 66,
                        "passed_time": 0.768453207,
                        "remaining_time": 10.70099764,
                        "test": [
                          0.06616003013
                        ]
                      },
                      {
                        "learn": [
                          0.05917823212
                        ],
                        "iteration": 67,
                        "passed_time": 0.7732702221,
                        "remaining_time": 10.59835069,
                        "test": [
                          0.06597607318
                        ]
                      },
                      {
                        "learn": [
                          0.05885362373
                        ],
                        "iteration": 68,
                        "passed_time": 0.7798530175,
                        "remaining_time": 10.52236463,
                        "test": [
                          0.0657792678
                        ]
                      },
                      {
                        "learn": [
                          0.0585836624
                        ],
                        "iteration": 69,
                        "passed_time": 0.7875626705,
                        "remaining_time": 10.46333262,
                        "test": [
                          0.06568137416
                        ]
                      },
                      {
                        "learn": [
                          0.05829200485
                        ],
                        "iteration": 70,
                        "passed_time": 0.7927426691,
                        "remaining_time": 10.37264704,
                        "test": [
                          0.06556121524
                        ]
                      },
                      {
                        "learn": [
                          0.05825216709
                        ],
                        "iteration": 71,
                        "passed_time": 0.7983097344,
                        "remaining_time": 10.28932547,
                        "test": [
                          0.06554874706
                        ]
                      },
                      {
                        "learn": [
                          0.05820453259
                        ],
                        "iteration": 72,
                        "passed_time": 0.803106436,
                        "remaining_time": 10.19835159,
                        "test": [
                          0.06551128052
                        ]
                      },
                      {
                        "learn": [
                          0.05785686384
                        ],
                        "iteration": 73,
                        "passed_time": 0.8100189804,
                        "remaining_time": 10.13618346,
                        "test": [
                          0.06537787487
                        ]
                      },
                      {
                        "learn": [
                          0.05781473387
                        ],
                        "iteration": 74,
                        "passed_time": 0.8141201842,
                        "remaining_time": 10.0408156,
                        "test": [
                          0.06537055552
                        ]
                      },
                      {
                        "learn": [
                          0.0574906962
                        ],
                        "iteration": 75,
                        "passed_time": 0.8208171342,
                        "remaining_time": 9.979408316,
                        "test": [
                          0.06512162144
                        ]
                      },
                      {
                        "learn": [
                          0.05732532601
                        ],
                        "iteration": 76,
                        "passed_time": 0.8255212191,
                        "remaining_time": 9.895533574,
                        "test": [
                          0.06508512667
                        ]
                      },
                      {
                        "learn": [
                          0.05729009598
                        ],
                        "iteration": 77,
                        "passed_time": 0.8316157879,
                        "remaining_time": 9.830125083,
                        "test": [
                          0.0650696813
                        ]
                      },
                      {
                        "learn": [
                          0.05703138498
                        ],
                        "iteration": 78,
                        "passed_time": 0.8383037911,
                        "remaining_time": 9.773136603,
                        "test": [
                          0.06501419579
                        ]
                      },
                      {
                        "learn": [
                          0.05672329539
                        ],
                        "iteration": 79,
                        "passed_time": 0.8423939037,
                        "remaining_time": 9.687529893,
                        "test": [
                          0.06498040262
                        ]
                      },
                      {
                        "learn": [
                          0.05644944447
                        ],
                        "iteration": 80,
                        "passed_time": 0.859496941,
                        "remaining_time": 9.751576405,
                        "test": [
                          0.06489146086
                        ]
                      },
                      {
                        "learn": [
                          0.05604107497
                        ],
                        "iteration": 81,
                        "passed_time": 0.8668779368,
                        "remaining_time": 9.704804219,
                        "test": [
                          0.06478463567
                        ]
                      },
                      {
                        "learn": [
                          0.05574893772
                        ],
                        "iteration": 82,
                        "passed_time": 0.8719197303,
                        "remaining_time": 9.633137261,
                        "test": [
                          0.0646056874
                        ]
                      },
                      {
                        "learn": [
                          0.055709498
                        ],
                        "iteration": 83,
                        "passed_time": 0.8861769852,
                        "remaining_time": 9.663549029,
                        "test": [
                          0.06460709618
                        ]
                      },
                      {
                        "learn": [
                          0.05558879002
                        ],
                        "iteration": 84,
                        "passed_time": 0.8992579171,
                        "remaining_time": 9.68024699,
                        "test": [
                          0.06450683459
                        ]
                      },
                      {
                        "learn": [
                          0.05550076505
                        ],
                        "iteration": 85,
                        "passed_time": 0.9071829818,
                        "remaining_time": 9.641456341,
                        "test": [
                          0.06450604731
                        ]
                      },
                      {
                        "learn": [
                          0.0551319245
                        ],
                        "iteration": 86,
                        "passed_time": 0.9122315231,
                        "remaining_time": 9.573188282,
                        "test": [
                          0.06428143059
                        ]
                      },
                      {
                        "learn": [
                          0.05498349883
                        ],
                        "iteration": 87,
                        "passed_time": 0.9237113618,
                        "remaining_time": 9.573008659,
                        "test": [
                          0.06425459085
                        ]
                      },
                      {
                        "learn": [
                          0.05482616768
                        ],
                        "iteration": 88,
                        "passed_time": 0.9318708517,
                        "remaining_time": 9.538588156,
                        "test": [
                          0.06424091183
                        ]
                      },
                      {
                        "learn": [
                          0.05476265664
                        ],
                        "iteration": 89,
                        "passed_time": 0.9398121074,
                        "remaining_time": 9.502544641,
                        "test": [
                          0.06423562925
                        ]
                      },
                      {
                        "learn": [
                          0.0547214213
                        ],
                        "iteration": 90,
                        "passed_time": 0.9490634341,
                        "remaining_time": 9.480205072,
                        "test": [
                          0.06423337113
                        ]
                      },
                      {
                        "learn": [
                          0.0545440694
                        ],
                        "iteration": 91,
                        "passed_time": 0.9592857334,
                        "remaining_time": 9.467733108,
                        "test": [
                          0.06410050125
                        ]
                      },
                      {
                        "learn": [
                          0.05436912397
                        ],
                        "iteration": 92,
                        "passed_time": 0.9906829308,
                        "remaining_time": 9.661821702,
                        "test": [
                          0.06409301149
                        ]
                      },
                      {
                        "learn": [
                          0.0541296978
                        ],
                        "iteration": 93,
                        "passed_time": 0.9958823338,
                        "remaining_time": 9.598610579,
                        "test": [
                          0.06401997145
                        ]
                      },
                      {
                        "learn": [
                          0.05391839277
                        ],
                        "iteration": 94,
                        "passed_time": 1.006443366,
                        "remaining_time": 9.58769733,
                        "test": [
                          0.06389384871
                        ]
                      },
                      {
                        "learn": [
                          0.05362291774
                        ],
                        "iteration": 95,
                        "passed_time": 1.03325505,
                        "remaining_time": 9.72981839,
                        "test": [
                          0.06379421989
                        ]
                      },
                      {
                        "learn": [
                          0.05342807881
                        ],
                        "iteration": 96,
                        "passed_time": 1.048658418,
                        "remaining_time": 9.762253108,
                        "test": [
                          0.06352435299
                        ]
                      },
                      {
                        "learn": [
                          0.05315179726
                        ],
                        "iteration": 97,
                        "passed_time": 1.055059945,
                        "remaining_time": 9.710857864,
                        "test": [
                          0.06346467748
                        ]
                      },
                      {
                        "learn": [
                          0.05291835511
                        ],
                        "iteration": 98,
                        "passed_time": 1.061339284,
                        "remaining_time": 9.659259544,
                        "test": [
                          0.06347515323
                        ]
                      },
                      {
                        "learn": [
                          0.05279902855
                        ],
                        "iteration": 99,
                        "passed_time": 1.069447388,
                        "remaining_time": 9.625026488,
                        "test": [
                          0.06342392273
                        ]
                      },
                      {
                        "learn": [
                          0.05276575789
                        ],
                        "iteration": 100,
                        "passed_time": 1.075794036,
                        "remaining_time": 9.575632064,
                        "test": [
                          0.06343686109
                        ]
                      },
                      {
                        "learn": [
                          0.05262811742
                        ],
                        "iteration": 101,
                        "passed_time": 1.079862339,
                        "remaining_time": 9.507023337,
                        "test": [
                          0.06348561273
                        ]
                      },
                      {
                        "learn": [
                          0.05239298293
                        ],
                        "iteration": 102,
                        "passed_time": 1.086877841,
                        "remaining_time": 9.46533421,
                        "test": [
                          0.06345135124
                        ]
                      },
                      {
                        "learn": [
                          0.05227023296
                        ],
                        "iteration": 103,
                        "passed_time": 1.097744885,
                        "remaining_time": 9.457494393,
                        "test": [
                          0.06329292248
                        ]
                      },
                      {
                        "learn": [
                          0.05214713638
                        ],
                        "iteration": 104,
                        "passed_time": 1.109138833,
                        "remaining_time": 9.454088148,
                        "test": [
                          0.06330120363
                        ]
                      },
                      {
                        "learn": [
                          0.05195663554
                        ],
                        "iteration": 105,
                        "passed_time": 1.120011243,
                        "remaining_time": 9.446132556,
                        "test": [
                          0.06324982651
                        ]
                      },
                      {
                        "learn": [
                          0.05184627875
                        ],
                        "iteration": 106,
                        "passed_time": 1.13311046,
                        "remaining_time": 9.456706922,
                        "test": [
                          0.06310494599
                        ]
                      },
                      {
                        "learn": [
                          0.05181712726
                        ],
                        "iteration": 107,
                        "passed_time": 1.144873834,
                        "remaining_time": 9.455809812,
                        "test": [
                          0.06311983333
                        ]
                      },
                      {
                        "learn": [
                          0.05164768621
                        ],
                        "iteration": 108,
                        "passed_time": 1.164532224,
                        "remaining_time": 9.519249649,
                        "test": [
                          0.06288276842
                        ]
                      },
                      {
                        "learn": [
                          0.05135756325
                        ],
                        "iteration": 109,
                        "passed_time": 1.175814373,
                        "remaining_time": 9.513407199,
                        "test": [
                          0.06278378811
                        ]
                      },
                      {
                        "learn": [
                          0.05119777201
                        ],
                        "iteration": 110,
                        "passed_time": 1.192035121,
                        "remaining_time": 9.547020022,
                        "test": [
                          0.06274899373
                        ]
                      },
                      {
                        "learn": [
                          0.05110197214
                        ],
                        "iteration": 111,
                        "passed_time": 1.232924507,
                        "remaining_time": 9.775330021,
                        "test": [
                          0.06262563278
                        ]
                      },
                      {
                        "learn": [
                          0.05107387578
                        ],
                        "iteration": 112,
                        "passed_time": 1.243014204,
                        "remaining_time": 9.757111494,
                        "test": [
                          0.06263826208
                        ]
                      },
                      {
                        "learn": [
                          0.05097218032
                        ],
                        "iteration": 113,
                        "passed_time": 1.251239846,
                        "remaining_time": 9.724548273,
                        "test": [
                          0.06265440673
                        ]
                      },
                      {
                        "learn": [
                          0.05059104144
                        ],
                        "iteration": 114,
                        "passed_time": 1.268510993,
                        "remaining_time": 9.762019378,
                        "test": [
                          0.06248909363
                        ]
                      },
                      {
                        "learn": [
                          0.05053435188
                        ],
                        "iteration": 115,
                        "passed_time": 1.273499836,
                        "remaining_time": 9.704947028,
                        "test": [
                          0.06252219581
                        ]
                      },
                      {
                        "learn": [
                          0.05033236367
                        ],
                        "iteration": 116,
                        "passed_time": 1.281526162,
                        "remaining_time": 9.671688896,
                        "test": [
                          0.0625015115
                        ]
                      },
                      {
                        "learn": [
                          0.05006138032
                        ],
                        "iteration": 117,
                        "passed_time": 1.288635285,
                        "remaining_time": 9.632002726,
                        "test": [
                          0.06251338999
                        ]
                      },
                      {
                        "learn": [
                          0.0500434459
                        ],
                        "iteration": 118,
                        "passed_time": 1.305414192,
                        "remaining_time": 9.664452971,
                        "test": [
                          0.06251851909
                        ]
                      },
                      {
                        "learn": [
                          0.04978218275
                        ],
                        "iteration": 119,
                        "passed_time": 1.321472165,
                        "remaining_time": 9.690795876,
                        "test": [
                          0.06238422333
                        ]
                      },
                      {
                        "learn": [
                          0.04974317548
                        ],
                        "iteration": 120,
                        "passed_time": 1.328364311,
                        "remaining_time": 9.649853138,
                        "test": [
                          0.06236698666
                        ]
                      },
                      {
                        "learn": [
                          0.04964960649
                        ],
                        "iteration": 121,
                        "passed_time": 1.343973903,
                        "remaining_time": 9.672205631,
                        "test": [
                          0.06229545155
                        ]
                      },
                      {
                        "learn": [
                          0.04930402693
                        ],
                        "iteration": 122,
                        "passed_time": 1.3742043,
                        "remaining_time": 9.798188381,
                        "test": [
                          0.06215164379
                        ]
                      },
                      {
                        "learn": [
                          0.04914484601
                        ],
                        "iteration": 123,
                        "passed_time": 1.379378795,
                        "remaining_time": 9.744643745,
                        "test": [
                          0.06212734323
                        ]
                      },
                      {
                        "learn": [
                          0.04883638083
                        ],
                        "iteration": 124,
                        "passed_time": 1.387051947,
                        "remaining_time": 9.709363631,
                        "test": [
                          0.06206578385
                        ]
                      },
                      {
                        "learn": [
                          0.048488835
                        ],
                        "iteration": 125,
                        "passed_time": 1.392502423,
                        "remaining_time": 9.659104107,
                        "test": [
                          0.06189257445
                        ]
                      },
                      {
                        "learn": [
                          0.04844454096
                        ],
                        "iteration": 126,
                        "passed_time": 1.398753808,
                        "remaining_time": 9.615055706,
                        "test": [
                          0.06190384168
                        ]
                      },
                      {
                        "learn": [
                          0.04827696767
                        ],
                        "iteration": 127,
                        "passed_time": 1.40411971,
                        "remaining_time": 9.565565526,
                        "test": [
                          0.06183543854
                        ]
                      },
                      {
                        "learn": [
                          0.04806879718
                        ],
                        "iteration": 128,
                        "passed_time": 1.411632218,
                        "remaining_time": 9.531253191,
                        "test": [
                          0.06171691713
                        ]
                      },
                      {
                        "learn": [
                          0.04788173666
                        ],
                        "iteration": 129,
                        "passed_time": 1.423319608,
                        "remaining_time": 9.525292759,
                        "test": [
                          0.0617149111
                        ]
                      },
                      {
                        "learn": [
                          0.04775635527
                        ],
                        "iteration": 130,
                        "passed_time": 1.430196761,
                        "remaining_time": 9.487335768,
                        "test": [
                          0.06168881241
                        ]
                      },
                      {
                        "learn": [
                          0.04757649372
                        ],
                        "iteration": 131,
                        "passed_time": 1.437774614,
                        "remaining_time": 9.454457307,
                        "test": [
                          0.06165053224
                        ]
                      },
                      {
                        "learn": [
                          0.04750303329
                        ],
                        "iteration": 132,
                        "passed_time": 1.447578878,
                        "remaining_time": 9.436472835,
                        "test": [
                          0.06155264231
                        ]
                      },
                      {
                        "learn": [
                          0.0474792499
                        ],
                        "iteration": 133,
                        "passed_time": 1.45298513,
                        "remaining_time": 9.390187483,
                        "test": [
                          0.06154596049
                        ]
                      },
                      {
                        "learn": [
                          0.04729781762
                        ],
                        "iteration": 134,
                        "passed_time": 1.459826589,
                        "remaining_time": 9.353703697,
                        "test": [
                          0.06153312715
                        ]
                      },
                      {
                        "learn": [
                          0.04719098087
                        ],
                        "iteration": 135,
                        "passed_time": 1.467670089,
                        "remaining_time": 9.32402174,
                        "test": [
                          0.06149707561
                        ]
                      },
                      {
                        "learn": [
                          0.04707330754
                        ],
                        "iteration": 136,
                        "passed_time": 1.47323692,
                        "remaining_time": 9.280317243,
                        "test": [
                          0.06148981667
                        ]
                      },
                      {
                        "learn": [
                          0.04700747331
                        ],
                        "iteration": 137,
                        "passed_time": 1.480186564,
                        "remaining_time": 9.245803028,
                        "test": [
                          0.06146784251
                        ]
                      },
                      {
                        "learn": [
                          0.04697515781
                        ],
                        "iteration": 138,
                        "passed_time": 1.484788772,
                        "remaining_time": 9.197144842,
                        "test": [
                          0.06147343009
                        ]
                      },
                      {
                        "learn": [
                          0.04672695865
                        ],
                        "iteration": 139,
                        "passed_time": 1.492468276,
                        "remaining_time": 9.168019411,
                        "test": [
                          0.06148694645
                        ]
                      },
                      {
                        "learn": [
                          0.04668160069
                        ],
                        "iteration": 140,
                        "passed_time": 1.498268069,
                        "remaining_time": 9.127746602,
                        "test": [
                          0.0614796263
                        ]
                      },
                      {
                        "learn": [
                          0.04666199057
                        ],
                        "iteration": 141,
                        "passed_time": 1.506754603,
                        "remaining_time": 9.104193306,
                        "test": [
                          0.06148863119
                        ]
                      },
                      {
                        "learn": [
                          0.04647066925
                        ],
                        "iteration": 142,
                        "passed_time": 1.511959019,
                        "remaining_time": 9.061180976,
                        "test": [
                          0.06150206907
                        ]
                      },
                      {
                        "learn": [
                          0.04644710537
                        ],
                        "iteration": 143,
                        "passed_time": 1.520568042,
                        "remaining_time": 9.038932248,
                        "test": [
                          0.06149655367
                        ]
                      },
                      {
                        "learn": [
                          0.04633916743
                        ],
                        "iteration": 144,
                        "passed_time": 1.5260221,
                        "remaining_time": 8.998268243,
                        "test": [
                          0.06142529045
                        ]
                      },
                      {
                        "learn": [
                          0.04632695034
                        ],
                        "iteration": 145,
                        "passed_time": 1.539460352,
                        "remaining_time": 9.004788633,
                        "test": [
                          0.06142953197
                        ]
                      },
                      {
                        "learn": [
                          0.04630944668
                        ],
                        "iteration": 146,
                        "passed_time": 1.557041611,
                        "remaining_time": 9.03507819,
                        "test": [
                          0.06141308398
                        ]
                      },
                      {
                        "learn": [
                          0.04620218028
                        ],
                        "iteration": 147,
                        "passed_time": 1.563920282,
                        "remaining_time": 9.003108653,
                        "test": [
                          0.06138965705
                        ]
                      },
                      {
                        "learn": [
                          0.04611585758
                        ],
                        "iteration": 148,
                        "passed_time": 1.57677589,
                        "remaining_time": 9.005612636,
                        "test": [
                          0.06136371045
                        ]
                      },
                      {
                        "learn": [
                          0.04609319913
                        ],
                        "iteration": 149,
                        "passed_time": 1.582297504,
                        "remaining_time": 8.966352521,
                        "test": [
                          0.06136347336
                        ]
                      },
                      {
                        "learn": [
                          0.04591049674
                        ],
                        "iteration": 150,
                        "passed_time": 1.600860035,
                        "remaining_time": 9.00086205,
                        "test": [
                          0.06128513595
                        ]
                      },
                      {
                        "learn": [
                          0.04580906197
                        ],
                        "iteration": 151,
                        "passed_time": 1.613053655,
                        "remaining_time": 8.999141443,
                        "test": [
                          0.06127386745
                        ]
                      },
                      {
                        "learn": [
                          0.04579849527
                        ],
                        "iteration": 152,
                        "passed_time": 1.62205592,
                        "remaining_time": 8.97961676,
                        "test": [
                          0.06127862015
                        ]
                      },
                      {
                        "learn": [
                          0.04574182959
                        ],
                        "iteration": 153,
                        "passed_time": 1.630541458,
                        "remaining_time": 8.957390088,
                        "test": [
                          0.06129637757
                        ]
                      },
                      {
                        "learn": [
                          0.04573074149
                        ],
                        "iteration": 154,
                        "passed_time": 1.634912966,
                        "remaining_time": 8.912912621,
                        "test": [
                          0.06129269493
                        ]
                      },
                      {
                        "learn": [
                          0.04563235194
                        ],
                        "iteration": 155,
                        "passed_time": 1.643559444,
                        "remaining_time": 8.892078015,
                        "test": [
                          0.06130739843
                        ]
                      },
                      {
                        "learn": [
                          0.04538262152
                        ],
                        "iteration": 156,
                        "passed_time": 1.663314207,
                        "remaining_time": 8.931043798,
                        "test": [
                          0.06125038308
                        ]
                      },
                      {
                        "learn": [
                          0.04517932751
                        ],
                        "iteration": 157,
                        "passed_time": 1.680562095,
                        "remaining_time": 8.955906861,
                        "test": [
                          0.06123694836
                        ]
                      },
                      {
                        "learn": [
                          0.0451290816
                        ],
                        "iteration": 158,
                        "passed_time": 1.693667997,
                        "remaining_time": 8.958331981,
                        "test": [
                          0.06124008778
                        ]
                      },
                      {
                        "learn": [
                          0.04490524951
                        ],
                        "iteration": 159,
                        "passed_time": 1.708942734,
                        "remaining_time": 8.971949354,
                        "test": [
                          0.06123852937
                        ]
                      },
                      {
                        "learn": [
                          0.04483948846
                        ],
                        "iteration": 160,
                        "passed_time": 1.728475541,
                        "remaining_time": 9.007397387,
                        "test": [
                          0.06121549095
                        ]
                      },
                      {
                        "learn": [
                          0.04459992189
                        ],
                        "iteration": 161,
                        "passed_time": 1.744503056,
                        "remaining_time": 9.024034329,
                        "test": [
                          0.06112465429
                        ]
                      },
                      {
                        "learn": [
                          0.04458585367
                        ],
                        "iteration": 162,
                        "passed_time": 1.756813162,
                        "remaining_time": 9.021181697,
                        "test": [
                          0.06112395057
                        ]
                      },
                      {
                        "learn": [
                          0.04454395335
                        ],
                        "iteration": 163,
                        "passed_time": 1.771940871,
                        "remaining_time": 9.032576633,
                        "test": [
                          0.06112928424
                        ]
                      },
                      {
                        "learn": [
                          0.04446016568
                        ],
                        "iteration": 164,
                        "passed_time": 1.795553815,
                        "remaining_time": 9.086590521,
                        "test": [
                          0.06110508841
                        ]
                      },
                      {
                        "learn": [
                          0.04442034064
                        ],
                        "iteration": 165,
                        "passed_time": 1.80747712,
                        "remaining_time": 9.080939264,
                        "test": [
                          0.06108907009
                        ]
                      },
                      {
                        "learn": [
                          0.04440557962
                        ],
                        "iteration": 166,
                        "passed_time": 1.818399536,
                        "remaining_time": 9.070220438,
                        "test": [
                          0.06109590195
                        ]
                      },
                      {
                        "learn": [
                          0.04436841727
                        ],
                        "iteration": 167,
                        "passed_time": 1.85814609,
                        "remaining_time": 9.202247302,
                        "test": [
                          0.06110427266
                        ]
                      },
                      {
                        "learn": [
                          0.04431075421
                        ],
                        "iteration": 168,
                        "passed_time": 1.87419506,
                        "remaining_time": 9.215716537,
                        "test": [
                          0.06109901695
                        ]
                      },
                      {
                        "learn": [
                          0.04427010737
                        ],
                        "iteration": 169,
                        "passed_time": 1.893272296,
                        "remaining_time": 9.243623563,
                        "test": [
                          0.06108852243
                        ]
                      },
                      {
                        "learn": [
                          0.04426176096
                        ],
                        "iteration": 170,
                        "passed_time": 1.919238847,
                        "remaining_time": 9.304380142,
                        "test": [
                          0.06109393513
                        ]
                      },
                      {
                        "learn": [
                          0.04424259243
                        ],
                        "iteration": 171,
                        "passed_time": 1.926585057,
                        "remaining_time": 9.274490854,
                        "test": [
                          0.06109788706
                        ]
                      },
                      {
                        "learn": [
                          0.04418630568
                        ],
                        "iteration": 172,
                        "passed_time": 1.938348052,
                        "remaining_time": 9.26597595,
                        "test": [
                          0.06108210795
                        ]
                      },
                      {
                        "learn": [
                          0.04408391401
                        ],
                        "iteration": 173,
                        "passed_time": 1.959307305,
                        "remaining_time": 9.301079506,
                        "test": [
                          0.06109778458
                        ]
                      },
                      {
                        "learn": [
                          0.04402926463
                        ],
                        "iteration": 174,
                        "passed_time": 1.970704722,
                        "remaining_time": 9.290465119,
                        "test": [
                          0.06109295473
                        ]
                      },
                      {
                        "learn": [
                          0.04384904539
                        ],
                        "iteration": 175,
                        "passed_time": 1.9853913,
                        "remaining_time": 9.295241085,
                        "test": [
                          0.06101822531
                        ]
                      },
                      {
                        "learn": [
                          0.04382408509
                        ],
                        "iteration": 176,
                        "passed_time": 2.002335714,
                        "remaining_time": 9.310295438,
                        "test": [
                          0.06101931425
                        ]
                      },
                      {
                        "learn": [
                          0.04376398018
                        ],
                        "iteration": 177,
                        "passed_time": 2.03381669,
                        "remaining_time": 9.392119772,
                        "test": [
                          0.06101712907
                        ]
                      },
                      {
                        "learn": [
                          0.0436847812
                        ],
                        "iteration": 178,
                        "passed_time": 2.047225133,
                        "remaining_time": 9.389786784,
                        "test": [
                          0.06104719897
                        ]
                      },
                      {
                        "learn": [
                          0.04362825797
                        ],
                        "iteration": 179,
                        "passed_time": 2.058950083,
                        "remaining_time": 9.379661489,
                        "test": [
                          0.06102630973
                        ]
                      },
                      {
                        "learn": [
                          0.04362746726
                        ],
                        "iteration": 180,
                        "passed_time": 2.066252182,
                        "remaining_time": 9.34950573,
                        "test": [
                          0.06102423819
                        ]
                      },
                      {
                        "learn": [
                          0.04361599555
                        ],
                        "iteration": 181,
                        "passed_time": 2.073057789,
                        "remaining_time": 9.317369622,
                        "test": [
                          0.06102399066
                        ]
                      },
                      {
                        "learn": [
                          0.04360537305
                        ],
                        "iteration": 182,
                        "passed_time": 2.084564987,
                        "remaining_time": 9.306500516,
                        "test": [
                          0.0610243651
                        ]
                      },
                      {
                        "learn": [
                          0.04352263133
                        ],
                        "iteration": 183,
                        "passed_time": 2.100841707,
                        "remaining_time": 9.316776267,
                        "test": [
                          0.06100207636
                        ]
                      },
                      {
                        "learn": [
                          0.04351483726
                        ],
                        "iteration": 184,
                        "passed_time": 2.113463621,
                        "remaining_time": 9.31066406,
                        "test": [
                          0.06099770808
                        ]
                      },
                      {
                        "learn": [
                          0.04340574509
                        ],
                        "iteration": 185,
                        "passed_time": 2.124909148,
                        "remaining_time": 9.299333583,
                        "test": [
                          0.06089215425
                        ]
                      },
                      {
                        "learn": [
                          0.04330572093
                        ],
                        "iteration": 186,
                        "passed_time": 2.144898748,
                        "remaining_time": 9.325148033,
                        "test": [
                          0.06088028813
                        ]
                      },
                      {
                        "learn": [
                          0.04325167739
                        ],
                        "iteration": 187,
                        "passed_time": 2.159479218,
                        "remaining_time": 9.327112367,
                        "test": [
                          0.06088196009
                        ]
                      },
                      {
                        "learn": [
                          0.04318557091
                        ],
                        "iteration": 188,
                        "passed_time": 2.184623525,
                        "remaining_time": 9.374231106,
                        "test": [
                          0.06087436636
                        ]
                      },
                      {
                        "learn": [
                          0.04303288466
                        ],
                        "iteration": 189,
                        "passed_time": 2.204337376,
                        "remaining_time": 9.397438288,
                        "test": [
                          0.06070569124
                        ]
                      },
                      {
                        "learn": [
                          0.04285415567
                        ],
                        "iteration": 190,
                        "passed_time": 2.218106134,
                        "remaining_time": 9.395014985,
                        "test": [
                          0.06064593144
                        ]
                      },
                      {
                        "learn": [
                          0.04280137171
                        ],
                        "iteration": 191,
                        "passed_time": 2.231587628,
                        "remaining_time": 9.391264601,
                        "test": [
                          0.06066858277
                        ]
                      },
                      {
                        "learn": [
                          0.04275207687
                        ],
                        "iteration": 192,
                        "passed_time": 2.242924391,
                        "remaining_time": 9.37844551,
                        "test": [
                          0.06066104129
                        ]
                      },
                      {
                        "learn": [
                          0.04263355598
                        ],
                        "iteration": 193,
                        "passed_time": 2.248487754,
                        "remaining_time": 9.341655306,
                        "test": [
                          0.06067003502
                        ]
                      },
                      {
                        "learn": [
                          0.0425817808
                        ],
                        "iteration": 194,
                        "passed_time": 2.267426457,
                        "remaining_time": 9.36040153,
                        "test": [
                          0.06067282656
                        ]
                      },
                      {
                        "learn": [
                          0.04251074629
                        ],
                        "iteration": 195,
                        "passed_time": 2.274363483,
                        "remaining_time": 9.32953184,
                        "test": [
                          0.06070323479
                        ]
                      },
                      {
                        "learn": [
                          0.0424146832
                        ],
                        "iteration": 196,
                        "passed_time": 2.279902547,
                        "remaining_time": 9.293206827,
                        "test": [
                          0.06067715763
                        ]
                      },
                      {
                        "learn": [
                          0.04240785256
                        ],
                        "iteration": 197,
                        "passed_time": 2.288536506,
                        "remaining_time": 9.269728674,
                        "test": [
                          0.06067938564
                        ]
                      },
                      {
                        "learn": [
                          0.04239582134
                        ],
                        "iteration": 198,
                        "passed_time": 2.297680836,
                        "remaining_time": 9.24845402,
                        "test": [
                          0.06069493025
                        ]
                      },
                      {
                        "learn": [
                          0.0423129348
                        ],
                        "iteration": 199,
                        "passed_time": 2.308240072,
                        "remaining_time": 9.232960286,
                        "test": [
                          0.06067939058
                        ]
                      },
                      {
                        "learn": [
                          0.04219723303
                        ],
                        "iteration": 200,
                        "passed_time": 2.319266312,
                        "remaining_time": 9.219372055,
                        "test": [
                          0.06064110294
                        ]
                      },
                      {
                        "learn": [
                          0.04215705884
                        ],
                        "iteration": 201,
                        "passed_time": 2.335646754,
                        "remaining_time": 9.226960938,
                        "test": [
                          0.06061060681
                        ]
                      },
                      {
                        "learn": [
                          0.04198425801
                        ],
                        "iteration": 202,
                        "passed_time": 2.348097034,
                        "remaining_time": 9.21888343,
                        "test": [
                          0.06051556891
                        ]
                      },
                      {
                        "learn": [
                          0.04195491921
                        ],
                        "iteration": 203,
                        "passed_time": 2.365665309,
                        "remaining_time": 9.230733266,
                        "test": [
                          0.06049491897
                        ]
                      },
                      {
                        "learn": [
                          0.04194724899
                        ],
                        "iteration": 204,
                        "passed_time": 2.376655995,
                        "remaining_time": 9.216787884,
                        "test": [
                          0.06049686359
                        ]
                      },
                      {
                        "learn": [
                          0.04185096739
                        ],
                        "iteration": 205,
                        "passed_time": 2.391478379,
                        "remaining_time": 9.217639965,
                        "test": [
                          0.06047244035
                        ]
                      },
                      {
                        "learn": [
                          0.0418460646
                        ],
                        "iteration": 206,
                        "passed_time": 2.403715417,
                        "remaining_time": 9.208436357,
                        "test": [
                          0.06047231585
                        ]
                      },
                      {
                        "learn": [
                          0.0418415694
                        ],
                        "iteration": 207,
                        "passed_time": 2.415205863,
                        "remaining_time": 9.196360785,
                        "test": [
                          0.0604729918
                        ]
                      },
                      {
                        "learn": [
                          0.0418272406
                        ],
                        "iteration": 208,
                        "passed_time": 2.434898818,
                        "remaining_time": 9.215334759,
                        "test": [
                          0.0604789033
                        ]
                      },
                      {
                        "learn": [
                          0.04182597986
                        ],
                        "iteration": 209,
                        "passed_time": 2.444948616,
                        "remaining_time": 9.197663839,
                        "test": [
                          0.06047768522
                        ]
                      },
                      {
                        "learn": [
                          0.04168919068
                        ],
                        "iteration": 210,
                        "passed_time": 2.456818187,
                        "remaining_time": 9.186869904,
                        "test": [
                          0.06046472082
                        ]
                      },
                      {
                        "learn": [
                          0.04168786516
                        ],
                        "iteration": 211,
                        "passed_time": 2.460658461,
                        "remaining_time": 9.146221072,
                        "test": [
                          0.06046524769
                        ]
                      },
                      {
                        "learn": [
                          0.0416493171
                        ],
                        "iteration": 212,
                        "passed_time": 2.469252813,
                        "remaining_time": 9.123483399,
                        "test": [
                          0.06046467879
                        ]
                      },
                      {
                        "learn": [
                          0.04147820323
                        ],
                        "iteration": 213,
                        "passed_time": 2.484058546,
                        "remaining_time": 9.123691668,
                        "test": [
                          0.06041314333
                        ]
                      },
                      {
                        "learn": [
                          0.04142231291
                        ],
                        "iteration": 214,
                        "passed_time": 2.495542138,
                        "remaining_time": 9.111630597,
                        "test": [
                          0.06038630271
                        ]
                      },
                      {
                        "learn": [
                          0.04137605669
                        ],
                        "iteration": 215,
                        "passed_time": 2.503873997,
                        "remaining_time": 9.088135247,
                        "test": [
                          0.060397261
                        ]
                      },
                      {
                        "learn": [
                          0.04127761369
                        ],
                        "iteration": 216,
                        "passed_time": 2.508881756,
                        "remaining_time": 9.052785321,
                        "test": [
                          0.06033845549
                        ]
                      },
                      {
                        "learn": [
                          0.04123854391
                        ],
                        "iteration": 217,
                        "passed_time": 2.518338839,
                        "remaining_time": 9.033674184,
                        "test": [
                          0.06032716521
                        ]
                      },
                      {
                        "learn": [
                          0.04122516114
                        ],
                        "iteration": 218,
                        "passed_time": 2.530590385,
                        "remaining_time": 9.024616853,
                        "test": [
                          0.06032223667
                        ]
                      },
                      {
                        "learn": [
                          0.0412007041
                        ],
                        "iteration": 219,
                        "passed_time": 2.54129141,
                        "remaining_time": 9.01003318,
                        "test": [
                          0.06030753234
                        ]
                      },
                      {
                        "learn": [
                          0.04109982369
                        ],
                        "iteration": 220,
                        "passed_time": 2.547301479,
                        "remaining_time": 8.978949556,
                        "test": [
                          0.06030022686
                        ]
                      },
                      {
                        "learn": [
                          0.04107048034
                        ],
                        "iteration": 221,
                        "passed_time": 2.561545244,
                        "remaining_time": 8.976946847,
                        "test": [
                          0.06034389206
                        ]
                      },
                      {
                        "learn": [
                          0.04106943693
                        ],
                        "iteration": 222,
                        "passed_time": 2.569062569,
                        "remaining_time": 8.951397381,
                        "test": [
                          0.06034302811
                        ]
                      },
                      {
                        "learn": [
                          0.04088889607
                        ],
                        "iteration": 223,
                        "passed_time": 2.612300839,
                        "remaining_time": 9.049756477,
                        "test": [
                          0.06030394638
                        ]
                      },
                      {
                        "learn": [
                          0.04083722628
                        ],
                        "iteration": 224,
                        "passed_time": 2.618407329,
                        "remaining_time": 9.018958576,
                        "test": [
                          0.0603445626
                        ]
                      },
                      {
                        "learn": [
                          0.04074901806
                        ],
                        "iteration": 225,
                        "passed_time": 2.626651511,
                        "remaining_time": 8.995700308,
                        "test": [
                          0.0603184688
                        ]
                      },
                      {
                        "learn": [
                          0.04067716158
                        ],
                        "iteration": 226,
                        "passed_time": 2.631680081,
                        "remaining_time": 8.96162424,
                        "test": [
                          0.06032994953
                        ]
                      },
                      {
                        "learn": [
                          0.04044896933
                        ],
                        "iteration": 227,
                        "passed_time": 2.63916202,
                        "remaining_time": 8.936109998,
                        "test": [
                          0.06027967365
                        ]
                      },
                      {
                        "learn": [
                          0.04040571673
                        ],
                        "iteration": 228,
                        "passed_time": 2.646638724,
                        "remaining_time": 8.910735617,
                        "test": [
                          0.06028315259
                        ]
                      },
                      {
                        "learn": [
                          0.04028309229
                        ],
                        "iteration": 229,
                        "passed_time": 2.653414983,
                        "remaining_time": 8.883171901,
                        "test": [
                          0.06030706196
                        ]
                      },
                      {
                        "learn": [
                          0.04013129797
                        ],
                        "iteration": 230,
                        "passed_time": 2.664890838,
                        "remaining_time": 8.871433135,
                        "test": [
                          0.06026245339
                        ]
                      },
                      {
                        "learn": [
                          0.03997033813
                        ],
                        "iteration": 231,
                        "passed_time": 2.680027961,
                        "remaining_time": 8.871816699,
                        "test": [
                          0.06025781388
                        ]
                      },
                      {
                        "learn": [
                          0.03993140102
                        ],
                        "iteration": 232,
                        "passed_time": 2.711087506,
                        "remaining_time": 8.924481188,
                        "test": [
                          0.06024713188
                        ]
                      },
                      {
                        "learn": [
                          0.03969273993
                        ],
                        "iteration": 233,
                        "passed_time": 2.726364063,
                        "remaining_time": 8.924764412,
                        "test": [
                          0.06020311441
                        ]
                      },
                      {
                        "learn": [
                          0.03967004167
                        ],
                        "iteration": 234,
                        "passed_time": 2.75961407,
                        "remaining_time": 8.983424525,
                        "test": [
                          0.06024669112
                        ]
                      },
                      {
                        "learn": [
                          0.0394440884
                        ],
                        "iteration": 235,
                        "passed_time": 2.77091622,
                        "remaining_time": 8.970254205,
                        "test": [
                          0.06026712103
                        ]
                      },
                      {
                        "learn": [
                          0.03943830443
                        ],
                        "iteration": 236,
                        "passed_time": 2.782921835,
                        "remaining_time": 8.95936439,
                        "test": [
                          0.06026781585
                        ]
                      },
                      {
                        "learn": [
                          0.03938850332
                        ],
                        "iteration": 237,
                        "passed_time": 2.809626747,
                        "remaining_time": 8.995527653,
                        "test": [
                          0.06023671968
                        ]
                      },
                      {
                        "learn": [
                          0.03931123368
                        ],
                        "iteration": 238,
                        "passed_time": 2.819447314,
                        "remaining_time": 8.977403373,
                        "test": [
                          0.0602378779
                        ]
                      },
                      {
                        "learn": [
                          0.03928706946
                        ],
                        "iteration": 239,
                        "passed_time": 2.82565237,
                        "remaining_time": 8.94789917,
                        "test": [
                          0.06024435308
                        ]
                      },
                      {
                        "learn": [
                          0.03916704677
                        ],
                        "iteration": 240,
                        "passed_time": 2.84983111,
                        "remaining_time": 8.975194241,
                        "test": [
                          0.06022516049
                        ]
                      },
                      {
                        "learn": [
                          0.03914287329
                        ],
                        "iteration": 241,
                        "passed_time": 2.855989225,
                        "remaining_time": 8.945619142,
                        "test": [
                          0.06022153641
                        ]
                      },
                      {
                        "learn": [
                          0.03908480734
                        ],
                        "iteration": 242,
                        "passed_time": 2.869181936,
                        "remaining_time": 8.938151134,
                        "test": [
                          0.06021984591
                        ]
                      },
                      {
                        "learn": [
                          0.03904819294
                        ],
                        "iteration": 243,
                        "passed_time": 2.881917875,
                        "remaining_time": 8.929220958,
                        "test": [
                          0.06024120112
                        ]
                      },
                      {
                        "learn": [
                          0.0388751224
                        ],
                        "iteration": 244,
                        "passed_time": 2.887766166,
                        "remaining_time": 8.899034511,
                        "test": [
                          0.06023849486
                        ]
                      },
                      {
                        "learn": [
                          0.03886698768
                        ],
                        "iteration": 245,
                        "passed_time": 2.89410141,
                        "remaining_time": 8.870538467,
                        "test": [
                          0.06023903738
                        ]
                      },
                      {
                        "learn": [
                          0.03876887042
                        ],
                        "iteration": 246,
                        "passed_time": 2.900490994,
                        "remaining_time": 8.842387524,
                        "test": [
                          0.06011962115
                        ]
                      },
                      {
                        "learn": [
                          0.03870883355
                        ],
                        "iteration": 247,
                        "passed_time": 2.906507894,
                        "remaining_time": 8.813282002,
                        "test": [
                          0.06014050276
                        ]
                      },
                      {
                        "learn": [
                          0.03864934352
                        ],
                        "iteration": 248,
                        "passed_time": 2.939154253,
                        "remaining_time": 8.86467809,
                        "test": [
                          0.0601503118
                        ]
                      },
                      {
                        "learn": [
                          0.03858487457
                        ],
                        "iteration": 249,
                        "passed_time": 2.958274504,
                        "remaining_time": 8.874823511,
                        "test": [
                          0.0601084107
                        ]
                      },
                      {
                        "learn": [
                          0.03838194465
                        ],
                        "iteration": 250,
                        "passed_time": 2.970772718,
                        "remaining_time": 8.864975162,
                        "test": [
                          0.06008053517
                        ]
                      },
                      {
                        "learn": [
                          0.03834814049
                        ],
                        "iteration": 251,
                        "passed_time": 2.995006813,
                        "remaining_time": 8.889940857,
                        "test": [
                          0.06012159202
                        ]
                      },
                      {
                        "learn": [
                          0.03830093918
                        ],
                        "iteration": 252,
                        "passed_time": 3.013189325,
                        "remaining_time": 8.896649904,
                        "test": [
                          0.06013977848
                        ]
                      },
                      {
                        "learn": [
                          0.03828301272
                        ],
                        "iteration": 253,
                        "passed_time": 3.025547025,
                        "remaining_time": 8.886055436,
                        "test": [
                          0.06013687317
                        ]
                      },
                      {
                        "learn": [
                          0.03827566048
                        ],
                        "iteration": 254,
                        "passed_time": 3.036897666,
                        "remaining_time": 8.872504947,
                        "test": [
                          0.06013726275
                        ]
                      },
                      {
                        "learn": [
                          0.03813103074
                        ],
                        "iteration": 255,
                        "passed_time": 3.059258492,
                        "remaining_time": 8.890969994,
                        "test": [
                          0.0600390398
                        ]
                      },
                      {
                        "learn": [
                          0.03804157004
                        ],
                        "iteration": 256,
                        "passed_time": 3.081552466,
                        "remaining_time": 8.908924055,
                        "test": [
                          0.06003306451
                        ]
                      },
                      {
                        "learn": [
                          0.03803573119
                        ],
                        "iteration": 257,
                        "passed_time": 3.098254427,
                        "remaining_time": 8.910483663,
                        "test": [
                          0.06003393091
                        ]
                      },
                      {
                        "learn": [
                          0.0379070457
                        ],
                        "iteration": 258,
                        "passed_time": 3.117885486,
                        "remaining_time": 8.920282415,
                        "test": [
                          0.05999057358
                        ]
                      },
                      {
                        "learn": [
                          0.03785364157
                        ],
                        "iteration": 259,
                        "passed_time": 3.138111113,
                        "remaining_time": 8.931547013,
                        "test": [
                          0.05999628622
                        ]
                      },
                      {
                        "learn": [
                          0.03785324042
                        ],
                        "iteration": 260,
                        "passed_time": 3.169243754,
                        "remaining_time": 8.973452621,
                        "test": [
                          0.05999765097
                        ]
                      },
                      {
                        "learn": [
                          0.03775935442
                        ],
                        "iteration": 261,
                        "passed_time": 3.180379617,
                        "remaining_time": 8.958473883,
                        "test": [
                          0.05999089808
                        ]
                      },
                      {
                        "learn": [
                          0.03773330092
                        ],
                        "iteration": 262,
                        "passed_time": 3.192903662,
                        "remaining_time": 8.947414446,
                        "test": [
                          0.05999504938
                        ]
                      },
                      {
                        "learn": [
                          0.03767075566
                        ],
                        "iteration": 263,
                        "passed_time": 3.204337169,
                        "remaining_time": 8.933303623,
                        "test": [
                          0.05998931379
                        ]
                      },
                      {
                        "learn": [
                          0.03767073999
                        ],
                        "iteration": 264,
                        "passed_time": 3.215343323,
                        "remaining_time": 8.918027708,
                        "test": [
                          0.05998921252
                        ]
                      },
                      {
                        "learn": [
                          0.0376143183
                        ],
                        "iteration": 265,
                        "passed_time": 3.224225634,
                        "remaining_time": 8.896923366,
                        "test": [
                          0.05998423181
                        ]
                      },
                      {
                        "learn": [
                          0.03760955125
                        ],
                        "iteration": 266,
                        "passed_time": 3.236937101,
                        "remaining_time": 8.886422828,
                        "test": [
                          0.05999153085
                        ]
                      },
                      {
                        "learn": [
                          0.0375590128
                        ],
                        "iteration": 267,
                        "passed_time": 3.24821596,
                        "remaining_time": 8.871992846,
                        "test": [
                          0.05996546561
                        ]
                      },
                      {
                        "learn": [
                          0.03753744415
                        ],
                        "iteration": 268,
                        "passed_time": 3.262677041,
                        "remaining_time": 8.866233892,
                        "test": [
                          0.05996107907
                        ]
                      },
                      {
                        "learn": [
                          0.0375180425
                        ],
                        "iteration": 269,
                        "passed_time": 3.272674467,
                        "remaining_time": 8.848342078,
                        "test": [
                          0.05996439158
                        ]
                      },
                      {
                        "learn": [
                          0.03741735552
                        ],
                        "iteration": 270,
                        "passed_time": 3.278559697,
                        "remaining_time": 8.819446564,
                        "test": [
                          0.05996368306
                        ]
                      },
                      {
                        "learn": [
                          0.03736834011
                        ],
                        "iteration": 271,
                        "passed_time": 3.291726848,
                        "remaining_time": 8.810210094,
                        "test": [
                          0.05997491435
                        ]
                      },
                      {
                        "learn": [
                          0.03726837765
                        ],
                        "iteration": 272,
                        "passed_time": 3.326217276,
                        "remaining_time": 8.85772879,
                        "test": [
                          0.05993686478
                        ]
                      },
                      {
                        "learn": [
                          0.03724363533
                        ],
                        "iteration": 273,
                        "passed_time": 3.333433257,
                        "remaining_time": 8.832381551,
                        "test": [
                          0.05993453211
                        ]
                      },
                      {
                        "learn": [
                          0.03719812951
                        ],
                        "iteration": 274,
                        "passed_time": 3.34079763,
                        "remaining_time": 8.807557387,
                        "test": [
                          0.05994628863
                        ]
                      },
                      {
                        "learn": [
                          0.03714858601
                        ],
                        "iteration": 275,
                        "passed_time": 3.348184087,
                        "remaining_time": 8.782917677,
                        "test": [
                          0.059978289
                        ]
                      },
                      {
                        "learn": [
                          0.03712868683
                        ],
                        "iteration": 276,
                        "passed_time": 3.354622982,
                        "remaining_time": 8.7559293,
                        "test": [
                          0.05997890496
                        ]
                      },
                      {
                        "learn": [
                          0.03711160385
                        ],
                        "iteration": 277,
                        "passed_time": 3.363225971,
                        "remaining_time": 8.734709177,
                        "test": [
                          0.05997939168
                        ]
                      },
                      {
                        "learn": [
                          0.03698953036
                        ],
                        "iteration": 278,
                        "passed_time": 3.368472409,
                        "remaining_time": 8.7049054,
                        "test": [
                          0.05988631154
                        ]
                      },
                      {
                        "learn": [
                          0.03698864315
                        ],
                        "iteration": 279,
                        "passed_time": 3.373888371,
                        "remaining_time": 8.675712955,
                        "test": [
                          0.05988537681
                        ]
                      },
                      {
                        "learn": [
                          0.03697744318
                        ],
                        "iteration": 280,
                        "passed_time": 3.378119571,
                        "remaining_time": 8.643658261,
                        "test": [
                          0.05989216957
                        ]
                      },
                      {
                        "learn": [
                          0.03684082688
                        ],
                        "iteration": 281,
                        "passed_time": 3.387863549,
                        "remaining_time": 8.62583698,
                        "test": [
                          0.05990934602
                        ]
                      },
                      {
                        "learn": [
                          0.03673472448
                        ],
                        "iteration": 282,
                        "passed_time": 3.394689627,
                        "remaining_time": 8.600680079,
                        "test": [
                          0.05992052304
                        ]
                      },
                      {
                        "learn": [
                          0.03671918968
                        ],
                        "iteration": 283,
                        "passed_time": 3.402719743,
                        "remaining_time": 8.578687802,
                        "test": [
                          0.05991509797
                        ]
                      },
                      {
                        "learn": [
                          0.03666586813
                        ],
                        "iteration": 284,
                        "passed_time": 3.436338835,
                        "remaining_time": 8.620990412,
                        "test": [
                          0.05992464214
                        ]
                      },
                      {
                        "learn": [
                          0.03662946481
                        ],
                        "iteration": 285,
                        "passed_time": 3.466626247,
                        "remaining_time": 8.654444547,
                        "test": [
                          0.05991464827
                        ]
                      },
                      {
                        "learn": [
                          0.03662381135
                        ],
                        "iteration": 286,
                        "passed_time": 3.473583392,
                        "remaining_time": 8.629494628,
                        "test": [
                          0.05991618797
                        ]
                      },
                      {
                        "learn": [
                          0.03652155003
                        ],
                        "iteration": 287,
                        "passed_time": 3.482387479,
                        "remaining_time": 8.609235711,
                        "test": [
                          0.05986017558
                        ]
                      },
                      {
                        "learn": [
                          0.03643110191
                        ],
                        "iteration": 288,
                        "passed_time": 3.491298267,
                        "remaining_time": 8.589318574,
                        "test": [
                          0.05986299965
                        ]
                      },
                      {
                        "learn": [
                          0.03640544563
                        ],
                        "iteration": 289,
                        "passed_time": 3.499392835,
                        "remaining_time": 8.56747901,
                        "test": [
                          0.05985596077
                        ]
                      },
                      {
                        "learn": [
                          0.03636499678
                        ],
                        "iteration": 290,
                        "passed_time": 3.508124131,
                        "remaining_time": 8.547285255,
                        "test": [
                          0.05988211399
                        ]
                      },
                      {
                        "learn": [
                          0.03635993459
                        ],
                        "iteration": 291,
                        "passed_time": 3.517074324,
                        "remaining_time": 8.527700758,
                        "test": [
                          0.05989207652
                        ]
                      },
                      {
                        "learn": [
                          0.03630124901
                        ],
                        "iteration": 292,
                        "passed_time": 3.525640679,
                        "remaining_time": 8.507262661,
                        "test": [
                          0.05984038369
                        ]
                      },
                      {
                        "learn": [
                          0.03622419283
                        ],
                        "iteration": 293,
                        "passed_time": 3.539655725,
                        "remaining_time": 8.499989598,
                        "test": [
                          0.05982004722
                        ]
                      },
                      {
                        "learn": [
                          0.03615315082
                        ],
                        "iteration": 294,
                        "passed_time": 3.552683581,
                        "remaining_time": 8.490311608,
                        "test": [
                          0.05979330394
                        ]
                      },
                      {
                        "learn": [
                          0.03614274056
                        ],
                        "iteration": 295,
                        "passed_time": 3.570309455,
                        "remaining_time": 8.491546811,
                        "test": [
                          0.05979284416
                        ]
                      },
                      {
                        "learn": [
                          0.03612470628
                        ],
                        "iteration": 296,
                        "passed_time": 3.586517653,
                        "remaining_time": 8.489299361,
                        "test": [
                          0.05980079206
                        ]
                      },
                      {
                        "learn": [
                          0.03603046965
                        ],
                        "iteration": 297,
                        "passed_time": 3.608290873,
                        "remaining_time": 8.500067761,
                        "test": [
                          0.05982063021
                        ]
                      },
                      {
                        "learn": [
                          0.03601597442
                        ],
                        "iteration": 298,
                        "passed_time": 3.615315894,
                        "remaining_time": 8.47604161,
                        "test": [
                          0.05982234435
                        ]
                      },
                      {
                        "learn": [
                          0.03586843555
                        ],
                        "iteration": 299,
                        "passed_time": 3.63846782,
                        "remaining_time": 8.489758246,
                        "test": [
                          0.05985047934
                        ]
                      },
                      {
                        "learn": [
                          0.03586814388
                        ],
                        "iteration": 300,
                        "passed_time": 3.649570413,
                        "remaining_time": 8.475248235,
                        "test": [
                          0.05984964925
                        ]
                      },
                      {
                        "learn": [
                          0.03574345604
                        ],
                        "iteration": 301,
                        "passed_time": 3.660645332,
                        "remaining_time": 8.460696828,
                        "test": [
                          0.0598635318
                        ]
                      },
                      {
                        "learn": [
                          0.03573121663
                        ],
                        "iteration": 302,
                        "passed_time": 3.679590582,
                        "remaining_time": 8.464272725,
                        "test": [
                          0.05986834978
                        ]
                      },
                      {
                        "learn": [
                          0.03559510909
                        ],
                        "iteration": 303,
                        "passed_time": 3.698802361,
                        "remaining_time": 8.468310668,
                        "test": [
                          0.05969272157
                        ]
                      },
                      {
                        "learn": [
                          0.03547050949
                        ],
                        "iteration": 304,
                        "passed_time": 3.714651009,
                        "remaining_time": 8.464532626,
                        "test": [
                          0.05969966306
                        ]
                      },
                      {
                        "learn": [
                          0.0354245448
                        ],
                        "iteration": 305,
                        "passed_time": 3.733672138,
                        "remaining_time": 8.467870796,
                        "test": [
                          0.05969196594
                        ]
                      },
                      {
                        "learn": [
                          0.03540893921
                        ],
                        "iteration": 306,
                        "passed_time": 3.758095008,
                        "remaining_time": 8.483256809,
                        "test": [
                          0.05969253793
                        ]
                      },
                      {
                        "learn": [
                          0.03536637216
                        ],
                        "iteration": 307,
                        "passed_time": 3.771636958,
                        "remaining_time": 8.473937581,
                        "test": [
                          0.05967322568
                        ]
                      },
                      {
                        "learn": [
                          0.03528447455
                        ],
                        "iteration": 308,
                        "passed_time": 3.793019797,
                        "remaining_time": 8.482125178,
                        "test": [
                          0.05966014213
                        ]
                      },
                      {
                        "learn": [
                          0.03527837059
                        ],
                        "iteration": 309,
                        "passed_time": 3.804629344,
                        "remaining_time": 8.46836854,
                        "test": [
                          0.05966255133
                        ]
                      },
                      {
                        "learn": [
                          0.03525931304
                        ],
                        "iteration": 310,
                        "passed_time": 3.819105509,
                        "remaining_time": 8.460976513,
                        "test": [
                          0.0596619728
                        ]
                      },
                      {
                        "learn": [
                          0.03520582476
                        ],
                        "iteration": 311,
                        "passed_time": 3.82543023,
                        "remaining_time": 8.435564098,
                        "test": [
                          0.05965687997
                        ]
                      },
                      {
                        "learn": [
                          0.03507528752
                        ],
                        "iteration": 312,
                        "passed_time": 3.83107357,
                        "remaining_time": 8.408778091,
                        "test": [
                          0.05961922939
                        ]
                      },
                      {
                        "learn": [
                          0.03506020996
                        ],
                        "iteration": 313,
                        "passed_time": 3.837068089,
                        "remaining_time": 8.382893979,
                        "test": [
                          0.0596287929
                        ]
                      },
                      {
                        "learn": [
                          0.03505347507
                        ],
                        "iteration": 314,
                        "passed_time": 3.846752651,
                        "remaining_time": 8.365160527,
                        "test": [
                          0.05962795381
                        ]
                      },
                      {
                        "learn": [
                          0.035043182
                        ],
                        "iteration": 315,
                        "passed_time": 3.859649113,
                        "remaining_time": 8.354430359,
                        "test": [
                          0.05963217289
                        ]
                      },
                      {
                        "learn": [
                          0.03497361318
                        ],
                        "iteration": 316,
                        "passed_time": 3.869362975,
                        "remaining_time": 8.336829376,
                        "test": [
                          0.05962402388
                        ]
                      },
                      {
                        "learn": [
                          0.03492365385
                        ],
                        "iteration": 317,
                        "passed_time": 3.886262696,
                        "remaining_time": 8.334689178,
                        "test": [
                          0.05962817277
                        ]
                      },
                      {
                        "learn": [
                          0.03490233548
                        ],
                        "iteration": 318,
                        "passed_time": 3.897407578,
                        "remaining_time": 8.320171036,
                        "test": [
                          0.05962414039
                        ]
                      },
                      {
                        "learn": [
                          0.03489222141
                        ],
                        "iteration": 319,
                        "passed_time": 3.911362632,
                        "remaining_time": 8.311645593,
                        "test": [
                          0.05961361896
                        ]
                      },
                      {
                        "learn": [
                          0.03481609004
                        ],
                        "iteration": 320,
                        "passed_time": 3.922886779,
                        "remaining_time": 8.297944309,
                        "test": [
                          0.0596074986
                        ]
                      },
                      {
                        "learn": [
                          0.03480006571
                        ],
                        "iteration": 321,
                        "passed_time": 3.934024797,
                        "remaining_time": 8.283443516,
                        "test": [
                          0.05961637083
                        ]
                      },
                      {
                        "learn": [
                          0.03479128763
                        ],
                        "iteration": 322,
                        "passed_time": 3.943089615,
                        "remaining_time": 8.264618171,
                        "test": [
                          0.05962323981
                        ]
                      },
                      {
                        "learn": [
                          0.03478571039
                        ],
                        "iteration": 323,
                        "passed_time": 3.958061262,
                        "remaining_time": 8.258177201,
                        "test": [
                          0.05962628329
                        ]
                      },
                      {
                        "learn": [
                          0.03474311627
                        ],
                        "iteration": 324,
                        "passed_time": 3.970712422,
                        "remaining_time": 8.246864262,
                        "test": [
                          0.05963638554
                        ]
                      },
                      {
                        "learn": [
                          0.03473071332
                        ],
                        "iteration": 325,
                        "passed_time": 3.991339133,
                        "remaining_time": 8.25203244,
                        "test": [
                          0.05964087002
                        ]
                      },
                      {
                        "learn": [
                          0.03462935154
                        ],
                        "iteration": 326,
                        "passed_time": 4.001829662,
                        "remaining_time": 8.236181536,
                        "test": [
                          0.05961834128
                        ]
                      },
                      {
                        "learn": [
                          0.03461416153
                        ],
                        "iteration": 327,
                        "passed_time": 4.021215791,
                        "remaining_time": 8.238588449,
                        "test": [
                          0.05963084763
                        ]
                      },
                      {
                        "learn": [
                          0.03461386283
                        ],
                        "iteration": 328,
                        "passed_time": 4.033300076,
                        "remaining_time": 8.225970671,
                        "test": [
                          0.05963029611
                        ]
                      },
                      {
                        "learn": [
                          0.03460629531
                        ],
                        "iteration": 329,
                        "passed_time": 4.045076059,
                        "remaining_time": 8.212730181,
                        "test": [
                          0.05962984859
                        ]
                      },
                      {
                        "learn": [
                          0.03460618341
                        ],
                        "iteration": 330,
                        "passed_time": 4.056489077,
                        "remaining_time": 8.198764932,
                        "test": [
                          0.05963007793
                        ]
                      },
                      {
                        "learn": [
                          0.03453443937
                        ],
                        "iteration": 331,
                        "passed_time": 4.067593596,
                        "remaining_time": 8.184194343,
                        "test": [
                          0.05960676895
                        ]
                      },
                      {
                        "learn": [
                          0.03451102453
                        ],
                        "iteration": 332,
                        "passed_time": 4.080130139,
                        "remaining_time": 8.172512922,
                        "test": [
                          0.05960112859
                        ]
                      },
                      {
                        "learn": [
                          0.03449207391
                        ],
                        "iteration": 333,
                        "passed_time": 4.098843646,
                        "remaining_time": 8.173143318,
                        "test": [
                          0.05962347999
                        ]
                      },
                      {
                        "learn": [
                          0.03448217434
                        ],
                        "iteration": 334,
                        "passed_time": 4.121115824,
                        "remaining_time": 8.180722457,
                        "test": [
                          0.0596192466
                        ]
                      },
                      {
                        "learn": [
                          0.03437746908
                        ],
                        "iteration": 335,
                        "passed_time": 4.153517969,
                        "remaining_time": 8.208142654,
                        "test": [
                          0.05963917674
                        ]
                      },
                      {
                        "learn": [
                          0.03436223723
                        ],
                        "iteration": 336,
                        "passed_time": 4.167974771,
                        "remaining_time": 8.199902887,
                        "test": [
                          0.05963458944
                        ]
                      },
                      {
                        "learn": [
                          0.0343277756
                        ],
                        "iteration": 337,
                        "passed_time": 4.178542175,
                        "remaining_time": 8.184008639,
                        "test": [
                          0.0596507861
                        ]
                      },
                      {
                        "learn": [
                          0.03430195757
                        ],
                        "iteration": 338,
                        "passed_time": 4.209484096,
                        "remaining_time": 8.20787312,
                        "test": [
                          0.05964198614
                        ]
                      },
                      {
                        "learn": [
                          0.03426778254
                        ],
                        "iteration": 339,
                        "passed_time": 4.220018078,
                        "remaining_time": 8.191799799,
                        "test": [
                          0.05964238138
                        ]
                      },
                      {
                        "learn": [
                          0.03421292793
                        ],
                        "iteration": 340,
                        "passed_time": 4.23278773,
                        "remaining_time": 8.180079514,
                        "test": [
                          0.05964977359
                        ]
                      },
                      {
                        "learn": [
                          0.03407491649
                        ],
                        "iteration": 341,
                        "passed_time": 4.252337797,
                        "remaining_time": 8.181398452,
                        "test": [
                          0.05963783596
                        ]
                      },
                      {
                        "learn": [
                          0.03404748251
                        ],
                        "iteration": 342,
                        "passed_time": 4.257863066,
                        "remaining_time": 8.155731878,
                        "test": [
                          0.05964637236
                        ]
                      },
                      {
                        "learn": [
                          0.03403827302
                        ],
                        "iteration": 343,
                        "passed_time": 4.267427903,
                        "remaining_time": 8.137885769,
                        "test": [
                          0.05965359465
                        ]
                      },
                      {
                        "learn": [
                          0.03401502162
                        ],
                        "iteration": 344,
                        "passed_time": 4.2787894,
                        "remaining_time": 8.123498715,
                        "test": [
                          0.059657186
                        ]
                      },
                      {
                        "learn": [
                          0.03396953978
                        ],
                        "iteration": 345,
                        "passed_time": 4.297775968,
                        "remaining_time": 8.123541859,
                        "test": [
                          0.05961914861
                        ]
                      },
                      {
                        "learn": [
                          0.03396602485
                        ],
                        "iteration": 346,
                        "passed_time": 4.327371793,
                        "remaining_time": 8.143440291,
                        "test": [
                          0.05961858449
                        ]
                      },
                      {
                        "learn": [
                          0.0339658722
                        ],
                        "iteration": 347,
                        "passed_time": 4.337538095,
                        "remaining_time": 8.126651833,
                        "test": [
                          0.05961829625
                        ]
                      },
                      {
                        "learn": [
                          0.03389796625
                        ],
                        "iteration": 348,
                        "passed_time": 4.347180291,
                        "remaining_time": 8.108923694,
                        "test": [
                          0.05959738817
                        ]
                      },
                      {
                        "learn": [
                          0.03380872302
                        ],
                        "iteration": 349,
                        "passed_time": 4.361295236,
                        "remaining_time": 8.099548296,
                        "test": [
                          0.05959615174
                        ]
                      },
                      {
                        "learn": [
                          0.03379003041
                        ],
                        "iteration": 350,
                        "passed_time": 4.371570255,
                        "remaining_time": 8.083045855,
                        "test": [
                          0.05959726585
                        ]
                      },
                      {
                        "learn": [
                          0.03373775233
                        ],
                        "iteration": 351,
                        "passed_time": 4.383935194,
                        "remaining_time": 8.070426153,
                        "test": [
                          0.05957072791
                        ]
                      },
                      {
                        "learn": [
                          0.03372011264
                        ],
                        "iteration": 352,
                        "passed_time": 4.398275329,
                        "remaining_time": 8.061428153,
                        "test": [
                          0.05959746799
                        ]
                      },
                      {
                        "learn": [
                          0.0337122773
                        ],
                        "iteration": 353,
                        "passed_time": 4.407443899,
                        "remaining_time": 8.042962595,
                        "test": [
                          0.0596044752
                        ]
                      },
                      {
                        "learn": [
                          0.03370043256
                        ],
                        "iteration": 354,
                        "passed_time": 4.421516977,
                        "remaining_time": 8.033460422,
                        "test": [
                          0.05960357146
                        ]
                      },
                      {
                        "learn": [
                          0.03362572107
                        ],
                        "iteration": 355,
                        "passed_time": 4.43503001,
                        "remaining_time": 8.022919456,
                        "test": [
                          0.05962426083
                        ]
                      },
                      {
                        "learn": [
                          0.03361111771
                        ],
                        "iteration": 356,
                        "passed_time": 4.448494788,
                        "remaining_time": 8.012274926,
                        "test": [
                          0.05962043311
                        ]
                      },
                      {
                        "learn": [
                          0.03357651565
                        ],
                        "iteration": 357,
                        "passed_time": 4.464904763,
                        "remaining_time": 8.00689625,
                        "test": [
                          0.05961420794
                        ]
                      },
                      {
                        "learn": [
                          0.0335578301
                        ],
                        "iteration": 358,
                        "passed_time": 4.478961674,
                        "remaining_time": 7.997254688,
                        "test": [
                          0.05961719094
                        ]
                      },
                      {
                        "learn": [
                          0.03344138745
                        ],
                        "iteration": 359,
                        "passed_time": 4.497007048,
                        "remaining_time": 7.994679197,
                        "test": [
                          0.05962376086
                        ]
                      },
                      {
                        "learn": [
                          0.03343988803
                        ],
                        "iteration": 360,
                        "passed_time": 4.519229758,
                        "remaining_time": 7.99941223,
                        "test": [
                          0.05962616691
                        ]
                      },
                      {
                        "learn": [
                          0.03337859005
                        ],
                        "iteration": 361,
                        "passed_time": 4.541809373,
                        "remaining_time": 8.00462536,
                        "test": [
                          0.05966168615
                        ]
                      },
                      {
                        "learn": [
                          0.03334323957
                        ],
                        "iteration": 362,
                        "passed_time": 4.556506244,
                        "remaining_time": 7.995852555,
                        "test": [
                          0.05966033827
                        ]
                      },
                      {
                        "learn": [
                          0.03320346151
                        ],
                        "iteration": 363,
                        "passed_time": 4.578587335,
                        "remaining_time": 7.9999493,
                        "test": [
                          0.05970341657
                        ]
                      },
                      {
                        "learn": [
                          0.03320227272
                        ],
                        "iteration": 364,
                        "passed_time": 4.598887027,
                        "remaining_time": 8.000803457,
                        "test": [
                          0.05970558929
                        ]
                      },
                      {
                        "learn": [
                          0.03319165829
                        ],
                        "iteration": 365,
                        "passed_time": 4.610219177,
                        "remaining_time": 7.986008083,
                        "test": [
                          0.05971676053
                        ]
                      },
                      {
                        "learn": [
                          0.03318914561
                        ],
                        "iteration": 366,
                        "passed_time": 4.639498266,
                        "remaining_time": 8.002186382,
                        "test": [
                          0.05971738652
                        ]
                      },
                      {
                        "learn": [
                          0.03314135189
                        ],
                        "iteration": 367,
                        "passed_time": 4.657513436,
                        "remaining_time": 7.998773075,
                        "test": [
                          0.05976390973
                        ]
                      },
                      {
                        "learn": [
                          0.03307568873
                        ],
                        "iteration": 368,
                        "passed_time": 4.668556368,
                        "remaining_time": 7.983357909,
                        "test": [
                          0.05972547731
                        ]
                      },
                      {
                        "learn": [
                          0.03305355399
                        ],
                        "iteration": 369,
                        "passed_time": 4.67944472,
                        "remaining_time": 7.967703171,
                        "test": [
                          0.05972995377
                        ]
                      },
                      {
                        "learn": [
                          0.0330307594
                        ],
                        "iteration": 370,
                        "passed_time": 4.690542171,
                        "remaining_time": 7.952428641,
                        "test": [
                          0.0597100087
                        ]
                      },
                      {
                        "learn": [
                          0.03302406066
                        ],
                        "iteration": 371,
                        "passed_time": 4.702334894,
                        "remaining_time": 7.938350304,
                        "test": [
                          0.0597120189
                        ]
                      },
                      {
                        "learn": [
                          0.03296829952
                        ],
                        "iteration": 372,
                        "passed_time": 4.718610883,
                        "remaining_time": 7.931820439,
                        "test": [
                          0.05971958498
                        ]
                      },
                      {
                        "learn": [
                          0.03295707966
                        ],
                        "iteration": 373,
                        "passed_time": 4.729160584,
                        "remaining_time": 7.915653812,
                        "test": [
                          0.05971828517
                        ]
                      },
                      {
                        "learn": [
                          0.03295008619
                        ],
                        "iteration": 374,
                        "passed_time": 4.739734195,
                        "remaining_time": 7.899556992,
                        "test": [
                          0.05972499949
                        ]
                      },
                      {
                        "learn": [
                          0.03289943867
                        ],
                        "iteration": 375,
                        "passed_time": 4.752712506,
                        "remaining_time": 7.887480329,
                        "test": [
                          0.05969460207
                        ]
                      },
                      {
                        "learn": [
                          0.03282485384
                        ],
                        "iteration": 376,
                        "passed_time": 4.76779509,
                        "remaining_time": 7.878876236,
                        "test": [
                          0.05969916955
                        ]
                      },
                      {
                        "learn": [
                          0.03263928434
                        ],
                        "iteration": 377,
                        "passed_time": 4.782204643,
                        "remaining_time": 7.869130391,
                        "test": [
                          0.05967156256
                        ]
                      },
                      {
                        "learn": [
                          0.03257808246
                        ],
                        "iteration": 378,
                        "passed_time": 4.793725717,
                        "remaining_time": 7.854627098,
                        "test": [
                          0.05966081773
                        ]
                      },
                      {
                        "learn": [
                          0.03245266182
                        ],
                        "iteration": 379,
                        "passed_time": 4.805628656,
                        "remaining_time": 7.840762545,
                        "test": [
                          0.05967202551
                        ]
                      },
                      {
                        "learn": [
                          0.03241443748
                        ],
                        "iteration": 380,
                        "passed_time": 4.814093633,
                        "remaining_time": 7.821322727,
                        "test": [
                          0.05966336263
                        ]
                      },
                      {
                        "learn": [
                          0.03241298095
                        ],
                        "iteration": 381,
                        "passed_time": 4.82017395,
                        "remaining_time": 7.798082464,
                        "test": [
                          0.05966599236
                        ]
                      },
                      {
                        "learn": [
                          0.03233038412
                        ],
                        "iteration": 382,
                        "passed_time": 4.842561835,
                        "remaining_time": 7.801202747,
                        "test": [
                          0.05966537918
                        ]
                      },
                      {
                        "learn": [
                          0.03232544762
                        ],
                        "iteration": 383,
                        "passed_time": 4.853676713,
                        "remaining_time": 7.786106393,
                        "test": [
                          0.05966924303
                        ]
                      },
                      {
                        "learn": [
                          0.0323171102
                        ],
                        "iteration": 384,
                        "passed_time": 4.881715687,
                        "remaining_time": 7.798065318,
                        "test": [
                          0.05967019818
                        ]
                      },
                      {
                        "learn": [
                          0.03231583705
                        ],
                        "iteration": 385,
                        "passed_time": 4.896614809,
                        "remaining_time": 7.788915784,
                        "test": [
                          0.05967022218
                        ]
                      },
                      {
                        "learn": [
                          0.03230651637
                        ],
                        "iteration": 386,
                        "passed_time": 4.905342259,
                        "remaining_time": 7.769960736,
                        "test": [
                          0.05967536977
                        ]
                      },
                      {
                        "learn": [
                          0.03230282903
                        ],
                        "iteration": 387,
                        "passed_time": 4.917033872,
                        "remaining_time": 7.755733839,
                        "test": [
                          0.05967484263
                        ]
                      },
                      {
                        "learn": [
                          0.03229624606
                        ],
                        "iteration": 388,
                        "passed_time": 4.920280445,
                        "remaining_time": 7.728255403,
                        "test": [
                          0.05968168188
                        ]
                      },
                      {
                        "learn": [
                          0.0322945923
                        ],
                        "iteration": 389,
                        "passed_time": 4.926922917,
                        "remaining_time": 7.706212767,
                        "test": [
                          0.05968217564
                        ]
                      },
                      {
                        "learn": [
                          0.03228833285
                        ],
                        "iteration": 390,
                        "passed_time": 4.93353372,
                        "remaining_time": 7.684199579,
                        "test": [
                          0.05968901852
                        ]
                      },
                      {
                        "learn": [
                          0.03227761182
                        ],
                        "iteration": 391,
                        "passed_time": 4.944892772,
                        "remaining_time": 7.669629606,
                        "test": [
                          0.05969423057
                        ]
                      },
                      {
                        "learn": [
                          0.03223928875
                        ],
                        "iteration": 392,
                        "passed_time": 4.952192239,
                        "remaining_time": 7.648805825,
                        "test": [
                          0.05973829958
                        ]
                      },
                      {
                        "learn": [
                          0.03219906616
                        ],
                        "iteration": 393,
                        "passed_time": 4.957234385,
                        "remaining_time": 7.624578775,
                        "test": [
                          0.05972407436
                        ]
                      },
                      {
                        "learn": [
                          0.03216484834
                        ],
                        "iteration": 394,
                        "passed_time": 4.971955944,
                        "remaining_time": 7.615274293,
                        "test": [
                          0.05971371972
                        ]
                      },
                      {
                        "learn": [
                          0.03208749841
                        ],
                        "iteration": 395,
                        "passed_time": 4.992932471,
                        "remaining_time": 7.61548286,
                        "test": [
                          0.05967377116
                        ]
                      },
                      {
                        "learn": [
                          0.03207420335
                        ],
                        "iteration": 396,
                        "passed_time": 4.998548547,
                        "remaining_time": 7.592253839,
                        "test": [
                          0.05966936714
                        ]
                      },
                      {
                        "learn": [
                          0.03205951332
                        ],
                        "iteration": 397,
                        "passed_time": 5.010365783,
                        "remaining_time": 7.578492968,
                        "test": [
                          0.05966569412
                        ]
                      },
                      {
                        "learn": [
                          0.03197620732
                        ],
                        "iteration": 398,
                        "passed_time": 5.017748393,
                        "remaining_time": 7.558062116,
                        "test": [
                          0.0595711404
                        ]
                      },
                      {
                        "learn": [
                          0.03190751593
                        ],
                        "iteration": 399,
                        "passed_time": 5.02680807,
                        "remaining_time": 7.540212105,
                        "test": [
                          0.05954783249
                        ]
                      },
                      {
                        "learn": [
                          0.03186722364
                        ],
                        "iteration": 400,
                        "passed_time": 5.033933322,
                        "remaining_time": 7.519516359,
                        "test": [
                          0.05957936697
                        ]
                      },
                      {
                        "learn": [
                          0.03186197952
                        ],
                        "iteration": 401,
                        "passed_time": 5.044783234,
                        "remaining_time": 7.50442879,
                        "test": [
                          0.05958057207
                        ]
                      },
                      {
                        "learn": [
                          0.03178423482
                        ],
                        "iteration": 402,
                        "passed_time": 5.066206082,
                        "remaining_time": 7.50502489,
                        "test": [
                          0.05959037784
                        ]
                      },
                      {
                        "learn": [
                          0.03176469304
                        ],
                        "iteration": 403,
                        "passed_time": 5.074319206,
                        "remaining_time": 7.485876849,
                        "test": [
                          0.05958268858
                        ]
                      },
                      {
                        "learn": [
                          0.03176339843
                        ],
                        "iteration": 404,
                        "passed_time": 5.083174858,
                        "remaining_time": 7.467874175,
                        "test": [
                          0.05957785802
                        ]
                      },
                      {
                        "learn": [
                          0.0317273843
                        ],
                        "iteration": 405,
                        "passed_time": 5.099337069,
                        "remaining_time": 7.46060645,
                        "test": [
                          0.0595631905
                        ]
                      },
                      {
                        "learn": [
                          0.03167972256
                        ],
                        "iteration": 406,
                        "passed_time": 5.112083427,
                        "remaining_time": 7.448318114,
                        "test": [
                          0.05956843184
                        ]
                      },
                      {
                        "learn": [
                          0.03167554541
                        ],
                        "iteration": 407,
                        "passed_time": 5.118558183,
                        "remaining_time": 7.42692756,
                        "test": [
                          0.05956673291
                        ]
                      },
                      {
                        "learn": [
                          0.0316743423
                        ],
                        "iteration": 408,
                        "passed_time": 5.134196203,
                        "remaining_time": 7.418850749,
                        "test": [
                          0.05956671463
                        ]
                      },
                      {
                        "learn": [
                          0.03167074878
                        ],
                        "iteration": 409,
                        "passed_time": 5.14810298,
                        "remaining_time": 7.408245751,
                        "test": [
                          0.05956957621
                        ]
                      },
                      {
                        "learn": [
                          0.03166718157
                        ],
                        "iteration": 410,
                        "passed_time": 5.153654108,
                        "remaining_time": 7.385650291,
                        "test": [
                          0.05957222007
                        ]
                      },
                      {
                        "learn": [
                          0.03164667094
                        ],
                        "iteration": 411,
                        "passed_time": 5.166485927,
                        "remaining_time": 7.373528459,
                        "test": [
                          0.05957939551
                        ]
                      },
                      {
                        "learn": [
                          0.03162790029
                        ],
                        "iteration": 412,
                        "passed_time": 5.175516635,
                        "remaining_time": 7.356000641,
                        "test": [
                          0.05959004886
                        ]
                      },
                      {
                        "learn": [
                          0.0316245068
                        ],
                        "iteration": 413,
                        "passed_time": 5.189612776,
                        "remaining_time": 7.345683785,
                        "test": [
                          0.05959272001
                        ]
                      },
                      {
                        "learn": [
                          0.03159270177
                        ],
                        "iteration": 414,
                        "passed_time": 5.201115797,
                        "remaining_time": 7.331693353,
                        "test": [
                          0.05959027457
                        ]
                      },
                      {
                        "learn": [
                          0.03151872434
                        ],
                        "iteration": 415,
                        "passed_time": 5.217906891,
                        "remaining_time": 7.32513852,
                        "test": [
                          0.05959245754
                        ]
                      },
                      {
                        "learn": [
                          0.03151151316
                        ],
                        "iteration": 416,
                        "passed_time": 5.225466828,
                        "remaining_time": 7.305628682,
                        "test": [
                          0.05959010164
                        ]
                      },
                      {
                        "learn": [
                          0.03145146563
                        ],
                        "iteration": 417,
                        "passed_time": 5.231188462,
                        "remaining_time": 7.283616471,
                        "test": [
                          0.05959168271
                        ]
                      },
                      {
                        "learn": [
                          0.03131333776
                        ],
                        "iteration": 418,
                        "passed_time": 5.237834362,
                        "remaining_time": 7.262963638,
                        "test": [
                          0.05955860078
                        ]
                      },
                      {
                        "learn": [
                          0.03130060487
                        ],
                        "iteration": 419,
                        "passed_time": 5.247248219,
                        "remaining_time": 7.246199921,
                        "test": [
                          0.05956088417
                        ]
                      },
                      {
                        "learn": [
                          0.03128233264
                        ],
                        "iteration": 420,
                        "passed_time": 5.254201956,
                        "remaining_time": 7.226087726,
                        "test": [
                          0.05955011928
                        ]
                      },
                      {
                        "learn": [
                          0.03126520082
                        ],
                        "iteration": 421,
                        "passed_time": 5.259674055,
                        "remaining_time": 7.20400854,
                        "test": [
                          0.05956198567
                        ]
                      },
                      {
                        "learn": [
                          0.03126408973
                        ],
                        "iteration": 422,
                        "passed_time": 5.28519263,
                        "remaining_time": 7.209352594,
                        "test": [
                          0.05956194604
                        ]
                      },
                      {
                        "learn": [
                          0.03124225609
                        ],
                        "iteration": 423,
                        "passed_time": 5.30313938,
                        "remaining_time": 7.204264819,
                        "test": [
                          0.0595561334
                        ]
                      },
                      {
                        "learn": [
                          0.03122872319
                        ],
                        "iteration": 424,
                        "passed_time": 5.309129401,
                        "remaining_time": 7.182939778,
                        "test": [
                          0.0595569821
                        ]
                      },
                      {
                        "learn": [
                          0.03120999083
                        ],
                        "iteration": 425,
                        "passed_time": 5.31926064,
                        "remaining_time": 7.167266684,
                        "test": [
                          0.05955645817
                        ]
                      },
                      {
                        "learn": [
                          0.03119495299
                        ],
                        "iteration": 426,
                        "passed_time": 5.339503496,
                        "remaining_time": 7.165188533,
                        "test": [
                          0.05956939526
                        ]
                      },
                      {
                        "learn": [
                          0.0311824421
                        ],
                        "iteration": 427,
                        "passed_time": 5.353254449,
                        "remaining_time": 7.154349404,
                        "test": [
                          0.05958065155
                        ]
                      },
                      {
                        "learn": [
                          0.03116841752
                        ],
                        "iteration": 428,
                        "passed_time": 5.365958128,
                        "remaining_time": 7.142102776,
                        "test": [
                          0.05957395179
                        ]
                      },
                      {
                        "learn": [
                          0.03114118356
                        ],
                        "iteration": 429,
                        "passed_time": 5.376245128,
                        "remaining_time": 7.126650518,
                        "test": [
                          0.05956940671
                        ]
                      },
                      {
                        "learn": [
                          0.0311344779
                        ],
                        "iteration": 430,
                        "passed_time": 5.386970535,
                        "remaining_time": 7.111801007,
                        "test": [
                          0.05957289999
                        ]
                      },
                      {
                        "learn": [
                          0.03108825389
                        ],
                        "iteration": 431,
                        "passed_time": 5.405455694,
                        "remaining_time": 7.107173227,
                        "test": [
                          0.0595676347
                        ]
                      },
                      {
                        "learn": [
                          0.03107485382
                        ],
                        "iteration": 432,
                        "passed_time": 5.417588062,
                        "remaining_time": 7.094162658,
                        "test": [
                          0.05956224537
                        ]
                      },
                      {
                        "learn": [
                          0.0310643284
                        ],
                        "iteration": 433,
                        "passed_time": 5.431690993,
                        "remaining_time": 7.083726042,
                        "test": [
                          0.05957620218
                        ]
                      },
                      {
                        "learn": [
                          0.03105465368
                        ],
                        "iteration": 434,
                        "passed_time": 5.443060156,
                        "remaining_time": 7.069721812,
                        "test": [
                          0.05957850173
                        ]
                      },
                      {
                        "learn": [
                          0.0309792211
                        ],
                        "iteration": 435,
                        "passed_time": 5.464933845,
                        "remaining_time": 7.069318093,
                        "test": [
                          0.05956619761
                        ]
                      },
                      {
                        "learn": [
                          0.03096683847
                        ],
                        "iteration": 436,
                        "passed_time": 5.480559719,
                        "remaining_time": 7.060766869,
                        "test": [
                          0.05956958446
                        ]
                      },
                      {
                        "learn": [
                          0.0309658052
                        ],
                        "iteration": 437,
                        "passed_time": 5.497454653,
                        "remaining_time": 7.053811678,
                        "test": [
                          0.05956951839
                        ]
                      },
                      {
                        "learn": [
                          0.0309484224
                        ],
                        "iteration": 438,
                        "passed_time": 5.526458549,
                        "remaining_time": 7.062285299,
                        "test": [
                          0.05956287488
                        ]
                      },
                      {
                        "learn": [
                          0.03094601119
                        ],
                        "iteration": 439,
                        "passed_time": 5.56669549,
                        "remaining_time": 7.084885169,
                        "test": [
                          0.05956244899
                        ]
                      },
                      {
                        "learn": [
                          0.03084055623
                        ],
                        "iteration": 440,
                        "passed_time": 5.615335623,
                        "remaining_time": 7.117851731,
                        "test": [
                          0.05955194325
                        ]
                      },
                      {
                        "learn": [
                          0.03080853086
                        ],
                        "iteration": 441,
                        "passed_time": 5.636163917,
                        "remaining_time": 7.115338158,
                        "test": [
                          0.05956284805
                        ]
                      },
                      {
                        "learn": [
                          0.03077448872
                        ],
                        "iteration": 442,
                        "passed_time": 5.642612342,
                        "remaining_time": 7.094661568,
                        "test": [
                          0.05955738139
                        ]
                      },
                      {
                        "learn": [
                          0.030737856
                        ],
                        "iteration": 443,
                        "passed_time": 5.653491839,
                        "remaining_time": 7.079597889,
                        "test": [
                          0.05955342438
                        ]
                      },
                      {
                        "learn": [
                          0.03069745228
                        ],
                        "iteration": 444,
                        "passed_time": 5.669485353,
                        "remaining_time": 7.070931171,
                        "test": [
                          0.05956531817
                        ]
                      },
                      {
                        "learn": [
                          0.03064708592
                        ],
                        "iteration": 445,
                        "passed_time": 5.678532296,
                        "remaining_time": 7.053602897,
                        "test": [
                          0.05957555158
                        ]
                      },
                      {
                        "learn": [
                          0.03055350989
                        ],
                        "iteration": 446,
                        "passed_time": 5.690706521,
                        "remaining_time": 7.04018055,
                        "test": [
                          0.05958762885
                        ]
                      },
                      {
                        "learn": [
                          0.03047082868
                        ],
                        "iteration": 447,
                        "passed_time": 5.702796248,
                        "remaining_time": 7.026659663,
                        "test": [
                          0.05959656069
                        ]
                      },
                      {
                        "learn": [
                          0.03042048843
                        ],
                        "iteration": 448,
                        "passed_time": 5.715139053,
                        "remaining_time": 7.01345572,
                        "test": [
                          0.05962104629
                        ]
                      },
                      {
                        "learn": [
                          0.03039836594
                        ],
                        "iteration": 449,
                        "passed_time": 5.727483666,
                        "remaining_time": 7.000257814,
                        "test": [
                          0.05964464335
                        ]
                      },
                      {
                        "learn": [
                          0.03039824903
                        ],
                        "iteration": 450,
                        "passed_time": 5.737296618,
                        "remaining_time": 6.983981915,
                        "test": [
                          0.05964456625
                        ]
                      },
                      {
                        "learn": [
                          0.03039383935
                        ],
                        "iteration": 451,
                        "passed_time": 5.750047133,
                        "remaining_time": 6.971296082,
                        "test": [
                          0.05964481984
                        ]
                      },
                      {
                        "learn": [
                          0.03036431581
                        ],
                        "iteration": 452,
                        "passed_time": 5.76130218,
                        "remaining_time": 6.956804177,
                        "test": [
                          0.05965140662
                        ]
                      },
                      {
                        "learn": [
                          0.03034690937
                        ],
                        "iteration": 453,
                        "passed_time": 5.784668201,
                        "remaining_time": 6.956891713,
                        "test": [
                          0.05965238316
                        ]
                      },
                      {
                        "learn": [
                          0.03034690623
                        ],
                        "iteration": 454,
                        "passed_time": 5.801018283,
                        "remaining_time": 6.948472449,
                        "test": [
                          0.05965207902
                        ]
                      },
                      {
                        "learn": [
                          0.03034681101
                        ],
                        "iteration": 455,
                        "passed_time": 5.80841826,
                        "remaining_time": 6.929341083,
                        "test": [
                          0.05965201758
                        ]
                      },
                      {
                        "learn": [
                          0.03032284784
                        ],
                        "iteration": 456,
                        "passed_time": 5.814473199,
                        "remaining_time": 6.908662903,
                        "test": [
                          0.05966145824
                        ]
                      },
                      {
                        "learn": [
                          0.0302839796
                        ],
                        "iteration": 457,
                        "passed_time": 5.827066807,
                        "remaining_time": 6.895786483,
                        "test": [
                          0.05963671778
                        ]
                      },
                      {
                        "learn": [
                          0.03028339534
                        ],
                        "iteration": 458,
                        "passed_time": 5.839620233,
                        "remaining_time": 6.882863935,
                        "test": [
                          0.05963404845
                        ]
                      },
                      {
                        "learn": [
                          0.03026682547
                        ],
                        "iteration": 459,
                        "passed_time": 5.845930174,
                        "remaining_time": 6.862613682,
                        "test": [
                          0.05963787944
                        ]
                      },
                      {
                        "learn": [
                          0.0302642083
                        ],
                        "iteration": 460,
                        "passed_time": 5.869391115,
                        "remaining_time": 6.862476814,
                        "test": [
                          0.05963965445
                        ]
                      },
                      {
                        "learn": [
                          0.03024420234
                        ],
                        "iteration": 461,
                        "passed_time": 5.883059625,
                        "remaining_time": 6.850835667,
                        "test": [
                          0.05963530702
                        ]
                      },
                      {
                        "learn": [
                          0.03023317061
                        ],
                        "iteration": 462,
                        "passed_time": 5.909368349,
                        "remaining_time": 6.853846228,
                        "test": [
                          0.05962721458
                        ]
                      },
                      {
                        "learn": [
                          0.03022980071
                        ],
                        "iteration": 463,
                        "passed_time": 5.914611313,
                        "remaining_time": 6.832395827,
                        "test": [
                          0.05962911768
                        ]
                      },
                      {
                        "learn": [
                          0.03021560372
                        ],
                        "iteration": 464,
                        "passed_time": 5.926634942,
                        "remaining_time": 6.818816546,
                        "test": [
                          0.05962926259
                        ]
                      },
                      {
                        "learn": [
                          0.03021476799
                        ],
                        "iteration": 465,
                        "passed_time": 5.937351253,
                        "remaining_time": 6.803745857,
                        "test": [
                          0.05962918482
                        ]
                      },
                      {
                        "learn": [
                          0.03020151734
                        ],
                        "iteration": 466,
                        "passed_time": 5.950398726,
                        "remaining_time": 6.791354435,
                        "test": [
                          0.05963783635
                        ]
                      },
                      {
                        "learn": [
                          0.03016634245
                        ],
                        "iteration": 467,
                        "passed_time": 5.962249221,
                        "remaining_time": 6.777599541,
                        "test": [
                          0.0596369667
                        ]
                      },
                      {
                        "learn": [
                          0.0301403461
                        ],
                        "iteration": 468,
                        "passed_time": 5.97287698,
                        "remaining_time": 6.762468393,
                        "test": [
                          0.059656251
                        ]
                      },
                      {
                        "learn": [
                          0.03011209865
                        ],
                        "iteration": 469,
                        "passed_time": 5.984682595,
                        "remaining_time": 6.748684629,
                        "test": [
                          0.05965525206
                        ]
                      },
                      {
                        "learn": [
                          0.03006149996
                        ],
                        "iteration": 470,
                        "passed_time": 6.002598069,
                        "remaining_time": 6.741771504,
                        "test": [
                          0.05963216543
                        ]
                      },
                      {
                        "learn": [
                          0.03005154646
                        ],
                        "iteration": 471,
                        "passed_time": 6.026872001,
                        "remaining_time": 6.741924611,
                        "test": [
                          0.05962497992
                        ]
                      },
                      {
                        "learn": [
                          0.03001976616
                        ],
                        "iteration": 472,
                        "passed_time": 6.050921094,
                        "remaining_time": 6.741723925,
                        "test": [
                          0.05962470184
                        ]
                      },
                      {
                        "learn": [
                          0.03001618669
                        ],
                        "iteration": 473,
                        "passed_time": 6.064205652,
                        "remaining_time": 6.729477158,
                        "test": [
                          0.05962713409
                        ]
                      },
                      {
                        "learn": [
                          0.02997118981
                        ],
                        "iteration": 474,
                        "passed_time": 6.074954599,
                        "remaining_time": 6.714423505,
                        "test": [
                          0.05962378461
                        ]
                      },
                      {
                        "learn": [
                          0.0299040269
                        ],
                        "iteration": 475,
                        "passed_time": 6.08081051,
                        "remaining_time": 6.694001486,
                        "test": [
                          0.05959092475
                        ]
                      },
                      {
                        "learn": [
                          0.02990397674
                        ],
                        "iteration": 476,
                        "passed_time": 6.090043814,
                        "remaining_time": 6.677343636,
                        "test": [
                          0.05959137651
                        ]
                      },
                      {
                        "learn": [
                          0.02988147528
                        ],
                        "iteration": 477,
                        "passed_time": 6.11448034,
                        "remaining_time": 6.677319535,
                        "test": [
                          0.05959449037
                        ]
                      },
                      {
                        "learn": [
                          0.02987383254
                        ],
                        "iteration": 478,
                        "passed_time": 6.132261791,
                        "remaining_time": 6.669954892,
                        "test": [
                          0.05960139729
                        ]
                      },
                      {
                        "learn": [
                          0.02985884645
                        ],
                        "iteration": 479,
                        "passed_time": 6.147656561,
                        "remaining_time": 6.659961274,
                        "test": [
                          0.05959297354
                        ]
                      },
                      {
                        "learn": [
                          0.02982441836
                        ],
                        "iteration": 480,
                        "passed_time": 6.157577168,
                        "remaining_time": 6.644038566,
                        "test": [
                          0.05959063937
                        ]
                      },
                      {
                        "learn": [
                          0.02979790079
                        ],
                        "iteration": 481,
                        "passed_time": 6.167518406,
                        "remaining_time": 6.628162935,
                        "test": [
                          0.05960057828
                        ]
                      },
                      {
                        "learn": [
                          0.02975039233
                        ],
                        "iteration": 482,
                        "passed_time": 6.176965238,
                        "remaining_time": 6.611782666,
                        "test": [
                          0.05960089138
                        ]
                      },
                      {
                        "learn": [
                          0.02973714882
                        ],
                        "iteration": 483,
                        "passed_time": 6.188170016,
                        "remaining_time": 6.597305224,
                        "test": [
                          0.0595992124
                        ]
                      },
                      {
                        "learn": [
                          0.02972415971
                        ],
                        "iteration": 484,
                        "passed_time": 6.199736568,
                        "remaining_time": 6.583225428,
                        "test": [
                          0.05959707819
                        ]
                      },
                      {
                        "learn": [
                          0.0297169912
                        ],
                        "iteration": 485,
                        "passed_time": 6.207988234,
                        "remaining_time": 6.565650108,
                        "test": [
                          0.05960380591
                        ]
                      },
                      {
                        "learn": [
                          0.02971182431
                        ],
                        "iteration": 486,
                        "passed_time": 6.215131088,
                        "remaining_time": 6.546945068,
                        "test": [
                          0.05960701039
                        ]
                      },
                      {
                        "learn": [
                          0.02966402218
                        ],
                        "iteration": 487,
                        "passed_time": 6.226307879,
                        "remaining_time": 6.532519741,
                        "test": [
                          0.05960168575
                        ]
                      },
                      {
                        "learn": [
                          0.02965887483
                        ],
                        "iteration": 488,
                        "passed_time": 6.254238277,
                        "remaining_time": 6.53561505,
                        "test": [
                          0.05960395922
                        ]
                      },
                      {
                        "learn": [
                          0.02964315226
                        ],
                        "iteration": 489,
                        "passed_time": 6.268704929,
                        "remaining_time": 6.524570436,
                        "test": [
                          0.05959818304
                        ]
                      },
                      {
                        "learn": [
                          0.02963828077
                        ],
                        "iteration": 490,
                        "passed_time": 6.284609641,
                        "remaining_time": 6.515002663,
                        "test": [
                          0.05960051182
                        ]
                      },
                      {
                        "learn": [
                          0.02957606268
                        ],
                        "iteration": 491,
                        "passed_time": 6.305665223,
                        "remaining_time": 6.510727506,
                        "test": [
                          0.05958037326
                        ]
                      },
                      {
                        "learn": [
                          0.02957134278
                        ],
                        "iteration": 492,
                        "passed_time": 6.323011441,
                        "remaining_time": 6.502569575,
                        "test": [
                          0.05957875602
                        ]
                      },
                      {
                        "learn": [
                          0.02956844054
                        ],
                        "iteration": 493,
                        "passed_time": 6.330303709,
                        "remaining_time": 6.484076269,
                        "test": [
                          0.05957865706
                        ]
                      },
                      {
                        "learn": [
                          0.02953807261
                        ],
                        "iteration": 494,
                        "passed_time": 6.34128724,
                        "remaining_time": 6.469394053,
                        "test": [
                          0.05957257907
                        ]
                      },
                      {
                        "learn": [
                          0.02953215831
                        ],
                        "iteration": 495,
                        "passed_time": 6.357310773,
                        "remaining_time": 6.459848044,
                        "test": [
                          0.05957897534
                        ]
                      },
                      {
                        "learn": [
                          0.02947393655
                        ],
                        "iteration": 496,
                        "passed_time": 6.375305314,
                        "remaining_time": 6.45227077,
                        "test": [
                          0.05955726633
                        ]
                      },
                      {
                        "learn": [
                          0.0294732915
                        ],
                        "iteration": 497,
                        "passed_time": 6.388500848,
                        "remaining_time": 6.439814108,
                        "test": [
                          0.05955707423
                        ]
                      },
                      {
                        "learn": [
                          0.02941182234
                        ],
                        "iteration": 498,
                        "passed_time": 6.400916386,
                        "remaining_time": 6.426571362,
                        "test": [
                          0.05957130869
                        ]
                      },
                      {
                        "learn": [
                          0.02937035637
                        ],
                        "iteration": 499,
                        "passed_time": 6.414227127,
                        "remaining_time": 6.414227127,
                        "test": [
                          0.05955830822
                        ]
                      },
                      {
                        "learn": [
                          0.02935837265
                        ],
                        "iteration": 500,
                        "passed_time": 6.426860548,
                        "remaining_time": 6.401204418,
                        "test": [
                          0.05956229913
                        ]
                      },
                      {
                        "learn": [
                          0.02934354343
                        ],
                        "iteration": 501,
                        "passed_time": 6.43864197,
                        "remaining_time": 6.387338049,
                        "test": [
                          0.05956878904
                        ]
                      },
                      {
                        "learn": [
                          0.02932381263
                        ],
                        "iteration": 502,
                        "passed_time": 6.45135737,
                        "remaining_time": 6.374402809,
                        "test": [
                          0.05957291851
                        ]
                      },
                      {
                        "learn": [
                          0.0292685419
                        ],
                        "iteration": 503,
                        "passed_time": 6.464674723,
                        "remaining_time": 6.362060839,
                        "test": [
                          0.05956660208
                        ]
                      },
                      {
                        "learn": [
                          0.02923036187
                        ],
                        "iteration": 504,
                        "passed_time": 6.518048004,
                        "remaining_time": 6.388977747,
                        "test": [
                          0.05955687315
                        ]
                      },
                      {
                        "learn": [
                          0.02919468085
                        ],
                        "iteration": 505,
                        "passed_time": 6.535663762,
                        "remaining_time": 6.380667784,
                        "test": [
                          0.0595493216
                        ]
                      },
                      {
                        "learn": [
                          0.02916961253
                        ],
                        "iteration": 506,
                        "passed_time": 6.561159421,
                        "remaining_time": 6.379983421,
                        "test": [
                          0.05955183386
                        ]
                      },
                      {
                        "learn": [
                          0.02916035437
                        ],
                        "iteration": 507,
                        "passed_time": 6.590130218,
                        "remaining_time": 6.382567061,
                        "test": [
                          0.05954377884
                        ]
                      },
                      {
                        "learn": [
                          0.02912400838
                        ],
                        "iteration": 508,
                        "passed_time": 6.605156025,
                        "remaining_time": 6.371574869,
                        "test": [
                          0.05956627054
                        ]
                      },
                      {
                        "learn": [
                          0.02910412603
                        ],
                        "iteration": 509,
                        "passed_time": 6.613755782,
                        "remaining_time": 6.35439281,
                        "test": [
                          0.05957103346
                        ]
                      },
                      {
                        "learn": [
                          0.02908965181
                        ],
                        "iteration": 510,
                        "passed_time": 6.621818908,
                        "remaining_time": 6.336730814,
                        "test": [
                          0.0595623486
                        ]
                      },
                      {
                        "learn": [
                          0.02906336299
                        ],
                        "iteration": 511,
                        "passed_time": 6.627571299,
                        "remaining_time": 6.316903895,
                        "test": [
                          0.05955711705
                        ]
                      },
                      {
                        "learn": [
                          0.02902278023
                        ],
                        "iteration": 512,
                        "passed_time": 6.636156948,
                        "remaining_time": 6.299821509,
                        "test": [
                          0.05955473692
                        ]
                      },
                      {
                        "learn": [
                          0.0289889988
                        ],
                        "iteration": 513,
                        "passed_time": 6.642319305,
                        "remaining_time": 6.2804809,
                        "test": [
                          0.05953909709
                        ]
                      },
                      {
                        "learn": [
                          0.028946814
                        ],
                        "iteration": 514,
                        "passed_time": 6.650558649,
                        "remaining_time": 6.263147466,
                        "test": [
                          0.05954322718
                        ]
                      },
                      {
                        "learn": [
                          0.02893483434
                        ],
                        "iteration": 515,
                        "passed_time": 6.656302512,
                        "remaining_time": 6.243508558,
                        "test": [
                          0.0595344418
                        ]
                      },
                      {
                        "learn": [
                          0.02892198267
                        ],
                        "iteration": 516,
                        "passed_time": 6.66593131,
                        "remaining_time": 6.227552849,
                        "test": [
                          0.05952706715
                        ]
                      },
                      {
                        "learn": [
                          0.0288733348
                        ],
                        "iteration": 517,
                        "passed_time": 6.673697316,
                        "remaining_time": 6.209888236,
                        "test": [
                          0.05954676272
                        ]
                      },
                      {
                        "learn": [
                          0.02884165187
                        ],
                        "iteration": 518,
                        "passed_time": 6.679486506,
                        "remaining_time": 6.19042969,
                        "test": [
                          0.05955144365
                        ]
                      },
                      {
                        "learn": [
                          0.02881982724
                        ],
                        "iteration": 519,
                        "passed_time": 6.685830484,
                        "remaining_time": 6.171535831,
                        "test": [
                          0.0595536706
                        ]
                      },
                      {
                        "learn": [
                          0.02880680493
                        ],
                        "iteration": 520,
                        "passed_time": 6.690099017,
                        "remaining_time": 6.150782014,
                        "test": [
                          0.05954058882
                        ]
                      },
                      {
                        "learn": [
                          0.02877806035
                        ],
                        "iteration": 521,
                        "passed_time": 6.708190103,
                        "remaining_time": 6.142748791,
                        "test": [
                          0.05952955407
                        ]
                      },
                      {
                        "learn": [
                          0.02877670579
                        ],
                        "iteration": 522,
                        "passed_time": 6.71710772,
                        "remaining_time": 6.126310482,
                        "test": [
                          0.0595309443
                        ]
                      },
                      {
                        "learn": [
                          0.02877190971
                        ],
                        "iteration": 523,
                        "passed_time": 6.725230519,
                        "remaining_time": 6.109178868,
                        "test": [
                          0.05953403182
                        ]
                      },
                      {
                        "learn": [
                          0.02874770841
                        ],
                        "iteration": 524,
                        "passed_time": 6.731000623,
                        "remaining_time": 6.089952945,
                        "test": [
                          0.05952802492
                        ]
                      },
                      {
                        "learn": [
                          0.02873399982
                        ],
                        "iteration": 525,
                        "passed_time": 6.738457179,
                        "remaining_time": 6.072297914,
                        "test": [
                          0.05952992274
                        ]
                      },
                      {
                        "learn": [
                          0.02873125499
                        ],
                        "iteration": 526,
                        "passed_time": 6.75011745,
                        "remaining_time": 6.058454561,
                        "test": [
                          0.05953156253
                        ]
                      },
                      {
                        "learn": [
                          0.02869342635
                        ],
                        "iteration": 527,
                        "passed_time": 6.76161674,
                        "remaining_time": 6.044475571,
                        "test": [
                          0.05953248767
                        ]
                      },
                      {
                        "learn": [
                          0.02868787593
                        ],
                        "iteration": 528,
                        "passed_time": 6.769118301,
                        "remaining_time": 6.02694654,
                        "test": [
                          0.0595325199
                        ]
                      },
                      {
                        "learn": [
                          0.02867070119
                        ],
                        "iteration": 529,
                        "passed_time": 6.774094561,
                        "remaining_time": 6.007215931,
                        "test": [
                          0.05952961637
                        ]
                      },
                      {
                        "learn": [
                          0.0286378119
                        ],
                        "iteration": 530,
                        "passed_time": 6.791047945,
                        "remaining_time": 5.99811956,
                        "test": [
                          0.059511281
                        ]
                      },
                      {
                        "learn": [
                          0.02857872669
                        ],
                        "iteration": 531,
                        "passed_time": 6.812761802,
                        "remaining_time": 5.993181435,
                        "test": [
                          0.05951859703
                        ]
                      },
                      {
                        "learn": [
                          0.0285592914
                        ],
                        "iteration": 532,
                        "passed_time": 6.825550948,
                        "remaining_time": 5.980360774,
                        "test": [
                          0.05950828099
                        ]
                      },
                      {
                        "learn": [
                          0.02854810104
                        ],
                        "iteration": 533,
                        "passed_time": 6.839685607,
                        "remaining_time": 5.968714406,
                        "test": [
                          0.05951619899
                        ]
                      },
                      {
                        "learn": [
                          0.02854638941
                        ],
                        "iteration": 534,
                        "passed_time": 6.843903615,
                        "remaining_time": 5.948439591,
                        "test": [
                          0.0595141275
                        ]
                      },
                      {
                        "learn": [
                          0.0284612829
                        ],
                        "iteration": 535,
                        "passed_time": 6.863983459,
                        "remaining_time": 5.94195583,
                        "test": [
                          0.05949926357
                        ]
                      },
                      {
                        "learn": [
                          0.02843144436
                        ],
                        "iteration": 536,
                        "passed_time": 6.871064626,
                        "remaining_time": 5.924214008,
                        "test": [
                          0.05948433612
                        ]
                      },
                      {
                        "learn": [
                          0.0284136318
                        ],
                        "iteration": 537,
                        "passed_time": 6.88974069,
                        "remaining_time": 5.916468771,
                        "test": [
                          0.05945027676
                        ]
                      },
                      {
                        "learn": [
                          0.02838928544
                        ],
                        "iteration": 538,
                        "passed_time": 6.898435203,
                        "remaining_time": 5.900145879,
                        "test": [
                          0.05945660519
                        ]
                      },
                      {
                        "learn": [
                          0.02836581695
                        ],
                        "iteration": 539,
                        "passed_time": 6.911860753,
                        "remaining_time": 5.887881382,
                        "test": [
                          0.05946147468
                        ]
                      },
                      {
                        "learn": [
                          0.02836166732
                        ],
                        "iteration": 540,
                        "passed_time": 6.921672647,
                        "remaining_time": 5.872546664,
                        "test": [
                          0.05946119212
                        ]
                      },
                      {
                        "learn": [
                          0.02834626512
                        ],
                        "iteration": 541,
                        "passed_time": 6.932979316,
                        "remaining_time": 5.858495437,
                        "test": [
                          0.05946108702
                        ]
                      },
                      {
                        "learn": [
                          0.02831441854
                        ],
                        "iteration": 542,
                        "passed_time": 6.938847933,
                        "remaining_time": 5.839877542,
                        "test": [
                          0.05945484856
                        ]
                      },
                      {
                        "learn": [
                          0.0283140794
                        ],
                        "iteration": 543,
                        "passed_time": 6.94674388,
                        "remaining_time": 5.823005899,
                        "test": [
                          0.05945498117
                        ]
                      },
                      {
                        "learn": [
                          0.02830548847
                        ],
                        "iteration": 544,
                        "passed_time": 6.965658159,
                        "remaining_time": 5.815365986,
                        "test": [
                          0.05945194016
                        ]
                      },
                      {
                        "learn": [
                          0.02827190997
                        ],
                        "iteration": 545,
                        "passed_time": 6.988068454,
                        "remaining_time": 5.810591719,
                        "test": [
                          0.05945540194
                        ]
                      },
                      {
                        "learn": [
                          0.02822959847
                        ],
                        "iteration": 546,
                        "passed_time": 6.994245521,
                        "remaining_time": 5.792309362,
                        "test": [
                          0.05946281673
                        ]
                      },
                      {
                        "learn": [
                          0.02819646416
                        ],
                        "iteration": 547,
                        "passed_time": 7.001578833,
                        "remaining_time": 5.775024877,
                        "test": [
                          0.05946007684
                        ]
                      },
                      {
                        "learn": [
                          0.02818341798
                        ],
                        "iteration": 548,
                        "passed_time": 7.008310779,
                        "remaining_time": 5.757282625,
                        "test": [
                          0.05945682982
                        ]
                      },
                      {
                        "learn": [
                          0.02816253629
                        ],
                        "iteration": 549,
                        "passed_time": 7.01914055,
                        "remaining_time": 5.742933177,
                        "test": [
                          0.05943451986
                        ]
                      },
                      {
                        "learn": [
                          0.02815264257
                        ],
                        "iteration": 550,
                        "passed_time": 7.026764539,
                        "remaining_time": 5.725984171,
                        "test": [
                          0.05944025438
                        ]
                      },
                      {
                        "learn": [
                          0.02814994385
                        ],
                        "iteration": 551,
                        "passed_time": 7.032477632,
                        "remaining_time": 5.707518078,
                        "test": [
                          0.05944175675
                        ]
                      },
                      {
                        "learn": [
                          0.02813719052
                        ],
                        "iteration": 552,
                        "passed_time": 7.05037342,
                        "remaining_time": 5.698945604,
                        "test": [
                          0.05944694979
                        ]
                      },
                      {
                        "learn": [
                          0.0281260357
                        ],
                        "iteration": 553,
                        "passed_time": 7.061435984,
                        "remaining_time": 5.684838355,
                        "test": [
                          0.05945137784
                        ]
                      },
                      {
                        "learn": [
                          0.02808247524
                        ],
                        "iteration": 554,
                        "passed_time": 7.066599665,
                        "remaining_time": 5.666012344,
                        "test": [
                          0.05942765974
                        ]
                      },
                      {
                        "learn": [
                          0.02808101234
                        ],
                        "iteration": 555,
                        "passed_time": 7.074614259,
                        "remaining_time": 5.649512106,
                        "test": [
                          0.05942933292
                        ]
                      },
                      {
                        "learn": [
                          0.0279974971
                        ],
                        "iteration": 556,
                        "passed_time": 7.080341673,
                        "remaining_time": 5.63122327,
                        "test": [
                          0.05941099828
                        ]
                      },
                      {
                        "learn": [
                          0.02799450626
                        ],
                        "iteration": 557,
                        "passed_time": 7.084483893,
                        "remaining_time": 5.6117238,
                        "test": [
                          0.05941325906
                        ]
                      },
                      {
                        "learn": [
                          0.02797887962
                        ],
                        "iteration": 558,
                        "passed_time": 7.093263133,
                        "remaining_time": 5.595937463,
                        "test": [
                          0.05940053126
                        ]
                      },
                      {
                        "learn": [
                          0.02791116724
                        ],
                        "iteration": 559,
                        "passed_time": 7.100807147,
                        "remaining_time": 5.579205615,
                        "test": [
                          0.05941188423
                        ]
                      },
                      {
                        "learn": [
                          0.02786833483
                        ],
                        "iteration": 560,
                        "passed_time": 7.108098716,
                        "remaining_time": 5.562308977,
                        "test": [
                          0.05941703309
                        ]
                      },
                      {
                        "learn": [
                          0.02784441031
                        ],
                        "iteration": 561,
                        "passed_time": 7.11377531,
                        "remaining_time": 5.544187875,
                        "test": [
                          0.05940898634
                        ]
                      },
                      {
                        "learn": [
                          0.02784041702
                        ],
                        "iteration": 562,
                        "passed_time": 7.119788632,
                        "remaining_time": 5.526372348,
                        "test": [
                          0.05941208346
                        ]
                      },
                      {
                        "learn": [
                          0.02784012411
                        ],
                        "iteration": 563,
                        "passed_time": 7.127827095,
                        "remaining_time": 5.510164208,
                        "test": [
                          0.05941221112
                        ]
                      },
                      {
                        "learn": [
                          0.02783977884
                        ],
                        "iteration": 564,
                        "passed_time": 7.143408369,
                        "remaining_time": 5.499792284,
                        "test": [
                          0.05941220744
                        ]
                      },
                      {
                        "learn": [
                          0.02782515725
                        ],
                        "iteration": 565,
                        "passed_time": 7.154424032,
                        "remaining_time": 5.485901113,
                        "test": [
                          0.05942268089
                        ]
                      },
                      {
                        "learn": [
                          0.02780526328
                        ],
                        "iteration": 566,
                        "passed_time": 7.177521473,
                        "remaining_time": 5.481246557,
                        "test": [
                          0.05941043866
                        ]
                      },
                      {
                        "learn": [
                          0.02779022897
                        ],
                        "iteration": 567,
                        "passed_time": 7.190384772,
                        "remaining_time": 5.468743348,
                        "test": [
                          0.05940948743
                        ]
                      },
                      {
                        "learn": [
                          0.02775530282
                        ],
                        "iteration": 568,
                        "passed_time": 7.199032396,
                        "remaining_time": 5.453045628,
                        "test": [
                          0.05939569564
                        ]
                      },
                      {
                        "learn": [
                          0.02772054241
                        ],
                        "iteration": 569,
                        "passed_time": 7.2082687,
                        "remaining_time": 5.437816738,
                        "test": [
                          0.05939437473
                        ]
                      },
                      {
                        "learn": [
                          0.02769599567
                        ],
                        "iteration": 570,
                        "passed_time": 7.238451842,
                        "remaining_time": 5.43834648,
                        "test": [
                          0.05939910364
                        ]
                      },
                      {
                        "learn": [
                          0.0276820054
                        ],
                        "iteration": 571,
                        "passed_time": 7.258289251,
                        "remaining_time": 5.431027622,
                        "test": [
                          0.05940397936
                        ]
                      },
                      {
                        "learn": [
                          0.02766618041
                        ],
                        "iteration": 572,
                        "passed_time": 7.280454695,
                        "remaining_time": 5.425399921,
                        "test": [
                          0.05939146493
                        ]
                      },
                      {
                        "learn": [
                          0.02764876985
                        ],
                        "iteration": 573,
                        "passed_time": 7.292622853,
                        "remaining_time": 5.41229501,
                        "test": [
                          0.05939503621
                        ]
                      },
                      {
                        "learn": [
                          0.02762347056
                        ],
                        "iteration": 574,
                        "passed_time": 7.311228026,
                        "remaining_time": 5.403951149,
                        "test": [
                          0.0593980226
                        ]
                      },
                      {
                        "learn": [
                          0.02761826418
                        ],
                        "iteration": 575,
                        "passed_time": 7.316595327,
                        "remaining_time": 5.385827116,
                        "test": [
                          0.05940441881
                        ]
                      },
                      {
                        "learn": [
                          0.02761474899
                        ],
                        "iteration": 576,
                        "passed_time": 7.329899354,
                        "remaining_time": 5.373565731,
                        "test": [
                          0.05940756506
                        ]
                      },
                      {
                        "learn": [
                          0.02758754355
                        ],
                        "iteration": 577,
                        "passed_time": 7.340719102,
                        "remaining_time": 5.359486957,
                        "test": [
                          0.05941044813
                        ]
                      },
                      {
                        "learn": [
                          0.02755287071
                        ],
                        "iteration": 578,
                        "passed_time": 7.351950746,
                        "remaining_time": 5.345718936,
                        "test": [
                          0.05940652877
                        ]
                      },
                      {
                        "learn": [
                          0.02753407184
                        ],
                        "iteration": 579,
                        "passed_time": 7.36314613,
                        "remaining_time": 5.331933405,
                        "test": [
                          0.05938452449
                        ]
                      },
                      {
                        "learn": [
                          0.02747815827
                        ],
                        "iteration": 580,
                        "passed_time": 7.374954528,
                        "remaining_time": 5.318598876,
                        "test": [
                          0.05938167954
                        ]
                      },
                      {
                        "learn": [
                          0.02747738076
                        ],
                        "iteration": 581,
                        "passed_time": 7.393904775,
                        "remaining_time": 5.310398962,
                        "test": [
                          0.05938275614
                        ]
                      },
                      {
                        "learn": [
                          0.0274756252
                        ],
                        "iteration": 582,
                        "passed_time": 7.41517331,
                        "remaining_time": 5.30382036,
                        "test": [
                          0.05937579204
                        ]
                      },
                      {
                        "learn": [
                          0.02745183503
                        ],
                        "iteration": 583,
                        "passed_time": 7.427530845,
                        "remaining_time": 5.29084389,
                        "test": [
                          0.05937021388
                        ]
                      },
                      {
                        "learn": [
                          0.02744742861
                        ],
                        "iteration": 584,
                        "passed_time": 7.441044128,
                        "remaining_time": 5.278689424,
                        "test": [
                          0.05937303667
                        ]
                      },
                      {
                        "learn": [
                          0.02740946838
                        ],
                        "iteration": 585,
                        "passed_time": 7.446831636,
                        "remaining_time": 5.26107218,
                        "test": [
                          0.05936193463
                        ]
                      },
                      {
                        "learn": [
                          0.02734964742
                        ],
                        "iteration": 586,
                        "passed_time": 7.452298972,
                        "remaining_time": 5.243269976,
                        "test": [
                          0.0593450702
                        ]
                      },
                      {
                        "learn": [
                          0.02729089478
                        ],
                        "iteration": 587,
                        "passed_time": 7.493733139,
                        "remaining_time": 5.250710975,
                        "test": [
                          0.05936430006
                        ]
                      },
                      {
                        "learn": [
                          0.02724980282
                        ],
                        "iteration": 588,
                        "passed_time": 7.526143808,
                        "remaining_time": 5.251689482,
                        "test": [
                          0.05936531517
                        ]
                      },
                      {
                        "learn": [
                          0.02723676894
                        ],
                        "iteration": 589,
                        "passed_time": 7.54010565,
                        "remaining_time": 5.239734435,
                        "test": [
                          0.05936784173
                        ]
                      },
                      {
                        "learn": [
                          0.0272268767
                        ],
                        "iteration": 590,
                        "passed_time": 7.55474593,
                        "remaining_time": 5.228242107,
                        "test": [
                          0.05936486794
                        ]
                      },
                      {
                        "learn": [
                          0.02719963071
                        ],
                        "iteration": 591,
                        "passed_time": 7.564158869,
                        "remaining_time": 5.213136518,
                        "test": [
                          0.0593688268
                        ]
                      },
                      {
                        "learn": [
                          0.02718288464
                        ],
                        "iteration": 592,
                        "passed_time": 7.572485941,
                        "remaining_time": 5.197304853,
                        "test": [
                          0.05938565115
                        ]
                      },
                      {
                        "learn": [
                          0.02715256194
                        ],
                        "iteration": 593,
                        "passed_time": 7.579046722,
                        "remaining_time": 5.180291194,
                        "test": [
                          0.05938523306
                        ]
                      },
                      {
                        "learn": [
                          0.02713564666
                        ],
                        "iteration": 594,
                        "passed_time": 7.586133865,
                        "remaining_time": 5.16367095,
                        "test": [
                          0.05938271211
                        ]
                      },
                      {
                        "learn": [
                          0.0270690212
                        ],
                        "iteration": 595,
                        "passed_time": 7.594548539,
                        "remaining_time": 5.147982566,
                        "test": [
                          0.05938965979
                        ]
                      },
                      {
                        "learn": [
                          0.02702502084
                        ],
                        "iteration": 596,
                        "passed_time": 7.599202117,
                        "remaining_time": 5.129779654,
                        "test": [
                          0.05938485384
                        ]
                      },
                      {
                        "learn": [
                          0.02699738702
                        ],
                        "iteration": 597,
                        "passed_time": 7.607561977,
                        "remaining_time": 5.11411357,
                        "test": [
                          0.05936836466
                        ]
                      },
                      {
                        "learn": [
                          0.02695944415
                        ],
                        "iteration": 598,
                        "passed_time": 7.613491704,
                        "remaining_time": 5.096845031,
                        "test": [
                          0.05937774032
                        ]
                      },
                      {
                        "learn": [
                          0.02693610961
                        ],
                        "iteration": 599,
                        "passed_time": 7.641284907,
                        "remaining_time": 5.094189938,
                        "test": [
                          0.05936109511
                        ]
                      },
                      {
                        "learn": [
                          0.02692604475
                        ],
                        "iteration": 600,
                        "passed_time": 7.657834901,
                        "remaining_time": 5.083986898,
                        "test": [
                          0.05936577721
                        ]
                      },
                      {
                        "learn": [
                          0.02691156148
                        ],
                        "iteration": 601,
                        "passed_time": 7.687098638,
                        "remaining_time": 5.082168203,
                        "test": [
                          0.05936394968
                        ]
                      },
                      {
                        "learn": [
                          0.02687982453
                        ],
                        "iteration": 602,
                        "passed_time": 7.694662328,
                        "remaining_time": 5.065971715,
                        "test": [
                          0.05936273377
                        ]
                      },
                      {
                        "learn": [
                          0.02687213115
                        ],
                        "iteration": 603,
                        "passed_time": 7.701870298,
                        "remaining_time": 5.049570593,
                        "test": [
                          0.05936547145
                        ]
                      },
                      {
                        "learn": [
                          0.02684859897
                        ],
                        "iteration": 604,
                        "passed_time": 7.709222923,
                        "remaining_time": 5.033294305,
                        "test": [
                          0.05937516496
                        ]
                      },
                      {
                        "learn": [
                          0.02683616108
                        ],
                        "iteration": 605,
                        "passed_time": 7.717437994,
                        "remaining_time": 5.017608201,
                        "test": [
                          0.05938059691
                        ]
                      },
                      {
                        "learn": [
                          0.02681860913
                        ],
                        "iteration": 606,
                        "passed_time": 7.726137969,
                        "remaining_time": 5.002260662,
                        "test": [
                          0.05937809905
                        ]
                      },
                      {
                        "learn": [
                          0.02677012842
                        ],
                        "iteration": 607,
                        "passed_time": 7.744777844,
                        "remaining_time": 4.99334361,
                        "test": [
                          0.05937986488
                        ]
                      },
                      {
                        "learn": [
                          0.02674213112
                        ],
                        "iteration": 608,
                        "passed_time": 7.750355672,
                        "remaining_time": 4.976008321,
                        "test": [
                          0.05937247562
                        ]
                      },
                      {
                        "learn": [
                          0.02673411665
                        ],
                        "iteration": 609,
                        "passed_time": 7.772792887,
                        "remaining_time": 4.969490534,
                        "test": [
                          0.05937442052
                        ]
                      },
                      {
                        "learn": [
                          0.0267248334
                        ],
                        "iteration": 610,
                        "passed_time": 7.777811097,
                        "remaining_time": 4.951830633,
                        "test": [
                          0.05938224546
                        ]
                      },
                      {
                        "learn": [
                          0.0266819893
                        ],
                        "iteration": 611,
                        "passed_time": 7.783701314,
                        "remaining_time": 4.934764886,
                        "test": [
                          0.0593563142
                        ]
                      },
                      {
                        "learn": [
                          0.02668160674
                        ],
                        "iteration": 612,
                        "passed_time": 7.79150999,
                        "remaining_time": 4.918946764,
                        "test": [
                          0.05935635959
                        ]
                      },
                      {
                        "learn": [
                          0.02667198415
                        ],
                        "iteration": 613,
                        "passed_time": 7.79626483,
                        "remaining_time": 4.901234893,
                        "test": [
                          0.05935492658
                        ]
                      },
                      {
                        "learn": [
                          0.02661502997
                        ],
                        "iteration": 614,
                        "passed_time": 7.803045327,
                        "remaining_time": 4.884833253,
                        "test": [
                          0.059342779
                        ]
                      },
                      {
                        "learn": [
                          0.02658734995
                        ],
                        "iteration": 615,
                        "passed_time": 7.808511184,
                        "remaining_time": 4.867643335,
                        "test": [
                          0.05934978703
                        ]
                      },
                      {
                        "learn": [
                          0.02652090746
                        ],
                        "iteration": 616,
                        "passed_time": 7.830303991,
                        "remaining_time": 4.860626302,
                        "test": [
                          0.05933953764
                        ]
                      },
                      {
                        "learn": [
                          0.02651909807
                        ],
                        "iteration": 617,
                        "passed_time": 7.836370563,
                        "remaining_time": 4.843840704,
                        "test": [
                          0.05933266223
                        ]
                      },
                      {
                        "learn": [
                          0.02646970989
                        ],
                        "iteration": 618,
                        "passed_time": 7.843302,
                        "remaining_time": 4.827622071,
                        "test": [
                          0.05932453587
                        ]
                      },
                      {
                        "learn": [
                          0.02646920964
                        ],
                        "iteration": 619,
                        "passed_time": 7.847574027,
                        "remaining_time": 4.809803436,
                        "test": [
                          0.05932516122
                        ]
                      },
                      {
                        "learn": [
                          0.02641282867
                        ],
                        "iteration": 620,
                        "passed_time": 7.855720287,
                        "remaining_time": 4.794392897,
                        "test": [
                          0.0593036009
                        ]
                      },
                      {
                        "learn": [
                          0.02640923524
                        ],
                        "iteration": 621,
                        "passed_time": 7.863226044,
                        "remaining_time": 4.778616471,
                        "test": [
                          0.05930555964
                        ]
                      },
                      {
                        "learn": [
                          0.02639216429
                        ],
                        "iteration": 622,
                        "passed_time": 7.869163814,
                        "remaining_time": 4.761917749,
                        "test": [
                          0.05930504278
                        ]
                      },
                      {
                        "learn": [
                          0.02634072578
                        ],
                        "iteration": 623,
                        "passed_time": 7.878335912,
                        "remaining_time": 4.747202409,
                        "test": [
                          0.05929979332
                        ]
                      },
                      {
                        "learn": [
                          0.02633776963
                        ],
                        "iteration": 624,
                        "passed_time": 7.885688032,
                        "remaining_time": 4.731412819,
                        "test": [
                          0.05929827572
                        ]
                      },
                      {
                        "learn": [
                          0.02631190855
                        ],
                        "iteration": 625,
                        "passed_time": 7.891038202,
                        "remaining_time": 4.714454134,
                        "test": [
                          0.05930393474
                        ]
                      },
                      {
                        "learn": [
                          0.02628965882
                        ],
                        "iteration": 626,
                        "passed_time": 7.896605334,
                        "remaining_time": 4.697661546,
                        "test": [
                          0.05929892953
                        ]
                      },
                      {
                        "learn": [
                          0.02626925431
                        ],
                        "iteration": 627,
                        "passed_time": 7.902810069,
                        "remaining_time": 4.681282398,
                        "test": [
                          0.05926085872
                        ]
                      },
                      {
                        "learn": [
                          0.0262627023
                        ],
                        "iteration": 628,
                        "passed_time": 7.910741722,
                        "remaining_time": 4.665954179,
                        "test": [
                          0.05926291828
                        ]
                      },
                      {
                        "learn": [
                          0.02625540177
                        ],
                        "iteration": 629,
                        "passed_time": 7.918653335,
                        "remaining_time": 4.650637673,
                        "test": [
                          0.05926080226
                        ]
                      },
                      {
                        "learn": [
                          0.02624216676
                        ],
                        "iteration": 630,
                        "passed_time": 7.925205397,
                        "remaining_time": 4.63454959,
                        "test": [
                          0.05926298396
                        ]
                      },
                      {
                        "learn": [
                          0.0262206304
                        ],
                        "iteration": 631,
                        "passed_time": 7.930975479,
                        "remaining_time": 4.618036355,
                        "test": [
                          0.05926490714
                        ]
                      },
                      {
                        "learn": [
                          0.02620726356
                        ],
                        "iteration": 632,
                        "passed_time": 7.939796258,
                        "remaining_time": 4.603325793,
                        "test": [
                          0.05927826289
                        ]
                      },
                      {
                        "learn": [
                          0.02616821763
                        ],
                        "iteration": 633,
                        "passed_time": 7.948902178,
                        "remaining_time": 4.588798418,
                        "test": [
                          0.05927406363
                        ]
                      },
                      {
                        "learn": [
                          0.026145929
                        ],
                        "iteration": 634,
                        "passed_time": 7.95786533,
                        "remaining_time": 4.574206056,
                        "test": [
                          0.05924785893
                        ]
                      },
                      {
                        "learn": [
                          0.02612727917
                        ],
                        "iteration": 635,
                        "passed_time": 7.968930341,
                        "remaining_time": 4.560834346,
                        "test": [
                          0.05925527958
                        ]
                      },
                      {
                        "learn": [
                          0.02612558789
                        ],
                        "iteration": 636,
                        "passed_time": 7.977020331,
                        "remaining_time": 4.545774537,
                        "test": [
                          0.05925774895
                        ]
                      },
                      {
                        "learn": [
                          0.02612323779
                        ],
                        "iteration": 637,
                        "passed_time": 7.982490608,
                        "remaining_time": 4.529250157,
                        "test": [
                          0.05925836024
                        ]
                      },
                      {
                        "learn": [
                          0.02606553152
                        ],
                        "iteration": 638,
                        "passed_time": 7.989497961,
                        "remaining_time": 4.513628739,
                        "test": [
                          0.05920711607
                        ]
                      },
                      {
                        "learn": [
                          0.0259926413
                        ],
                        "iteration": 639,
                        "passed_time": 7.997756075,
                        "remaining_time": 4.498737792,
                        "test": [
                          0.05916632732
                        ]
                      },
                      {
                        "learn": [
                          0.02594943375
                        ],
                        "iteration": 640,
                        "passed_time": 8.003024657,
                        "remaining_time": 4.482193217,
                        "test": [
                          0.05916467872
                        ]
                      },
                      {
                        "learn": [
                          0.02593934477
                        ],
                        "iteration": 641,
                        "passed_time": 8.041782375,
                        "remaining_time": 4.484358396,
                        "test": [
                          0.05915999801
                        ]
                      },
                      {
                        "learn": [
                          0.02586813062
                        ],
                        "iteration": 642,
                        "passed_time": 8.046374994,
                        "remaining_time": 4.467427485,
                        "test": [
                          0.05917579641
                        ]
                      },
                      {
                        "learn": [
                          0.02579605778
                        ],
                        "iteration": 643,
                        "passed_time": 8.065948111,
                        "remaining_time": 4.458816037,
                        "test": [
                          0.05913918923
                        ]
                      },
                      {
                        "learn": [
                          0.02578381822
                        ],
                        "iteration": 644,
                        "passed_time": 8.086491555,
                        "remaining_time": 4.450704654,
                        "test": [
                          0.05913911632
                        ]
                      },
                      {
                        "learn": [
                          0.02574794043
                        ],
                        "iteration": 645,
                        "passed_time": 8.098881061,
                        "remaining_time": 4.438086526,
                        "test": [
                          0.05913430458
                        ]
                      },
                      {
                        "learn": [
                          0.0257205022
                        ],
                        "iteration": 646,
                        "passed_time": 8.109965571,
                        "remaining_time": 4.424757104,
                        "test": [
                          0.05913075476
                        ]
                      },
                      {
                        "learn": [
                          0.02571477
                        ],
                        "iteration": 647,
                        "passed_time": 8.11996792,
                        "remaining_time": 4.410846771,
                        "test": [
                          0.05913581154
                        ]
                      },
                      {
                        "learn": [
                          0.02570043917
                        ],
                        "iteration": 648,
                        "passed_time": 8.137518688,
                        "remaining_time": 4.401030909,
                        "test": [
                          0.05912449414
                        ]
                      },
                      {
                        "learn": [
                          0.02569789925
                        ],
                        "iteration": 649,
                        "passed_time": 8.154332255,
                        "remaining_time": 4.390794291,
                        "test": [
                          0.05912104964
                        ]
                      },
                      {
                        "learn": [
                          0.02567627683
                        ],
                        "iteration": 650,
                        "passed_time": 8.163555836,
                        "remaining_time": 4.37646849,
                        "test": [
                          0.0591328152
                        ]
                      },
                      {
                        "learn": [
                          0.02566832489
                        ],
                        "iteration": 651,
                        "passed_time": 8.171934771,
                        "remaining_time": 4.361707516,
                        "test": [
                          0.05913724426
                        ]
                      },
                      {
                        "learn": [
                          0.02566766652
                        ],
                        "iteration": 652,
                        "passed_time": 8.17741998,
                        "remaining_time": 4.345428382,
                        "test": [
                          0.05913738281
                        ]
                      },
                      {
                        "learn": [
                          0.02558726813
                        ],
                        "iteration": 653,
                        "passed_time": 8.19804922,
                        "remaining_time": 4.337194235,
                        "test": [
                          0.05913473225
                        ]
                      },
                      {
                        "learn": [
                          0.02557679325
                        ],
                        "iteration": 654,
                        "passed_time": 8.220543027,
                        "remaining_time": 4.329904343,
                        "test": [
                          0.0591320255
                        ]
                      },
                      {
                        "learn": [
                          0.02555761591
                        ],
                        "iteration": 655,
                        "passed_time": 8.226695633,
                        "remaining_time": 4.31399893,
                        "test": [
                          0.05913699663
                        ]
                      },
                      {
                        "learn": [
                          0.02554383176
                        ],
                        "iteration": 656,
                        "passed_time": 8.233754572,
                        "remaining_time": 4.298596375,
                        "test": [
                          0.05913842292
                        ]
                      },
                      {
                        "learn": [
                          0.02554052351
                        ],
                        "iteration": 657,
                        "passed_time": 8.242540516,
                        "remaining_time": 4.284116803,
                        "test": [
                          0.05914037654
                        ]
                      },
                      {
                        "learn": [
                          0.02550953424
                        ],
                        "iteration": 658,
                        "passed_time": 8.248382686,
                        "remaining_time": 4.268131254,
                        "test": [
                          0.05915104603
                        ]
                      },
                      {
                        "learn": [
                          0.02549050548
                        ],
                        "iteration": 659,
                        "passed_time": 8.261154817,
                        "remaining_time": 4.255746421,
                        "test": [
                          0.05917985416
                        ]
                      },
                      {
                        "learn": [
                          0.02548600208
                        ],
                        "iteration": 660,
                        "passed_time": 8.266478562,
                        "remaining_time": 4.239540443,
                        "test": [
                          0.05918576086
                        ]
                      },
                      {
                        "learn": [
                          0.02547873668
                        ],
                        "iteration": 661,
                        "passed_time": 8.273822181,
                        "remaining_time": 4.224398636,
                        "test": [
                          0.05918858213
                        ]
                      },
                      {
                        "learn": [
                          0.02547614206
                        ],
                        "iteration": 662,
                        "passed_time": 8.281562092,
                        "remaining_time": 4.209481787,
                        "test": [
                          0.05918720413
                        ]
                      },
                      {
                        "learn": [
                          0.02546017317
                        ],
                        "iteration": 663,
                        "passed_time": 8.287388834,
                        "remaining_time": 4.193618446,
                        "test": [
                          0.05919247433
                        ]
                      },
                      {
                        "learn": [
                          0.0254404413
                        ],
                        "iteration": 664,
                        "passed_time": 8.305649523,
                        "remaining_time": 4.184049008,
                        "test": [
                          0.05918531126
                        ]
                      },
                      {
                        "learn": [
                          0.02542301357
                        ],
                        "iteration": 665,
                        "passed_time": 8.315766872,
                        "remaining_time": 4.170369572,
                        "test": [
                          0.05917659899
                        ]
                      },
                      {
                        "learn": [
                          0.0254032214
                        ],
                        "iteration": 666,
                        "passed_time": 8.337935944,
                        "remaining_time": 4.162717645,
                        "test": [
                          0.05917205915
                        ]
                      },
                      {
                        "learn": [
                          0.02538102988
                        ],
                        "iteration": 667,
                        "passed_time": 8.353404557,
                        "remaining_time": 4.151692085,
                        "test": [
                          0.05917153615
                        ]
                      },
                      {
                        "learn": [
                          0.02536537278
                        ],
                        "iteration": 668,
                        "passed_time": 8.364439583,
                        "remaining_time": 4.138459644,
                        "test": [
                          0.05917722424
                        ]
                      },
                      {
                        "learn": [
                          0.02534821526
                        ],
                        "iteration": 669,
                        "passed_time": 8.376681002,
                        "remaining_time": 4.125827956,
                        "test": [
                          0.05918628758
                        ]
                      },
                      {
                        "learn": [
                          0.02532976937
                        ],
                        "iteration": 670,
                        "passed_time": 8.397535741,
                        "remaining_time": 4.117420654,
                        "test": [
                          0.05918635866
                        ]
                      },
                      {
                        "learn": [
                          0.02530617901
                        ],
                        "iteration": 671,
                        "passed_time": 8.420420152,
                        "remaining_time": 4.109966979,
                        "test": [
                          0.05919363911
                        ]
                      },
                      {
                        "learn": [
                          0.02523524453
                        ],
                        "iteration": 672,
                        "passed_time": 8.437685765,
                        "remaining_time": 4.099737363,
                        "test": [
                          0.05917861434
                        ]
                      },
                      {
                        "learn": [
                          0.0251982607
                        ],
                        "iteration": 673,
                        "passed_time": 8.449215614,
                        "remaining_time": 4.086712597,
                        "test": [
                          0.05917379436
                        ]
                      },
                      {
                        "learn": [
                          0.02519389987
                        ],
                        "iteration": 674,
                        "passed_time": 8.469166841,
                        "remaining_time": 4.077746998,
                        "test": [
                          0.05917787808
                        ]
                      },
                      {
                        "learn": [
                          0.0251857284
                        ],
                        "iteration": 675,
                        "passed_time": 8.497838181,
                        "remaining_time": 4.072928359,
                        "test": [
                          0.05918472191
                        ]
                      },
                      {
                        "learn": [
                          0.02516556702
                        ],
                        "iteration": 676,
                        "passed_time": 8.523764759,
                        "remaining_time": 4.066729715,
                        "test": [
                          0.05917347183
                        ]
                      },
                      {
                        "learn": [
                          0.02513682014
                        ],
                        "iteration": 677,
                        "passed_time": 8.534309504,
                        "remaining_time": 4.053167641,
                        "test": [
                          0.05916051177
                        ]
                      },
                      {
                        "learn": [
                          0.02509771863
                        ],
                        "iteration": 678,
                        "passed_time": 8.554767648,
                        "remaining_time": 4.044301053,
                        "test": [
                          0.05914749762
                        ]
                      },
                      {
                        "learn": [
                          0.02507651087
                        ],
                        "iteration": 679,
                        "passed_time": 8.566932778,
                        "remaining_time": 4.031497778,
                        "test": [
                          0.05914812318
                        ]
                      },
                      {
                        "learn": [
                          0.02506542642
                        ],
                        "iteration": 680,
                        "passed_time": 8.576451228,
                        "remaining_time": 4.017456596,
                        "test": [
                          0.05915963998
                        ]
                      },
                      {
                        "learn": [
                          0.02502952934
                        ],
                        "iteration": 681,
                        "passed_time": 8.587437615,
                        "remaining_time": 4.00411314,
                        "test": [
                          0.05914393377
                        ]
                      },
                      {
                        "learn": [
                          0.02502530345
                        ],
                        "iteration": 682,
                        "passed_time": 8.596900263,
                        "remaining_time": 3.990069375,
                        "test": [
                          0.05914840073
                        ]
                      },
                      {
                        "learn": [
                          0.02496376543
                        ],
                        "iteration": 683,
                        "passed_time": 8.612545132,
                        "remaining_time": 3.97889512,
                        "test": [
                          0.05913776596
                        ]
                      },
                      {
                        "learn": [
                          0.02494309892
                        ],
                        "iteration": 684,
                        "passed_time": 8.625631688,
                        "remaining_time": 3.96653136,
                        "test": [
                          0.05914687258
                        ]
                      },
                      {
                        "learn": [
                          0.02493329714
                        ],
                        "iteration": 685,
                        "passed_time": 8.647337617,
                        "remaining_time": 3.958110804,
                        "test": [
                          0.05914907311
                        ]
                      },
                      {
                        "learn": [
                          0.02490572748
                        ],
                        "iteration": 686,
                        "passed_time": 8.665258496,
                        "remaining_time": 3.947927088,
                        "test": [
                          0.05913395079
                        ]
                      },
                      {
                        "learn": [
                          0.02488354732
                        ],
                        "iteration": 687,
                        "passed_time": 8.679816176,
                        "remaining_time": 3.936195707,
                        "test": [
                          0.05912266412
                        ]
                      },
                      {
                        "learn": [
                          0.02487305865
                        ],
                        "iteration": 688,
                        "passed_time": 8.690566252,
                        "remaining_time": 3.922737452,
                        "test": [
                          0.0591278673
                        ]
                      },
                      {
                        "learn": [
                          0.02484332868
                        ],
                        "iteration": 689,
                        "passed_time": 8.700315924,
                        "remaining_time": 3.908837589,
                        "test": [
                          0.05910838008
                        ]
                      },
                      {
                        "learn": [
                          0.0247789301
                        ],
                        "iteration": 690,
                        "passed_time": 8.711799396,
                        "remaining_time": 3.895725055,
                        "test": [
                          0.05912147179
                        ]
                      },
                      {
                        "learn": [
                          0.02475780236
                        ],
                        "iteration": 691,
                        "passed_time": 8.724469134,
                        "remaining_time": 3.883145222,
                        "test": [
                          0.05913896879
                        ]
                      },
                      {
                        "learn": [
                          0.02473855858
                        ],
                        "iteration": 692,
                        "passed_time": 8.736342535,
                        "remaining_time": 3.870212349,
                        "test": [
                          0.05913819617
                        ]
                      },
                      {
                        "learn": [
                          0.02468455931
                        ],
                        "iteration": 693,
                        "passed_time": 8.748036644,
                        "remaining_time": 3.857203477,
                        "test": [
                          0.05912869701
                        ]
                      },
                      {
                        "learn": [
                          0.02465937697
                        ],
                        "iteration": 694,
                        "passed_time": 8.759179642,
                        "remaining_time": 3.843956533,
                        "test": [
                          0.05910780946
                        ]
                      },
                      {
                        "learn": [
                          0.02464156889
                        ],
                        "iteration": 695,
                        "passed_time": 8.771646242,
                        "remaining_time": 3.831293761,
                        "test": [
                          0.0590966327
                        ]
                      },
                      {
                        "learn": [
                          0.02463262395
                        ],
                        "iteration": 696,
                        "passed_time": 8.780599396,
                        "remaining_time": 3.817104185,
                        "test": [
                          0.05909952535
                        ]
                      },
                      {
                        "learn": [
                          0.0246298253
                        ],
                        "iteration": 697,
                        "passed_time": 8.793913209,
                        "remaining_time": 3.804816317,
                        "test": [
                          0.05910155173
                        ]
                      },
                      {
                        "learn": [
                          0.02462342034
                        ],
                        "iteration": 698,
                        "passed_time": 8.801089598,
                        "remaining_time": 3.789882645,
                        "test": [
                          0.05910560679
                        ]
                      },
                      {
                        "learn": [
                          0.02460703488
                        ],
                        "iteration": 699,
                        "passed_time": 8.821817924,
                        "remaining_time": 3.78077911,
                        "test": [
                          0.05909076892
                        ]
                      },
                      {
                        "learn": [
                          0.02460323839
                        ],
                        "iteration": 700,
                        "passed_time": 8.829097988,
                        "remaining_time": 3.765906274,
                        "test": [
                          0.05909471787
                        ]
                      },
                      {
                        "learn": [
                          0.02456916469
                        ],
                        "iteration": 701,
                        "passed_time": 8.843369808,
                        "remaining_time": 3.754023081,
                        "test": [
                          0.05909297704
                        ]
                      },
                      {
                        "learn": [
                          0.02455709959
                        ],
                        "iteration": 702,
                        "passed_time": 8.849704878,
                        "remaining_time": 3.738780013,
                        "test": [
                          0.05909296286
                        ]
                      },
                      {
                        "learn": [
                          0.02454141375
                        ],
                        "iteration": 703,
                        "passed_time": 8.860549883,
                        "remaining_time": 3.725458474,
                        "test": [
                          0.05908566002
                        ]
                      },
                      {
                        "learn": [
                          0.0245290418
                        ],
                        "iteration": 704,
                        "passed_time": 8.869877707,
                        "remaining_time": 3.711509112,
                        "test": [
                          0.05909800631
                        ]
                      },
                      {
                        "learn": [
                          0.02449931222
                        ],
                        "iteration": 705,
                        "passed_time": 8.873325908,
                        "remaining_time": 3.695124387,
                        "test": [
                          0.05909534531
                        ]
                      },
                      {
                        "learn": [
                          0.02449631687
                        ],
                        "iteration": 706,
                        "passed_time": 8.880853696,
                        "remaining_time": 3.680466949,
                        "test": [
                          0.05909744987
                        ]
                      },
                      {
                        "learn": [
                          0.02449429476
                        ],
                        "iteration": 707,
                        "passed_time": 8.888810506,
                        "remaining_time": 3.666006593,
                        "test": [
                          0.05909811127
                        ]
                      },
                      {
                        "learn": [
                          0.02445957059
                        ],
                        "iteration": 708,
                        "passed_time": 8.894276897,
                        "remaining_time": 3.650542422,
                        "test": [
                          0.05909972528
                        ]
                      },
                      {
                        "learn": [
                          0.02443297229
                        ],
                        "iteration": 709,
                        "passed_time": 8.901388737,
                        "remaining_time": 3.635778498,
                        "test": [
                          0.05910962674
                        ]
                      },
                      {
                        "learn": [
                          0.02442200131
                        ],
                        "iteration": 710,
                        "passed_time": 8.907612098,
                        "remaining_time": 3.62067496,
                        "test": [
                          0.05910125902
                        ]
                      },
                      {
                        "learn": [
                          0.02439878834
                        ],
                        "iteration": 711,
                        "passed_time": 8.915390574,
                        "remaining_time": 3.606225401,
                        "test": [
                          0.0591038838
                        ]
                      },
                      {
                        "learn": [
                          0.02438152182
                        ],
                        "iteration": 712,
                        "passed_time": 8.929155491,
                        "remaining_time": 3.594204244,
                        "test": [
                          0.05911288488
                        ]
                      },
                      {
                        "learn": [
                          0.02435166455
                        ],
                        "iteration": 713,
                        "passed_time": 8.940901908,
                        "remaining_time": 3.581369672,
                        "test": [
                          0.05910038488
                        ]
                      },
                      {
                        "learn": [
                          0.02433681653
                        ],
                        "iteration": 714,
                        "passed_time": 8.950080499,
                        "remaining_time": 3.567514604,
                        "test": [
                          0.05909678178
                        ]
                      },
                      {
                        "learn": [
                          0.02433421844
                        ],
                        "iteration": 715,
                        "passed_time": 8.954873303,
                        "remaining_time": 3.551932986,
                        "test": [
                          0.05910165074
                        ]
                      },
                      {
                        "learn": [
                          0.02431642653
                        ],
                        "iteration": 716,
                        "passed_time": 8.960412731,
                        "remaining_time": 3.536676155,
                        "test": [
                          0.05909788125
                        ]
                      },
                      {
                        "learn": [
                          0.02431633825
                        ],
                        "iteration": 717,
                        "passed_time": 8.968233614,
                        "remaining_time": 3.52234245,
                        "test": [
                          0.05909794131
                        ]
                      },
                      {
                        "learn": [
                          0.02431137629
                        ],
                        "iteration": 718,
                        "passed_time": 8.976209692,
                        "remaining_time": 3.508087515,
                        "test": [
                          0.05909511246
                        ]
                      },
                      {
                        "learn": [
                          0.02431028716
                        ],
                        "iteration": 719,
                        "passed_time": 8.981508684,
                        "remaining_time": 3.492808933,
                        "test": [
                          0.05909548814
                        ]
                      },
                      {
                        "learn": [
                          0.02430233144
                        ],
                        "iteration": 720,
                        "passed_time": 8.988165226,
                        "remaining_time": 3.478083354,
                        "test": [
                          0.05910566684
                        ]
                      },
                      {
                        "learn": [
                          0.02429956421
                        ],
                        "iteration": 721,
                        "passed_time": 8.99361334,
                        "remaining_time": 3.462914832,
                        "test": [
                          0.05910752975
                        ]
                      },
                      {
                        "learn": [
                          0.0242970854
                        ],
                        "iteration": 722,
                        "passed_time": 8.999961619,
                        "remaining_time": 3.448118075,
                        "test": [
                          0.05911250218
                        ]
                      },
                      {
                        "learn": [
                          0.02428254607
                        ],
                        "iteration": 723,
                        "passed_time": 9.010607916,
                        "remaining_time": 3.434983128,
                        "test": [
                          0.05910866446
                        ]
                      },
                      {
                        "learn": [
                          0.0242802377
                        ],
                        "iteration": 724,
                        "passed_time": 9.018645994,
                        "remaining_time": 3.420865722,
                        "test": [
                          0.05911321237
                        ]
                      },
                      {
                        "learn": [
                          0.02426351515
                        ],
                        "iteration": 725,
                        "passed_time": 9.026390226,
                        "remaining_time": 3.406654163,
                        "test": [
                          0.05910138738
                        ]
                      },
                      {
                        "learn": [
                          0.02423642578
                        ],
                        "iteration": 726,
                        "passed_time": 9.033184832,
                        "remaining_time": 3.392103795,
                        "test": [
                          0.05910196105
                        ]
                      },
                      {
                        "learn": [
                          0.02420783415
                        ],
                        "iteration": 727,
                        "passed_time": 9.03965839,
                        "remaining_time": 3.377454783,
                        "test": [
                          0.05910569548
                        ]
                      },
                      {
                        "learn": [
                          0.02420706489
                        ],
                        "iteration": 728,
                        "passed_time": 9.047313774,
                        "remaining_time": 3.363267535,
                        "test": [
                          0.05910659004
                        ]
                      },
                      {
                        "learn": [
                          0.02419311385
                        ],
                        "iteration": 729,
                        "passed_time": 9.054076657,
                        "remaining_time": 3.348768079,
                        "test": [
                          0.05910460599
                        ]
                      },
                      {
                        "learn": [
                          0.02418180834
                        ],
                        "iteration": 730,
                        "passed_time": 9.065617687,
                        "remaining_time": 3.336048096,
                        "test": [
                          0.05910204695
                        ]
                      },
                      {
                        "learn": [
                          0.02415275247
                        ],
                        "iteration": 731,
                        "passed_time": 9.081640039,
                        "remaining_time": 3.324972036,
                        "test": [
                          0.05910450676
                        ]
                      },
                      {
                        "learn": [
                          0.024097978
                        ],
                        "iteration": 732,
                        "passed_time": 9.104629284,
                        "remaining_time": 3.316420217,
                        "test": [
                          0.0591169478
                        ]
                      },
                      {
                        "learn": [
                          0.02408851829
                        ],
                        "iteration": 733,
                        "passed_time": 9.1178422,
                        "remaining_time": 3.304286138,
                        "test": [
                          0.05911417654
                        ]
                      },
                      {
                        "learn": [
                          0.02403134779
                        ],
                        "iteration": 734,
                        "passed_time": 9.147447591,
                        "remaining_time": 3.298059335,
                        "test": [
                          0.05910505444
                        ]
                      },
                      {
                        "learn": [
                          0.02400574532
                        ],
                        "iteration": 735,
                        "passed_time": 9.165871997,
                        "remaining_time": 3.287758434,
                        "test": [
                          0.05910890669
                        ]
                      },
                      {
                        "learn": [
                          0.02394394337
                        ],
                        "iteration": 736,
                        "passed_time": 9.179749575,
                        "remaining_time": 3.275812942,
                        "test": [
                          0.05912649595
                        ]
                      },
                      {
                        "learn": [
                          0.0238963333
                        ],
                        "iteration": 737,
                        "passed_time": 9.187790173,
                        "remaining_time": 3.261790007,
                        "test": [
                          0.05913714121
                        ]
                      },
                      {
                        "learn": [
                          0.0238893149
                        ],
                        "iteration": 738,
                        "passed_time": 9.206624528,
                        "remaining_time": 3.251595402,
                        "test": [
                          0.05913805181
                        ]
                      },
                      {
                        "learn": [
                          0.02385954285
                        ],
                        "iteration": 739,
                        "passed_time": 9.213168883,
                        "remaining_time": 3.237059337,
                        "test": [
                          0.05914375085
                        ]
                      },
                      {
                        "learn": [
                          0.02385272713
                        ],
                        "iteration": 740,
                        "passed_time": 9.242673687,
                        "remaining_time": 3.230570155,
                        "test": [
                          0.05914525558
                        ]
                      },
                      {
                        "learn": [
                          0.02383864657
                        ],
                        "iteration": 741,
                        "passed_time": 9.25756502,
                        "remaining_time": 3.218937702,
                        "test": [
                          0.05913790525
                        ]
                      },
                      {
                        "learn": [
                          0.02380362962
                        ],
                        "iteration": 742,
                        "passed_time": 9.27601395,
                        "remaining_time": 3.208527033,
                        "test": [
                          0.05914058503
                        ]
                      },
                      {
                        "learn": [
                          0.02380150951
                        ],
                        "iteration": 743,
                        "passed_time": 9.28636382,
                        "remaining_time": 3.195307981,
                        "test": [
                          0.05914544634
                        ]
                      },
                      {
                        "learn": [
                          0.02379511959
                        ],
                        "iteration": 744,
                        "passed_time": 9.295012941,
                        "remaining_time": 3.181514497,
                        "test": [
                          0.05914046623
                        ]
                      },
                      {
                        "learn": [
                          0.02377793376
                        ],
                        "iteration": 745,
                        "passed_time": 9.319494494,
                        "remaining_time": 3.173125471,
                        "test": [
                          0.05914875729
                        ]
                      },
                      {
                        "learn": [
                          0.02376849895
                        ],
                        "iteration": 746,
                        "passed_time": 9.329430881,
                        "remaining_time": 3.159767085,
                        "test": [
                          0.05914614194
                        ]
                      },
                      {
                        "learn": [
                          0.02375466665
                        ],
                        "iteration": 747,
                        "passed_time": 9.347762357,
                        "remaining_time": 3.149246142,
                        "test": [
                          0.05913088592
                        ]
                      },
                      {
                        "learn": [
                          0.02374747263
                        ],
                        "iteration": 748,
                        "passed_time": 9.37637904,
                        "remaining_time": 3.142151053,
                        "test": [
                          0.05913837202
                        ]
                      },
                      {
                        "learn": [
                          0.02373977732
                        ],
                        "iteration": 749,
                        "passed_time": 9.386494984,
                        "remaining_time": 3.128831661,
                        "test": [
                          0.05913917891
                        ]
                      },
                      {
                        "learn": [
                          0.02371367604
                        ],
                        "iteration": 750,
                        "passed_time": 9.394418458,
                        "remaining_time": 3.114793869,
                        "test": [
                          0.05914159382
                        ]
                      },
                      {
                        "learn": [
                          0.02369681747
                        ],
                        "iteration": 751,
                        "passed_time": 9.41402501,
                        "remaining_time": 3.104625269,
                        "test": [
                          0.05914289413
                        ]
                      },
                      {
                        "learn": [
                          0.02369557604
                        ],
                        "iteration": 752,
                        "passed_time": 9.427259663,
                        "remaining_time": 3.092341483,
                        "test": [
                          0.0591435474
                        ]
                      },
                      {
                        "learn": [
                          0.02368724333
                        ],
                        "iteration": 753,
                        "passed_time": 9.441144727,
                        "remaining_time": 3.080267378,
                        "test": [
                          0.05915061131
                        ]
                      },
                      {
                        "learn": [
                          0.02367341529
                        ],
                        "iteration": 754,
                        "passed_time": 9.465763027,
                        "remaining_time": 3.071671446,
                        "test": [
                          0.0591567596
                        ]
                      },
                      {
                        "learn": [
                          0.02366457175
                        ],
                        "iteration": 755,
                        "passed_time": 9.486529718,
                        "remaining_time": 3.061790015,
                        "test": [
                          0.05915161481
                        ]
                      },
                      {
                        "learn": [
                          0.02362923029
                        ],
                        "iteration": 756,
                        "passed_time": 9.495649318,
                        "remaining_time": 3.048141063,
                        "test": [
                          0.05916121409
                        ]
                      },
                      {
                        "learn": [
                          0.02357754412
                        ],
                        "iteration": 757,
                        "passed_time": 9.509260002,
                        "remaining_time": 3.03593789,
                        "test": [
                          0.05915021927
                        ]
                      },
                      {
                        "learn": [
                          0.02356856142
                        ],
                        "iteration": 758,
                        "passed_time": 9.533335514,
                        "remaining_time": 3.027053832,
                        "test": [
                          0.05915611944
                        ]
                      },
                      {
                        "learn": [
                          0.02355129798
                        ],
                        "iteration": 759,
                        "passed_time": 9.543620994,
                        "remaining_time": 3.013775051,
                        "test": [
                          0.05915956337
                        ]
                      },
                      {
                        "learn": [
                          0.02354172079
                        ],
                        "iteration": 760,
                        "passed_time": 9.553265841,
                        "remaining_time": 3.000302938,
                        "test": [
                          0.05916194748
                        ]
                      },
                      {
                        "learn": [
                          0.02350478172
                        ],
                        "iteration": 761,
                        "passed_time": 9.563654938,
                        "remaining_time": 2.987073327,
                        "test": [
                          0.05916295194
                        ]
                      },
                      {
                        "learn": [
                          0.0235014816
                        ],
                        "iteration": 762,
                        "passed_time": 9.587312118,
                        "remaining_time": 2.97797244,
                        "test": [
                          0.05916110378
                        ]
                      },
                      {
                        "learn": [
                          0.02349099886
                        ],
                        "iteration": 763,
                        "passed_time": 9.606878634,
                        "remaining_time": 2.96756984,
                        "test": [
                          0.05916559074
                        ]
                      },
                      {
                        "learn": [
                          0.02347745502
                        ],
                        "iteration": 764,
                        "passed_time": 9.620883908,
                        "remaining_time": 2.955434926,
                        "test": [
                          0.05916088589
                        ]
                      },
                      {
                        "learn": [
                          0.02346176224
                        ],
                        "iteration": 765,
                        "passed_time": 9.636669814,
                        "remaining_time": 2.943839082,
                        "test": [
                          0.05915341688
                        ]
                      },
                      {
                        "learn": [
                          0.02344324955
                        ],
                        "iteration": 766,
                        "passed_time": 9.653153497,
                        "remaining_time": 2.932444283,
                        "test": [
                          0.05914972907
                        ]
                      },
                      {
                        "learn": [
                          0.02342980368
                        ],
                        "iteration": 767,
                        "passed_time": 9.669164128,
                        "remaining_time": 2.92089333,
                        "test": [
                          0.05915001355
                        ]
                      },
                      {
                        "learn": [
                          0.0234085229
                        ],
                        "iteration": 768,
                        "passed_time": 9.681742401,
                        "remaining_time": 2.908299733,
                        "test": [
                          0.05915837331
                        ]
                      },
                      {
                        "learn": [
                          0.0234083768
                        ],
                        "iteration": 769,
                        "passed_time": 9.693839535,
                        "remaining_time": 2.895562459,
                        "test": [
                          0.05915811113
                        ]
                      },
                      {
                        "learn": [
                          0.02339084627
                        ],
                        "iteration": 770,
                        "passed_time": 9.705399642,
                        "remaining_time": 2.882667338,
                        "test": [
                          0.05916225802
                        ]
                      },
                      {
                        "learn": [
                          0.02336442739
                        ],
                        "iteration": 771,
                        "passed_time": 9.715054239,
                        "remaining_time": 2.86921291,
                        "test": [
                          0.05917675391
                        ]
                      },
                      {
                        "learn": [
                          0.02336408976
                        ],
                        "iteration": 772,
                        "passed_time": 9.725980003,
                        "remaining_time": 2.856141605,
                        "test": [
                          0.05917599032
                        ]
                      },
                      {
                        "learn": [
                          0.02335570078
                        ],
                        "iteration": 773,
                        "passed_time": 9.74091336,
                        "remaining_time": 2.84424602,
                        "test": [
                          0.05917619701
                        ]
                      },
                      {
                        "learn": [
                          0.02332898178
                        ],
                        "iteration": 774,
                        "passed_time": 9.750991253,
                        "remaining_time": 2.830932944,
                        "test": [
                          0.05916894939
                        ]
                      },
                      {
                        "learn": [
                          0.02331950395
                        ],
                        "iteration": 775,
                        "passed_time": 9.763093206,
                        "remaining_time": 2.818212472,
                        "test": [
                          0.059172725
                        ]
                      },
                      {
                        "learn": [
                          0.02331157825
                        ],
                        "iteration": 776,
                        "passed_time": 9.778444689,
                        "remaining_time": 2.806426211,
                        "test": [
                          0.05917035169
                        ]
                      },
                      {
                        "learn": [
                          0.02328923695
                        ],
                        "iteration": 777,
                        "passed_time": 9.808386834,
                        "remaining_time": 2.798794187,
                        "test": [
                          0.05916901214
                        ]
                      },
                      {
                        "learn": [
                          0.0232803735
                        ],
                        "iteration": 778,
                        "passed_time": 9.817407581,
                        "remaining_time": 2.785169545,
                        "test": [
                          0.05916734432
                        ]
                      },
                      {
                        "learn": [
                          0.02326300577
                        ],
                        "iteration": 779,
                        "passed_time": 9.824273542,
                        "remaining_time": 2.770948948,
                        "test": [
                          0.05916783539
                        ]
                      },
                      {
                        "learn": [
                          0.02323523087
                        ],
                        "iteration": 780,
                        "passed_time": 9.829560771,
                        "remaining_time": 2.756304493,
                        "test": [
                          0.05915856096
                        ]
                      },
                      {
                        "learn": [
                          0.0232040146
                        ],
                        "iteration": 781,
                        "passed_time": 9.852063373,
                        "remaining_time": 2.74648314,
                        "test": [
                          0.05915689486
                        ]
                      },
                      {
                        "learn": [
                          0.02320315453
                        ],
                        "iteration": 782,
                        "passed_time": 9.857599413,
                        "remaining_time": 2.731927296,
                        "test": [
                          0.05915614359
                        ]
                      },
                      {
                        "learn": [
                          0.02319078456
                        ],
                        "iteration": 783,
                        "passed_time": 9.866645974,
                        "remaining_time": 2.718361646,
                        "test": [
                          0.05914839338
                        ]
                      },
                      {
                        "learn": [
                          0.02317565056
                        ],
                        "iteration": 784,
                        "passed_time": 9.873323168,
                        "remaining_time": 2.704158575,
                        "test": [
                          0.05914303923
                        ]
                      },
                      {
                        "learn": [
                          0.02316870054
                        ],
                        "iteration": 785,
                        "passed_time": 9.884356945,
                        "remaining_time": 2.691160797,
                        "test": [
                          0.05914089904
                        ]
                      },
                      {
                        "learn": [
                          0.02315083723
                        ],
                        "iteration": 786,
                        "passed_time": 9.897960349,
                        "remaining_time": 2.678863474,
                        "test": [
                          0.05914468009
                        ]
                      },
                      {
                        "learn": [
                          0.02314934194
                        ],
                        "iteration": 787,
                        "passed_time": 9.910420258,
                        "remaining_time": 2.666255196,
                        "test": [
                          0.0591428574
                        ]
                      },
                      {
                        "learn": [
                          0.02314904612
                        ],
                        "iteration": 788,
                        "passed_time": 9.923101483,
                        "remaining_time": 2.65370648,
                        "test": [
                          0.0591422118
                        ]
                      },
                      {
                        "learn": [
                          0.02314010885
                        ],
                        "iteration": 789,
                        "passed_time": 9.938553595,
                        "remaining_time": 2.641893994,
                        "test": [
                          0.05914531597
                        ]
                      },
                      {
                        "learn": [
                          0.02311026568
                        ],
                        "iteration": 790,
                        "passed_time": 9.957611735,
                        "remaining_time": 2.631025098,
                        "test": [
                          0.05916386071
                        ]
                      },
                      {
                        "learn": [
                          0.02309468694
                        ],
                        "iteration": 791,
                        "passed_time": 9.970974994,
                        "remaining_time": 2.618639897,
                        "test": [
                          0.05916242884
                        ]
                      },
                      {
                        "learn": [
                          0.0230820463
                        ],
                        "iteration": 792,
                        "passed_time": 9.985077274,
                        "remaining_time": 2.60644514,
                        "test": [
                          0.05916346987
                        ]
                      },
                      {
                        "learn": [
                          0.02305208177
                        ],
                        "iteration": 793,
                        "passed_time": 10.00074043,
                        "remaining_time": 2.594650541,
                        "test": [
                          0.05916244624
                        ]
                      },
                      {
                        "learn": [
                          0.02304236477
                        ],
                        "iteration": 794,
                        "passed_time": 10.01078466,
                        "remaining_time": 2.581397303,
                        "test": [
                          0.05916380454
                        ]
                      },
                      {
                        "learn": [
                          0.02301355883
                        ],
                        "iteration": 795,
                        "passed_time": 10.02445923,
                        "remaining_time": 2.569082516,
                        "test": [
                          0.05915685354
                        ]
                      },
                      {
                        "learn": [
                          0.02301140808
                        ],
                        "iteration": 796,
                        "passed_time": 10.02940199,
                        "remaining_time": 2.554540282,
                        "test": [
                          0.05916163943
                        ]
                      },
                      {
                        "learn": [
                          0.02299507125
                        ],
                        "iteration": 797,
                        "passed_time": 10.04275508,
                        "remaining_time": 2.542151036,
                        "test": [
                          0.05917696742
                        ]
                      },
                      {
                        "learn": [
                          0.0229939097
                        ],
                        "iteration": 798,
                        "passed_time": 10.05901152,
                        "remaining_time": 2.530489756,
                        "test": [
                          0.0591771867
                        ]
                      },
                      {
                        "learn": [
                          0.02295800881
                        ],
                        "iteration": 799,
                        "passed_time": 10.06972571,
                        "remaining_time": 2.517431427,
                        "test": [
                          0.05916896445
                        ]
                      },
                      {
                        "learn": [
                          0.02293578196
                        ],
                        "iteration": 800,
                        "passed_time": 10.08218908,
                        "remaining_time": 2.504813517,
                        "test": [
                          0.05917190007
                        ]
                      },
                      {
                        "learn": [
                          0.0229171134
                        ],
                        "iteration": 801,
                        "passed_time": 10.09678362,
                        "remaining_time": 2.49272214,
                        "test": [
                          0.05916872619
                        ]
                      },
                      {
                        "learn": [
                          0.02291555644
                        ],
                        "iteration": 802,
                        "passed_time": 10.10248146,
                        "remaining_time": 2.478441902,
                        "test": [
                          0.05916851056
                        ]
                      },
                      {
                        "learn": [
                          0.02290733712
                        ],
                        "iteration": 803,
                        "passed_time": 10.11353864,
                        "remaining_time": 2.465489519,
                        "test": [
                          0.05916557631
                        ]
                      },
                      {
                        "learn": [
                          0.02287395025
                        ],
                        "iteration": 804,
                        "passed_time": 10.1328658,
                        "remaining_time": 2.454545133,
                        "test": [
                          0.05916689283
                        ]
                      },
                      {
                        "learn": [
                          0.02287111069
                        ],
                        "iteration": 805,
                        "passed_time": 10.15368786,
                        "remaining_time": 2.443939759,
                        "test": [
                          0.05916545809
                        ]
                      },
                      {
                        "learn": [
                          0.02284653994
                        ],
                        "iteration": 806,
                        "passed_time": 10.16144787,
                        "remaining_time": 2.430185179,
                        "test": [
                          0.05914838592
                        ]
                      },
                      {
                        "learn": [
                          0.02284240179
                        ],
                        "iteration": 807,
                        "passed_time": 10.17624013,
                        "remaining_time": 2.418116467,
                        "test": [
                          0.05915371545
                        ]
                      },
                      {
                        "learn": [
                          0.02284021676
                        ],
                        "iteration": 808,
                        "passed_time": 10.19054613,
                        "remaining_time": 2.405926218,
                        "test": [
                          0.05915556407
                        ]
                      },
                      {
                        "learn": [
                          0.0228123511
                        ],
                        "iteration": 809,
                        "passed_time": 10.20297777,
                        "remaining_time": 2.393291082,
                        "test": [
                          0.05914284065
                        ]
                      },
                      {
                        "learn": [
                          0.02280578801
                        ],
                        "iteration": 810,
                        "passed_time": 10.22198483,
                        "remaining_time": 2.38218882,
                        "test": [
                          0.05914938231
                        ]
                      },
                      {
                        "learn": [
                          0.02277897001
                        ],
                        "iteration": 811,
                        "passed_time": 10.23283925,
                        "remaining_time": 2.369179531,
                        "test": [
                          0.0591473463
                        ]
                      },
                      {
                        "learn": [
                          0.02275853933
                        ],
                        "iteration": 812,
                        "passed_time": 10.24504577,
                        "remaining_time": 2.356486543,
                        "test": [
                          0.05913998062
                        ]
                      },
                      {
                        "learn": [
                          0.0227518204
                        ],
                        "iteration": 813,
                        "passed_time": 10.25715047,
                        "remaining_time": 2.343771483,
                        "test": [
                          0.05914111684
                        ]
                      },
                      {
                        "learn": [
                          0.02274216354
                        ],
                        "iteration": 814,
                        "passed_time": 10.26721593,
                        "remaining_time": 2.330595027,
                        "test": [
                          0.05914292268
                        ]
                      },
                      {
                        "learn": [
                          0.02273929426
                        ],
                        "iteration": 815,
                        "passed_time": 10.27993539,
                        "remaining_time": 2.318024648,
                        "test": [
                          0.0591454253
                        ]
                      },
                      {
                        "learn": [
                          0.02273665455
                        ],
                        "iteration": 816,
                        "passed_time": 10.29293016,
                        "remaining_time": 2.305515568,
                        "test": [
                          0.05914787556
                        ]
                      },
                      {
                        "learn": [
                          0.02272940448
                        ],
                        "iteration": 817,
                        "passed_time": 10.30487237,
                        "remaining_time": 2.292771114,
                        "test": [
                          0.0591455752
                        ]
                      },
                      {
                        "learn": [
                          0.02271167829
                        ],
                        "iteration": 818,
                        "passed_time": 10.32031666,
                        "remaining_time": 2.280802582,
                        "test": [
                          0.05914700009
                        ]
                      },
                      {
                        "learn": [
                          0.02269912115
                        ],
                        "iteration": 819,
                        "passed_time": 10.33849016,
                        "remaining_time": 2.26942467,
                        "test": [
                          0.05915399833
                        ]
                      },
                      {
                        "learn": [
                          0.02266596592
                        ],
                        "iteration": 820,
                        "passed_time": 10.34692993,
                        "remaining_time": 2.255907988,
                        "test": [
                          0.059146544
                        ]
                      },
                      {
                        "learn": [
                          0.02266426863
                        ],
                        "iteration": 821,
                        "passed_time": 10.36604515,
                        "remaining_time": 2.244715373,
                        "test": [
                          0.05914564274
                        ]
                      },
                      {
                        "learn": [
                          0.02263552151
                        ],
                        "iteration": 822,
                        "passed_time": 10.37821645,
                        "remaining_time": 2.2320101,
                        "test": [
                          0.05913451816
                        ]
                      },
                      {
                        "learn": [
                          0.02261436525
                        ],
                        "iteration": 823,
                        "passed_time": 10.38858807,
                        "remaining_time": 2.218921724,
                        "test": [
                          0.05913721412
                        ]
                      },
                      {
                        "learn": [
                          0.02260306238
                        ],
                        "iteration": 824,
                        "passed_time": 10.40048812,
                        "remaining_time": 2.206164147,
                        "test": [
                          0.05911591958
                        ]
                      },
                      {
                        "learn": [
                          0.02259102314
                        ],
                        "iteration": 825,
                        "passed_time": 10.41194929,
                        "remaining_time": 2.193316193,
                        "test": [
                          0.05911959825
                        ]
                      },
                      {
                        "learn": [
                          0.02258017136
                        ],
                        "iteration": 826,
                        "passed_time": 10.4202135,
                        "remaining_time": 2.179802824,
                        "test": [
                          0.05912444423
                        ]
                      },
                      {
                        "learn": [
                          0.02256128127
                        ],
                        "iteration": 827,
                        "passed_time": 10.42890285,
                        "remaining_time": 2.166390446,
                        "test": [
                          0.05913424792
                        ]
                      },
                      {
                        "learn": [
                          0.02253268524
                        ],
                        "iteration": 828,
                        "passed_time": 10.46355387,
                        "remaining_time": 2.158344646,
                        "test": [
                          0.0591353804
                        ]
                      },
                      {
                        "learn": [
                          0.02249493306
                        ],
                        "iteration": 829,
                        "passed_time": 10.50148858,
                        "remaining_time": 2.1509073,
                        "test": [
                          0.05914517293
                        ]
                      },
                      {
                        "learn": [
                          0.02248340112
                        ],
                        "iteration": 830,
                        "passed_time": 10.52148575,
                        "remaining_time": 2.139748605,
                        "test": [
                          0.0591507715
                        ]
                      },
                      {
                        "learn": [
                          0.02247637441
                        ],
                        "iteration": 831,
                        "passed_time": 10.53231861,
                        "remaining_time": 2.126718181,
                        "test": [
                          0.05915614524
                        ]
                      },
                      {
                        "learn": [
                          0.02247218903
                        ],
                        "iteration": 832,
                        "passed_time": 10.5455297,
                        "remaining_time": 2.114169819,
                        "test": [
                          0.05915108459
                        ]
                      },
                      {
                        "learn": [
                          0.02245399768
                        ],
                        "iteration": 833,
                        "passed_time": 10.55096621,
                        "remaining_time": 2.100072411,
                        "test": [
                          0.05915293127
                        ]
                      },
                      {
                        "learn": [
                          0.02245381183
                        ],
                        "iteration": 834,
                        "passed_time": 10.55934011,
                        "remaining_time": 2.086576189,
                        "test": [
                          0.05915220441
                        ]
                      },
                      {
                        "learn": [
                          0.02244269683
                        ],
                        "iteration": 835,
                        "passed_time": 10.56920492,
                        "remaining_time": 2.073384697,
                        "test": [
                          0.0591564049
                        ]
                      },
                      {
                        "learn": [
                          0.02242736415
                        ],
                        "iteration": 836,
                        "passed_time": 10.57603794,
                        "remaining_time": 2.059610733,
                        "test": [
                          0.05916495917
                        ]
                      },
                      {
                        "learn": [
                          0.02241237223
                        ],
                        "iteration": 837,
                        "passed_time": 10.58331803,
                        "remaining_time": 2.045939762,
                        "test": [
                          0.05915642294
                        ]
                      },
                      {
                        "learn": [
                          0.02239908134
                        ],
                        "iteration": 838,
                        "passed_time": 10.58998019,
                        "remaining_time": 2.032165447,
                        "test": [
                          0.05915359104
                        ]
                      },
                      {
                        "learn": [
                          0.02239528857
                        ],
                        "iteration": 839,
                        "passed_time": 10.59767646,
                        "remaining_time": 2.018605039,
                        "test": [
                          0.05915377148
                        ]
                      },
                      {
                        "learn": [
                          0.02239447755
                        ],
                        "iteration": 840,
                        "passed_time": 10.60330517,
                        "remaining_time": 2.004667683,
                        "test": [
                          0.05915396807
                        ]
                      },
                      {
                        "learn": [
                          0.02237780443
                        ],
                        "iteration": 841,
                        "passed_time": 10.61181403,
                        "remaining_time": 1.991290519,
                        "test": [
                          0.05915389772
                        ]
                      },
                      {
                        "learn": [
                          0.02236313685
                        ],
                        "iteration": 842,
                        "passed_time": 10.61789537,
                        "remaining_time": 1.977472804,
                        "test": [
                          0.05913656707
                        ]
                      },
                      {
                        "learn": [
                          0.02234947578
                        ],
                        "iteration": 843,
                        "passed_time": 10.62469792,
                        "remaining_time": 1.963806724,
                        "test": [
                          0.05914217366
                        ]
                      },
                      {
                        "learn": [
                          0.02234089666
                        ],
                        "iteration": 844,
                        "passed_time": 10.62909779,
                        "remaining_time": 1.949716162,
                        "test": [
                          0.05914598474
                        ]
                      },
                      {
                        "learn": [
                          0.02230399051
                        ],
                        "iteration": 845,
                        "passed_time": 10.63740288,
                        "remaining_time": 1.93635939,
                        "test": [
                          0.05914478904
                        ]
                      },
                      {
                        "learn": [
                          0.02225506255
                        ],
                        "iteration": 846,
                        "passed_time": 10.64374636,
                        "remaining_time": 1.922660204,
                        "test": [
                          0.05914976886
                        ]
                      },
                      {
                        "learn": [
                          0.02222599068
                        ],
                        "iteration": 847,
                        "passed_time": 10.66325861,
                        "remaining_time": 1.911338807,
                        "test": [
                          0.05915293539
                        ]
                      },
                      {
                        "learn": [
                          0.02220404017
                        ],
                        "iteration": 848,
                        "passed_time": 10.67203818,
                        "remaining_time": 1.89808924,
                        "test": [
                          0.05915639262
                        ]
                      },
                      {
                        "learn": [
                          0.02219668534
                        ],
                        "iteration": 849,
                        "passed_time": 10.67807743,
                        "remaining_time": 1.884366606,
                        "test": [
                          0.05915345575
                        ]
                      },
                      {
                        "learn": [
                          0.02215067086
                        ],
                        "iteration": 850,
                        "passed_time": 10.68623237,
                        "remaining_time": 1.87103246,
                        "test": [
                          0.0591458142
                        ]
                      },
                      {
                        "learn": [
                          0.0221152381
                        ],
                        "iteration": 851,
                        "passed_time": 10.69474305,
                        "remaining_time": 1.857772266,
                        "test": [
                          0.05915082405
                        ]
                      },
                      {
                        "learn": [
                          0.02210556344
                        ],
                        "iteration": 852,
                        "passed_time": 10.70082864,
                        "remaining_time": 1.844105287,
                        "test": [
                          0.05915219295
                        ]
                      },
                      {
                        "learn": [
                          0.02208401762
                        ],
                        "iteration": 853,
                        "passed_time": 10.70662635,
                        "remaining_time": 1.830406847,
                        "test": [
                          0.05915694608
                        ]
                      },
                      {
                        "learn": [
                          0.02208106897
                        ],
                        "iteration": 854,
                        "passed_time": 10.7131349,
                        "remaining_time": 1.81684744,
                        "test": [
                          0.05915660345
                        ]
                      },
                      {
                        "learn": [
                          0.02205730738
                        ],
                        "iteration": 855,
                        "passed_time": 10.72187923,
                        "remaining_time": 1.803680619,
                        "test": [
                          0.05913772252
                        ]
                      },
                      {
                        "learn": [
                          0.02200629729
                        ],
                        "iteration": 856,
                        "passed_time": 10.73286345,
                        "remaining_time": 1.790897869,
                        "test": [
                          0.05912643137
                        ]
                      },
                      {
                        "learn": [
                          0.02200543187
                        ],
                        "iteration": 857,
                        "passed_time": 10.75118195,
                        "remaining_time": 1.779333143,
                        "test": [
                          0.05912677672
                        ]
                      },
                      {
                        "learn": [
                          0.02197962275
                        ],
                        "iteration": 858,
                        "passed_time": 10.76535919,
                        "remaining_time": 1.767072929,
                        "test": [
                          0.05913183866
                        ]
                      },
                      {
                        "learn": [
                          0.02196697222
                        ],
                        "iteration": 859,
                        "passed_time": 10.77592188,
                        "remaining_time": 1.754219841,
                        "test": [
                          0.05913716519
                        ]
                      },
                      {
                        "learn": [
                          0.02196616121
                        ],
                        "iteration": 860,
                        "passed_time": 10.7886578,
                        "remaining_time": 1.741722921,
                        "test": [
                          0.05913737336
                        ]
                      },
                      {
                        "learn": [
                          0.02195629435
                        ],
                        "iteration": 861,
                        "passed_time": 10.79799906,
                        "remaining_time": 1.728681984,
                        "test": [
                          0.05913926466
                        ]
                      },
                      {
                        "learn": [
                          0.02195034573
                        ],
                        "iteration": 862,
                        "passed_time": 10.80762989,
                        "remaining_time": 1.715695591,
                        "test": [
                          0.05913943132
                        ]
                      },
                      {
                        "learn": [
                          0.02193975412
                        ],
                        "iteration": 863,
                        "passed_time": 10.81603779,
                        "remaining_time": 1.702524467,
                        "test": [
                          0.05912958533
                        ]
                      },
                      {
                        "learn": [
                          0.02193317003
                        ],
                        "iteration": 864,
                        "passed_time": 10.8385935,
                        "remaining_time": 1.691572396,
                        "test": [
                          0.05912698044
                        ]
                      },
                      {
                        "learn": [
                          0.02191081813
                        ],
                        "iteration": 865,
                        "passed_time": 10.84508726,
                        "remaining_time": 1.67810819,
                        "test": [
                          0.05913046606
                        ]
                      },
                      {
                        "learn": [
                          0.02190314045
                        ],
                        "iteration": 866,
                        "passed_time": 10.85383217,
                        "remaining_time": 1.665005396,
                        "test": [
                          0.05913014917
                        ]
                      },
                      {
                        "learn": [
                          0.0218884708
                        ],
                        "iteration": 867,
                        "passed_time": 10.87096292,
                        "remaining_time": 1.65318791,
                        "test": [
                          0.05912750758
                        ]
                      },
                      {
                        "learn": [
                          0.02185609076
                        ],
                        "iteration": 868,
                        "passed_time": 10.8815182,
                        "remaining_time": 1.640366956,
                        "test": [
                          0.05912423113
                        ]
                      },
                      {
                        "learn": [
                          0.02183605738
                        ],
                        "iteration": 869,
                        "passed_time": 10.89547338,
                        "remaining_time": 1.628059241,
                        "test": [
                          0.05912523856
                        ]
                      },
                      {
                        "learn": [
                          0.0218315419
                        ],
                        "iteration": 870,
                        "passed_time": 10.93081376,
                        "remaining_time": 1.618915011,
                        "test": [
                          0.0591305791
                        ]
                      },
                      {
                        "learn": [
                          0.02180366
                        ],
                        "iteration": 871,
                        "passed_time": 10.94617716,
                        "remaining_time": 1.606778298,
                        "test": [
                          0.0591112609
                        ]
                      },
                      {
                        "learn": [
                          0.02178595815
                        ],
                        "iteration": 872,
                        "passed_time": 10.96193413,
                        "remaining_time": 1.594691449,
                        "test": [
                          0.05910152773
                        ]
                      },
                      {
                        "learn": [
                          0.02177038935
                        ],
                        "iteration": 873,
                        "passed_time": 10.97366008,
                        "remaining_time": 1.582015069,
                        "test": [
                          0.05909748304
                        ]
                      },
                      {
                        "learn": [
                          0.02171377737
                        ],
                        "iteration": 874,
                        "passed_time": 10.98342078,
                        "remaining_time": 1.569060112,
                        "test": [
                          0.0591037162
                        ]
                      },
                      {
                        "learn": [
                          0.02168237009
                        ],
                        "iteration": 875,
                        "passed_time": 11.00083362,
                        "remaining_time": 1.557195626,
                        "test": [
                          0.05907809935
                        ]
                      },
                      {
                        "learn": [
                          0.02167199913
                        ],
                        "iteration": 876,
                        "passed_time": 11.01153377,
                        "remaining_time": 1.544377028,
                        "test": [
                          0.05907803815
                        ]
                      },
                      {
                        "learn": [
                          0.02166258644
                        ],
                        "iteration": 877,
                        "passed_time": 11.02377939,
                        "remaining_time": 1.531778002,
                        "test": [
                          0.05907588304
                        ]
                      },
                      {
                        "learn": [
                          0.02164719334
                        ],
                        "iteration": 878,
                        "passed_time": 11.03589265,
                        "remaining_time": 1.51916156,
                        "test": [
                          0.05906125126
                        ]
                      },
                      {
                        "learn": [
                          0.02164452079
                        ],
                        "iteration": 879,
                        "passed_time": 11.05146208,
                        "remaining_time": 1.507017556,
                        "test": [
                          0.05905931978
                        ]
                      },
                      {
                        "learn": [
                          0.02164140925
                        ],
                        "iteration": 880,
                        "passed_time": 11.06411355,
                        "remaining_time": 1.494471638,
                        "test": [
                          0.05905912936
                        ]
                      },
                      {
                        "learn": [
                          0.02160802905
                        ],
                        "iteration": 881,
                        "passed_time": 11.07459009,
                        "remaining_time": 1.481634502,
                        "test": [
                          0.0590803172
                        ]
                      },
                      {
                        "learn": [
                          0.02158516449
                        ],
                        "iteration": 882,
                        "passed_time": 11.08872499,
                        "remaining_time": 1.469287456,
                        "test": [
                          0.05906428499
                        ]
                      },
                      {
                        "learn": [
                          0.02157940246
                        ],
                        "iteration": 883,
                        "passed_time": 11.09962336,
                        "remaining_time": 1.456511663,
                        "test": [
                          0.05906487297
                        ]
                      },
                      {
                        "learn": [
                          0.02154469104
                        ],
                        "iteration": 884,
                        "passed_time": 11.12090409,
                        "remaining_time": 1.445089232,
                        "test": [
                          0.05905699329
                        ]
                      },
                      {
                        "learn": [
                          0.02154174019
                        ],
                        "iteration": 885,
                        "passed_time": 11.13202889,
                        "remaining_time": 1.432337803,
                        "test": [
                          0.05905805319
                        ]
                      },
                      {
                        "learn": [
                          0.02153512044
                        ],
                        "iteration": 886,
                        "passed_time": 11.14299124,
                        "remaining_time": 1.419569347,
                        "test": [
                          0.05905958586
                        ]
                      },
                      {
                        "learn": [
                          0.02153171054
                        ],
                        "iteration": 887,
                        "passed_time": 11.15479243,
                        "remaining_time": 1.406910757,
                        "test": [
                          0.05905530158
                        ]
                      },
                      {
                        "learn": [
                          0.02150554047
                        ],
                        "iteration": 888,
                        "passed_time": 11.17716887,
                        "remaining_time": 1.395574516,
                        "test": [
                          0.05903442873
                        ]
                      },
                      {
                        "learn": [
                          0.02145106848
                        ],
                        "iteration": 889,
                        "passed_time": 11.18639972,
                        "remaining_time": 1.382588729,
                        "test": [
                          0.05902745081
                        ]
                      },
                      {
                        "learn": [
                          0.02138269032
                        ],
                        "iteration": 890,
                        "passed_time": 11.19868705,
                        "remaining_time": 1.369985284,
                        "test": [
                          0.05903689496
                        ]
                      },
                      {
                        "learn": [
                          0.02136554987
                        ],
                        "iteration": 891,
                        "passed_time": 11.2093848,
                        "remaining_time": 1.357190088,
                        "test": [
                          0.05903900493
                        ]
                      },
                      {
                        "learn": [
                          0.02136250403
                        ],
                        "iteration": 892,
                        "passed_time": 11.22122776,
                        "remaining_time": 1.344536809,
                        "test": [
                          0.05904165484
                        ]
                      },
                      {
                        "learn": [
                          0.02133772835
                        ],
                        "iteration": 893,
                        "passed_time": 11.23307479,
                        "remaining_time": 1.331885825,
                        "test": [
                          0.05903156971
                        ]
                      },
                      {
                        "learn": [
                          0.02130152945
                        ],
                        "iteration": 894,
                        "passed_time": 11.24360832,
                        "remaining_time": 1.319082541,
                        "test": [
                          0.05902940978
                        ]
                      },
                      {
                        "learn": [
                          0.02129488919
                        ],
                        "iteration": 895,
                        "passed_time": 11.25059094,
                        "remaining_time": 1.305872163,
                        "test": [
                          0.05903039018
                        ]
                      },
                      {
                        "learn": [
                          0.02127913794
                        ],
                        "iteration": 896,
                        "passed_time": 11.26113178,
                        "remaining_time": 1.293084251,
                        "test": [
                          0.0590313024
                        ]
                      },
                      {
                        "learn": [
                          0.02125952924
                        ],
                        "iteration": 897,
                        "passed_time": 11.2697794,
                        "remaining_time": 1.280086302,
                        "test": [
                          0.05902623496
                        ]
                      },
                      {
                        "learn": [
                          0.02124541968
                        ],
                        "iteration": 898,
                        "passed_time": 11.28292301,
                        "remaining_time": 1.267603141,
                        "test": [
                          0.05902355703
                        ]
                      },
                      {
                        "learn": [
                          0.0212391113
                        ],
                        "iteration": 899,
                        "passed_time": 11.29708651,
                        "remaining_time": 1.255231834,
                        "test": [
                          0.0590243544
                        ]
                      },
                      {
                        "learn": [
                          0.02123619594
                        ],
                        "iteration": 900,
                        "passed_time": 11.30888242,
                        "remaining_time": 1.242596403,
                        "test": [
                          0.05902564611
                        ]
                      },
                      {
                        "learn": [
                          0.02123325709
                        ],
                        "iteration": 901,
                        "passed_time": 11.32915179,
                        "remaining_time": 1.230883454,
                        "test": [
                          0.05902367505
                        ]
                      },
                      {
                        "learn": [
                          0.02122779369
                        ],
                        "iteration": 902,
                        "passed_time": 11.34405967,
                        "remaining_time": 1.218575624,
                        "test": [
                          0.0590245081
                        ]
                      },
                      {
                        "learn": [
                          0.02121795084
                        ],
                        "iteration": 903,
                        "passed_time": 11.3579616,
                        "remaining_time": 1.206155214,
                        "test": [
                          0.05902636225
                        ]
                      },
                      {
                        "learn": [
                          0.0212122079
                        ],
                        "iteration": 904,
                        "passed_time": 11.3708617,
                        "remaining_time": 1.193626367,
                        "test": [
                          0.05902655884
                        ]
                      },
                      {
                        "learn": [
                          0.02120651366
                        ],
                        "iteration": 905,
                        "passed_time": 11.39227434,
                        "remaining_time": 1.181979898,
                        "test": [
                          0.05902757815
                        ]
                      },
                      {
                        "learn": [
                          0.02119866919
                        ],
                        "iteration": 906,
                        "passed_time": 11.41193939,
                        "remaining_time": 1.170132705,
                        "test": [
                          0.05903207992
                        ]
                      },
                      {
                        "learn": [
                          0.02119549827
                        ],
                        "iteration": 907,
                        "passed_time": 11.45013534,
                        "remaining_time": 1.160145871,
                        "test": [
                          0.05903153432
                        ]
                      },
                      {
                        "learn": [
                          0.02119010002
                        ],
                        "iteration": 908,
                        "passed_time": 11.48095264,
                        "remaining_time": 1.149358295,
                        "test": [
                          0.05903351566
                        ]
                      },
                      {
                        "learn": [
                          0.02115237485
                        ],
                        "iteration": 909,
                        "passed_time": 11.4980937,
                        "remaining_time": 1.137174102,
                        "test": [
                          0.05903988419
                        ]
                      },
                      {
                        "learn": [
                          0.02114823133
                        ],
                        "iteration": 910,
                        "passed_time": 11.53149686,
                        "remaining_time": 1.12656775,
                        "test": [
                          0.05904386315
                        ]
                      },
                      {
                        "learn": [
                          0.02109246378
                        ],
                        "iteration": 911,
                        "passed_time": 11.57382821,
                        "remaining_time": 1.116772897,
                        "test": [
                          0.05901821605
                        ]
                      },
                      {
                        "learn": [
                          0.02108824646
                        ],
                        "iteration": 912,
                        "passed_time": 11.59068772,
                        "remaining_time": 1.104479552,
                        "test": [
                          0.05902346071
                        ]
                      },
                      {
                        "learn": [
                          0.02108421016
                        ],
                        "iteration": 913,
                        "passed_time": 11.61514191,
                        "remaining_time": 1.092890814,
                        "test": [
                          0.05902287997
                        ]
                      },
                      {
                        "learn": [
                          0.02107979604
                        ],
                        "iteration": 914,
                        "passed_time": 11.62730022,
                        "remaining_time": 1.080131714,
                        "test": [
                          0.05902399994
                        ]
                      },
                      {
                        "learn": [
                          0.02106630638
                        ],
                        "iteration": 915,
                        "passed_time": 11.64532099,
                        "remaining_time": 1.067911532,
                        "test": [
                          0.05901777681
                        ]
                      },
                      {
                        "learn": [
                          0.02103478425
                        ],
                        "iteration": 916,
                        "passed_time": 11.65703718,
                        "remaining_time": 1.055108054,
                        "test": [
                          0.05899936351
                        ]
                      },
                      {
                        "learn": [
                          0.02101336483
                        ],
                        "iteration": 917,
                        "passed_time": 11.67150701,
                        "remaining_time": 1.042552914,
                        "test": [
                          0.05898944317
                        ]
                      },
                      {
                        "learn": [
                          0.0209985131
                        ],
                        "iteration": 918,
                        "passed_time": 11.68328192,
                        "remaining_time": 1.029756078,
                        "test": [
                          0.05898251172
                        ]
                      },
                      {
                        "learn": [
                          0.02098965871
                        ],
                        "iteration": 919,
                        "passed_time": 11.69576385,
                        "remaining_time": 1.017022944,
                        "test": [
                          0.05896129238
                        ]
                      },
                      {
                        "learn": [
                          0.02093777531
                        ],
                        "iteration": 920,
                        "passed_time": 11.71255516,
                        "remaining_time": 1.004659998,
                        "test": [
                          0.05897273044
                        ]
                      },
                      {
                        "learn": [
                          0.02093398946
                        ],
                        "iteration": 921,
                        "passed_time": 11.72898032,
                        "remaining_time": 0.9922564699,
                        "test": [
                          0.05897408177
                        ]
                      },
                      {
                        "learn": [
                          0.02092690375
                        ],
                        "iteration": 922,
                        "passed_time": 11.75024356,
                        "remaining_time": 0.9802478375,
                        "test": [
                          0.05897749859
                        ]
                      },
                      {
                        "learn": [
                          0.02092222796
                        ],
                        "iteration": 923,
                        "passed_time": 11.7590218,
                        "remaining_time": 0.9671922692,
                        "test": [
                          0.05898038054
                        ]
                      },
                      {
                        "learn": [
                          0.02091605111
                        ],
                        "iteration": 924,
                        "passed_time": 11.77350626,
                        "remaining_time": 0.9546086153,
                        "test": [
                          0.05897886989
                        ]
                      },
                      {
                        "learn": [
                          0.0209020011
                        ],
                        "iteration": 925,
                        "passed_time": 11.78528066,
                        "remaining_time": 0.9418042858,
                        "test": [
                          0.05898395159
                        ]
                      },
                      {
                        "learn": [
                          0.02089138616
                        ],
                        "iteration": 926,
                        "passed_time": 11.79630876,
                        "remaining_time": 0.9289434082,
                        "test": [
                          0.0589841393
                        ]
                      },
                      {
                        "learn": [
                          0.02088593974
                        ],
                        "iteration": 927,
                        "passed_time": 11.80734362,
                        "remaining_time": 0.9160870046,
                        "test": [
                          0.05899259112
                        ]
                      },
                      {
                        "learn": [
                          0.0208762729
                        ],
                        "iteration": 928,
                        "passed_time": 11.81907598,
                        "remaining_time": 0.9032878302,
                        "test": [
                          0.05898349981
                        ]
                      },
                      {
                        "learn": [
                          0.02085697967
                        ],
                        "iteration": 929,
                        "passed_time": 11.84086361,
                        "remaining_time": 0.8912477988,
                        "test": [
                          0.05897059671
                        ]
                      },
                      {
                        "learn": [
                          0.02084272526
                        ],
                        "iteration": 930,
                        "passed_time": 11.8575298,
                        "remaining_time": 0.8788072572,
                        "test": [
                          0.05896673707
                        ]
                      },
                      {
                        "learn": [
                          0.02081079055
                        ],
                        "iteration": 931,
                        "passed_time": 11.86620178,
                        "remaining_time": 0.8657743791,
                        "test": [
                          0.05897981857
                        ]
                      },
                      {
                        "learn": [
                          0.0207998185
                        ],
                        "iteration": 932,
                        "passed_time": 11.87370964,
                        "remaining_time": 0.8526672521,
                        "test": [
                          0.058984713
                        ]
                      },
                      {
                        "learn": [
                          0.02079281395
                        ],
                        "iteration": 933,
                        "passed_time": 11.88203126,
                        "remaining_time": 0.8396296178,
                        "test": [
                          0.05898436068
                        ]
                      },
                      {
                        "learn": [
                          0.02078849231
                        ],
                        "iteration": 934,
                        "passed_time": 11.8875893,
                        "remaining_time": 0.8264099515,
                        "test": [
                          0.05898474824
                        ]
                      },
                      {
                        "learn": [
                          0.0207729312
                        ],
                        "iteration": 935,
                        "passed_time": 11.89347771,
                        "remaining_time": 0.8132292449,
                        "test": [
                          0.05898541756
                        ]
                      },
                      {
                        "learn": [
                          0.02076221437
                        ],
                        "iteration": 936,
                        "passed_time": 11.90236008,
                        "remaining_time": 0.8002654056,
                        "test": [
                          0.0589780271
                        ]
                      },
                      {
                        "learn": [
                          0.02074536691
                        ],
                        "iteration": 937,
                        "passed_time": 11.91672226,
                        "remaining_time": 0.7876724737,
                        "test": [
                          0.05898452576
                        ]
                      },
                      {
                        "learn": [
                          0.02074213201
                        ],
                        "iteration": 938,
                        "passed_time": 11.92720667,
                        "remaining_time": 0.7748238624,
                        "test": [
                          0.05898507274
                        ]
                      },
                      {
                        "learn": [
                          0.02073981016
                        ],
                        "iteration": 939,
                        "passed_time": 11.93500083,
                        "remaining_time": 0.7618085635,
                        "test": [
                          0.05898644093
                        ]
                      },
                      {
                        "learn": [
                          0.02072646999
                        ],
                        "iteration": 940,
                        "passed_time": 11.94170242,
                        "remaining_time": 0.7487358586,
                        "test": [
                          0.05899140751
                        ]
                      },
                      {
                        "learn": [
                          0.0207239226
                        ],
                        "iteration": 941,
                        "passed_time": 11.95819952,
                        "remaining_time": 0.7362798008,
                        "test": [
                          0.05898956694
                        ]
                      },
                      {
                        "learn": [
                          0.02071720705
                        ],
                        "iteration": 942,
                        "passed_time": 11.97011654,
                        "remaining_time": 0.7235383276,
                        "test": [
                          0.05899203606
                        ]
                      },
                      {
                        "learn": [
                          0.0206959645
                        ],
                        "iteration": 943,
                        "passed_time": 11.98408143,
                        "remaining_time": 0.710920085,
                        "test": [
                          0.05899322435
                        ]
                      },
                      {
                        "learn": [
                          0.02064279444
                        ],
                        "iteration": 944,
                        "passed_time": 12.01197363,
                        "remaining_time": 0.6991095762,
                        "test": [
                          0.05897891983
                        ]
                      },
                      {
                        "learn": [
                          0.02062834653
                        ],
                        "iteration": 945,
                        "passed_time": 12.02861301,
                        "remaining_time": 0.6866227297,
                        "test": [
                          0.05896788706
                        ]
                      },
                      {
                        "learn": [
                          0.0206247433
                        ],
                        "iteration": 946,
                        "passed_time": 12.04757341,
                        "remaining_time": 0.6742570122,
                        "test": [
                          0.05896705625
                        ]
                      },
                      {
                        "learn": [
                          0.0205874218
                        ],
                        "iteration": 947,
                        "passed_time": 12.06855551,
                        "remaining_time": 0.6619882767,
                        "test": [
                          0.05898097741
                        ]
                      },
                      {
                        "learn": [
                          0.02058088916
                        ],
                        "iteration": 948,
                        "passed_time": 12.08650082,
                        "remaining_time": 0.6495379788,
                        "test": [
                          0.05898147351
                        ]
                      },
                      {
                        "learn": [
                          0.02055601762
                        ],
                        "iteration": 949,
                        "passed_time": 12.09768895,
                        "remaining_time": 0.636720471,
                        "test": [
                          0.05898032469
                        ]
                      },
                      {
                        "learn": [
                          0.02054259293
                        ],
                        "iteration": 950,
                        "passed_time": 12.11133611,
                        "remaining_time": 0.624033091,
                        "test": [
                          0.05898136932
                        ]
                      },
                      {
                        "learn": [
                          0.02053893452
                        ],
                        "iteration": 951,
                        "passed_time": 12.12448216,
                        "remaining_time": 0.6113184284,
                        "test": [
                          0.05898411877
                        ]
                      },
                      {
                        "learn": [
                          0.02053759123
                        ],
                        "iteration": 952,
                        "passed_time": 12.13166225,
                        "remaining_time": 0.5983086316,
                        "test": [
                          0.05898766419
                        ]
                      },
                      {
                        "learn": [
                          0.02050796899
                        ],
                        "iteration": 953,
                        "passed_time": 12.14258188,
                        "remaining_time": 0.5854913695,
                        "test": [
                          0.0589808298
                        ]
                      },
                      {
                        "learn": [
                          0.02047542782
                        ],
                        "iteration": 954,
                        "passed_time": 12.16770293,
                        "remaining_time": 0.5733472583,
                        "test": [
                          0.05898101719
                        ]
                      },
                      {
                        "learn": [
                          0.02046486022
                        ],
                        "iteration": 955,
                        "passed_time": 12.18662376,
                        "remaining_time": 0.5608906335,
                        "test": [
                          0.05898160819
                        ]
                      },
                      {
                        "learn": [
                          0.02046355319
                        ],
                        "iteration": 956,
                        "passed_time": 12.19366549,
                        "remaining_time": 0.5478867464,
                        "test": [
                          0.05898509708
                        ]
                      },
                      {
                        "learn": [
                          0.02046147034
                        ],
                        "iteration": 957,
                        "passed_time": 12.22531642,
                        "remaining_time": 0.5359742061,
                        "test": [
                          0.05898615854
                        ]
                      },
                      {
                        "learn": [
                          0.02045503846
                        ],
                        "iteration": 958,
                        "passed_time": 12.24305446,
                        "remaining_time": 0.523425686,
                        "test": [
                          0.05898509928
                        ]
                      },
                      {
                        "learn": [
                          0.02044363964
                        ],
                        "iteration": 959,
                        "passed_time": 12.25200986,
                        "remaining_time": 0.510500411,
                        "test": [
                          0.05898390376
                        ]
                      },
                      {
                        "learn": [
                          0.02038826741
                        ],
                        "iteration": 960,
                        "passed_time": 12.2677464,
                        "remaining_time": 0.4978585947,
                        "test": [
                          0.05897032326
                        ]
                      },
                      {
                        "learn": [
                          0.02038401405
                        ],
                        "iteration": 961,
                        "passed_time": 12.27724829,
                        "remaining_time": 0.4849640698,
                        "test": [
                          0.05897061231
                        ]
                      },
                      {
                        "learn": [
                          0.0203595568
                        ],
                        "iteration": 962,
                        "passed_time": 12.29861809,
                        "remaining_time": 0.4725325747,
                        "test": [
                          0.05897133036
                        ]
                      },
                      {
                        "learn": [
                          0.02032926531
                        ],
                        "iteration": 963,
                        "passed_time": 12.31950872,
                        "remaining_time": 0.4600646411,
                        "test": [
                          0.05896284177
                        ]
                      },
                      {
                        "learn": [
                          0.02030242165
                        ],
                        "iteration": 964,
                        "passed_time": 12.33957738,
                        "remaining_time": 0.4475494385,
                        "test": [
                          0.05896735801
                        ]
                      },
                      {
                        "learn": [
                          0.02028472392
                        ],
                        "iteration": 965,
                        "passed_time": 12.35803935,
                        "remaining_time": 0.4349620474,
                        "test": [
                          0.05895697535
                        ]
                      },
                      {
                        "learn": [
                          0.02028054334
                        ],
                        "iteration": 966,
                        "passed_time": 12.37652096,
                        "remaining_time": 0.4223631767,
                        "test": [
                          0.05895829707
                        ]
                      },
                      {
                        "learn": [
                          0.02027280335
                        ],
                        "iteration": 967,
                        "passed_time": 12.39396399,
                        "remaining_time": 0.4097178179,
                        "test": [
                          0.05895500166
                        ]
                      },
                      {
                        "learn": [
                          0.02025561699
                        ],
                        "iteration": 968,
                        "passed_time": 12.42586674,
                        "remaining_time": 0.3975251486,
                        "test": [
                          0.0589483293
                        ]
                      },
                      {
                        "learn": [
                          0.02024407213
                        ],
                        "iteration": 969,
                        "passed_time": 12.44990584,
                        "remaining_time": 0.3850486343,
                        "test": [
                          0.05895321825
                        ]
                      },
                      {
                        "learn": [
                          0.02019473772
                        ],
                        "iteration": 970,
                        "passed_time": 12.47496632,
                        "remaining_time": 0.3725788088,
                        "test": [
                          0.05896235862
                        ]
                      },
                      {
                        "learn": [
                          0.02016166289
                        ],
                        "iteration": 971,
                        "passed_time": 12.50275589,
                        "remaining_time": 0.3601616924,
                        "test": [
                          0.05895913997
                        ]
                      },
                      {
                        "learn": [
                          0.02013427952
                        ],
                        "iteration": 972,
                        "passed_time": 12.53720074,
                        "remaining_time": 0.3478976568,
                        "test": [
                          0.05895294786
                        ]
                      },
                      {
                        "learn": [
                          0.02012590411
                        ],
                        "iteration": 973,
                        "passed_time": 12.57428232,
                        "remaining_time": 0.3356584603,
                        "test": [
                          0.05895351654
                        ]
                      },
                      {
                        "learn": [
                          0.02010877294
                        ],
                        "iteration": 974,
                        "passed_time": 12.62634104,
                        "remaining_time": 0.3237523343,
                        "test": [
                          0.05896321573
                        ]
                      },
                      {
                        "learn": [
                          0.0201027844
                        ],
                        "iteration": 975,
                        "passed_time": 12.63709496,
                        "remaining_time": 0.3107482366,
                        "test": [
                          0.05893974447
                        ]
                      },
                      {
                        "learn": [
                          0.02009888054
                        ],
                        "iteration": 976,
                        "passed_time": 12.65363634,
                        "remaining_time": 0.2978849906,
                        "test": [
                          0.05894228004
                        ]
                      },
                      {
                        "learn": [
                          0.02008417192
                        ],
                        "iteration": 977,
                        "passed_time": 12.67665501,
                        "remaining_time": 0.2851599287,
                        "test": [
                          0.05894383861
                        ]
                      },
                      {
                        "learn": [
                          0.0200449137
                        ],
                        "iteration": 978,
                        "passed_time": 12.68692969,
                        "remaining_time": 0.2721404734,
                        "test": [
                          0.05894298898
                        ]
                      },
                      {
                        "learn": [
                          0.02004182571
                        ],
                        "iteration": 979,
                        "passed_time": 12.7128733,
                        "remaining_time": 0.2594463939,
                        "test": [
                          0.05894687436
                        ]
                      },
                      {
                        "learn": [
                          0.02003409228
                        ],
                        "iteration": 980,
                        "passed_time": 12.71912469,
                        "remaining_time": 0.2463439034,
                        "test": [
                          0.05895212235
                        ]
                      },
                      {
                        "learn": [
                          0.02002135495
                        ],
                        "iteration": 981,
                        "passed_time": 12.72436888,
                        "remaining_time": 0.2332369042,
                        "test": [
                          0.05893886206
                        ]
                      },
                      {
                        "learn": [
                          0.01999495325
                        ],
                        "iteration": 982,
                        "passed_time": 12.73045502,
                        "remaining_time": 0.2201604632,
                        "test": [
                          0.05893719119
                        ]
                      },
                      {
                        "learn": [
                          0.01998861203
                        ],
                        "iteration": 983,
                        "passed_time": 12.73767549,
                        "remaining_time": 0.2071166747,
                        "test": [
                          0.05895019731
                        ]
                      },
                      {
                        "learn": [
                          0.01997778495
                        ],
                        "iteration": 984,
                        "passed_time": 12.74364207,
                        "remaining_time": 0.1940656153,
                        "test": [
                          0.05895833786
                        ]
                      },
                      {
                        "learn": [
                          0.01996548066
                        ],
                        "iteration": 985,
                        "passed_time": 12.74845342,
                        "remaining_time": 0.1810125232,
                        "test": [
                          0.05895839274
                        ]
                      },
                      {
                        "learn": [
                          0.01996029746
                        ],
                        "iteration": 986,
                        "passed_time": 12.75369762,
                        "remaining_time": 0.1679818329,
                        "test": [
                          0.05896099773
                        ]
                      },
                      {
                        "learn": [
                          0.01995369955
                        ],
                        "iteration": 987,
                        "passed_time": 12.76707947,
                        "remaining_time": 0.1550657426,
                        "test": [
                          0.05896208484
                        ]
                      },
                      {
                        "learn": [
                          0.0199319164
                        ],
                        "iteration": 988,
                        "passed_time": 12.77370271,
                        "remaining_time": 0.1420735388,
                        "test": [
                          0.05896364492
                        ]
                      },
                      {
                        "learn": [
                          0.01993097044
                        ],
                        "iteration": 989,
                        "passed_time": 12.78110664,
                        "remaining_time": 0.1291020873,
                        "test": [
                          0.05896313383
                        ]
                      },
                      {
                        "learn": [
                          0.01992132621
                        ],
                        "iteration": 990,
                        "passed_time": 12.78705367,
                        "remaining_time": 0.1161286408,
                        "test": [
                          0.05896534133
                        ]
                      },
                      {
                        "learn": [
                          0.01991542737
                        ],
                        "iteration": 991,
                        "passed_time": 12.79412109,
                        "remaining_time": 0.1031783959,
                        "test": [
                          0.05895780749
                        ]
                      },
                      {
                        "learn": [
                          0.01989165058
                        ],
                        "iteration": 992,
                        "passed_time": 12.79993829,
                        "remaining_time": 0.09023118637,
                        "test": [
                          0.05895675742
                        ]
                      },
                      {
                        "learn": [
                          0.01988454369
                        ],
                        "iteration": 993,
                        "passed_time": 12.80526639,
                        "remaining_time": 0.07729537056,
                        "test": [
                          0.05896162081
                        ]
                      },
                      {
                        "learn": [
                          0.01987909522
                        ],
                        "iteration": 994,
                        "passed_time": 12.8103596,
                        "remaining_time": 0.06437366634,
                        "test": [
                          0.05893953602
                        ]
                      },
                      {
                        "learn": [
                          0.01987019433
                        ],
                        "iteration": 995,
                        "passed_time": 12.8155468,
                        "remaining_time": 0.05146805945,
                        "test": [
                          0.05894090682
                        ]
                      },
                      {
                        "learn": [
                          0.01985103078
                        ],
                        "iteration": 996,
                        "passed_time": 12.82169213,
                        "remaining_time": 0.03858081884,
                        "test": [
                          0.058938261
                        ]
                      },
                      {
                        "learn": [
                          0.01983614161
                        ],
                        "iteration": 997,
                        "passed_time": 12.82701794,
                        "remaining_time": 0.02570544677,
                        "test": [
                          0.05893397256
                        ]
                      },
                      {
                        "learn": [
                          0.01982081415
                        ],
                        "iteration": 998,
                        "passed_time": 12.83180362,
                        "remaining_time": 0.01284464827,
                        "test": [
                          0.05894160889
                        ]
                      },
                      {
                        "learn": [
                          0.01980496576
                        ],
                        "iteration": 999,
                        "passed_time": 12.83702642,
                        "remaining_time": 0,
                        "test": [
                          0.05893553725
                        ]
                      }
                    ],
                    "meta": {
                      "test_sets": [
                        "test"
                      ],
                      "test_metrics": [
                        {
                          "best_value": "Min",
                          "name": "RMSE"
                        }
                      ],
                      "learn_metrics": [
                        {
                          "best_value": "Min",
                          "name": "RMSE"
                        }
                      ],
                      "launch_mode": "Train",
                      "parameters": "",
                      "iteration_count": 1000,
                      "learn_sets": [
                        "learn"
                      ],
                      "name": "experiment"
                    }
                  }
                }
              }
            },
            "layout": "IPY_MODEL_7f8b9cbced8c4161bf1eb247fc5996fe"
          }
        }
      }
    }
  },
  "cells": [
    {
      "cell_type": "markdown",
      "metadata": {
        "id": "view-in-github",
        "colab_type": "text"
      },
      "source": [
        "<a href=\"https://colab.research.google.com/github/Liang130520/Tibame-TeamProject/blob/main/Catboost%E9%A9%97%E8%AD%89.ipynb\" target=\"_parent\"><img src=\"https://colab.research.google.com/assets/colab-badge.svg\" alt=\"Open In Colab\"/></a>"
      ]
    },
    {
      "cell_type": "code",
      "source": [
        "!pip install catboost"
      ],
      "metadata": {
        "id": "BlpHpFCzjl4K",
        "outputId": "dfd48744-1d24-4cf7-bb58-c3b53e0676d7",
        "colab": {
          "base_uri": "https://localhost:8080/"
        }
      },
      "execution_count": 37,
      "outputs": [
        {
          "output_type": "stream",
          "name": "stdout",
          "text": [
            "Looking in indexes: https://pypi.org/simple, https://us-python.pkg.dev/colab-wheels/public/simple/\n",
            "Requirement already satisfied: catboost in /usr/local/lib/python3.8/dist-packages (1.1.1)\n",
            "Requirement already satisfied: pandas>=0.24.0 in /usr/local/lib/python3.8/dist-packages (from catboost) (1.3.5)\n",
            "Requirement already satisfied: graphviz in /usr/local/lib/python3.8/dist-packages (from catboost) (0.10.1)\n",
            "Requirement already satisfied: scipy in /usr/local/lib/python3.8/dist-packages (from catboost) (1.7.3)\n",
            "Requirement already satisfied: six in /usr/local/lib/python3.8/dist-packages (from catboost) (1.15.0)\n",
            "Requirement already satisfied: matplotlib in /usr/local/lib/python3.8/dist-packages (from catboost) (3.2.2)\n",
            "Requirement already satisfied: numpy>=1.16.0 in /usr/local/lib/python3.8/dist-packages (from catboost) (1.21.6)\n",
            "Requirement already satisfied: plotly in /usr/local/lib/python3.8/dist-packages (from catboost) (5.5.0)\n",
            "Requirement already satisfied: python-dateutil>=2.7.3 in /usr/local/lib/python3.8/dist-packages (from pandas>=0.24.0->catboost) (2.8.2)\n",
            "Requirement already satisfied: pytz>=2017.3 in /usr/local/lib/python3.8/dist-packages (from pandas>=0.24.0->catboost) (2022.6)\n",
            "Requirement already satisfied: cycler>=0.10 in /usr/local/lib/python3.8/dist-packages (from matplotlib->catboost) (0.11.0)\n",
            "Requirement already satisfied: pyparsing!=2.0.4,!=2.1.2,!=2.1.6,>=2.0.1 in /usr/local/lib/python3.8/dist-packages (from matplotlib->catboost) (3.0.9)\n",
            "Requirement already satisfied: kiwisolver>=1.0.1 in /usr/local/lib/python3.8/dist-packages (from matplotlib->catboost) (1.4.4)\n",
            "Requirement already satisfied: tenacity>=6.2.0 in /usr/local/lib/python3.8/dist-packages (from plotly->catboost) (8.1.0)\n"
          ]
        }
      ]
    },
    {
      "cell_type": "code",
      "execution_count": 38,
      "metadata": {
        "colab": {
          "base_uri": "https://localhost:8080/"
        },
        "id": "8cyDCuoWo9Bl",
        "outputId": "0fef2d85-4fc6-49cc-91b0-c61decc7c356"
      },
      "outputs": [
        {
          "output_type": "stream",
          "name": "stdout",
          "text": [
            "Drive already mounted at /content/drive; to attempt to forcibly remount, call drive.mount(\"/content/drive\", force_remount=True).\n",
            "Drive already mounted at /content/drive; to attempt to forcibly remount, call drive.mount(\"/content/drive\", force_remount=True).\n"
          ]
        },
        {
          "output_type": "execute_result",
          "data": {
            "text/plain": [
              "['raw_data',\n",
              " '宗庭',\n",
              " '博翔',\n",
              " '俊佑',\n",
              " '聖評',\n",
              " '柏崴',\n",
              " '冠文',\n",
              " '設施座標表.xlsx',\n",
              " '設施座標表Ver2.xlsx',\n",
              " '聖評台北市房屋交易初始版Ver1.csv',\n",
              " '台北市房屋交易_test.csv',\n",
              " '台北市房屋交易_finish.csv',\n",
              " '.ipynb_checkpoints',\n",
              " 'catboost_info']"
            ]
          },
          "metadata": {},
          "execution_count": 38
        }
      ],
      "source": [
        "from pandas.core.dtypes.cast import maybe_infer_to_datetimelike\n",
        "\"\"\"\n",
        "使用方式：\n",
        "1. 點選上方執行階段 -> 全部執行\n",
        "2. 允許連接雲端\n",
        "3. 輸入名字後兩字\n",
        "4. 將自己名字資料夾中的r2_score最高分數檔案留下，其餘刪除\n",
        "5. 將r2_score最高分數的檔案名稱(EX：台北市房屋交易_公園100公尺.csv)複製\n",
        "6. 在「特徵-公尺內設施數量」程式的第四格程式碼中的str(name)+\"/後面貼上\n",
        "\n",
        "\"\"\"\n",
        "\n",
        "import pandas as pd\n",
        "import numpy as np\n",
        "from sklearn.model_selection import GridSearchCV\n",
        "from sklearn.tree import DecisionTreeRegressor\n",
        "from sklearn.model_selection import train_test_split\n",
        "import glob\n",
        "import os\n",
        "from catboost import CatBoostRegressor\n",
        "\n",
        "from google.colab import drive\n",
        "drive.mount('/content/drive')\n",
        "\n",
        "drive.mount('/content/drive')\n",
        "os.chdir('/content/drive/MyDrive/程式語言/特徵檔案') #切換該目錄\n",
        "os.listdir()"
      ]
    },
    {
      "cell_type": "code",
      "source": [
        "# 原始檔案\n",
        "\n",
        "# name = input(\"請輸入名字後兩字：\")\n",
        "name = \"博翔\"\n",
        "f = pd.read_csv(str(name) + \"/台北市房屋交易_for_model_1126_加設施_3.csv\", encoding = \"utf-8\")  # 讀取csv檔案\n",
        "\n",
        "pd.set_option('display.max_columns', 100)\n",
        "\n",
        "x = f.drop([\"土地位置建物門牌\",\"總價元\",\"單價元平方公尺\",\"車位總價元\",\"總價元_正規化\",\"單價元平方公尺_正規化\",\"車位總價元_正規化\"], axis = 1)  # 特徵(去除總價元、單價元平方公尺、車位總價元)\n",
        "y = f[\"總價元_正規化\"]  # 目標(取得總價元)\n",
        "\n",
        "# x_train, x_test, y_train, y_test = train_test_split(x, y, test_size=0.1)  # 切分資料"
      ],
      "metadata": {
        "id": "EPDqlIUqoy_S"
      },
      "execution_count": 39,
      "outputs": []
    },
    {
      "cell_type": "code",
      "source": [
        "from sklearn.model_selection import train_test_split\n",
        "\n",
        "x_train, x_test, y_train, y_test = train_test_split(x, y, train_size=0.2, random_state=1234)\n",
        "categorical_features_indices = np.where(x.dtypes != np.float)[0]"
      ],
      "metadata": {
        "id": "XJ6BEys4yIM3",
        "outputId": "2426fb28-adaa-4c78-bfc4-a2e1bd9e4a43",
        "colab": {
          "base_uri": "https://localhost:8080/"
        }
      },
      "execution_count": 40,
      "outputs": [
        {
          "output_type": "stream",
          "name": "stderr",
          "text": [
            "<ipython-input-40-fa3835327f3e>:4: DeprecationWarning: `np.float` is a deprecated alias for the builtin `float`. To silence this warning, use `float` by itself. Doing this will not modify any behavior and is safe. If you specifically wanted the numpy scalar type, use `np.float64` here.\n",
            "Deprecated in NumPy 1.20; for more details and guidance: https://numpy.org/devdocs/release/1.20.0-notes.html#deprecations\n",
            "  categorical_features_indices = np.where(x.dtypes != np.float)[0]\n"
          ]
        }
      ]
    },
    {
      "cell_type": "code",
      "source": [
        "from catboost import CatBoostRegressor, Pool, EShapCalcType, EFeaturesSelectionAlgorithm\n",
        "\n",
        "# feature_names = ['F{}'.format(i) for i in range(x_train.shape[1])]\n",
        "train_pool = Pool(x_train, y_train, feature_names=x.columns.tolist())\n",
        "test_pool = Pool(x_test, y_test, feature_names=x.columns.tolist())\n",
        "\n",
        "\" 模型選擇 \"\n",
        "model = CatBoostRegressor(random_state=42,\n",
        "                          loss_function='RMSE',\n",
        "                          eval_metric='RMSE',\n",
        "                          learning_rate=0.1,\n",
        "                          use_best_model=True,\n",
        "                          depth=3)\n",
        "\n",
        "\" 抓取最有效特徵 \"\n",
        "summary = model.select_features(\n",
        "    train_pool,\n",
        "    eval_set=test_pool,\n",
        "    features_for_select='0-12',\n",
        "    num_features_to_select=3,\n",
        "    steps=2,\n",
        "    algorithm=EFeaturesSelectionAlgorithm.RecursiveByShapValues,\n",
        "    shap_calc_type=EShapCalcType.Regular,\n",
        "    train_final_model=True,\n",
        "    logging_level='Silent',\n",
        "    plot=False\n",
        ")\n",
        "summary"
      ],
      "metadata": {
        "id": "tjvDueqWvVyT",
        "outputId": "e0fd58cb-f0a9-4df3-8060-96a55578c963",
        "colab": {
          "base_uri": "https://localhost:8080/"
        }
      },
      "execution_count": 41,
      "outputs": [
        {
          "output_type": "execute_result",
          "data": {
            "text/plain": [
              "{'selected_features': [4, 5, 10],\n",
              " 'eliminated_features_names': ['車位移轉總面積(平方公尺)',\n",
              "  '陽台面積',\n",
              "  '建物現況格局-房',\n",
              "  '交易年月日',\n",
              "  '建物現況格局-廳',\n",
              "  '建物現況格局-衛',\n",
              "  '土地移轉總面積平方公尺',\n",
              "  '附屬建物面積',\n",
              "  '總樓層數',\n",
              "  '移轉層次'],\n",
              " 'loss_graph': {'main_indices': [0, 7, 10],\n",
              "  'removed_features_count': [0, 1, 2, 3, 4, 5, 6, 7, 8, 9, 10],\n",
              "  'loss_values': [0.056551505436996545,\n",
              "   0.05538175622054835,\n",
              "   0.05508871469934309,\n",
              "   0.05486824575751033,\n",
              "   0.054740554996119774,\n",
              "   0.054685243781109366,\n",
              "   0.05479424653071746,\n",
              "   0.05493839753251216,\n",
              "   0.054907009954912704,\n",
              "   0.05484897130439829,\n",
              "   0.054678289024979246]},\n",
              " 'eliminated_features': [9, 12, 6, 1, 7, 8, 0, 11, 3, 2],\n",
              " 'selected_features_names': ['建築完成年月', '建物移轉總面積平方公尺', '主建物面積']}"
            ]
          },
          "metadata": {},
          "execution_count": 41
        }
      ]
    },
    {
      "cell_type": "code",
      "source": [
        "from catboost import CatBoostRegressor\n",
        "\n",
        "\" 模型訓練 \"\n",
        "model.fit(x_train, y_train,cat_features=categorical_features_indices,eval_set=(x_test, y_test), verbose=0, plot=True)"
      ],
      "metadata": {
        "id": "3Ec7jB7rx8Y-",
        "outputId": "4a14a939-c03c-4d1a-f26f-934857336435",
        "colab": {
          "base_uri": "https://localhost:8080/",
          "height": 35,
          "referenced_widgets": [
            "416300a95eb7422d9a47b3422623b782"
          ]
        }
      },
      "execution_count": 42,
      "outputs": [
        {
          "output_type": "display_data",
          "data": {
            "text/plain": [
              "MetricVisualizer(layout=Layout(align_self='stretch', height='500px'))"
            ],
            "application/vnd.jupyter.widget-view+json": {
              "version_major": 2,
              "version_minor": 0,
              "model_id": "416300a95eb7422d9a47b3422623b782"
            }
          },
          "metadata": {}
        },
        {
          "output_type": "execute_result",
          "data": {
            "text/plain": [
              "<catboost.core.CatBoostRegressor at 0x7f4f96664430>"
            ]
          },
          "metadata": {},
          "execution_count": 42
        }
      ]
    },
    {
      "cell_type": "code",
      "source": [
        "from sklearn.model_selection import train_test_split\n",
        "from sklearn.metrics import mean_squared_error\n",
        "from sklearn.metrics import r2_score\n",
        "from sklearn.inspection import permutation_importance\n",
        "\n",
        "pre = model.predict(x_test)\n",
        "rmse = (np.sqrt(mean_squared_error(y_test, pre)))\n",
        "r2 = r2_score(y_test, pre)\n",
        "print(\"Testing performance\")\n",
        "print(\"RMSE: {}\".format(rmse))\n",
        "print(\"R2: {}\".format(r2))\n",
        "model.get_best_score()"
      ],
      "metadata": {
        "id": "9O3_wl9XzJK7",
        "outputId": "149f97ff-120d-4b6f-8940-4c92673c2463",
        "colab": {
          "base_uri": "https://localhost:8080/"
        }
      },
      "execution_count": 43,
      "outputs": [
        {
          "output_type": "stream",
          "name": "stdout",
          "text": [
            "Testing performance\n",
            "RMSE: 0.05893397271951207\n",
            "R2: 0.8577931928216231\n"
          ]
        },
        {
          "output_type": "execute_result",
          "data": {
            "text/plain": [
              "{'learn': {'RMSE': 0.019804965760522212},\n",
              " 'validation': {'RMSE': 0.05893397256284466}}"
            ]
          },
          "metadata": {},
          "execution_count": 43
        }
      ]
    }
  ]
}
